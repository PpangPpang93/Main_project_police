{
 "cells": [
  {
   "cell_type": "code",
   "execution_count": 3,
   "id": "7728bbaa",
   "metadata": {
    "ExecuteTime": {
     "end_time": "2021-12-02T07:33:40.042175Z",
     "start_time": "2021-12-02T07:33:40.028213Z"
    }
   },
   "outputs": [],
   "source": [
    "import pandas as pd\n",
    "import numpy as np\n",
    "#import matplotlib.pyplot as plt\n",
    "#import seaborn as sns"
   ]
  },
  {
   "cell_type": "code",
   "execution_count": 4,
   "id": "68f550bc",
   "metadata": {
    "ExecuteTime": {
     "end_time": "2021-12-02T07:33:40.575688Z",
     "start_time": "2021-12-02T07:33:40.548336Z"
    }
   },
   "outputs": [],
   "source": [
    "df = pd.read_csv('total_data(2016제외) (1).csv')"
   ]
  },
  {
   "cell_type": "markdown",
   "id": "21dbcb15",
   "metadata": {},
   "source": [
    "### xdata로 모든 column을 넣어서 Lasso\n",
    "- Lasso regression feature selection 효과가 존재하므로 적절한 점수를 가지는 모델에서 weight가 0이 아닌 feature를 선택"
   ]
  },
  {
   "cell_type": "code",
   "execution_count": 5,
   "id": "dc7a18a2",
   "metadata": {
    "ExecuteTime": {
     "end_time": "2021-12-02T07:33:42.349397Z",
     "start_time": "2021-12-02T07:33:41.716784Z"
    }
   },
   "outputs": [],
   "source": [
    "# 필요 패키지 로드\n",
    "#from sklearn.preprocessing import MinMaxScaler\n",
    "from sklearn.preprocessing import StandardScaler\n",
    "from sklearn.linear_model import Lasso\n",
    "from sklearn.metrics import mean_absolute_error"
   ]
  },
  {
   "cell_type": "code",
   "execution_count": 6,
   "id": "ac15d59f",
   "metadata": {
    "ExecuteTime": {
     "end_time": "2021-12-02T07:33:42.666036Z",
     "start_time": "2021-12-02T07:33:42.605190Z"
    }
   },
   "outputs": [
    {
     "data": {
      "text/html": [
       "<div>\n",
       "<style scoped>\n",
       "    .dataframe tbody tr th:only-of-type {\n",
       "        vertical-align: middle;\n",
       "    }\n",
       "\n",
       "    .dataframe tbody tr th {\n",
       "        vertical-align: top;\n",
       "    }\n",
       "\n",
       "    .dataframe thead th {\n",
       "        text-align: right;\n",
       "    }\n",
       "</style>\n",
       "<table border=\"1\" class=\"dataframe\">\n",
       "  <thead>\n",
       "    <tr style=\"text-align: right;\">\n",
       "      <th></th>\n",
       "      <th>jur_stn</th>\n",
       "      <th>year</th>\n",
       "      <th>report_sx_남성</th>\n",
       "      <th>report_sx_불상</th>\n",
       "      <th>report_sx_여성</th>\n",
       "      <th>report_sx_total</th>\n",
       "      <th>vio_cnt</th>\n",
       "      <th>mur_rob_cnt</th>\n",
       "      <th>car_cnt</th>\n",
       "      <th>5m_crm_yn</th>\n",
       "      <th>...</th>\n",
       "      <th>single_f_2030</th>\n",
       "      <th>single_f_4050</th>\n",
       "      <th>single_f_o60</th>\n",
       "      <th>adult</th>\n",
       "      <th>bell</th>\n",
       "      <th>q1</th>\n",
       "      <th>q2</th>\n",
       "      <th>q3</th>\n",
       "      <th>q4</th>\n",
       "      <th>q5</th>\n",
       "    </tr>\n",
       "  </thead>\n",
       "  <tbody>\n",
       "    <tr>\n",
       "      <th>0</th>\n",
       "      <td>서울중부경찰서</td>\n",
       "      <td>2017(상반기)</td>\n",
       "      <td>13404.0</td>\n",
       "      <td>3239.0</td>\n",
       "      <td>5931.0</td>\n",
       "      <td>22574.0</td>\n",
       "      <td>1324.0</td>\n",
       "      <td>0.0</td>\n",
       "      <td>1412.0</td>\n",
       "      <td>3275.0</td>\n",
       "      <td>...</td>\n",
       "      <td>2128.0</td>\n",
       "      <td>1230.5</td>\n",
       "      <td>1635.5</td>\n",
       "      <td>0.0</td>\n",
       "      <td>0.0</td>\n",
       "      <td>75.2</td>\n",
       "      <td>76.5</td>\n",
       "      <td>69.9</td>\n",
       "      <td>65.9</td>\n",
       "      <td>72.6</td>\n",
       "    </tr>\n",
       "    <tr>\n",
       "      <th>1</th>\n",
       "      <td>서울종로경찰서</td>\n",
       "      <td>2017(상반기)</td>\n",
       "      <td>11579.0</td>\n",
       "      <td>2560.0</td>\n",
       "      <td>5534.0</td>\n",
       "      <td>19674.0</td>\n",
       "      <td>1102.0</td>\n",
       "      <td>0.0</td>\n",
       "      <td>867.0</td>\n",
       "      <td>2914.0</td>\n",
       "      <td>...</td>\n",
       "      <td>2703.0</td>\n",
       "      <td>1378.5</td>\n",
       "      <td>1782.5</td>\n",
       "      <td>2.0</td>\n",
       "      <td>2.0</td>\n",
       "      <td>81.6</td>\n",
       "      <td>82.4</td>\n",
       "      <td>69.1</td>\n",
       "      <td>62.7</td>\n",
       "      <td>72.2</td>\n",
       "    </tr>\n",
       "    <tr>\n",
       "      <th>2</th>\n",
       "      <td>서울남대문경찰서</td>\n",
       "      <td>2017(상반기)</td>\n",
       "      <td>9093.0</td>\n",
       "      <td>1855.0</td>\n",
       "      <td>3551.0</td>\n",
       "      <td>14499.0</td>\n",
       "      <td>949.0</td>\n",
       "      <td>0.0</td>\n",
       "      <td>736.0</td>\n",
       "      <td>2506.0</td>\n",
       "      <td>...</td>\n",
       "      <td>2128.0</td>\n",
       "      <td>1230.5</td>\n",
       "      <td>1635.5</td>\n",
       "      <td>0.0</td>\n",
       "      <td>0.0</td>\n",
       "      <td>77.3</td>\n",
       "      <td>79.3</td>\n",
       "      <td>68.8</td>\n",
       "      <td>61.0</td>\n",
       "      <td>71.7</td>\n",
       "    </tr>\n",
       "    <tr>\n",
       "      <th>3</th>\n",
       "      <td>서울서대문경찰서</td>\n",
       "      <td>2017(상반기)</td>\n",
       "      <td>18441.0</td>\n",
       "      <td>10029.0</td>\n",
       "      <td>10298.0</td>\n",
       "      <td>38769.0</td>\n",
       "      <td>1924.0</td>\n",
       "      <td>0.0</td>\n",
       "      <td>1788.0</td>\n",
       "      <td>4267.0</td>\n",
       "      <td>...</td>\n",
       "      <td>12420.0</td>\n",
       "      <td>4496.0</td>\n",
       "      <td>7066.0</td>\n",
       "      <td>0.0</td>\n",
       "      <td>0.0</td>\n",
       "      <td>78.0</td>\n",
       "      <td>80.0</td>\n",
       "      <td>67.0</td>\n",
       "      <td>66.3</td>\n",
       "      <td>71.4</td>\n",
       "    </tr>\n",
       "    <tr>\n",
       "      <th>4</th>\n",
       "      <td>서울혜화경찰서</td>\n",
       "      <td>2017(상반기)</td>\n",
       "      <td>10829.0</td>\n",
       "      <td>2989.0</td>\n",
       "      <td>5038.0</td>\n",
       "      <td>18857.0</td>\n",
       "      <td>1127.0</td>\n",
       "      <td>0.0</td>\n",
       "      <td>899.0</td>\n",
       "      <td>2864.0</td>\n",
       "      <td>...</td>\n",
       "      <td>2703.0</td>\n",
       "      <td>1378.5</td>\n",
       "      <td>1782.5</td>\n",
       "      <td>0.0</td>\n",
       "      <td>0.0</td>\n",
       "      <td>78.6</td>\n",
       "      <td>80.6</td>\n",
       "      <td>70.7</td>\n",
       "      <td>65.2</td>\n",
       "      <td>75.4</td>\n",
       "    </tr>\n",
       "    <tr>\n",
       "      <th>...</th>\n",
       "      <td>...</td>\n",
       "      <td>...</td>\n",
       "      <td>...</td>\n",
       "      <td>...</td>\n",
       "      <td>...</td>\n",
       "      <td>...</td>\n",
       "      <td>...</td>\n",
       "      <td>...</td>\n",
       "      <td>...</td>\n",
       "      <td>...</td>\n",
       "      <td>...</td>\n",
       "      <td>...</td>\n",
       "      <td>...</td>\n",
       "      <td>...</td>\n",
       "      <td>...</td>\n",
       "      <td>...</td>\n",
       "      <td>...</td>\n",
       "      <td>...</td>\n",
       "      <td>...</td>\n",
       "      <td>...</td>\n",
       "      <td>...</td>\n",
       "    </tr>\n",
       "    <tr>\n",
       "      <th>241</th>\n",
       "      <td>창원서부경찰서</td>\n",
       "      <td>2019(하반기)</td>\n",
       "      <td>12630.0</td>\n",
       "      <td>2990.0</td>\n",
       "      <td>7151.0</td>\n",
       "      <td>22771.0</td>\n",
       "      <td>1460.0</td>\n",
       "      <td>2.0</td>\n",
       "      <td>1964.0</td>\n",
       "      <td>2142.0</td>\n",
       "      <td>...</td>\n",
       "      <td>2900.0</td>\n",
       "      <td>4492.0</td>\n",
       "      <td>5574.0</td>\n",
       "      <td>1.0</td>\n",
       "      <td>1.0</td>\n",
       "      <td>79.1</td>\n",
       "      <td>79.5</td>\n",
       "      <td>68.5</td>\n",
       "      <td>71.2</td>\n",
       "      <td>76.0</td>\n",
       "    </tr>\n",
       "    <tr>\n",
       "      <th>242</th>\n",
       "      <td>마산중부경찰서</td>\n",
       "      <td>2019(하반기)</td>\n",
       "      <td>12223.0</td>\n",
       "      <td>2552.0</td>\n",
       "      <td>6489.0</td>\n",
       "      <td>21264.0</td>\n",
       "      <td>1265.0</td>\n",
       "      <td>5.0</td>\n",
       "      <td>1584.0</td>\n",
       "      <td>1369.0</td>\n",
       "      <td>...</td>\n",
       "      <td>2216.0</td>\n",
       "      <td>2837.0</td>\n",
       "      <td>7186.0</td>\n",
       "      <td>3.0</td>\n",
       "      <td>3.0</td>\n",
       "      <td>80.8</td>\n",
       "      <td>80.0</td>\n",
       "      <td>70.8</td>\n",
       "      <td>73.2</td>\n",
       "      <td>76.5</td>\n",
       "    </tr>\n",
       "    <tr>\n",
       "      <th>243</th>\n",
       "      <td>마산동부경찰서</td>\n",
       "      <td>2019(하반기)</td>\n",
       "      <td>15177.0</td>\n",
       "      <td>3190.0</td>\n",
       "      <td>7647.0</td>\n",
       "      <td>26014.0</td>\n",
       "      <td>1715.0</td>\n",
       "      <td>8.0</td>\n",
       "      <td>1910.0</td>\n",
       "      <td>1920.0</td>\n",
       "      <td>...</td>\n",
       "      <td>1496.0</td>\n",
       "      <td>2939.0</td>\n",
       "      <td>6166.0</td>\n",
       "      <td>1.0</td>\n",
       "      <td>1.0</td>\n",
       "      <td>75.0</td>\n",
       "      <td>76.5</td>\n",
       "      <td>69.4</td>\n",
       "      <td>68.9</td>\n",
       "      <td>73.1</td>\n",
       "    </tr>\n",
       "    <tr>\n",
       "      <th>244</th>\n",
       "      <td>진주경찰서</td>\n",
       "      <td>2019(하반기)</td>\n",
       "      <td>21840.0</td>\n",
       "      <td>5262.0</td>\n",
       "      <td>11455.0</td>\n",
       "      <td>38557.0</td>\n",
       "      <td>2552.0</td>\n",
       "      <td>0.0</td>\n",
       "      <td>3570.0</td>\n",
       "      <td>2876.0</td>\n",
       "      <td>...</td>\n",
       "      <td>6026.0</td>\n",
       "      <td>5205.0</td>\n",
       "      <td>11823.0</td>\n",
       "      <td>8.0</td>\n",
       "      <td>8.0</td>\n",
       "      <td>78.7</td>\n",
       "      <td>79.6</td>\n",
       "      <td>70.3</td>\n",
       "      <td>74.6</td>\n",
       "      <td>75.6</td>\n",
       "    </tr>\n",
       "    <tr>\n",
       "      <th>245</th>\n",
       "      <td>진해경찰서</td>\n",
       "      <td>2019(하반기)</td>\n",
       "      <td>11600.0</td>\n",
       "      <td>2442.0</td>\n",
       "      <td>6278.0</td>\n",
       "      <td>20320.0</td>\n",
       "      <td>1444.0</td>\n",
       "      <td>0.0</td>\n",
       "      <td>1692.0</td>\n",
       "      <td>1354.0</td>\n",
       "      <td>...</td>\n",
       "      <td>1782.0</td>\n",
       "      <td>2592.0</td>\n",
       "      <td>4931.0</td>\n",
       "      <td>3.0</td>\n",
       "      <td>3.0</td>\n",
       "      <td>76.6</td>\n",
       "      <td>79.2</td>\n",
       "      <td>67.0</td>\n",
       "      <td>70.9</td>\n",
       "      <td>73.5</td>\n",
       "    </tr>\n",
       "  </tbody>\n",
       "</table>\n",
       "<p>246 rows × 75 columns</p>\n",
       "</div>"
      ],
      "text/plain": [
       "      jur_stn       year  report_sx_남성  report_sx_불상  report_sx_여성  \\\n",
       "0     서울중부경찰서  2017(상반기)       13404.0        3239.0        5931.0   \n",
       "1     서울종로경찰서  2017(상반기)       11579.0        2560.0        5534.0   \n",
       "2    서울남대문경찰서  2017(상반기)        9093.0        1855.0        3551.0   \n",
       "3    서울서대문경찰서  2017(상반기)       18441.0       10029.0       10298.0   \n",
       "4     서울혜화경찰서  2017(상반기)       10829.0        2989.0        5038.0   \n",
       "..        ...        ...           ...           ...           ...   \n",
       "241   창원서부경찰서  2019(하반기)       12630.0        2990.0        7151.0   \n",
       "242   마산중부경찰서  2019(하반기)       12223.0        2552.0        6489.0   \n",
       "243   마산동부경찰서  2019(하반기)       15177.0        3190.0        7647.0   \n",
       "244     진주경찰서  2019(하반기)       21840.0        5262.0       11455.0   \n",
       "245     진해경찰서  2019(하반기)       11600.0        2442.0        6278.0   \n",
       "\n",
       "     report_sx_total  vio_cnt  mur_rob_cnt  car_cnt  5m_crm_yn  ...  \\\n",
       "0            22574.0   1324.0          0.0   1412.0     3275.0  ...   \n",
       "1            19674.0   1102.0          0.0    867.0     2914.0  ...   \n",
       "2            14499.0    949.0          0.0    736.0     2506.0  ...   \n",
       "3            38769.0   1924.0          0.0   1788.0     4267.0  ...   \n",
       "4            18857.0   1127.0          0.0    899.0     2864.0  ...   \n",
       "..               ...      ...          ...      ...        ...  ...   \n",
       "241          22771.0   1460.0          2.0   1964.0     2142.0  ...   \n",
       "242          21264.0   1265.0          5.0   1584.0     1369.0  ...   \n",
       "243          26014.0   1715.0          8.0   1910.0     1920.0  ...   \n",
       "244          38557.0   2552.0          0.0   3570.0     2876.0  ...   \n",
       "245          20320.0   1444.0          0.0   1692.0     1354.0  ...   \n",
       "\n",
       "     single_f_2030  single_f_4050  single_f_o60  adult  bell    q1    q2  \\\n",
       "0           2128.0         1230.5        1635.5    0.0   0.0  75.2  76.5   \n",
       "1           2703.0         1378.5        1782.5    2.0   2.0  81.6  82.4   \n",
       "2           2128.0         1230.5        1635.5    0.0   0.0  77.3  79.3   \n",
       "3          12420.0         4496.0        7066.0    0.0   0.0  78.0  80.0   \n",
       "4           2703.0         1378.5        1782.5    0.0   0.0  78.6  80.6   \n",
       "..             ...            ...           ...    ...   ...   ...   ...   \n",
       "241         2900.0         4492.0        5574.0    1.0   1.0  79.1  79.5   \n",
       "242         2216.0         2837.0        7186.0    3.0   3.0  80.8  80.0   \n",
       "243         1496.0         2939.0        6166.0    1.0   1.0  75.0  76.5   \n",
       "244         6026.0         5205.0       11823.0    8.0   8.0  78.7  79.6   \n",
       "245         1782.0         2592.0        4931.0    3.0   3.0  76.6  79.2   \n",
       "\n",
       "       q3    q4    q5  \n",
       "0    69.9  65.9  72.6  \n",
       "1    69.1  62.7  72.2  \n",
       "2    68.8  61.0  71.7  \n",
       "3    67.0  66.3  71.4  \n",
       "4    70.7  65.2  75.4  \n",
       "..    ...   ...   ...  \n",
       "241  68.5  71.2  76.0  \n",
       "242  70.8  73.2  76.5  \n",
       "243  69.4  68.9  73.1  \n",
       "244  70.3  74.6  75.6  \n",
       "245  67.0  70.9  73.5  \n",
       "\n",
       "[246 rows x 75 columns]"
      ]
     },
     "execution_count": 6,
     "metadata": {},
     "output_type": "execute_result"
    }
   ],
   "source": [
    "# y값인 q1-q5가 결측인 2020년 데이터 제거\n",
    "a = df[0:-82]\n",
    "a"
   ]
  },
  {
   "cell_type": "code",
   "execution_count": 7,
   "id": "56e4c73a",
   "metadata": {
    "ExecuteTime": {
     "end_time": "2021-12-02T07:33:43.301336Z",
     "start_time": "2021-12-02T07:33:43.284381Z"
    }
   },
   "outputs": [
    {
     "name": "stderr",
     "output_type": "stream",
     "text": [
      "C:\\Anaconda3\\lib\\site-packages\\pandas\\core\\frame.py:4906: SettingWithCopyWarning: \n",
      "A value is trying to be set on a copy of a slice from a DataFrame\n",
      "\n",
      "See the caveats in the documentation: https://pandas.pydata.org/pandas-docs/stable/user_guide/indexing.html#returning-a-view-versus-a-copy\n",
      "  return super().drop(\n"
     ]
    }
   ],
   "source": [
    "# 경찰서와 연도 데이터 제거\n",
    "a.drop(columns = ['jur_stn', 'year'], inplace = True)"
   ]
  },
  {
   "cell_type": "code",
   "execution_count": 8,
   "id": "9bf59750",
   "metadata": {
    "ExecuteTime": {
     "end_time": "2021-12-02T07:33:48.539881Z",
     "start_time": "2021-12-02T07:33:48.523829Z"
    }
   },
   "outputs": [],
   "source": [
    "a_ = a.drop(columns = ['q1', 'q2', 'q3', 'q4', 'q5'])"
   ]
  },
  {
   "cell_type": "code",
   "execution_count": 9,
   "id": "ade77f92",
   "metadata": {
    "ExecuteTime": {
     "end_time": "2021-12-02T07:33:49.606838Z",
     "start_time": "2021-12-02T07:33:49.587802Z"
    }
   },
   "outputs": [
    {
     "data": {
      "text/plain": [
       "array([[-0.87369027, -0.8125045 , -1.08891897, ..., -1.55004946,\n",
       "        -0.59342342, -0.59342342],\n",
       "       [-1.07373936, -1.09735738, -1.17135971, ..., -1.50210803,\n",
       "         0.29943384,  0.29943384],\n",
       "       [-1.34624459, -1.39311773, -1.58314811, ..., -1.55004946,\n",
       "        -0.59342342, -0.59342342],\n",
       "       ...,\n",
       "       [-0.67934122, -0.83306089, -0.7325756 , ..., -0.07250741,\n",
       "        -0.14699479, -0.14699479],\n",
       "       [ 0.05102978,  0.03618089,  0.05819103, ...,  1.77242259,\n",
       "         2.97800563,  2.97800563],\n",
       "       [-1.07143743, -1.14686053, -1.01686119, ..., -0.47528071,\n",
       "         0.74586247,  0.74586247]])"
      ]
     },
     "execution_count": 9,
     "metadata": {},
     "output_type": "execute_result"
    }
   ],
   "source": [
    "# StandardScaling\n",
    "scaler = StandardScaler()\n",
    "scaler.fit(a_) # scaler에 xdata 학습\n",
    "a_s = scaler.transform(a_)\n",
    "a_s"
   ]
  },
  {
   "cell_type": "code",
   "execution_count": 10,
   "id": "3fd73d54",
   "metadata": {
    "ExecuteTime": {
     "end_time": "2021-12-02T07:33:52.391585Z",
     "start_time": "2021-12-02T07:33:52.381572Z"
    }
   },
   "outputs": [],
   "source": [
    "# 2017, 2018 데이터를 학습용, 2019년 데이터를 검증용 데이터셋으로 설정\n",
    "train_ = a_s[:-82]\n",
    "test_ = a_s[-82:]\n",
    "train = a[:-82]\n",
    "test = a[-82:]"
   ]
  },
  {
   "cell_type": "code",
   "execution_count": 11,
   "id": "7f2d1aae",
   "metadata": {
    "ExecuteTime": {
     "end_time": "2021-12-02T07:33:52.787036Z",
     "start_time": "2021-12-02T07:33:52.773075Z"
    }
   },
   "outputs": [],
   "source": [
    "xtrain = train_\n",
    "ytrain1 = train['q1']\n",
    "ytrain2 = train['q2']\n",
    "ytrain3 = train['q3']\n",
    "ytrain4 = train['q4']\n",
    "ytrain5 = train['q5']"
   ]
  },
  {
   "cell_type": "code",
   "execution_count": 12,
   "id": "4b66bb0a",
   "metadata": {
    "ExecuteTime": {
     "end_time": "2021-12-02T07:33:53.163967Z",
     "start_time": "2021-12-02T07:33:53.145815Z"
    }
   },
   "outputs": [],
   "source": [
    "xtest = test_\n",
    "ytest1 = test['q1']\n",
    "ytest2 = test['q2']\n",
    "ytest3 = test['q3']\n",
    "ytest4 = test['q4']\n",
    "ytest5 = test['q5']"
   ]
  },
  {
   "cell_type": "code",
   "execution_count": 13,
   "id": "1a05209a",
   "metadata": {
    "ExecuteTime": {
     "end_time": "2021-12-02T07:33:54.281266Z",
     "start_time": "2021-12-02T07:33:54.268303Z"
    }
   },
   "outputs": [
    {
     "data": {
      "text/plain": [
       "Index(['report_sx_남성', 'report_sx_불상', 'report_sx_여성', 'report_sx_total',\n",
       "       'vio_cnt', 'mur_rob_cnt', 'car_cnt', '5m_crm_yn', 'theft_violence_x',\n",
       "       'robber_murder_x', 'traffic_x', 'public_x', 'crm', 'theft_violence_y',\n",
       "       'robber_murder_y', 'traffic_y', 'public_y', 'light_cnt', '차대사람', '차대차',\n",
       "       '차량단독', '가해_성별_기타불명', '가해_남', '가해_여', '가해_10대이하', '가해_20대', '가해_30대',\n",
       "       '가해_40대', '가해_50대', '가해_60대', '가해_70대', '가해_80대이상', '가해_미분류', '피해_남',\n",
       "       '피해_미분류', '피해_여', '피해_10대이하', '피해_20대', '피해_30대', '피해_40대', '피해_50대',\n",
       "       '피해_60대', '피해_70대', '피해_80대이상', 'cctv', 'pol_num', 'popu_합계', 'for_합계',\n",
       "       'popu_u20', 'popu_2030', 'popu_4050', 'popu_o60', 'for_u20', 'for_2030',\n",
       "       'for_4050', 'for_o60', 'single_합계', 'single_u20', 'single_2030',\n",
       "       'single_4050', 'single_o60', 'single_f_합계', 'single_f_u20',\n",
       "       'single_f_2030', 'single_f_4050', 'single_f_o60', 'adult', 'bell'],\n",
       "      dtype='object')"
      ]
     },
     "execution_count": 13,
     "metadata": {},
     "output_type": "execute_result"
    }
   ],
   "source": [
    "a_.columns"
   ]
  },
  {
   "cell_type": "code",
   "execution_count": 14,
   "id": "943cae14",
   "metadata": {
    "ExecuteTime": {
     "end_time": "2021-12-02T07:33:58.758149Z",
     "start_time": "2021-12-02T07:33:58.748173Z"
    }
   },
   "outputs": [],
   "source": [
    "# 그리드 서치 패키지\n",
    "from sklearn.model_selection import GridSearchCV"
   ]
  },
  {
   "cell_type": "code",
   "execution_count": 15,
   "id": "89c071f1",
   "metadata": {
    "ExecuteTime": {
     "end_time": "2021-12-02T07:34:02.511223Z",
     "start_time": "2021-12-02T07:34:02.491945Z"
    }
   },
   "outputs": [],
   "source": [
    "# 최적 성능을 내는 lasso의 alpha값을 얻기 위해 param_grid 생성\n",
    "\n",
    "num = []\n",
    "for i in range(1, 2000):\n",
    "    num.append(i * 0.001)\n",
    "\n",
    "param_grid = {'alpha' : num}\n",
    "\n",
    "#그리드 서치 설정\n",
    "grid_search = GridSearchCV(Lasso(), param_grid = param_grid, cv = 10, n_jobs = -1, scoring ='r2')\n",
    "#grid_search = GridSearchCV(Lasso(), param_grid = param_grid, cv = 10, n_jobs = -1, scoring ='neg_mean_absolute_error')"
   ]
  },
  {
   "cell_type": "markdown",
   "id": "ae3db99c",
   "metadata": {},
   "source": [
    "#### q1 절도폭력 "
   ]
  },
  {
   "cell_type": "code",
   "execution_count": 16,
   "id": "24aeeadd",
   "metadata": {
    "ExecuteTime": {
     "end_time": "2021-12-02T07:34:26.481448Z",
     "start_time": "2021-12-02T07:34:05.347382Z"
    }
   },
   "outputs": [],
   "source": [
    "# 그리드 서치 후 최고 성능의 모델을 lasso1에 저장\n",
    "\n",
    "grid_search.fit(xtrain, ytrain1)\n",
    "lasso1 = grid_search.best_estimator_"
   ]
  },
  {
   "cell_type": "code",
   "execution_count": 17,
   "id": "d0ddcc37",
   "metadata": {
    "ExecuteTime": {
     "end_time": "2021-12-02T07:34:26.766300Z",
     "start_time": "2021-12-02T07:34:26.754531Z"
    }
   },
   "outputs": [
    {
     "data": {
      "text/plain": [
       "2.534933292697339"
      ]
     },
     "execution_count": 17,
     "metadata": {},
     "output_type": "execute_result"
    }
   ],
   "source": [
    "# MAE 출력\n",
    "\n",
    "y_pred1 = lasso1.predict(xtest)\n",
    "mean_absolute_error(ytest1, y_pred1)"
   ]
  },
  {
   "cell_type": "code",
   "execution_count": 18,
   "id": "4e505fff",
   "metadata": {
    "ExecuteTime": {
     "end_time": "2021-12-02T07:34:27.021984Z",
     "start_time": "2021-12-02T07:34:27.008418Z"
    }
   },
   "outputs": [
    {
     "name": "stdout",
     "output_type": "stream",
     "text": [
      "alpa = 0.061\n",
      "Index(['report_sx_불상', 'vio_cnt', 'mur_rob_cnt', 'robber_murder_x', 'public_y',\n",
      "       'light_cnt', '가해_성별_기타불명', '가해_10대이하', '가해_20대', '가해_70대', '피해_미분류',\n",
      "       '피해_여', '피해_10대이하', '피해_30대', '피해_70대', '피해_80대이상', 'pol_num',\n",
      "       'popu_u20', 'for_2030', 'for_4050', 'single_u20', 'single_4050',\n",
      "       'single_f_2030', 'adult', 'bell'],\n",
      "      dtype='object')\n",
      "feature 갯수: 25\n",
      "가장 강한 양의 상관관계:  popu_u20 \n",
      "가장 강한 음의 상관관계:  single_4050\n"
     ]
    }
   ],
   "source": [
    "# 결과\n",
    "\n",
    "print('alpa =', lasso1.alpha)\n",
    "# print(lasso1.coef_) # Lasso 회귀분석으로 나온 weghit값\n",
    "\n",
    "print(a_.columns[lasso1.coef_ != 0]) # Lasso 회귀분석 결과 weight가 0이 아닌 xfeature 리스트\n",
    "print('feature 갯수:', len(a_.columns[lasso1.coef_ != 0]))\n",
    "print('가장 강한 양의 상관관계: ',a_.columns[lasso1.coef_.argmax()], '\\n가장 강한 음의 상관관계: ', a_.columns[lasso1.coef_.argmin()])"
   ]
  },
  {
   "cell_type": "code",
   "execution_count": 19,
   "id": "effa5bb8",
   "metadata": {
    "ExecuteTime": {
     "end_time": "2021-12-02T07:34:27.291738Z",
     "start_time": "2021-12-02T07:34:27.280800Z"
    }
   },
   "outputs": [
    {
     "data": {
      "text/plain": [
       "Index(['report_sx_불상', 'vio_cnt', 'mur_rob_cnt', 'robber_murder_x', 'public_y',\n",
       "       'light_cnt', '가해_성별_기타불명', '가해_10대이하', '가해_20대', '가해_70대', '피해_미분류',\n",
       "       '피해_여', '피해_10대이하', '피해_30대', '피해_70대', '피해_80대이상', 'pol_num',\n",
       "       'popu_u20', 'for_2030', 'for_4050', 'single_u20', 'single_4050',\n",
       "       'single_f_2030', 'adult', 'bell'],\n",
       "      dtype='object')"
      ]
     },
     "execution_count": 19,
     "metadata": {},
     "output_type": "execute_result"
    }
   ],
   "source": [
    "# q1 관련 feature\n",
    "a_.columns[lasso1.coef_ != 0]"
   ]
  },
  {
   "cell_type": "markdown",
   "id": "a294834f",
   "metadata": {},
   "source": [
    "#### q2 강도살인"
   ]
  },
  {
   "cell_type": "code",
   "execution_count": 20,
   "id": "56c82a56",
   "metadata": {
    "ExecuteTime": {
     "end_time": "2021-12-02T07:35:01.220164Z",
     "start_time": "2021-12-02T07:34:46.073782Z"
    }
   },
   "outputs": [],
   "source": [
    "# 그리드 서치 후 최고 성능의 모델을 lasso2에 저장\n",
    "\n",
    "grid_search.fit(xtrain, ytrain2)\n",
    "lasso2 = grid_search.best_estimator_"
   ]
  },
  {
   "cell_type": "code",
   "execution_count": 21,
   "id": "af019254",
   "metadata": {
    "ExecuteTime": {
     "end_time": "2021-12-02T07:35:01.505353Z",
     "start_time": "2021-12-02T07:35:01.491764Z"
    }
   },
   "outputs": [
    {
     "data": {
      "text/plain": [
       "2.403205855220829"
      ]
     },
     "execution_count": 21,
     "metadata": {},
     "output_type": "execute_result"
    }
   ],
   "source": [
    "# MAE 출력\n",
    "\n",
    "y_pred2 = lasso2.predict(xtest)\n",
    "mean_absolute_error(ytest2, y_pred2)"
   ]
  },
  {
   "cell_type": "code",
   "execution_count": 22,
   "id": "0d2cce03",
   "metadata": {
    "ExecuteTime": {
     "end_time": "2021-12-02T07:35:01.790928Z",
     "start_time": "2021-12-02T07:35:01.765564Z"
    }
   },
   "outputs": [
    {
     "name": "stdout",
     "output_type": "stream",
     "text": [
      "alpa = 0.026000000000000002\n",
      "Index(['vio_cnt', 'car_cnt', 'robber_murder_x', 'traffic_x', 'public_x', 'crm',\n",
      "       'traffic_y', 'public_y', 'light_cnt', '차대사람', '가해_성별_기타불명', '가해_여',\n",
      "       '가해_10대이하', '가해_20대', '가해_40대', '가해_70대', '가해_80대이상', '피해_30대',\n",
      "       '피해_40대', '피해_50대', '피해_70대', '피해_80대이상', 'popu_u20', 'popu_o60',\n",
      "       'for_u20', 'for_2030', 'for_o60', 'single_u20', 'single_2030',\n",
      "       'single_4050', 'single_f_2030', 'adult'],\n",
      "      dtype='object')\n",
      "feature 갯수: 32\n",
      "가장 강한 양의 상관관계:  popu_u20 \n",
      "가장 강한 음의 상관관계:  vio_cnt\n"
     ]
    }
   ],
   "source": [
    "# 결과\n",
    "\n",
    "print('alpa =', lasso2.alpha)\n",
    "# print(lasso1.coef_) # Lasso 회귀분석으로 나온 weghit값\n",
    "\n",
    "print(a_.columns[lasso2.coef_ != 0]) # Lasso 회귀분석 결과 weight가 0이 아닌 xfeature 리스트\n",
    "print('feature 갯수:', len(a_.columns[lasso2.coef_ != 0]))\n",
    "print('가장 강한 양의 상관관계: ',a_.columns[lasso2.coef_.argmax()], '\\n가장 강한 음의 상관관계: ', a_.columns[lasso2.coef_.argmin()])"
   ]
  },
  {
   "cell_type": "code",
   "execution_count": 23,
   "id": "646b2b1f",
   "metadata": {
    "ExecuteTime": {
     "end_time": "2021-12-02T07:35:02.031306Z",
     "start_time": "2021-12-02T07:35:02.018236Z"
    }
   },
   "outputs": [
    {
     "data": {
      "text/plain": [
       "Index(['vio_cnt', 'car_cnt', 'robber_murder_x', 'traffic_x', 'public_x', 'crm',\n",
       "       'traffic_y', 'public_y', 'light_cnt', '차대사람', '가해_성별_기타불명', '가해_여',\n",
       "       '가해_10대이하', '가해_20대', '가해_40대', '가해_70대', '가해_80대이상', '피해_30대',\n",
       "       '피해_40대', '피해_50대', '피해_70대', '피해_80대이상', 'popu_u20', 'popu_o60',\n",
       "       'for_u20', 'for_2030', 'for_o60', 'single_u20', 'single_2030',\n",
       "       'single_4050', 'single_f_2030', 'adult'],\n",
       "      dtype='object')"
      ]
     },
     "execution_count": 23,
     "metadata": {},
     "output_type": "execute_result"
    }
   ],
   "source": [
    "# q2 관련 feature\n",
    "a_.columns[lasso2.coef_ != 0]"
   ]
  },
  {
   "cell_type": "markdown",
   "id": "f345e5cd",
   "metadata": {},
   "source": [
    "#### q3 교통안전"
   ]
  },
  {
   "cell_type": "code",
   "execution_count": 24,
   "id": "86cd47f1",
   "metadata": {
    "ExecuteTime": {
     "end_time": "2021-12-02T07:35:33.667833Z",
     "start_time": "2021-12-02T07:35:20.373738Z"
    }
   },
   "outputs": [],
   "source": [
    "# 그리드 서치 후 최고 성능의 모델을 lasso3에 저장\n",
    "\n",
    "grid_search.fit(xtrain, ytrain3)\n",
    "lasso3 = grid_search.best_estimator_"
   ]
  },
  {
   "cell_type": "code",
   "execution_count": 25,
   "id": "9b8ddf36",
   "metadata": {
    "ExecuteTime": {
     "end_time": "2021-12-02T07:35:33.909485Z",
     "start_time": "2021-12-02T07:35:33.895524Z"
    }
   },
   "outputs": [
    {
     "data": {
      "text/plain": [
       "2.3832876315760934"
      ]
     },
     "execution_count": 25,
     "metadata": {},
     "output_type": "execute_result"
    }
   ],
   "source": [
    "# MAE 출력\n",
    "\n",
    "y_pred3 = lasso3.predict(xtest)\n",
    "mean_absolute_error(ytest3, y_pred3)"
   ]
  },
  {
   "cell_type": "code",
   "execution_count": 26,
   "id": "1756fa6a",
   "metadata": {
    "ExecuteTime": {
     "end_time": "2021-12-02T07:35:34.179791Z",
     "start_time": "2021-12-02T07:35:34.165823Z"
    }
   },
   "outputs": [
    {
     "name": "stdout",
     "output_type": "stream",
     "text": [
      "alpa = 0.132\n",
      "Index(['traffic_x', 'public_y', 'light_cnt', '가해_10대이하', '가해_70대', '가해_80대이상',\n",
      "       '피해_10대이하', '피해_70대', 'cctv', 'pol_num', 'for_2030', 'single_4050'],\n",
      "      dtype='object')\n",
      "feature 갯수: 12\n",
      "가장 강한 양의 상관관계:  피해_70대 \n",
      "가장 강한 음의 상관관계:  single_4050\n"
     ]
    }
   ],
   "source": [
    "# 결과\n",
    "\n",
    "print('alpa =', lasso3.alpha)\n",
    "# print(lasso1.coef_) # Lasso 회귀분석으로 나온 weghit값\n",
    "\n",
    "print(a_.columns[lasso3.coef_ != 0]) # Lasso 회귀분석 결과 weight가 0이 아닌 xfeature 리스트\n",
    "print('feature 갯수:', len(a_.columns[lasso3.coef_ != 0]))\n",
    "print('가장 강한 양의 상관관계: ',a_.columns[lasso3.coef_.argmax()], '\\n가장 강한 음의 상관관계: ', a_.columns[lasso3.coef_.argmin()])"
   ]
  },
  {
   "cell_type": "code",
   "execution_count": 33,
   "id": "4f6a72a2",
   "metadata": {
    "ExecuteTime": {
     "end_time": "2021-12-02T07:36:30.110314Z",
     "start_time": "2021-12-02T07:36:30.092363Z"
    }
   },
   "outputs": [
    {
     "data": {
      "text/plain": [
       "Index(['traffic_x', 'public_y', 'light_cnt', '가해_10대이하', '가해_70대', '가해_80대이상',\n",
       "       '피해_10대이하', '피해_70대', 'cctv', 'pol_num', 'for_2030', 'single_4050'],\n",
       "      dtype='object')"
      ]
     },
     "execution_count": 33,
     "metadata": {},
     "output_type": "execute_result"
    }
   ],
   "source": [
    "# q3 관련 feature\n",
    "a_.columns[lasso3.coef_ != 0]"
   ]
  },
  {
   "cell_type": "markdown",
   "id": "745d4226",
   "metadata": {},
   "source": [
    "#### q4 법질서 준수도"
   ]
  },
  {
   "cell_type": "code",
   "execution_count": 27,
   "id": "440b790c",
   "metadata": {
    "ExecuteTime": {
     "end_time": "2021-12-02T07:35:48.746971Z",
     "start_time": "2021-12-02T07:35:34.466658Z"
    }
   },
   "outputs": [],
   "source": [
    "# 그리드 서치 후 최고 성능의 모델을 lasso4에 저장\n",
    "\n",
    "grid_search.fit(xtrain, ytrain4)\n",
    "lasso4 = grid_search.best_estimator_"
   ]
  },
  {
   "cell_type": "code",
   "execution_count": 28,
   "id": "1f1455e3",
   "metadata": {
    "ExecuteTime": {
     "end_time": "2021-12-02T07:35:49.062200Z",
     "start_time": "2021-12-02T07:35:49.048819Z"
    }
   },
   "outputs": [
    {
     "data": {
      "text/plain": [
       "3.12443634055981"
      ]
     },
     "execution_count": 28,
     "metadata": {},
     "output_type": "execute_result"
    }
   ],
   "source": [
    "# MAE 출력\n",
    "\n",
    "y_pred4 = lasso4.predict(xtest)\n",
    "mean_absolute_error(ytest4, y_pred4)"
   ]
  },
  {
   "cell_type": "code",
   "execution_count": 29,
   "id": "6ddde85f",
   "metadata": {
    "ExecuteTime": {
     "end_time": "2021-12-02T07:35:49.362405Z",
     "start_time": "2021-12-02T07:35:49.348431Z"
    }
   },
   "outputs": [
    {
     "name": "stdout",
     "output_type": "stream",
     "text": [
      "alpa = 0.031\n",
      "Index(['report_sx_불상', 'vio_cnt', 'mur_rob_cnt', 'car_cnt', '5m_crm_yn',\n",
      "       'theft_violence_x', 'robber_murder_x', 'theft_violence_y',\n",
      "       'robber_murder_y', 'traffic_y', 'public_y', 'light_cnt', '가해_성별_기타불명',\n",
      "       '가해_10대이하', '가해_20대', '가해_40대', '가해_70대', '가해_80대이상', '피해_미분류',\n",
      "       '피해_10대이하', '피해_50대', '피해_70대', '피해_80대이상', 'cctv', 'pol_num',\n",
      "       'popu_u20', 'popu_o60', 'for_u20', 'for_2030', 'for_4050', 'single_u20',\n",
      "       'single_4050', 'single_f_2030', 'adult', 'bell'],\n",
      "      dtype='object')\n",
      "feature 갯수: 35\n",
      "가장 강한 양의 상관관계:  피해_70대 \n",
      "가장 강한 음의 상관관계:  pol_num\n"
     ]
    }
   ],
   "source": [
    "# 결과\n",
    "\n",
    "print('alpa =', lasso4.alpha)\n",
    "# print(lasso1.coef_) # Lasso 회귀분석으로 나온 weghit값\n",
    "\n",
    "print(a_.columns[lasso4.coef_ != 0]) # Lasso 회귀분석 결과 weight가 0이 아닌 xfeature 리스트\n",
    "print('feature 갯수:', len(a_.columns[lasso4.coef_ != 0]))\n",
    "print('가장 강한 양의 상관관계: ',a_.columns[lasso4.coef_.argmax()], '\\n가장 강한 음의 상관관계: ', a_.columns[lasso4.coef_.argmin()])"
   ]
  },
  {
   "cell_type": "code",
   "execution_count": 34,
   "id": "ca79628f",
   "metadata": {
    "ExecuteTime": {
     "end_time": "2021-12-02T07:36:33.845195Z",
     "start_time": "2021-12-02T07:36:33.835224Z"
    }
   },
   "outputs": [
    {
     "data": {
      "text/plain": [
       "Index(['report_sx_불상', 'vio_cnt', 'mur_rob_cnt', 'car_cnt', '5m_crm_yn',\n",
       "       'theft_violence_x', 'robber_murder_x', 'theft_violence_y',\n",
       "       'robber_murder_y', 'traffic_y', 'public_y', 'light_cnt', '가해_성별_기타불명',\n",
       "       '가해_10대이하', '가해_20대', '가해_40대', '가해_70대', '가해_80대이상', '피해_미분류',\n",
       "       '피해_10대이하', '피해_50대', '피해_70대', '피해_80대이상', 'cctv', 'pol_num',\n",
       "       'popu_u20', 'popu_o60', 'for_u20', 'for_2030', 'for_4050', 'single_u20',\n",
       "       'single_4050', 'single_f_2030', 'adult', 'bell'],\n",
       "      dtype='object')"
      ]
     },
     "execution_count": 34,
     "metadata": {},
     "output_type": "execute_result"
    }
   ],
   "source": [
    "# q4 관련 feature\n",
    "a_.columns[lasso4.coef_ != 0]"
   ]
  },
  {
   "cell_type": "markdown",
   "id": "5510203c",
   "metadata": {},
   "source": [
    "#### q5 전반적 안전도"
   ]
  },
  {
   "cell_type": "code",
   "execution_count": 30,
   "id": "0cfe81a5",
   "metadata": {
    "ExecuteTime": {
     "end_time": "2021-12-02T07:36:03.495148Z",
     "start_time": "2021-12-02T07:35:49.604328Z"
    }
   },
   "outputs": [],
   "source": [
    "# 그리드 서치 후 최고 성능의 모델을 lasso4에 저장\n",
    "\n",
    "grid_search.fit(xtrain, ytrain5)\n",
    "lasso5 = grid_search.best_estimator_"
   ]
  },
  {
   "cell_type": "code",
   "execution_count": 31,
   "id": "c8ee961d",
   "metadata": {
    "ExecuteTime": {
     "end_time": "2021-12-02T07:36:03.779907Z",
     "start_time": "2021-12-02T07:36:03.765857Z"
    }
   },
   "outputs": [
    {
     "data": {
      "text/plain": [
       "2.349911049054337"
      ]
     },
     "execution_count": 31,
     "metadata": {},
     "output_type": "execute_result"
    }
   ],
   "source": [
    "# MAE 출력\n",
    "\n",
    "y_pred5 = lasso5.predict(xtest)\n",
    "mean_absolute_error(ytest5, y_pred5)"
   ]
  },
  {
   "cell_type": "code",
   "execution_count": 32,
   "id": "d96bc91b",
   "metadata": {
    "ExecuteTime": {
     "end_time": "2021-12-02T07:36:04.050765Z",
     "start_time": "2021-12-02T07:36:04.036556Z"
    }
   },
   "outputs": [
    {
     "name": "stdout",
     "output_type": "stream",
     "text": [
      "alpa = 0.025\n",
      "Index(['report_sx_불상', 'vio_cnt', 'mur_rob_cnt', 'car_cnt', 'robber_murder_x',\n",
      "       'crm', 'theft_violence_y', 'traffic_y', 'public_y', 'light_cnt', '차대사람',\n",
      "       '가해_성별_기타불명', '가해_10대이하', '가해_20대', '가해_40대', '가해_70대', '피해_미분류',\n",
      "       '피해_10대이하', '피해_70대', '피해_80대이상', 'cctv', 'popu_u20', 'for_u20',\n",
      "       'for_2030', 'for_4050', 'for_o60', 'single_4050', 'single_o60',\n",
      "       'single_f_2030', 'adult', 'bell'],\n",
      "      dtype='object')\n",
      "feature 갯수: 31\n",
      "가장 강한 양의 상관관계:  popu_u20 \n",
      "가장 강한 음의 상관관계:  single_4050\n"
     ]
    }
   ],
   "source": [
    "# 결과\n",
    "\n",
    "print('alpa =', lasso5.alpha)\n",
    "# print(lasso1.coef_) # Lasso 회귀분석으로 나온 weghit값\n",
    "\n",
    "print(a_.columns[lasso5.coef_ != 0]) # Lasso 회귀분석 결과 weight가 0이 아닌 xfeature 리스트\n",
    "print('feature 갯수:', len(a_.columns[lasso5.coef_ != 0]))\n",
    "print('가장 강한 양의 상관관계: ',a_.columns[lasso5.coef_.argmax()], '\\n가장 강한 음의 상관관계: ', a_.columns[lasso5.coef_.argmin()])"
   ]
  },
  {
   "cell_type": "code",
   "execution_count": 35,
   "id": "e3024f8d",
   "metadata": {
    "ExecuteTime": {
     "end_time": "2021-12-02T07:36:36.068420Z",
     "start_time": "2021-12-02T07:36:36.051466Z"
    },
    "scrolled": true
   },
   "outputs": [
    {
     "data": {
      "text/plain": [
       "Index(['report_sx_불상', 'vio_cnt', 'mur_rob_cnt', 'car_cnt', 'robber_murder_x',\n",
       "       'crm', 'theft_violence_y', 'traffic_y', 'public_y', 'light_cnt', '차대사람',\n",
       "       '가해_성별_기타불명', '가해_10대이하', '가해_20대', '가해_40대', '가해_70대', '피해_미분류',\n",
       "       '피해_10대이하', '피해_70대', '피해_80대이상', 'cctv', 'popu_u20', 'for_u20',\n",
       "       'for_2030', 'for_4050', 'for_o60', 'single_4050', 'single_o60',\n",
       "       'single_f_2030', 'adult', 'bell'],\n",
       "      dtype='object')"
      ]
     },
     "execution_count": 35,
     "metadata": {},
     "output_type": "execute_result"
    }
   ],
   "source": [
    "# q5 관련 feature\n",
    "a_.columns[lasso5.coef_ != 0]"
   ]
  },
  {
   "cell_type": "markdown",
   "id": "0b9cb989",
   "metadata": {},
   "source": [
    "### Lasso를 통한 Feature Selection 결과"
   ]
  },
  {
   "cell_type": "markdown",
   "id": "efca486b",
   "metadata": {},
   "source": [
    "- q1  \n",
    "alpa = 0.061  \n",
    "        ['report_sx_불상', 'vio_cnt', 'mur_rob_cnt', 'robber_murder_x', 'public_y',\n",
    "       'light_cnt', '가해_성별_기타불명', '가해_10대이하', '가해_20대', '가해_70대', '피해_미분류',\n",
    "       '피해_여', '피해_10대이하', '피해_30대', '피해_70대', '피해_80대이상', 'pol_num',\n",
    "       'popu_u20', 'for_2030', 'for_4050', 'single_u20', 'single_4050',\n",
    "       'single_f_2030', 'adult', 'bell']\n",
    "feature 갯수: 25  \n",
    "가장 강한 양의 상관관계:  popu_u20  \n",
    "가장 강한 음의 상관관계:  single_4050  \n",
    "\n",
    "- q2  \n",
    "alpa = 0.026\n",
    "        ['vio_cnt', 'car_cnt', 'robber_murder_x', 'traffic_x', 'public_x', 'crm',\n",
    "       'traffic_y', 'public_y', 'light_cnt', '차대사람', '가해_성별_기타불명', '가해_여',\n",
    "       '가해_10대이하', '가해_20대', '가해_40대', '가해_70대', '가해_80대이상', '피해_30대',\n",
    "       '피해_40대', '피해_50대', '피해_70대', '피해_80대이상', 'popu_u20', 'popu_o60',\n",
    "       'for_u20', 'for_2030', 'for_o60', 'single_u20', 'single_2030',\n",
    "       'single_4050', 'single_f_2030', 'adult']  \n",
    "feature 갯수: 32  \n",
    "가장 강한 양의 상관관계:  popu_u20  \n",
    "가장 강한 음의 상관관계:  vio_cnt\n",
    "\n",
    "- q3  \n",
    "alpa = 0.132  \n",
    "        ['traffic_x', 'public_y', 'light_cnt', '가해_10대이하', '가해_70대', '가해_80대이상',\n",
    "       '피해_10대이하', '피해_70대', 'cctv', 'pol_num', 'for_2030', 'single_4050']  \n",
    "feature 갯수: 12  \n",
    "가장 강한 양의 상관관계:  피해_70대  \n",
    "가장 강한 음의 상관관계:  single_4050\n",
    "\n",
    "- q4  \n",
    "alpa = 0.031  \n",
    "        ['report_sx_불상', 'vio_cnt', 'mur_rob_cnt', 'car_cnt', '5m_crm_yn',\n",
    "       'theft_violence_x', 'robber_murder_x', 'theft_violence_y',\n",
    "       'robber_murder_y', 'traffic_y', 'public_y', 'light_cnt', '가해_성별_기타불명',\n",
    "       '가해_10대이하', '가해_20대', '가해_40대', '가해_70대', '가해_80대이상', '피해_미분류',\n",
    "       '피해_10대이하', '피해_50대', '피해_70대', '피해_80대이상', 'cctv', 'pol_num',\n",
    "       'popu_u20', 'popu_o60', 'for_u20', 'for_2030', 'for_4050', 'single_u20',\n",
    "       'single_4050', 'single_f_2030', 'adult', 'bell']  \n",
    "feature 갯수: 35  \n",
    "가장 강한 양의 상관관계:  피해_70대  \n",
    "가장 강한 음의 상관관계:  pol_num\n",
    "\n",
    "- q5  \n",
    "alpa = 0.025  \n",
    "        ['report_sx_불상', 'vio_cnt', 'mur_rob_cnt', 'car_cnt', 'robber_murder_x',\n",
    "       'crm', 'theft_violence_y', 'traffic_y', 'public_y', 'light_cnt', '차대사람',\n",
    "       '가해_성별_기타불명', '가해_10대이하', '가해_20대', '가해_40대', '가해_70대', '피해_미분류',\n",
    "       '피해_10대이하', '피해_70대', '피해_80대이상', 'cctv', 'popu_u20', 'for_u20',\n",
    "       'for_2030', 'for_4050', 'for_o60', 'single_4050', 'single_o60',\n",
    "       'single_f_2030', 'adult', 'bell']  \n",
    "feature 갯수: 31  \n",
    "가장 강한 양의 상관관계:  popu_u20  \n",
    "가장 강한 음의 상관관계:  single_4050"
   ]
  },
  {
   "cell_type": "code",
   "execution_count": null,
   "id": "de290d7f",
   "metadata": {},
   "outputs": [],
   "source": []
  }
 ],
 "metadata": {
  "kernelspec": {
   "display_name": "Python 3",
   "language": "python",
   "name": "python3"
  },
  "language_info": {
   "codemirror_mode": {
    "name": "ipython",
    "version": 3
   },
   "file_extension": ".py",
   "mimetype": "text/x-python",
   "name": "python",
   "nbconvert_exporter": "python",
   "pygments_lexer": "ipython3",
   "version": "3.8.8"
  },
  "toc": {
   "base_numbering": 1,
   "nav_menu": {},
   "number_sections": true,
   "sideBar": true,
   "skip_h1_title": false,
   "title_cell": "Table of Contents",
   "title_sidebar": "Contents",
   "toc_cell": false,
   "toc_position": {},
   "toc_section_display": true,
   "toc_window_display": false
  },
  "varInspector": {
   "cols": {
    "lenName": 16,
    "lenType": 16,
    "lenVar": 40
   },
   "kernels_config": {
    "python": {
     "delete_cmd_postfix": "",
     "delete_cmd_prefix": "del ",
     "library": "var_list.py",
     "varRefreshCmd": "print(var_dic_list())"
    },
    "r": {
     "delete_cmd_postfix": ") ",
     "delete_cmd_prefix": "rm(",
     "library": "var_list.r",
     "varRefreshCmd": "cat(var_dic_list()) "
    }
   },
   "types_to_exclude": [
    "module",
    "function",
    "builtin_function_or_method",
    "instance",
    "_Feature"
   ],
   "window_display": false
  }
 },
 "nbformat": 4,
 "nbformat_minor": 5
}
