{
 "cells": [
  {
   "cell_type": "code",
   "execution_count": 43,
   "id": "fed23cf5",
   "metadata": {
    "ExecuteTime": {
     "end_time": "2021-12-02T08:40:17.456750Z",
     "start_time": "2021-12-02T08:40:17.446780Z"
    }
   },
   "outputs": [],
   "source": [
    "import numpy as np\n",
    "import pandas as pd\n",
    "import matplotlib.pyplot as plt\n",
    "import seaborn as sns\n",
    "import plotly.express as px\n",
    "from sklearn.preprocessing import StandardScaler\n",
    "from sklearn.preprocessing import MinMaxScaler\n",
    "import statsmodels.api as sm\n",
    "# OLS\n",
    "from statsmodels.formula.api import ols\n",
    "# VIF 확인\n",
    "from statsmodels.stats.outliers_influence import variance_inflation_factor \n",
    "from sklearn.metrics import mean_absolute_error"
   ]
  },
  {
   "cell_type": "code",
   "execution_count": 68,
   "id": "8416a9da",
   "metadata": {
    "ExecuteTime": {
     "end_time": "2021-12-02T08:44:16.160617Z",
     "start_time": "2021-12-02T08:44:16.134387Z"
    }
   },
   "outputs": [],
   "source": [
    "total = pd.read_csv(\"total_data(2016포함).csv\")"
   ]
  },
  {
   "cell_type": "code",
   "execution_count": 69,
   "id": "69d4eac2",
   "metadata": {
    "ExecuteTime": {
     "end_time": "2021-12-02T08:44:16.830229Z",
     "start_time": "2021-12-02T08:44:16.820256Z"
    }
   },
   "outputs": [],
   "source": [
    "total = total[(total[\"year\"] != \"2020(상반기)\") & (total[\"year\"] != \"2020(하반기)\")]"
   ]
  },
  {
   "cell_type": "code",
   "execution_count": 70,
   "id": "ea6d574d",
   "metadata": {
    "ExecuteTime": {
     "end_time": "2021-12-02T08:44:17.429725Z",
     "start_time": "2021-12-02T08:44:17.421720Z"
    }
   },
   "outputs": [],
   "source": [
    "col_name_x = total.columns[2:-5]\n",
    "col_name_y = total.columns[-5:]"
   ]
  },
  {
   "cell_type": "code",
   "execution_count": 71,
   "id": "8b506088",
   "metadata": {
    "ExecuteTime": {
     "end_time": "2021-12-02T08:44:17.975689Z",
     "start_time": "2021-12-02T08:44:17.959762Z"
    }
   },
   "outputs": [],
   "source": [
    "X = total[col_name_x]\n",
    "y = total[col_name_y]\n",
    "x_train = X.loc[:163]\n",
    "x_test = X.loc[164:]\n",
    "y_train = y.loc[:163]\n",
    "y_test = y.loc[164:]"
   ]
  },
  {
   "cell_type": "code",
   "execution_count": 72,
   "id": "3599dafa",
   "metadata": {
    "ExecuteTime": {
     "end_time": "2021-12-02T08:44:19.570367Z",
     "start_time": "2021-12-02T08:44:19.561393Z"
    }
   },
   "outputs": [],
   "source": [
    "y1_train = y_train[['q1']]\n",
    "y1_test = y_test[['q1']]\n",
    "\n",
    "y2_train = y_train[\"q2\"]\n",
    "y2_test = y_test[\"q2\"]\n",
    "\n",
    "y3_train = y_train[\"q3\"]\n",
    "y3_test = y_test[\"q3\"]\n",
    "\n",
    "y4_train = y_train[\"q4\"]\n",
    "y4_test = y_test[\"q4\"]\n",
    "\n",
    "y5_train = y_train[\"q5\"]\n",
    "y5_test = y_test[\"q5\"]"
   ]
  },
  {
   "cell_type": "code",
   "execution_count": 73,
   "id": "a37d7f0a",
   "metadata": {
    "ExecuteTime": {
     "end_time": "2021-12-02T08:44:20.257810Z",
     "start_time": "2021-12-02T08:44:20.214572Z"
    },
    "scrolled": true
   },
   "outputs": [],
   "source": [
    "std_scaler = StandardScaler()\n",
    "std_scaler.fit(x_train)\n",
    "x_train_s = pd.DataFrame(std_scaler.transform(x_train), columns = x_train.columns)\n",
    "x_train_s = sm.add_constant(x_train, has_constant = \"add\")\n",
    "\n",
    "x_test_s = std_scaler.transform(x_test)\n",
    "x_test_s = pd.DataFrame(std_scaler.transform(x_test), columns = x_test.columns)\n",
    "x_test_s = sm.add_constant(x_test, has_constant = \"add\")"
   ]
  },
  {
   "cell_type": "code",
   "execution_count": 93,
   "id": "2bed69e8",
   "metadata": {
    "ExecuteTime": {
     "end_time": "2021-12-02T08:47:48.515695Z",
     "start_time": "2021-12-02T08:47:48.507718Z"
    }
   },
   "outputs": [],
   "source": [
    "b = x_train_s.columns"
   ]
  },
  {
   "cell_type": "code",
   "execution_count": 98,
   "id": "cb50c8c0",
   "metadata": {
    "ExecuteTime": {
     "end_time": "2021-12-02T08:48:24.096041Z",
     "start_time": "2021-12-02T08:48:24.086069Z"
    }
   },
   "outputs": [],
   "source": [
    "b = ['for_4050', 'for_합계', 'for_u20', 'for_2030', 'single_2030',\n",
    "       'single_f_o60', 'single_o60', 'single_f_합계', 'popu_2030', '가해_10대이하',\n",
    "       'theft_violence_y', 'popu_o60', 'single_합계', 'robber_murder_y',\n",
    "       'for_o60', 'report_sx_여성', '피해_80대이상', 'single_f_4050', 'vio_cnt',\n",
    "       'robber_murder_x']"
   ]
  },
  {
   "cell_type": "code",
   "execution_count": 99,
   "id": "18607505",
   "metadata": {
    "ExecuteTime": {
     "end_time": "2021-12-02T08:48:26.619371Z",
     "start_time": "2021-12-02T08:48:25.970109Z"
    }
   },
   "outputs": [
    {
     "name": "stderr",
     "output_type": "stream",
     "text": [
      "<ipython-input-99-70811c834742>:13: DeprecationWarning: The default dtype for empty Series will be 'object' instead of 'float64' in a future version. Specify a dtype explicitly to silence this warning.\n",
      "  pval = pd.Series(index=remainder) ## 변수의 p-value\n",
      "<ipython-input-99-70811c834742>:13: DeprecationWarning: The default dtype for empty Series will be 'object' instead of 'float64' in a future version. Specify a dtype explicitly to silence this warning.\n",
      "  pval = pd.Series(index=remainder) ## 변수의 p-value\n",
      "<ipython-input-99-70811c834742>:13: DeprecationWarning: The default dtype for empty Series will be 'object' instead of 'float64' in a future version. Specify a dtype explicitly to silence this warning.\n",
      "  pval = pd.Series(index=remainder) ## 변수의 p-value\n",
      "<ipython-input-99-70811c834742>:13: DeprecationWarning: The default dtype for empty Series will be 'object' instead of 'float64' in a future version. Specify a dtype explicitly to silence this warning.\n",
      "  pval = pd.Series(index=remainder) ## 변수의 p-value\n",
      "<ipython-input-99-70811c834742>:13: DeprecationWarning: The default dtype for empty Series will be 'object' instead of 'float64' in a future version. Specify a dtype explicitly to silence this warning.\n",
      "  pval = pd.Series(index=remainder) ## 변수의 p-value\n",
      "<ipython-input-99-70811c834742>:13: DeprecationWarning: The default dtype for empty Series will be 'object' instead of 'float64' in a future version. Specify a dtype explicitly to silence this warning.\n",
      "  pval = pd.Series(index=remainder) ## 변수의 p-value\n"
     ]
    }
   ],
   "source": [
    "## 전진 단계별 선택법\n",
    "variables = x_train_s[b].columns.tolist()\n",
    "y = y1_train\n",
    "selected_variables = [] ## 선택된 변수들\n",
    "sl_enter = 0.05\n",
    "sl_remove = 0.05\n",
    "sv_per_step = [] ## 각 스텝별로 선택된 변수들\n",
    "adjusted_r_squared = [] ## 각 스텝별 수정된 결정계수\n",
    "steps = [] ## 스텝\n",
    "step = 0\n",
    "while len(variables) > 0:\n",
    "    remainder = list(set(variables) - set(selected_variables))\n",
    "    pval = pd.Series(index=remainder) ## 변수의 p-value\n",
    "    ## 기존에 포함된 변수와 새로운 변수 하나씩 돌아가면서\n",
    "    ## 선형 모형을 적합한다.\n",
    "    for col in remainder:\n",
    "        X = x_train_s[selected_variables + [col]]\n",
    "        X = sm.add_constant(X)\n",
    "        model = sm.OLS(y,X).fit()\n",
    "        pval[col] = model.pvalues[col]\n",
    "    min_pval = pval.min()\n",
    "    if min_pval < sl_enter: ## 최소 p-value 값이 기준 값보다 작으면 포함\n",
    "        selected_variables.append(pval.idxmin())\n",
    "        ## 선택된 변수들에대해서\n",
    "        ## 어떤 변수를 제거할지 고른다.\n",
    "        while len(selected_variables) > 0:\n",
    "            selected_X = x_train_s[selected_variables]\n",
    "            selected_X = sm.add_constant(selected_X)\n",
    "            selected_pval = sm.OLS(y,selected_X).fit().pvalues[1:] ## 절편항의 p-value는 뺀다\n",
    "            max_pval = selected_pval.max()\n",
    "            if max_pval >= sl_remove: ## 최대 p-value값이 기준값보다 크거나 같으면 제외\n",
    "                remove_variable = selected_pval.idxmax()\n",
    "                selected_variables.remove(remove_variable)\n",
    "            else:\n",
    "                break\n",
    "        step += 1\n",
    "        steps.append(step)\n",
    "        adj_r_squared = sm.OLS(y,sm.add_constant(x_train_s[selected_variables])).fit().rsquared_adj\n",
    "        adjusted_r_squared.append(adj_r_squared)\n",
    "        sv_per_step.append(selected_variables.copy())\n",
    "    else:\n",
    "        break"
   ]
  },
  {
   "cell_type": "code",
   "execution_count": 100,
   "id": "7f667187",
   "metadata": {
    "ExecuteTime": {
     "end_time": "2021-12-02T08:48:28.673246Z",
     "start_time": "2021-12-02T08:48:28.664272Z"
    }
   },
   "outputs": [
    {
     "data": {
      "text/plain": [
       "['for_4050', 'single_o60', 'single_f_o60', 'popu_o60', '가해_10대이하']"
      ]
     },
     "execution_count": 100,
     "metadata": {},
     "output_type": "execute_result"
    }
   ],
   "source": [
    "a = selected_variables\n",
    "a"
   ]
  },
  {
   "cell_type": "code",
   "execution_count": 101,
   "id": "b7ff53ab",
   "metadata": {
    "ExecuteTime": {
     "end_time": "2021-12-02T08:48:31.573460Z",
     "start_time": "2021-12-02T08:48:31.534567Z"
    }
   },
   "outputs": [
    {
     "data": {
      "text/html": [
       "<table class=\"simpletable\">\n",
       "<caption>OLS Regression Results</caption>\n",
       "<tr>\n",
       "  <th>Dep. Variable:</th>           <td>q1</td>        <th>  R-squared (uncentered):</th>      <td>   0.821</td>\n",
       "</tr>\n",
       "<tr>\n",
       "  <th>Model:</th>                   <td>OLS</td>       <th>  Adj. R-squared (uncentered):</th> <td>   0.816</td>\n",
       "</tr>\n",
       "<tr>\n",
       "  <th>Method:</th>             <td>Least Squares</td>  <th>  F-statistic:       </th>          <td>   146.1</td>\n",
       "</tr>\n",
       "<tr>\n",
       "  <th>Date:</th>             <td>Thu, 02 Dec 2021</td> <th>  Prob (F-statistic):</th>          <td>1.44e-57</td>\n",
       "</tr>\n",
       "<tr>\n",
       "  <th>Time:</th>                 <td>17:48:31</td>     <th>  Log-Likelihood:    </th>          <td> -803.32</td>\n",
       "</tr>\n",
       "<tr>\n",
       "  <th>No. Observations:</th>      <td>   164</td>      <th>  AIC:               </th>          <td>   1617.</td>\n",
       "</tr>\n",
       "<tr>\n",
       "  <th>Df Residuals:</th>          <td>   159</td>      <th>  BIC:               </th>          <td>   1632.</td>\n",
       "</tr>\n",
       "<tr>\n",
       "  <th>Df Model:</th>              <td>     5</td>      <th>                     </th>              <td> </td>   \n",
       "</tr>\n",
       "<tr>\n",
       "  <th>Covariance Type:</th>      <td>nonrobust</td>    <th>                     </th>              <td> </td>   \n",
       "</tr>\n",
       "</table>\n",
       "<table class=\"simpletable\">\n",
       "<tr>\n",
       "        <td></td>          <th>coef</th>     <th>std err</th>      <th>t</th>      <th>P>|t|</th>  <th>[0.025</th>    <th>0.975]</th>  \n",
       "</tr>\n",
       "<tr>\n",
       "  <th>for_4050</th>     <td>   -0.0002</td> <td>    0.001</td> <td>   -0.214</td> <td> 0.831</td> <td>   -0.002</td> <td>    0.001</td>\n",
       "</tr>\n",
       "<tr>\n",
       "  <th>single_o60</th>   <td>    0.0092</td> <td>    0.007</td> <td>    1.389</td> <td> 0.167</td> <td>   -0.004</td> <td>    0.022</td>\n",
       "</tr>\n",
       "<tr>\n",
       "  <th>single_f_o60</th> <td>   -0.0117</td> <td>    0.010</td> <td>   -1.223</td> <td> 0.223</td> <td>   -0.031</td> <td>    0.007</td>\n",
       "</tr>\n",
       "<tr>\n",
       "  <th>popu_o60</th>     <td>    0.0010</td> <td>    0.000</td> <td>    2.916</td> <td> 0.004</td> <td>    0.000</td> <td>    0.002</td>\n",
       "</tr>\n",
       "<tr>\n",
       "  <th>가해_10대이하</th>     <td>   -0.4224</td> <td>    0.402</td> <td>   -1.052</td> <td> 0.295</td> <td>   -1.216</td> <td>    0.371</td>\n",
       "</tr>\n",
       "</table>\n",
       "<table class=\"simpletable\">\n",
       "<tr>\n",
       "  <th>Omnibus:</th>       <td>10.045</td> <th>  Durbin-Watson:     </th> <td>   1.149</td>\n",
       "</tr>\n",
       "<tr>\n",
       "  <th>Prob(Omnibus):</th> <td> 0.007</td> <th>  Jarque-Bera (JB):  </th> <td>   6.264</td>\n",
       "</tr>\n",
       "<tr>\n",
       "  <th>Skew:</th>          <td>-0.322</td> <th>  Prob(JB):          </th> <td>  0.0436</td>\n",
       "</tr>\n",
       "<tr>\n",
       "  <th>Kurtosis:</th>      <td> 2.291</td> <th>  Cond. No.          </th> <td>1.04e+04</td>\n",
       "</tr>\n",
       "</table><br/><br/>Notes:<br/>[1] R² is computed without centering (uncentered) since the model does not contain a constant.<br/>[2] Standard Errors assume that the covariance matrix of the errors is correctly specified.<br/>[3] The condition number is large, 1.04e+04. This might indicate that there are<br/>strong multicollinearity or other numerical problems."
      ],
      "text/plain": [
       "<class 'statsmodels.iolib.summary.Summary'>\n",
       "\"\"\"\n",
       "                                 OLS Regression Results                                \n",
       "=======================================================================================\n",
       "Dep. Variable:                     q1   R-squared (uncentered):                   0.821\n",
       "Model:                            OLS   Adj. R-squared (uncentered):              0.816\n",
       "Method:                 Least Squares   F-statistic:                              146.1\n",
       "Date:                Thu, 02 Dec 2021   Prob (F-statistic):                    1.44e-57\n",
       "Time:                        17:48:31   Log-Likelihood:                         -803.32\n",
       "No. Observations:                 164   AIC:                                      1617.\n",
       "Df Residuals:                     159   BIC:                                      1632.\n",
       "Df Model:                           5                                                  \n",
       "Covariance Type:            nonrobust                                                  \n",
       "================================================================================\n",
       "                   coef    std err          t      P>|t|      [0.025      0.975]\n",
       "--------------------------------------------------------------------------------\n",
       "for_4050        -0.0002      0.001     -0.214      0.831      -0.002       0.001\n",
       "single_o60       0.0092      0.007      1.389      0.167      -0.004       0.022\n",
       "single_f_o60    -0.0117      0.010     -1.223      0.223      -0.031       0.007\n",
       "popu_o60         0.0010      0.000      2.916      0.004       0.000       0.002\n",
       "가해_10대이하        -0.4224      0.402     -1.052      0.295      -1.216       0.371\n",
       "==============================================================================\n",
       "Omnibus:                       10.045   Durbin-Watson:                   1.149\n",
       "Prob(Omnibus):                  0.007   Jarque-Bera (JB):                6.264\n",
       "Skew:                          -0.322   Prob(JB):                       0.0436\n",
       "Kurtosis:                       2.291   Cond. No.                     1.04e+04\n",
       "==============================================================================\n",
       "\n",
       "Notes:\n",
       "[1] R² is computed without centering (uncentered) since the model does not contain a constant.\n",
       "[2] Standard Errors assume that the covariance matrix of the errors is correctly specified.\n",
       "[3] The condition number is large, 1.04e+04. This might indicate that there are\n",
       "strong multicollinearity or other numerical problems.\n",
       "\"\"\""
      ]
     },
     "execution_count": 101,
     "metadata": {},
     "output_type": "execute_result"
    }
   ],
   "source": [
    "# 모델 학습\n",
    "y123 = sm.OLS(y1_train, x_train_s[a])\n",
    "fit_y123 = y123.fit()\n",
    "fit_y123.summary()"
   ]
  },
  {
   "cell_type": "code",
   "execution_count": 102,
   "id": "d2b044d4",
   "metadata": {
    "ExecuteTime": {
     "end_time": "2021-12-02T08:48:43.362977Z",
     "start_time": "2021-12-02T08:48:43.349019Z"
    }
   },
   "outputs": [
    {
     "data": {
      "text/plain": [
       "28.978083814994395"
      ]
     },
     "execution_count": 102,
     "metadata": {},
     "output_type": "execute_result"
    }
   ],
   "source": [
    "# 예측 및 결과\n",
    "y_123_pred = fit_y123.predict(x_test_s[a])\n",
    "mean_absolute_error(y1_test, y_123_pred)"
   ]
  }
 ],
 "metadata": {
  "kernelspec": {
   "display_name": "Python 3",
   "language": "python",
   "name": "python3"
  },
  "language_info": {
   "codemirror_mode": {
    "name": "ipython",
    "version": 3
   },
   "file_extension": ".py",
   "mimetype": "text/x-python",
   "name": "python",
   "nbconvert_exporter": "python",
   "pygments_lexer": "ipython3",
   "version": "3.8.8"
  },
  "toc": {
   "base_numbering": 1,
   "nav_menu": {},
   "number_sections": true,
   "sideBar": true,
   "skip_h1_title": false,
   "title_cell": "Table of Contents",
   "title_sidebar": "Contents",
   "toc_cell": false,
   "toc_position": {},
   "toc_section_display": true,
   "toc_window_display": false
  },
  "varInspector": {
   "cols": {
    "lenName": 16,
    "lenType": 16,
    "lenVar": 40
   },
   "kernels_config": {
    "python": {
     "delete_cmd_postfix": "",
     "delete_cmd_prefix": "del ",
     "library": "var_list.py",
     "varRefreshCmd": "print(var_dic_list())"
    },
    "r": {
     "delete_cmd_postfix": ") ",
     "delete_cmd_prefix": "rm(",
     "library": "var_list.r",
     "varRefreshCmd": "cat(var_dic_list()) "
    }
   },
   "types_to_exclude": [
    "module",
    "function",
    "builtin_function_or_method",
    "instance",
    "_Feature"
   ],
   "window_display": false
  }
 },
 "nbformat": 4,
 "nbformat_minor": 5
}
