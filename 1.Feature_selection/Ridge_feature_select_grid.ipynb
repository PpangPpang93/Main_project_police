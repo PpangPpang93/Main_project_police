{
 "cells": [
  {
   "cell_type": "code",
   "execution_count": 2,
   "id": "7728bbaa",
   "metadata": {
    "ExecuteTime": {
     "end_time": "2021-12-02T08:39:33.191027Z",
     "start_time": "2021-12-02T08:39:32.826874Z"
    }
   },
   "outputs": [],
   "source": [
    "import pandas as pd\n",
    "import numpy as np\n",
    "#import matplotlib.pyplot as plt\n",
    "#import seaborn as sns"
   ]
  },
  {
   "cell_type": "code",
   "execution_count": 3,
   "id": "68f550bc",
   "metadata": {
    "ExecuteTime": {
     "end_time": "2021-12-02T08:39:33.235523Z",
     "start_time": "2021-12-02T08:39:33.221561Z"
    }
   },
   "outputs": [],
   "source": [
    "df = pd.read_csv('total_data(2016제외) (1).csv')"
   ]
  },
  {
   "cell_type": "markdown",
   "id": "21dbcb15",
   "metadata": {},
   "source": [
    "### xdata로 모든 column을 넣어서 Ridge\n",
    "- Ridge regression으로 높은 weight를 가지는 feature를 선택"
   ]
  },
  {
   "cell_type": "code",
   "execution_count": 4,
   "id": "dc7a18a2",
   "metadata": {
    "ExecuteTime": {
     "end_time": "2021-12-02T08:39:34.468599Z",
     "start_time": "2021-12-02T08:39:33.302649Z"
    }
   },
   "outputs": [],
   "source": [
    "# 필요 패키지 로드\n",
    "#from sklearn.preprocessing import MinMaxScaler\n",
    "from sklearn.preprocessing import StandardScaler\n",
    "from sklearn.linear_model import Ridge\n",
    "from sklearn.metrics import mean_absolute_error"
   ]
  },
  {
   "cell_type": "code",
   "execution_count": 5,
   "id": "ac15d59f",
   "metadata": {
    "ExecuteTime": {
     "end_time": "2021-12-02T08:39:34.574677Z",
     "start_time": "2021-12-02T08:39:34.532532Z"
    }
   },
   "outputs": [
    {
     "data": {
      "text/html": [
       "<div>\n",
       "<style scoped>\n",
       "    .dataframe tbody tr th:only-of-type {\n",
       "        vertical-align: middle;\n",
       "    }\n",
       "\n",
       "    .dataframe tbody tr th {\n",
       "        vertical-align: top;\n",
       "    }\n",
       "\n",
       "    .dataframe thead th {\n",
       "        text-align: right;\n",
       "    }\n",
       "</style>\n",
       "<table border=\"1\" class=\"dataframe\">\n",
       "  <thead>\n",
       "    <tr style=\"text-align: right;\">\n",
       "      <th></th>\n",
       "      <th>jur_stn</th>\n",
       "      <th>year</th>\n",
       "      <th>report_sx_남성</th>\n",
       "      <th>report_sx_불상</th>\n",
       "      <th>report_sx_여성</th>\n",
       "      <th>report_sx_total</th>\n",
       "      <th>vio_cnt</th>\n",
       "      <th>mur_rob_cnt</th>\n",
       "      <th>car_cnt</th>\n",
       "      <th>5m_crm_yn</th>\n",
       "      <th>...</th>\n",
       "      <th>single_f_2030</th>\n",
       "      <th>single_f_4050</th>\n",
       "      <th>single_f_o60</th>\n",
       "      <th>adult</th>\n",
       "      <th>bell</th>\n",
       "      <th>q1</th>\n",
       "      <th>q2</th>\n",
       "      <th>q3</th>\n",
       "      <th>q4</th>\n",
       "      <th>q5</th>\n",
       "    </tr>\n",
       "  </thead>\n",
       "  <tbody>\n",
       "    <tr>\n",
       "      <th>0</th>\n",
       "      <td>서울중부경찰서</td>\n",
       "      <td>2017(상반기)</td>\n",
       "      <td>13404.0</td>\n",
       "      <td>3239.0</td>\n",
       "      <td>5931.0</td>\n",
       "      <td>22574.0</td>\n",
       "      <td>1324.0</td>\n",
       "      <td>0.0</td>\n",
       "      <td>1412.0</td>\n",
       "      <td>3275.0</td>\n",
       "      <td>...</td>\n",
       "      <td>2128.0</td>\n",
       "      <td>1230.5</td>\n",
       "      <td>1635.5</td>\n",
       "      <td>0.0</td>\n",
       "      <td>0.0</td>\n",
       "      <td>75.2</td>\n",
       "      <td>76.5</td>\n",
       "      <td>69.9</td>\n",
       "      <td>65.9</td>\n",
       "      <td>72.6</td>\n",
       "    </tr>\n",
       "    <tr>\n",
       "      <th>1</th>\n",
       "      <td>서울종로경찰서</td>\n",
       "      <td>2017(상반기)</td>\n",
       "      <td>11579.0</td>\n",
       "      <td>2560.0</td>\n",
       "      <td>5534.0</td>\n",
       "      <td>19674.0</td>\n",
       "      <td>1102.0</td>\n",
       "      <td>0.0</td>\n",
       "      <td>867.0</td>\n",
       "      <td>2914.0</td>\n",
       "      <td>...</td>\n",
       "      <td>2703.0</td>\n",
       "      <td>1378.5</td>\n",
       "      <td>1782.5</td>\n",
       "      <td>2.0</td>\n",
       "      <td>2.0</td>\n",
       "      <td>81.6</td>\n",
       "      <td>82.4</td>\n",
       "      <td>69.1</td>\n",
       "      <td>62.7</td>\n",
       "      <td>72.2</td>\n",
       "    </tr>\n",
       "    <tr>\n",
       "      <th>2</th>\n",
       "      <td>서울남대문경찰서</td>\n",
       "      <td>2017(상반기)</td>\n",
       "      <td>9093.0</td>\n",
       "      <td>1855.0</td>\n",
       "      <td>3551.0</td>\n",
       "      <td>14499.0</td>\n",
       "      <td>949.0</td>\n",
       "      <td>0.0</td>\n",
       "      <td>736.0</td>\n",
       "      <td>2506.0</td>\n",
       "      <td>...</td>\n",
       "      <td>2128.0</td>\n",
       "      <td>1230.5</td>\n",
       "      <td>1635.5</td>\n",
       "      <td>0.0</td>\n",
       "      <td>0.0</td>\n",
       "      <td>77.3</td>\n",
       "      <td>79.3</td>\n",
       "      <td>68.8</td>\n",
       "      <td>61.0</td>\n",
       "      <td>71.7</td>\n",
       "    </tr>\n",
       "    <tr>\n",
       "      <th>3</th>\n",
       "      <td>서울서대문경찰서</td>\n",
       "      <td>2017(상반기)</td>\n",
       "      <td>18441.0</td>\n",
       "      <td>10029.0</td>\n",
       "      <td>10298.0</td>\n",
       "      <td>38769.0</td>\n",
       "      <td>1924.0</td>\n",
       "      <td>0.0</td>\n",
       "      <td>1788.0</td>\n",
       "      <td>4267.0</td>\n",
       "      <td>...</td>\n",
       "      <td>12420.0</td>\n",
       "      <td>4496.0</td>\n",
       "      <td>7066.0</td>\n",
       "      <td>0.0</td>\n",
       "      <td>0.0</td>\n",
       "      <td>78.0</td>\n",
       "      <td>80.0</td>\n",
       "      <td>67.0</td>\n",
       "      <td>66.3</td>\n",
       "      <td>71.4</td>\n",
       "    </tr>\n",
       "    <tr>\n",
       "      <th>4</th>\n",
       "      <td>서울혜화경찰서</td>\n",
       "      <td>2017(상반기)</td>\n",
       "      <td>10829.0</td>\n",
       "      <td>2989.0</td>\n",
       "      <td>5038.0</td>\n",
       "      <td>18857.0</td>\n",
       "      <td>1127.0</td>\n",
       "      <td>0.0</td>\n",
       "      <td>899.0</td>\n",
       "      <td>2864.0</td>\n",
       "      <td>...</td>\n",
       "      <td>2703.0</td>\n",
       "      <td>1378.5</td>\n",
       "      <td>1782.5</td>\n",
       "      <td>0.0</td>\n",
       "      <td>0.0</td>\n",
       "      <td>78.6</td>\n",
       "      <td>80.6</td>\n",
       "      <td>70.7</td>\n",
       "      <td>65.2</td>\n",
       "      <td>75.4</td>\n",
       "    </tr>\n",
       "    <tr>\n",
       "      <th>...</th>\n",
       "      <td>...</td>\n",
       "      <td>...</td>\n",
       "      <td>...</td>\n",
       "      <td>...</td>\n",
       "      <td>...</td>\n",
       "      <td>...</td>\n",
       "      <td>...</td>\n",
       "      <td>...</td>\n",
       "      <td>...</td>\n",
       "      <td>...</td>\n",
       "      <td>...</td>\n",
       "      <td>...</td>\n",
       "      <td>...</td>\n",
       "      <td>...</td>\n",
       "      <td>...</td>\n",
       "      <td>...</td>\n",
       "      <td>...</td>\n",
       "      <td>...</td>\n",
       "      <td>...</td>\n",
       "      <td>...</td>\n",
       "      <td>...</td>\n",
       "    </tr>\n",
       "    <tr>\n",
       "      <th>241</th>\n",
       "      <td>창원서부경찰서</td>\n",
       "      <td>2019(하반기)</td>\n",
       "      <td>12630.0</td>\n",
       "      <td>2990.0</td>\n",
       "      <td>7151.0</td>\n",
       "      <td>22771.0</td>\n",
       "      <td>1460.0</td>\n",
       "      <td>2.0</td>\n",
       "      <td>1964.0</td>\n",
       "      <td>2142.0</td>\n",
       "      <td>...</td>\n",
       "      <td>2900.0</td>\n",
       "      <td>4492.0</td>\n",
       "      <td>5574.0</td>\n",
       "      <td>1.0</td>\n",
       "      <td>1.0</td>\n",
       "      <td>79.1</td>\n",
       "      <td>79.5</td>\n",
       "      <td>68.5</td>\n",
       "      <td>71.2</td>\n",
       "      <td>76.0</td>\n",
       "    </tr>\n",
       "    <tr>\n",
       "      <th>242</th>\n",
       "      <td>마산중부경찰서</td>\n",
       "      <td>2019(하반기)</td>\n",
       "      <td>12223.0</td>\n",
       "      <td>2552.0</td>\n",
       "      <td>6489.0</td>\n",
       "      <td>21264.0</td>\n",
       "      <td>1265.0</td>\n",
       "      <td>5.0</td>\n",
       "      <td>1584.0</td>\n",
       "      <td>1369.0</td>\n",
       "      <td>...</td>\n",
       "      <td>2216.0</td>\n",
       "      <td>2837.0</td>\n",
       "      <td>7186.0</td>\n",
       "      <td>3.0</td>\n",
       "      <td>3.0</td>\n",
       "      <td>80.8</td>\n",
       "      <td>80.0</td>\n",
       "      <td>70.8</td>\n",
       "      <td>73.2</td>\n",
       "      <td>76.5</td>\n",
       "    </tr>\n",
       "    <tr>\n",
       "      <th>243</th>\n",
       "      <td>마산동부경찰서</td>\n",
       "      <td>2019(하반기)</td>\n",
       "      <td>15177.0</td>\n",
       "      <td>3190.0</td>\n",
       "      <td>7647.0</td>\n",
       "      <td>26014.0</td>\n",
       "      <td>1715.0</td>\n",
       "      <td>8.0</td>\n",
       "      <td>1910.0</td>\n",
       "      <td>1920.0</td>\n",
       "      <td>...</td>\n",
       "      <td>1496.0</td>\n",
       "      <td>2939.0</td>\n",
       "      <td>6166.0</td>\n",
       "      <td>1.0</td>\n",
       "      <td>1.0</td>\n",
       "      <td>75.0</td>\n",
       "      <td>76.5</td>\n",
       "      <td>69.4</td>\n",
       "      <td>68.9</td>\n",
       "      <td>73.1</td>\n",
       "    </tr>\n",
       "    <tr>\n",
       "      <th>244</th>\n",
       "      <td>진주경찰서</td>\n",
       "      <td>2019(하반기)</td>\n",
       "      <td>21840.0</td>\n",
       "      <td>5262.0</td>\n",
       "      <td>11455.0</td>\n",
       "      <td>38557.0</td>\n",
       "      <td>2552.0</td>\n",
       "      <td>0.0</td>\n",
       "      <td>3570.0</td>\n",
       "      <td>2876.0</td>\n",
       "      <td>...</td>\n",
       "      <td>6026.0</td>\n",
       "      <td>5205.0</td>\n",
       "      <td>11823.0</td>\n",
       "      <td>8.0</td>\n",
       "      <td>8.0</td>\n",
       "      <td>78.7</td>\n",
       "      <td>79.6</td>\n",
       "      <td>70.3</td>\n",
       "      <td>74.6</td>\n",
       "      <td>75.6</td>\n",
       "    </tr>\n",
       "    <tr>\n",
       "      <th>245</th>\n",
       "      <td>진해경찰서</td>\n",
       "      <td>2019(하반기)</td>\n",
       "      <td>11600.0</td>\n",
       "      <td>2442.0</td>\n",
       "      <td>6278.0</td>\n",
       "      <td>20320.0</td>\n",
       "      <td>1444.0</td>\n",
       "      <td>0.0</td>\n",
       "      <td>1692.0</td>\n",
       "      <td>1354.0</td>\n",
       "      <td>...</td>\n",
       "      <td>1782.0</td>\n",
       "      <td>2592.0</td>\n",
       "      <td>4931.0</td>\n",
       "      <td>3.0</td>\n",
       "      <td>3.0</td>\n",
       "      <td>76.6</td>\n",
       "      <td>79.2</td>\n",
       "      <td>67.0</td>\n",
       "      <td>70.9</td>\n",
       "      <td>73.5</td>\n",
       "    </tr>\n",
       "  </tbody>\n",
       "</table>\n",
       "<p>246 rows × 75 columns</p>\n",
       "</div>"
      ],
      "text/plain": [
       "      jur_stn       year  report_sx_남성  report_sx_불상  report_sx_여성  \\\n",
       "0     서울중부경찰서  2017(상반기)       13404.0        3239.0        5931.0   \n",
       "1     서울종로경찰서  2017(상반기)       11579.0        2560.0        5534.0   \n",
       "2    서울남대문경찰서  2017(상반기)        9093.0        1855.0        3551.0   \n",
       "3    서울서대문경찰서  2017(상반기)       18441.0       10029.0       10298.0   \n",
       "4     서울혜화경찰서  2017(상반기)       10829.0        2989.0        5038.0   \n",
       "..        ...        ...           ...           ...           ...   \n",
       "241   창원서부경찰서  2019(하반기)       12630.0        2990.0        7151.0   \n",
       "242   마산중부경찰서  2019(하반기)       12223.0        2552.0        6489.0   \n",
       "243   마산동부경찰서  2019(하반기)       15177.0        3190.0        7647.0   \n",
       "244     진주경찰서  2019(하반기)       21840.0        5262.0       11455.0   \n",
       "245     진해경찰서  2019(하반기)       11600.0        2442.0        6278.0   \n",
       "\n",
       "     report_sx_total  vio_cnt  mur_rob_cnt  car_cnt  5m_crm_yn  ...  \\\n",
       "0            22574.0   1324.0          0.0   1412.0     3275.0  ...   \n",
       "1            19674.0   1102.0          0.0    867.0     2914.0  ...   \n",
       "2            14499.0    949.0          0.0    736.0     2506.0  ...   \n",
       "3            38769.0   1924.0          0.0   1788.0     4267.0  ...   \n",
       "4            18857.0   1127.0          0.0    899.0     2864.0  ...   \n",
       "..               ...      ...          ...      ...        ...  ...   \n",
       "241          22771.0   1460.0          2.0   1964.0     2142.0  ...   \n",
       "242          21264.0   1265.0          5.0   1584.0     1369.0  ...   \n",
       "243          26014.0   1715.0          8.0   1910.0     1920.0  ...   \n",
       "244          38557.0   2552.0          0.0   3570.0     2876.0  ...   \n",
       "245          20320.0   1444.0          0.0   1692.0     1354.0  ...   \n",
       "\n",
       "     single_f_2030  single_f_4050  single_f_o60  adult  bell    q1    q2  \\\n",
       "0           2128.0         1230.5        1635.5    0.0   0.0  75.2  76.5   \n",
       "1           2703.0         1378.5        1782.5    2.0   2.0  81.6  82.4   \n",
       "2           2128.0         1230.5        1635.5    0.0   0.0  77.3  79.3   \n",
       "3          12420.0         4496.0        7066.0    0.0   0.0  78.0  80.0   \n",
       "4           2703.0         1378.5        1782.5    0.0   0.0  78.6  80.6   \n",
       "..             ...            ...           ...    ...   ...   ...   ...   \n",
       "241         2900.0         4492.0        5574.0    1.0   1.0  79.1  79.5   \n",
       "242         2216.0         2837.0        7186.0    3.0   3.0  80.8  80.0   \n",
       "243         1496.0         2939.0        6166.0    1.0   1.0  75.0  76.5   \n",
       "244         6026.0         5205.0       11823.0    8.0   8.0  78.7  79.6   \n",
       "245         1782.0         2592.0        4931.0    3.0   3.0  76.6  79.2   \n",
       "\n",
       "       q3    q4    q5  \n",
       "0    69.9  65.9  72.6  \n",
       "1    69.1  62.7  72.2  \n",
       "2    68.8  61.0  71.7  \n",
       "3    67.0  66.3  71.4  \n",
       "4    70.7  65.2  75.4  \n",
       "..    ...   ...   ...  \n",
       "241  68.5  71.2  76.0  \n",
       "242  70.8  73.2  76.5  \n",
       "243  69.4  68.9  73.1  \n",
       "244  70.3  74.6  75.6  \n",
       "245  67.0  70.9  73.5  \n",
       "\n",
       "[246 rows x 75 columns]"
      ]
     },
     "execution_count": 5,
     "metadata": {},
     "output_type": "execute_result"
    }
   ],
   "source": [
    "# y값인 q1-q5가 결측인 2020년 데이터 제거\n",
    "a = df[0:-82]\n",
    "a"
   ]
  },
  {
   "cell_type": "code",
   "execution_count": 6,
   "id": "56e4c73a",
   "metadata": {
    "ExecuteTime": {
     "end_time": "2021-12-02T08:39:34.679776Z",
     "start_time": "2021-12-02T08:39:34.667717Z"
    }
   },
   "outputs": [
    {
     "name": "stderr",
     "output_type": "stream",
     "text": [
      "C:\\Anaconda3\\lib\\site-packages\\pandas\\core\\frame.py:4906: SettingWithCopyWarning: \n",
      "A value is trying to be set on a copy of a slice from a DataFrame\n",
      "\n",
      "See the caveats in the documentation: https://pandas.pydata.org/pandas-docs/stable/user_guide/indexing.html#returning-a-view-versus-a-copy\n",
      "  return super().drop(\n"
     ]
    }
   ],
   "source": [
    "# 경찰서와 연도 데이터 제거\n",
    "a.drop(columns = ['jur_stn', 'year'], inplace = True)"
   ]
  },
  {
   "cell_type": "code",
   "execution_count": 7,
   "id": "9bf59750",
   "metadata": {
    "ExecuteTime": {
     "end_time": "2021-12-02T08:39:34.785535Z",
     "start_time": "2021-12-02T08:39:34.771268Z"
    }
   },
   "outputs": [],
   "source": [
    "a_ = a.drop(columns = ['q1', 'q2', 'q3', 'q4', 'q5'])"
   ]
  },
  {
   "cell_type": "code",
   "execution_count": 8,
   "id": "ade77f92",
   "metadata": {
    "ExecuteTime": {
     "end_time": "2021-12-02T08:39:34.951152Z",
     "start_time": "2021-12-02T08:39:34.922229Z"
    }
   },
   "outputs": [
    {
     "data": {
      "text/plain": [
       "array([[-0.87369027, -0.8125045 , -1.08891897, ..., -1.55004946,\n",
       "        -0.59342342, -0.59342342],\n",
       "       [-1.07373936, -1.09735738, -1.17135971, ..., -1.50210803,\n",
       "         0.29943384,  0.29943384],\n",
       "       [-1.34624459, -1.39311773, -1.58314811, ..., -1.55004946,\n",
       "        -0.59342342, -0.59342342],\n",
       "       ...,\n",
       "       [-0.67934122, -0.83306089, -0.7325756 , ..., -0.07250741,\n",
       "        -0.14699479, -0.14699479],\n",
       "       [ 0.05102978,  0.03618089,  0.05819103, ...,  1.77242259,\n",
       "         2.97800563,  2.97800563],\n",
       "       [-1.07143743, -1.14686053, -1.01686119, ..., -0.47528071,\n",
       "         0.74586247,  0.74586247]])"
      ]
     },
     "execution_count": 8,
     "metadata": {},
     "output_type": "execute_result"
    }
   ],
   "source": [
    "# StandardScaling\n",
    "scaler = StandardScaler()\n",
    "scaler.fit(a_) # scaler에 xdata 학습\n",
    "a_s = scaler.transform(a_)\n",
    "a_s"
   ]
  },
  {
   "cell_type": "code",
   "execution_count": 9,
   "id": "3fd73d54",
   "metadata": {
    "ExecuteTime": {
     "end_time": "2021-12-02T08:39:35.116311Z",
     "start_time": "2021-12-02T08:39:35.104302Z"
    }
   },
   "outputs": [],
   "source": [
    "# 2017, 2018 데이터를 학습용, 2019년 데이터를 검증용 데이터셋으로 설정\n",
    "train_ = a_s[:-82]\n",
    "test_ = a_s[-82:]\n",
    "train = a[:-82]\n",
    "test = a[-82:]"
   ]
  },
  {
   "cell_type": "code",
   "execution_count": 10,
   "id": "7f2d1aae",
   "metadata": {
    "ExecuteTime": {
     "end_time": "2021-12-02T08:39:35.357905Z",
     "start_time": "2021-12-02T08:39:35.346371Z"
    }
   },
   "outputs": [],
   "source": [
    "xtrain = train_\n",
    "ytrain1 = train['q1']\n",
    "ytrain2 = train['q2']\n",
    "ytrain3 = train['q3']\n",
    "ytrain4 = train['q4']\n",
    "ytrain5 = train['q5']"
   ]
  },
  {
   "cell_type": "code",
   "execution_count": 11,
   "id": "4b66bb0a",
   "metadata": {
    "ExecuteTime": {
     "end_time": "2021-12-02T08:39:35.583835Z",
     "start_time": "2021-12-02T08:39:35.569267Z"
    }
   },
   "outputs": [],
   "source": [
    "xtest = test_\n",
    "ytest1 = test['q1']\n",
    "ytest2 = test['q2']\n",
    "ytest3 = test['q3']\n",
    "ytest4 = test['q4']\n",
    "ytest5 = test['q5']"
   ]
  },
  {
   "cell_type": "code",
   "execution_count": 12,
   "id": "1a05209a",
   "metadata": {
    "ExecuteTime": {
     "end_time": "2021-12-02T08:39:35.793733Z",
     "start_time": "2021-12-02T08:39:35.780742Z"
    }
   },
   "outputs": [
    {
     "data": {
      "text/plain": [
       "Index(['report_sx_남성', 'report_sx_불상', 'report_sx_여성', 'report_sx_total',\n",
       "       'vio_cnt', 'mur_rob_cnt', 'car_cnt', '5m_crm_yn', 'theft_violence_x',\n",
       "       'robber_murder_x', 'traffic_x', 'public_x', 'crm', 'theft_violence_y',\n",
       "       'robber_murder_y', 'traffic_y', 'public_y', 'light_cnt', '차대사람', '차대차',\n",
       "       '차량단독', '가해_성별_기타불명', '가해_남', '가해_여', '가해_10대이하', '가해_20대', '가해_30대',\n",
       "       '가해_40대', '가해_50대', '가해_60대', '가해_70대', '가해_80대이상', '가해_미분류', '피해_남',\n",
       "       '피해_미분류', '피해_여', '피해_10대이하', '피해_20대', '피해_30대', '피해_40대', '피해_50대',\n",
       "       '피해_60대', '피해_70대', '피해_80대이상', 'cctv', 'pol_num', 'popu_합계', 'for_합계',\n",
       "       'popu_u20', 'popu_2030', 'popu_4050', 'popu_o60', 'for_u20', 'for_2030',\n",
       "       'for_4050', 'for_o60', 'single_합계', 'single_u20', 'single_2030',\n",
       "       'single_4050', 'single_o60', 'single_f_합계', 'single_f_u20',\n",
       "       'single_f_2030', 'single_f_4050', 'single_f_o60', 'adult', 'bell'],\n",
       "      dtype='object')"
      ]
     },
     "execution_count": 12,
     "metadata": {},
     "output_type": "execute_result"
    }
   ],
   "source": [
    "a_.columns"
   ]
  },
  {
   "cell_type": "code",
   "execution_count": 13,
   "id": "943cae14",
   "metadata": {
    "ExecuteTime": {
     "end_time": "2021-12-02T08:39:36.019644Z",
     "start_time": "2021-12-02T08:39:36.005908Z"
    }
   },
   "outputs": [],
   "source": [
    "# 그리드 서치 패키지\n",
    "from sklearn.model_selection import GridSearchCV"
   ]
  },
  {
   "cell_type": "code",
   "execution_count": 14,
   "id": "89c071f1",
   "metadata": {
    "ExecuteTime": {
     "end_time": "2021-12-02T08:39:36.246885Z",
     "start_time": "2021-12-02T08:39:36.234406Z"
    }
   },
   "outputs": [],
   "source": [
    "# 최적 성능을 내는 lasso의 alpha값을 얻기 위해 param_grid 생성\n",
    "\n",
    "num = []\n",
    "for i in range(1, 10000):\n",
    "    num.append(i * 0.001)\n",
    "\n",
    "param_grid = {'alpha' : num}\n",
    "\n",
    "#그리드 서치 설정\n",
    "#grid_search = GridSearchCV(Ridge(), param_grid = param_grid, cv = 10, n_jobs = -1, scoring ='r2')\n",
    "grid_search = GridSearchCV(Ridge(), param_grid = param_grid, cv = 10, n_jobs = -1, scoring ='neg_mean_absolute_error')"
   ]
  },
  {
   "cell_type": "markdown",
   "id": "ae3db99c",
   "metadata": {},
   "source": [
    "#### q1 절도폭력 "
   ]
  },
  {
   "cell_type": "code",
   "execution_count": 15,
   "id": "24aeeadd",
   "metadata": {
    "ExecuteTime": {
     "end_time": "2021-12-02T08:41:03.494120Z",
     "start_time": "2021-12-02T08:39:36.550527Z"
    }
   },
   "outputs": [],
   "source": [
    "# 그리드 서치 후 최고 성능의 모델을 lasso1에 저장\n",
    "\n",
    "grid_search.fit(xtrain, ytrain1)\n",
    "ridge1 = grid_search.best_estimator_"
   ]
  },
  {
   "cell_type": "code",
   "execution_count": 16,
   "id": "d0ddcc37",
   "metadata": {
    "ExecuteTime": {
     "end_time": "2021-12-02T08:41:03.839853Z",
     "start_time": "2021-12-02T08:41:03.828882Z"
    }
   },
   "outputs": [
    {
     "data": {
      "text/plain": [
       "2.4316172928573057"
      ]
     },
     "execution_count": 16,
     "metadata": {},
     "output_type": "execute_result"
    }
   ],
   "source": [
    "# MAE 출력\n",
    "\n",
    "y_pred1 = ridge1.predict(xtest)\n",
    "mean_absolute_error(ytest1, y_pred1)"
   ]
  },
  {
   "cell_type": "code",
   "execution_count": 17,
   "id": "4e505fff",
   "metadata": {
    "ExecuteTime": {
     "end_time": "2021-12-02T08:41:04.189550Z",
     "start_time": "2021-12-02T08:41:04.176268Z"
    }
   },
   "outputs": [
    {
     "name": "stdout",
     "output_type": "stream",
     "text": [
      "alpha = 8.952\n",
      "[-0.33483957  0.37661366 -0.48523996 -0.28064439 -0.8990635   0.15751145\n",
      "  0.41291469  0.13687925  0.11960418  0.35688615  0.22220958 -0.06252449\n",
      " -0.36854802 -0.2445179  -0.1413476   0.25413814  0.5172975   0.4593124\n",
      "  0.16701212 -0.08332483 -0.10135646  0.18843532 -0.19234326  0.58345782\n",
      " -0.85889268 -0.76952162  0.1308204   0.54639266 -0.30694238  0.10580306\n",
      "  0.62551964 -0.05664475  0.12403315 -0.27938853 -0.24203103  0.71781408\n",
      " -0.38129038 -0.14724786  0.61895816 -0.17047703 -0.40959815 -0.23254253\n",
      "  0.75640527 -0.41602122  0.07375925  0.42169254  0.28458947 -0.41028199\n",
      "  1.04095646  0.01570212  0.03345439  0.40501422  0.47496167 -0.83882328\n",
      " -0.27116514 -0.21946178 -0.19888495  0.5330361   0.14526975 -0.82865693\n",
      " -0.49110295  0.25996894 -0.17966631  0.49328196 -0.09900065 -0.07097933\n",
      " -0.04335506 -0.04335506]\n",
      "가장 강한 양의 상관관계:  popu_u20 \n",
      "가장 강한 음의 상관관계:  vio_cnt\n"
     ]
    }
   ],
   "source": [
    "# 결과\n",
    "\n",
    "print('alpha =', ridge1.alpha)\n",
    "print(ridge1.coef_) # Ridge 회귀분석으로 나온 weghit값\n",
    "\n",
    "print('가장 강한 양의 상관관계: ',a_.columns[ridge1.coef_.argmax()], '\\n가장 강한 음의 상관관계: ', a_.columns[ridge1.coef_.argmin()])"
   ]
  },
  {
   "cell_type": "code",
   "execution_count": 18,
   "id": "effa5bb8",
   "metadata": {
    "ExecuteTime": {
     "end_time": "2021-12-02T08:41:04.519940Z",
     "start_time": "2021-12-02T08:41:04.507954Z"
    }
   },
   "outputs": [
    {
     "name": "stdout",
     "output_type": "stream",
     "text": [
      "상위 30개 feature\n",
      " Index(['report_sx_남성', 'robber_murder_x', 'crm', 'report_sx_불상', '피해_10대이하',\n",
      "       'popu_o60', '피해_50대', 'for_합계', 'car_cnt', '피해_80대이상', 'pol_num',\n",
      "       'light_cnt', 'for_u20', 'report_sx_여성', 'single_o60', 'single_f_2030',\n",
      "       'public_y', 'single_u20', '가해_40대', '가해_여', '피해_30대', '가해_70대', '피해_여',\n",
      "       '피해_70대', '가해_20대', 'single_4050', 'for_2030', '가해_10대이하', 'vio_cnt',\n",
      "       'popu_u20'],\n",
      "      dtype='object')\n"
     ]
    }
   ],
   "source": [
    "# q1 관련 feature\n",
    "print('상위 30개 feature\\n', a_.columns[sorted(range(len(ridge1.coef_)), key=lambda i: abs(ridge1.coef_[i]))[-30:]])"
   ]
  },
  {
   "cell_type": "markdown",
   "id": "a294834f",
   "metadata": {},
   "source": [
    "#### q2 강도살인"
   ]
  },
  {
   "cell_type": "code",
   "execution_count": 19,
   "id": "56c82a56",
   "metadata": {
    "ExecuteTime": {
     "end_time": "2021-12-02T08:42:21.751820Z",
     "start_time": "2021-12-02T08:41:04.828785Z"
    }
   },
   "outputs": [],
   "source": [
    "# 그리드 서치 후 최고 성능의 모델을 lasso2에 저장\n",
    "\n",
    "grid_search.fit(xtrain, ytrain2)\n",
    "ridge2 = grid_search.best_estimator_"
   ]
  },
  {
   "cell_type": "code",
   "execution_count": 20,
   "id": "af019254",
   "metadata": {
    "ExecuteTime": {
     "end_time": "2021-12-02T08:42:22.143797Z",
     "start_time": "2021-12-02T08:42:22.129018Z"
    }
   },
   "outputs": [
    {
     "data": {
      "text/plain": [
       "2.382736083231455"
      ]
     },
     "execution_count": 20,
     "metadata": {},
     "output_type": "execute_result"
    }
   ],
   "source": [
    "# MAE 출력\n",
    "\n",
    "y_pred2 = ridge2.predict(xtest)\n",
    "mean_absolute_error(ytest2, y_pred2)"
   ]
  },
  {
   "cell_type": "code",
   "execution_count": 21,
   "id": "0d2cce03",
   "metadata": {
    "ExecuteTime": {
     "end_time": "2021-12-02T08:42:22.443773Z",
     "start_time": "2021-12-02T08:42:22.429675Z"
    }
   },
   "outputs": [
    {
     "name": "stdout",
     "output_type": "stream",
     "text": [
      "alpha = 2.104\n",
      "[-0.25860875 -0.04911503 -0.59300995 -0.33306738 -1.59845421 -0.02122718\n",
      "  1.27609744  0.01972126  0.07221074  0.24870911  0.54725118  0.03450694\n",
      " -1.04641601 -0.11601711  0.02666477  0.39650661  0.53096802  0.42899395\n",
      "  0.85712413 -0.45801871  0.37736323  0.43229552 -0.48839705  1.09443192\n",
      " -0.84243183 -1.09406365 -0.56529752  1.25983758 -0.39966024 -0.29651648\n",
      "  1.04386208 -0.1498086   0.1000953  -0.25842585 -0.38316871  0.17437833\n",
      "  0.14284252  0.39290754  0.89503135 -1.08973028 -1.02858497 -0.145086\n",
      "  1.2927875  -0.87989586  0.07248647  0.59494174  0.36692909 -0.44177674\n",
      "  0.86821059 -0.06922947 -0.22299389  1.45700444  1.28188454 -1.15924696\n",
      " -0.22015899 -0.25903431 -0.16009612  1.1669907   0.40497438 -1.1250026\n",
      " -0.80515392  0.32964882 -0.9719177   0.5558799  -0.01219731  0.03050821\n",
      "  0.0173043   0.0173043 ]\n",
      "가장 강한 양의 상관관계:  popu_o60 \n",
      "가장 강한 음의 상관관계:  vio_cnt\n"
     ]
    }
   ],
   "source": [
    "# 결과\n",
    "\n",
    "print('alpha =', ridge2.alpha)\n",
    "print(ridge2.coef_) # Ridge 회귀분석으로 나온 weghit값\n",
    "\n",
    "print('가장 강한 양의 상관관계: ',a_.columns[ridge2.coef_.argmax()], '\\n가장 강한 음의 상관관계: ', a_.columns[ridge2.coef_.argmin()])"
   ]
  },
  {
   "cell_type": "code",
   "execution_count": 22,
   "id": "646b2b1f",
   "metadata": {
    "ExecuteTime": {
     "end_time": "2021-12-02T08:42:22.744942Z",
     "start_time": "2021-12-02T08:42:22.731894Z"
    }
   },
   "outputs": [
    {
     "name": "stdout",
     "output_type": "stream",
     "text": [
      "상위 30개 feature\n",
      " Index(['차대차', '가해_남', 'public_y', 'traffic_x', 'single_f_2030', '가해_30대',\n",
      "       'report_sx_여성', 'pol_num', 'single_o60', '가해_10대이하', '차대사람', 'popu_u20',\n",
      "       '피해_80대이상', '피해_30대', 'single_f_u20', '피해_50대', '가해_70대', 'crm',\n",
      "       '피해_40대', '가해_20대', '가해_여', 'single_4050', 'for_2030', 'single_u20',\n",
      "       '가해_40대', 'car_cnt', 'for_u20', '피해_70대', 'popu_o60', 'vio_cnt'],\n",
      "      dtype='object')\n"
     ]
    }
   ],
   "source": [
    "# q2 관련 feature\n",
    "print('상위 30개 feature\\n', a_.columns[sorted(range(len(ridge2.coef_)), key=lambda i: abs(ridge2.coef_[i]))[-30:]])"
   ]
  },
  {
   "cell_type": "markdown",
   "id": "f345e5cd",
   "metadata": {},
   "source": [
    "#### q3 교통안전"
   ]
  },
  {
   "cell_type": "code",
   "execution_count": 23,
   "id": "86cd47f1",
   "metadata": {
    "ExecuteTime": {
     "end_time": "2021-12-02T08:43:39.369694Z",
     "start_time": "2021-12-02T08:42:23.016405Z"
    }
   },
   "outputs": [],
   "source": [
    "# 그리드 서치 후 최고 성능의 모델을 lasso3에 저장\n",
    "\n",
    "grid_search.fit(xtrain, ytrain3)\n",
    "ridge3 = grid_search.best_estimator_"
   ]
  },
  {
   "cell_type": "code",
   "execution_count": 24,
   "id": "9b8ddf36",
   "metadata": {
    "ExecuteTime": {
     "end_time": "2021-12-02T08:43:39.728910Z",
     "start_time": "2021-12-02T08:43:39.716109Z"
    }
   },
   "outputs": [
    {
     "data": {
      "text/plain": [
       "2.274900251538899"
      ]
     },
     "execution_count": 24,
     "metadata": {},
     "output_type": "execute_result"
    }
   ],
   "source": [
    "# MAE 출력\n",
    "\n",
    "y_pred3 = ridge3.predict(xtest)\n",
    "mean_absolute_error(ytest3, y_pred3)"
   ]
  },
  {
   "cell_type": "code",
   "execution_count": 25,
   "id": "1756fa6a",
   "metadata": {
    "ExecuteTime": {
     "end_time": "2021-12-02T08:43:40.044689Z",
     "start_time": "2021-12-02T08:43:40.034713Z"
    }
   },
   "outputs": [
    {
     "name": "stdout",
     "output_type": "stream",
     "text": [
      "alpha = 9.999\n",
      "[-6.86677816e-02 -9.28757018e-03  1.57217219e-01  6.85913846e-03\n",
      " -1.26408071e-01  1.91304210e-01  6.12038511e-02 -9.06044415e-02\n",
      " -6.00871327e-03  2.58327814e-01 -4.34289375e-01 -3.71848654e-02\n",
      "  2.62592098e-01 -2.55559105e-05 -1.82990937e-01 -2.78896770e-01\n",
      "  2.36899408e-01  2.28885088e-01 -3.48180061e-01  6.25536888e-02\n",
      " -5.19526037e-02  8.84042648e-02 -1.34806565e-01  3.71579011e-01\n",
      " -9.39020334e-01 -4.66816071e-01 -1.71786883e-01  3.86187411e-01\n",
      "  8.07861329e-02 -7.72586708e-02  3.75976015e-01  1.97509895e-01\n",
      "  1.82962277e-01 -5.82817748e-02 -5.55733732e-02  7.07653670e-02\n",
      "  5.30555567e-01 -3.23874691e-01 -2.86643664e-02 -1.85695267e-01\n",
      "  2.05824625e-01 -1.78984349e-01  8.54404589e-01  1.06189378e-01\n",
      "  2.84501548e-01  6.12196808e-01  1.48735260e-01 -1.41193354e-01\n",
      "  1.42137178e-01  1.54811862e-02  2.74646232e-01  1.45729254e-01\n",
      "  4.48925249e-01 -4.45969542e-01 -4.00301159e-02 -4.39544954e-02\n",
      " -2.19333487e-01  2.55974449e-02  1.71170393e-02 -6.56594974e-01\n",
      " -3.52373907e-01  1.10414191e-01  2.61509149e-02  3.59631664e-01\n",
      " -3.27244458e-01 -1.62239489e-01  2.52605260e-02  2.52605260e-02]\n",
      "가장 강한 양의 상관관계:  피해_70대 \n",
      "가장 강한 음의 상관관계:  가해_10대이하\n"
     ]
    }
   ],
   "source": [
    "# 결과\n",
    "\n",
    "print('alpha =', ridge3.alpha)\n",
    "print(ridge3.coef_) # Ridge 회귀분석으로 나온 weghit값\n",
    "\n",
    "print('가장 강한 양의 상관관계: ',a_.columns[ridge3.coef_.argmax()], '\\n가장 강한 음의 상관관계: ', a_.columns[ridge3.coef_.argmin()])"
   ]
  },
  {
   "cell_type": "code",
   "execution_count": 26,
   "id": "4f6a72a2",
   "metadata": {
    "ExecuteTime": {
     "end_time": "2021-12-02T08:43:40.359893Z",
     "start_time": "2021-12-02T08:43:40.348011Z"
    }
   },
   "outputs": [
    {
     "name": "stdout",
     "output_type": "stream",
     "text": [
      "상위 30개 feature\n",
      " Index(['robber_murder_y', '피해_40대', 'mur_rob_cnt', '가해_80대이상', '피해_50대',\n",
      "       'single_합계', 'light_cnt', 'public_y', 'robber_murder_x', 'crm',\n",
      "       'popu_4050', 'traffic_y', 'cctv', '피해_20대', 'single_f_4050', '차대사람',\n",
      "       'single_o60', 'single_f_2030', '가해_여', '가해_70대', '가해_40대', 'traffic_x',\n",
      "       'for_2030', 'for_u20', '가해_20대', '피해_10대이하', 'pol_num', 'single_4050',\n",
      "       '피해_70대', '가해_10대이하'],\n",
      "      dtype='object')\n"
     ]
    }
   ],
   "source": [
    "# q3 관련 feature\n",
    "print('상위 30개 feature\\n', a_.columns[sorted(range(len(ridge3.coef_)), key=lambda i: abs(ridge3.coef_[i]))[-30:]])"
   ]
  },
  {
   "cell_type": "markdown",
   "id": "745d4226",
   "metadata": {},
   "source": [
    "#### q4 법질서 준수도"
   ]
  },
  {
   "cell_type": "code",
   "execution_count": 27,
   "id": "440b790c",
   "metadata": {
    "ExecuteTime": {
     "end_time": "2021-12-02T08:44:53.598353Z",
     "start_time": "2021-12-02T08:43:40.682384Z"
    }
   },
   "outputs": [],
   "source": [
    "# 그리드 서치 후 최고 성능의 모델을 lasso4에 저장\n",
    "\n",
    "grid_search.fit(xtrain, ytrain4)\n",
    "ridge4 = grid_search.best_estimator_"
   ]
  },
  {
   "cell_type": "code",
   "execution_count": 28,
   "id": "1f1455e3",
   "metadata": {
    "ExecuteTime": {
     "end_time": "2021-12-02T08:44:53.929661Z",
     "start_time": "2021-12-02T08:44:53.914902Z"
    }
   },
   "outputs": [
    {
     "data": {
      "text/plain": [
       "2.957983394039355"
      ]
     },
     "execution_count": 28,
     "metadata": {},
     "output_type": "execute_result"
    }
   ],
   "source": [
    "# MAE 출력\n",
    "\n",
    "y_pred4 = ridge4.predict(xtest)\n",
    "mean_absolute_error(ytest4, y_pred4)"
   ]
  },
  {
   "cell_type": "code",
   "execution_count": 29,
   "id": "6ddde85f",
   "metadata": {
    "ExecuteTime": {
     "end_time": "2021-12-02T08:44:54.229947Z",
     "start_time": "2021-12-02T08:44:54.215928Z"
    }
   },
   "outputs": [
    {
     "name": "stdout",
     "output_type": "stream",
     "text": [
      "alpha = 5.4110000000000005\n",
      "[-0.28732503  0.3529043  -0.03324029 -0.12139755 -0.6620332   1.07781985\n",
      "  1.47781156 -0.72155308 -0.70568114  0.45094694  0.10549896 -0.06787264\n",
      " -0.53328532 -0.47713235 -0.18315066  0.81411381 -0.09058703  0.36922156\n",
      " -0.08794376  0.08025125 -0.15349688  0.4939797  -0.05719471  0.35083668\n",
      " -1.20719465 -1.1581795   0.32895653  1.16700667 -0.34680852 -0.14439415\n",
      "  1.1053799  -0.11791399  0.38272839  0.04364713 -0.77132055  0.1402522\n",
      "  0.98418383  0.47401715 -0.20261852  0.08242802 -0.74081728  0.34927619\n",
      "  1.60255405 -0.63671274  0.7058158  -1.67741546  0.19713299 -0.28151045\n",
      "  0.95291919 -0.47334949  0.20823421  0.57323176  0.82834007 -0.4502488\n",
      " -0.35527091 -0.13976825 -0.22292614 -0.10759479  0.14657508 -1.22214932\n",
      " -0.15125463  0.57255033 -0.10842542  1.0080193  -0.5355187   0.17510068\n",
      " -0.13805612 -0.13805612]\n",
      "가장 강한 양의 상관관계:  피해_70대 \n",
      "가장 강한 음의 상관관계:  pol_num\n"
     ]
    }
   ],
   "source": [
    "# 결과\n",
    "\n",
    "print('alpha =', ridge4.alpha)\n",
    "print(ridge4.coef_) # Ridge 회귀분석으로 나온 weghit값\n",
    "\n",
    "print('가장 강한 양의 상관관계: ',a_.columns[ridge4.coef_.argmax()], '\\n가장 강한 음의 상관관계: ', a_.columns[ridge4.coef_.argmin()])"
   ]
  },
  {
   "cell_type": "code",
   "execution_count": 30,
   "id": "ca79628f",
   "metadata": {
    "ExecuteTime": {
     "end_time": "2021-12-02T08:44:54.530778Z",
     "start_time": "2021-12-02T08:44:54.516731Z"
    }
   },
   "outputs": [
    {
     "name": "stdout",
     "output_type": "stream",
     "text": [
      "상위 30개 feature\n",
      " Index(['robber_murder_x', 'popu_2030', '피해_20대', 'theft_violence_y',\n",
      "       '가해_성별_기타불명', 'crm', 'single_f_4050', 'single_f_합계', 'popu_o60',\n",
      "       '피해_80대이상', 'vio_cnt', 'theft_violence_x', 'cctv', '5m_crm_yn',\n",
      "       '피해_50대', '피해_미분류', 'traffic_y', 'for_u20', 'popu_u20', '피해_10대이하',\n",
      "       'single_f_2030', 'mur_rob_cnt', '가해_70대', '가해_20대', '가해_40대',\n",
      "       '가해_10대이하', 'single_4050', 'car_cnt', '피해_70대', 'pol_num'],\n",
      "      dtype='object')\n"
     ]
    }
   ],
   "source": [
    "# q3 관련 feature\n",
    "print('상위 30개 feature\\n', a_.columns[sorted(range(len(ridge4.coef_)), key=lambda i: abs(ridge4.coef_[i]))[-30:]])"
   ]
  },
  {
   "cell_type": "markdown",
   "id": "5510203c",
   "metadata": {},
   "source": [
    "#### q5 전반적 안전도"
   ]
  },
  {
   "cell_type": "code",
   "execution_count": 31,
   "id": "0cfe81a5",
   "metadata": {
    "ExecuteTime": {
     "end_time": "2021-12-02T08:45:59.236738Z",
     "start_time": "2021-12-02T08:44:54.816128Z"
    }
   },
   "outputs": [],
   "source": [
    "# 그리드 서치 후 최고 성능의 모델을 lasso4에 저장\n",
    "\n",
    "grid_search.fit(xtrain, ytrain5)\n",
    "ridge5 = grid_search.best_estimator_"
   ]
  },
  {
   "cell_type": "code",
   "execution_count": 32,
   "id": "c8ee961d",
   "metadata": {
    "ExecuteTime": {
     "end_time": "2021-12-02T08:45:59.566590Z",
     "start_time": "2021-12-02T08:45:59.552557Z"
    }
   },
   "outputs": [
    {
     "data": {
      "text/plain": [
       "2.2458133802946314"
      ]
     },
     "execution_count": 32,
     "metadata": {},
     "output_type": "execute_result"
    }
   ],
   "source": [
    "# MAE 출력\n",
    "\n",
    "y_pred5 = ridge5.predict(xtest)\n",
    "mean_absolute_error(ytest5, y_pred5)"
   ]
  },
  {
   "cell_type": "code",
   "execution_count": 33,
   "id": "d96bc91b",
   "metadata": {
    "ExecuteTime": {
     "end_time": "2021-12-02T08:45:59.882110Z",
     "start_time": "2021-12-02T08:45:59.867866Z"
    }
   },
   "outputs": [
    {
     "name": "stdout",
     "output_type": "stream",
     "text": [
      "alpha = 5.517\n",
      "[-0.31403888  0.33105522 -0.25742705 -0.20693952 -1.02612135  0.2699458\n",
      "  0.8377137  -0.20378789 -0.01997183  0.34165809  0.25872943  0.0492724\n",
      " -0.4063197  -0.52137071 -0.03889006  0.36055554  0.17986035  0.4662497\n",
      "  0.20347241 -0.06344053 -0.2318441   0.33782374 -0.11414883  0.34342262\n",
      " -0.65480894 -0.79289291  0.05026206  0.68699034 -0.14987391 -0.14425473\n",
      "  0.70314852  0.04445099  0.17372055 -0.07967947 -0.45501355  0.24878072\n",
      "  0.14444119  0.11689535  0.26930828 -0.27242424 -0.37852907  0.00718668\n",
      "  1.12202846 -0.40925522  0.24051634  0.05918084  0.23415176 -0.33540509\n",
      "  0.91532193 -0.17368781  0.12122418  0.43757023  0.54976682 -0.71525246\n",
      " -0.24369458 -0.1371852  -0.24333848  0.40026122  0.08279732 -0.89493629\n",
      " -0.43270885  0.32532794 -0.31944155  0.62313296 -0.12087053 -0.09585451\n",
      " -0.01595209 -0.01595209]\n",
      "가장 강한 양의 상관관계:  피해_70대 \n",
      "가장 강한 음의 상관관계:  vio_cnt\n"
     ]
    }
   ],
   "source": [
    "# 결과\n",
    "\n",
    "print('alpha =', ridge5.alpha)\n",
    "print(ridge5.coef_) # Ridge 회귀분석으로 나온 weghit값\n",
    "\n",
    "print('가장 강한 양의 상관관계: ',a_.columns[ridge5.coef_.argmax()], '\\n가장 강한 음의 상관관계: ', a_.columns[ridge5.coef_.argmin()])"
   ]
  },
  {
   "cell_type": "code",
   "execution_count": 34,
   "id": "e3024f8d",
   "metadata": {
    "ExecuteTime": {
     "end_time": "2021-12-02T08:46:00.183883Z",
     "start_time": "2021-12-02T08:46:00.171382Z"
    },
    "scrolled": true
   },
   "outputs": [
    {
     "name": "stdout",
     "output_type": "stream",
     "text": [
      "상위 30개 feature\n",
      " Index(['report_sx_남성', 'single_f_u20', 'single_f_합계', 'report_sx_불상', 'for_합계',\n",
      "       '가해_성별_기타불명', 'robber_murder_x', '가해_여', 'traffic_y', '피해_50대',\n",
      "       'single_u20', 'crm', '피해_80대이상', 'single_o60', 'popu_o60', '피해_미분류',\n",
      "       'light_cnt', 'theft_violence_y', 'for_u20', 'single_f_2030', '가해_10대이하',\n",
      "       '가해_40대', '가해_70대', 'for_2030', '가해_20대', 'car_cnt', 'single_4050',\n",
      "       'popu_u20', 'vio_cnt', '피해_70대'],\n",
      "      dtype='object')\n"
     ]
    }
   ],
   "source": [
    "# q3 관련 feature\n",
    "print('상위 30개 feature\\n', a_.columns[sorted(range(len(ridge5.coef_)), key=lambda i: abs(ridge5.coef_[i]))[-30:]])"
   ]
  },
  {
   "cell_type": "markdown",
   "id": "cdf569e1",
   "metadata": {},
   "source": [
    "### Ridge Regression 결과"
   ]
  },
  {
   "cell_type": "markdown",
   "id": "8e8d6298",
   "metadata": {},
   "source": [
    "- q1  \n",
    "    - alpha = 8.952  \n",
    "    - 상위 30개  \n",
    "        ['report_sx_남성', 'robber_murder_x', 'crm', 'report_sx_불상', '피해_10대이하',\n",
    "       'popu_o60', '피해_50대', 'for_합계', 'car_cnt', '피해_80대이상', 'pol_num',\n",
    "       'light_cnt', 'for_u20', 'report_sx_여성', 'single_o60', 'single_f_2030',\n",
    "       'public_y', 'single_u20', '가해_40대', '가해_여', '피해_30대', '가해_70대', '피해_여',\n",
    "       '피해_70대', '가해_20대', 'single_4050', 'for_2030', '가해_10대이하', 'vio_cnt',\n",
    "       'popu_u20']\n",
    "\n",
    "- q2  \n",
    "    - alpha = 2.104  \n",
    "    - 상위 30개  \n",
    "        ['차대차', '가해_남', 'public_y', 'traffic_x', 'single_f_2030', '가해_30대',\n",
    "       'report_sx_여성', 'pol_num', 'single_o60', '가해_10대이하', '차대사람', 'popu_u20',\n",
    "       '피해_80대이상', '피해_30대', 'single_f_u20', '피해_50대', '가해_70대', 'crm',\n",
    "       '피해_40대', '가해_20대', '가해_여', 'single_4050', 'for_2030', 'single_u20',\n",
    "       '가해_40대', 'car_cnt', 'for_u20', '피해_70대', 'popu_o60', 'vio_cnt']\n",
    "\n",
    "- q3  \n",
    "    - alpha = 9.999  \n",
    "    - 상위 30개  \n",
    "        ['robber_murder_y', '피해_40대', 'mur_rob_cnt', '가해_80대이상', '피해_50대',\n",
    "       'single_합계', 'light_cnt', 'public_y', 'robber_murder_x', 'crm',\n",
    "       'popu_4050', 'traffic_y', 'cctv', '피해_20대', 'single_f_4050', '차대사람',\n",
    "       'single_o60', 'single_f_2030', '가해_여', '가해_70대', '가해_40대', 'traffic_x',\n",
    "       'for_2030', 'for_u20', '가해_20대', '피해_10대이하', 'pol_num', 'single_4050',\n",
    "       '피해_70대', '가해_10대이하']\n",
    "\n",
    "- q4  \n",
    "    - alpha = 5.411  \n",
    "    - 상위 30개  \n",
    "        ['robber_murder_x', 'popu_2030', '피해_20대', 'theft_violence_y',\n",
    "       '가해_성별_기타불명', 'crm', 'single_f_4050', 'single_f_합계', 'popu_o60',\n",
    "       '피해_80대이상', 'vio_cnt', 'theft_violence_x', 'cctv', '5m_crm_yn',\n",
    "       '피해_50대', '피해_미분류', 'traffic_y', 'for_u20', 'popu_u20', '피해_10대이하',\n",
    "       'single_f_2030', 'mur_rob_cnt', '가해_70대', '가해_20대', '가해_40대',\n",
    "       '가해_10대이하', 'single_4050', 'car_cnt', '피해_70대', 'pol_num']\n",
    "\n",
    "- q5  \n",
    "    - alpha = 5.517  \n",
    "    - 상위 30개  \n",
    "        ['report_sx_남성', 'single_f_u20', 'single_f_합계', 'report_sx_불상', 'for_합계',\n",
    "       '가해_성별_기타불명', 'robber_murder_x', '가해_여', 'traffic_y', '피해_50대',\n",
    "       'single_u20', 'crm', '피해_80대이상', 'single_o60', 'popu_o60', '피해_미분류',\n",
    "       'light_cnt', 'theft_violence_y', 'for_u20', 'single_f_2030', '가해_10대이하',\n",
    "       '가해_40대', '가해_70대', 'for_2030', '가해_20대', 'car_cnt', 'single_4050',\n",
    "       'popu_u20', 'vio_cnt', '피해_70대']"
   ]
  },
  {
   "cell_type": "code",
   "execution_count": null,
   "id": "8e577553",
   "metadata": {},
   "outputs": [],
   "source": []
  }
 ],
 "metadata": {
  "kernelspec": {
   "display_name": "Python 3",
   "language": "python",
   "name": "python3"
  },
  "language_info": {
   "codemirror_mode": {
    "name": "ipython",
    "version": 3
   },
   "file_extension": ".py",
   "mimetype": "text/x-python",
   "name": "python",
   "nbconvert_exporter": "python",
   "pygments_lexer": "ipython3",
   "version": "3.8.8"
  },
  "toc": {
   "base_numbering": 1,
   "nav_menu": {},
   "number_sections": true,
   "sideBar": true,
   "skip_h1_title": false,
   "title_cell": "Table of Contents",
   "title_sidebar": "Contents",
   "toc_cell": false,
   "toc_position": {},
   "toc_section_display": true,
   "toc_window_display": false
  },
  "varInspector": {
   "cols": {
    "lenName": 16,
    "lenType": 16,
    "lenVar": 40
   },
   "kernels_config": {
    "python": {
     "delete_cmd_postfix": "",
     "delete_cmd_prefix": "del ",
     "library": "var_list.py",
     "varRefreshCmd": "print(var_dic_list())"
    },
    "r": {
     "delete_cmd_postfix": ") ",
     "delete_cmd_prefix": "rm(",
     "library": "var_list.r",
     "varRefreshCmd": "cat(var_dic_list()) "
    }
   },
   "types_to_exclude": [
    "module",
    "function",
    "builtin_function_or_method",
    "instance",
    "_Feature"
   ],
   "window_display": false
  }
 },
 "nbformat": 4,
 "nbformat_minor": 5
}
