{
 "cells": [
  {
   "cell_type": "code",
   "execution_count": 1,
   "id": "63583003",
   "metadata": {
    "ExecuteTime": {
     "end_time": "2021-12-07T00:51:15.556754Z",
     "start_time": "2021-12-07T00:51:12.191198Z"
    }
   },
   "outputs": [],
   "source": [
    "# 라이브러리 import\n",
    "import pandas as pd\n",
    "import numpy as np\n",
    "import seaborn as sns\n",
    "import matplotlib.pyplot as plt\n",
    "import os\n",
    "from sklearn.model_selection import train_test_split\n",
    "from lightgbm import LGBMClassifier, plot_importance\n",
    "from matplotlib import pyplot as plt\n",
    "from lightgbm import plot_importance\n",
    "from lightgbm import plot_tree\n",
    "from sklearn.metrics import classification_report\n",
    "import lightgbm as lgbm\n",
    "from sklearn.metrics import mean_absolute_error\n",
    "from sklearn.model_selection import GridSearchCV\n",
    "from sklearn.preprocessing import StandardScaler"
   ]
  },
  {
   "cell_type": "code",
   "execution_count": 2,
   "id": "b8eabdbd",
   "metadata": {
    "ExecuteTime": {
     "end_time": "2021-12-07T00:51:16.951897Z",
     "start_time": "2021-12-07T00:51:16.940927Z"
    }
   },
   "outputs": [],
   "source": [
    "import warnings\n",
    "import platform\n",
    "from matplotlib import font_manager, rc\n",
    "## 운영체제별 글꼴 세팅\n",
    "path = \"c:/Windows/Fonts/malgun.ttf\"\n",
    "if platform.system() == 'Darwin':\n",
    "    font_name = 'AppleGothic'\n",
    "    rc('font', family='AppleGothic')\n",
    "elif platform.system() == 'Windows':\n",
    "    font_name = font_manager.FontProperties(fname=path).get_name()\n",
    "    rc('font', family=font_name)\n",
    "else:\n",
    "    font_name = font_manager.FontProperties(fname=\"/usr/share/fonts/nanumfont/NanumGothic.ttf\")\n",
    "    rc('font', family=\"NanumGothic\")\n",
    "warnings.simplefilter(action='ignore')"
   ]
  },
  {
   "cell_type": "code",
   "execution_count": 19,
   "id": "3afe7908",
   "metadata": {
    "ExecuteTime": {
     "end_time": "2021-12-07T00:59:47.070721Z",
     "start_time": "2021-12-07T00:59:47.018361Z"
    }
   },
   "outputs": [],
   "source": [
    "df_cat = pd.read_csv(\"total_data(교통,인구,집값,어린이,벨포함).csv\")\n",
    "df_cat = df_cat[(df_cat[\"year\"] != \"2020(상반기)\") & (df_cat[\"year\"] != \"2020(하반기)\")]\n",
    "\n",
    "X = df_cat[df_cat.columns[2:-5]]\n",
    "y = df_cat[df_cat.columns[-5:]]\n",
    "\n",
    "y1 = df_cat[[\"q1\"]]\n",
    "y2 = df_cat[[\"q2\"]]\n",
    "y3 = df_cat[[\"q3\"]]\n",
    "y4 = df_cat[[\"q4\"]]\n",
    "y5 = df_cat[[\"q5\"]]\n",
    "\n",
    "standard = StandardScaler()\n",
    "standard.fit(X)\n",
    "X_stand = standard.transform(X)\n",
    "X_scale = pd.DataFrame(X_stand,columns = X.columns)\n",
    "\n",
    "# train, test셋 구분\n",
    "X_train = X_scale.loc[:164]\n",
    "X1_train = X_train.drop(columns=[\"before_q2\", \"before_q3\", \"before_q4\", \"before_q5\"])\n",
    "X2_train = X_train.drop(columns=[\"before_q1\", \"before_q3\", \"before_q4\", \"before_q5\"])\n",
    "X3_train = X_train.drop(columns=[\"before_q1\", \"before_q1\", \"before_q4\", \"before_q5\"])\n",
    "X4_train = X_train.drop(columns=[\"before_q1\", \"before_q2\", \"before_q3\", \"before_q5\"])\n",
    "X5_train = X_train.drop(columns=[\"before_q1\", \"before_q2\", \"before_q3\", \"before_q4\"])\n",
    "\n",
    "X_test = X_scale.loc[164:]\n",
    "X1_test = X_test.drop(columns=[\"before_q2\", \"before_q3\", \"before_q4\", \"before_q5\"])\n",
    "X2_test = X_test.drop(columns=[\"before_q1\", \"before_q3\", \"before_q4\", \"before_q5\"])\n",
    "X3_test = X_test.drop(columns=[\"before_q1\", \"before_q1\", \"before_q4\", \"before_q5\"])\n",
    "X4_test = X_test.drop(columns=[\"before_q1\", \"before_q2\", \"before_q3\", \"before_q5\"])\n",
    "X5_test = X_test.drop(columns=[\"before_q1\", \"before_q2\", \"before_q3\", \"before_q4\"])\n",
    "\n",
    "y1_train = y1.loc[:164]\n",
    "y1_test = y1.loc[164:]\n",
    "\n",
    "y2_train = y2.loc[:164]\n",
    "y2_test = y2.loc[164:]\n",
    "\n",
    "y3_train = y3.loc[:164]\n",
    "y3_test = y3.loc[164:]\n",
    "\n",
    "y4_train = y4.loc[:164]\n",
    "y4_test = y4.loc[164:]\n",
    "\n",
    "y5_train = y5.loc[:164]\n",
    "y5_test = y5.loc[164:]"
   ]
  },
  {
   "cell_type": "code",
   "execution_count": null,
   "id": "49f9d088",
   "metadata": {},
   "outputs": [],
   "source": [
    "max_depth=7,\n",
    "n_estimators=150"
   ]
  },
  {
   "cell_type": "markdown",
   "id": "01b1d083",
   "metadata": {},
   "source": [
    "# Q1"
   ]
  },
  {
   "cell_type": "code",
   "execution_count": 6,
   "id": "6bc4c0b0",
   "metadata": {
    "ExecuteTime": {
     "end_time": "2021-12-07T00:52:57.991423Z",
     "start_time": "2021-12-07T00:52:57.982448Z"
    }
   },
   "outputs": [],
   "source": [
    "model = lgbm.LGBMRegressor()"
   ]
  },
  {
   "cell_type": "code",
   "execution_count": 7,
   "id": "6e5d2ecf",
   "metadata": {
    "ExecuteTime": {
     "end_time": "2021-12-07T00:52:58.560898Z",
     "start_time": "2021-12-07T00:52:58.549934Z"
    }
   },
   "outputs": [],
   "source": [
    "para = {\"max_depth\" : [-1, 0, 1, 2, 3, 4, 5, 6, 7, 8, 9, 10], \"n_estimators\" : [30, 50, 100], \"learning_rate\" : [0.1, 0.01], \"num_leaves\" : range(30)}"
   ]
  },
  {
   "cell_type": "code",
   "execution_count": 8,
   "id": "2727db24",
   "metadata": {
    "ExecuteTime": {
     "end_time": "2021-12-07T00:52:59.150716Z",
     "start_time": "2021-12-07T00:52:59.138725Z"
    }
   },
   "outputs": [],
   "source": [
    "grid = GridSearchCV(model, param_grid = para, cv = 3)"
   ]
  },
  {
   "cell_type": "code",
   "execution_count": 9,
   "id": "9854e786",
   "metadata": {
    "ExecuteTime": {
     "end_time": "2021-12-07T00:57:09.938441Z",
     "start_time": "2021-12-07T00:52:59.665339Z"
    }
   },
   "outputs": [
    {
     "data": {
      "text/plain": [
       "GridSearchCV(cv=3, estimator=LGBMRegressor(),\n",
       "             param_grid={'learning_rate': [0.1, 0.01],\n",
       "                         'max_depth': [-1, 0, 1, 2, 3, 4, 5, 6, 7, 8, 9, 10],\n",
       "                         'n_estimators': [30, 50, 100],\n",
       "                         'num_leaves': range(0, 30)})"
      ]
     },
     "execution_count": 9,
     "metadata": {},
     "output_type": "execute_result"
    }
   ],
   "source": [
    "grid.fit(X1_train, y1_train.astype(\"int\"))"
   ]
  },
  {
   "cell_type": "code",
   "execution_count": 10,
   "id": "20f58e11",
   "metadata": {
    "ExecuteTime": {
     "end_time": "2021-12-07T00:57:10.509610Z",
     "start_time": "2021-12-07T00:57:10.498642Z"
    }
   },
   "outputs": [
    {
     "data": {
      "text/plain": [
       "LGBMRegressor(max_depth=3, n_estimators=30, num_leaves=5)"
      ]
     },
     "execution_count": 10,
     "metadata": {},
     "output_type": "execute_result"
    }
   ],
   "source": [
    "best = grid.best_estimator_\n",
    "best"
   ]
  },
  {
   "cell_type": "code",
   "execution_count": 11,
   "id": "5e81279c",
   "metadata": {
    "ExecuteTime": {
     "end_time": "2021-12-07T00:57:11.052932Z",
     "start_time": "2021-12-07T00:57:11.039966Z"
    }
   },
   "outputs": [],
   "source": [
    "pred = best.predict(X1_test)"
   ]
  },
  {
   "cell_type": "code",
   "execution_count": 12,
   "id": "11d7534c",
   "metadata": {
    "ExecuteTime": {
     "end_time": "2021-12-07T00:57:11.658944Z",
     "start_time": "2021-12-07T00:57:11.645166Z"
    }
   },
   "outputs": [
    {
     "data": {
      "text/plain": [
       "2.5475470248327974"
      ]
     },
     "execution_count": 12,
     "metadata": {},
     "output_type": "execute_result"
    }
   ],
   "source": [
    "mean_absolute_error(pred, y1_test)"
   ]
  },
  {
   "cell_type": "code",
   "execution_count": 15,
   "id": "c4dfc47c",
   "metadata": {
    "ExecuteTime": {
     "end_time": "2021-12-07T00:58:27.339753Z",
     "start_time": "2021-12-07T00:58:27.321825Z"
    },
    "scrolled": false
   },
   "outputs": [
    {
     "data": {
      "text/html": [
       "<div>\n",
       "<style scoped>\n",
       "    .dataframe tbody tr th:only-of-type {\n",
       "        vertical-align: middle;\n",
       "    }\n",
       "\n",
       "    .dataframe tbody tr th {\n",
       "        vertical-align: top;\n",
       "    }\n",
       "\n",
       "    .dataframe thead th {\n",
       "        text-align: right;\n",
       "    }\n",
       "</style>\n",
       "<table border=\"1\" class=\"dataframe\">\n",
       "  <thead>\n",
       "    <tr style=\"text-align: right;\">\n",
       "      <th></th>\n",
       "      <th>0</th>\n",
       "    </tr>\n",
       "  </thead>\n",
       "  <tbody>\n",
       "    <tr>\n",
       "      <th>single_o60</th>\n",
       "      <td>10</td>\n",
       "    </tr>\n",
       "    <tr>\n",
       "      <th>vic_w</th>\n",
       "      <td>9</td>\n",
       "    </tr>\n",
       "    <tr>\n",
       "      <th>single_u20</th>\n",
       "      <td>8</td>\n",
       "    </tr>\n",
       "    <tr>\n",
       "      <th>for_o40</th>\n",
       "      <td>8</td>\n",
       "    </tr>\n",
       "    <tr>\n",
       "      <th>ofn_20</th>\n",
       "      <td>7</td>\n",
       "    </tr>\n",
       "    <tr>\n",
       "      <th>vio_cnt</th>\n",
       "      <td>6</td>\n",
       "    </tr>\n",
       "    <tr>\n",
       "      <th>popu_o60</th>\n",
       "      <td>6</td>\n",
       "    </tr>\n",
       "    <tr>\n",
       "      <th>case_car_only</th>\n",
       "      <td>5</td>\n",
       "    </tr>\n",
       "    <tr>\n",
       "      <th>인구수대비경찰수</th>\n",
       "      <td>5</td>\n",
       "    </tr>\n",
       "    <tr>\n",
       "      <th>절도폭력범죄발생대비검거수</th>\n",
       "      <td>5</td>\n",
       "    </tr>\n",
       "    <tr>\n",
       "      <th>ofn_340</th>\n",
       "      <td>4</td>\n",
       "    </tr>\n",
       "    <tr>\n",
       "      <th>child</th>\n",
       "      <td>4</td>\n",
       "    </tr>\n",
       "    <tr>\n",
       "      <th>ofn_80ov</th>\n",
       "      <td>3</td>\n",
       "    </tr>\n",
       "    <tr>\n",
       "      <th>bell_r</th>\n",
       "      <td>3</td>\n",
       "    </tr>\n",
       "    <tr>\n",
       "      <th>single_f_2030</th>\n",
       "      <td>3</td>\n",
       "    </tr>\n",
       "    <tr>\n",
       "      <th>for_2030</th>\n",
       "      <td>3</td>\n",
       "    </tr>\n",
       "    <tr>\n",
       "      <th>before_q1</th>\n",
       "      <td>3</td>\n",
       "    </tr>\n",
       "    <tr>\n",
       "      <th>house</th>\n",
       "      <td>3</td>\n",
       "    </tr>\n",
       "    <tr>\n",
       "      <th>ofn_m</th>\n",
       "      <td>2</td>\n",
       "    </tr>\n",
       "    <tr>\n",
       "      <th>ofn_10</th>\n",
       "      <td>2</td>\n",
       "    </tr>\n",
       "    <tr>\n",
       "      <th>외국인인구수대비검거수</th>\n",
       "      <td>2</td>\n",
       "    </tr>\n",
       "    <tr>\n",
       "      <th>총범죄발생대비검거수</th>\n",
       "      <td>2</td>\n",
       "    </tr>\n",
       "    <tr>\n",
       "      <th>ofn_w</th>\n",
       "      <td>1</td>\n",
       "    </tr>\n",
       "    <tr>\n",
       "      <th>ofn_5670</th>\n",
       "      <td>1</td>\n",
       "    </tr>\n",
       "    <tr>\n",
       "      <th>adult_r</th>\n",
       "      <td>1</td>\n",
       "    </tr>\n",
       "    <tr>\n",
       "      <th>vic_340</th>\n",
       "      <td>1</td>\n",
       "    </tr>\n",
       "    <tr>\n",
       "      <th>인구수대비검거수</th>\n",
       "      <td>1</td>\n",
       "    </tr>\n",
       "    <tr>\n",
       "      <th>cctv_r</th>\n",
       "      <td>1</td>\n",
       "    </tr>\n",
       "    <tr>\n",
       "      <th>for_합계</th>\n",
       "      <td>1</td>\n",
       "    </tr>\n",
       "    <tr>\n",
       "      <th>popu_u20</th>\n",
       "      <td>1</td>\n",
       "    </tr>\n",
       "  </tbody>\n",
       "</table>\n",
       "</div>"
      ],
      "text/plain": [
       "                0\n",
       "single_o60     10\n",
       "vic_w           9\n",
       "single_u20      8\n",
       "for_o40         8\n",
       "ofn_20          7\n",
       "vio_cnt         6\n",
       "popu_o60        6\n",
       "case_car_only   5\n",
       "인구수대비경찰수        5\n",
       "절도폭력범죄발생대비검거수   5\n",
       "ofn_340         4\n",
       "child           4\n",
       "ofn_80ov        3\n",
       "bell_r          3\n",
       "single_f_2030   3\n",
       "for_2030        3\n",
       "before_q1       3\n",
       "house           3\n",
       "ofn_m           2\n",
       "ofn_10          2\n",
       "외국인인구수대비검거수     2\n",
       "총범죄발생대비검거수      2\n",
       "ofn_w           1\n",
       "ofn_5670        1\n",
       "adult_r         1\n",
       "vic_340         1\n",
       "인구수대비검거수        1\n",
       "cctv_r          1\n",
       "for_합계          1\n",
       "popu_u20        1"
      ]
     },
     "execution_count": 15,
     "metadata": {},
     "output_type": "execute_result"
    }
   ],
   "source": [
    "cat_q1_full_fi = pd.DataFrame(best.feature_importances_,index=X1_train.columns)\n",
    "cat_q1_full_fi.sort_values(by=0,ascending=False)[:30]"
   ]
  },
  {
   "cell_type": "markdown",
   "id": "12232edd",
   "metadata": {},
   "source": [
    "# Q2"
   ]
  },
  {
   "cell_type": "code",
   "execution_count": 29,
   "id": "22df2c24",
   "metadata": {
    "ExecuteTime": {
     "end_time": "2021-12-07T01:03:22.338473Z",
     "start_time": "2021-12-07T01:03:22.320486Z"
    }
   },
   "outputs": [],
   "source": [
    "model = lgbm.LGBMRegressor()"
   ]
  },
  {
   "cell_type": "code",
   "execution_count": 30,
   "id": "e9faad3f",
   "metadata": {
    "ExecuteTime": {
     "end_time": "2021-12-07T01:03:22.879990Z",
     "start_time": "2021-12-07T01:03:22.868021Z"
    }
   },
   "outputs": [],
   "source": [
    "para = {\"max_depth\" : [-1, 0, 1, 2, 3, 4, 5, 6, 7, 8, 9, 10], \"n_estimators\" : [30, 50, 100], \"learning_rate\" : [0.1, 0.01], \"num_leaves\" : range(30)}"
   ]
  },
  {
   "cell_type": "code",
   "execution_count": 31,
   "id": "cc102f1d",
   "metadata": {
    "ExecuteTime": {
     "end_time": "2021-12-07T01:03:23.405239Z",
     "start_time": "2021-12-07T01:03:23.390900Z"
    }
   },
   "outputs": [],
   "source": [
    "grid = GridSearchCV(model, param_grid = para, cv = 3)"
   ]
  },
  {
   "cell_type": "code",
   "execution_count": 32,
   "id": "9905bd17",
   "metadata": {
    "ExecuteTime": {
     "end_time": "2021-12-07T01:07:10.547012Z",
     "start_time": "2021-12-07T01:03:23.879289Z"
    },
    "scrolled": true
   },
   "outputs": [
    {
     "data": {
      "text/plain": [
       "GridSearchCV(cv=3, estimator=LGBMRegressor(),\n",
       "             param_grid={'learning_rate': [0.1, 0.01],\n",
       "                         'max_depth': [-1, 0, 1, 2, 3, 4, 5, 6, 7, 8, 9, 10],\n",
       "                         'n_estimators': [30, 50, 100],\n",
       "                         'num_leaves': range(0, 30)})"
      ]
     },
     "execution_count": 32,
     "metadata": {},
     "output_type": "execute_result"
    }
   ],
   "source": [
    "grid.fit(X2_train, y2_train.astype(\"int\"))"
   ]
  },
  {
   "cell_type": "code",
   "execution_count": 33,
   "id": "00510cd7",
   "metadata": {
    "ExecuteTime": {
     "end_time": "2021-12-07T01:07:11.137736Z",
     "start_time": "2021-12-07T01:07:11.124758Z"
    }
   },
   "outputs": [
    {
     "data": {
      "text/plain": [
       "LGBMRegressor(max_depth=2, n_estimators=50, num_leaves=4)"
      ]
     },
     "execution_count": 33,
     "metadata": {},
     "output_type": "execute_result"
    }
   ],
   "source": [
    "best = grid.best_estimator_\n",
    "best"
   ]
  },
  {
   "cell_type": "code",
   "execution_count": 34,
   "id": "6b0e40a6",
   "metadata": {
    "ExecuteTime": {
     "end_time": "2021-12-07T01:07:11.739234Z",
     "start_time": "2021-12-07T01:07:11.725268Z"
    }
   },
   "outputs": [],
   "source": [
    "pred = best.predict(X2_test)"
   ]
  },
  {
   "cell_type": "code",
   "execution_count": 35,
   "id": "21fbe547",
   "metadata": {
    "ExecuteTime": {
     "end_time": "2021-12-07T01:07:12.308333Z",
     "start_time": "2021-12-07T01:07:12.295367Z"
    }
   },
   "outputs": [
    {
     "data": {
      "text/plain": [
       "2.5433376256788884"
      ]
     },
     "execution_count": 35,
     "metadata": {},
     "output_type": "execute_result"
    }
   ],
   "source": [
    "mean_absolute_error(pred, y2_test)"
   ]
  },
  {
   "cell_type": "code",
   "execution_count": 36,
   "id": "a1359d91",
   "metadata": {
    "ExecuteTime": {
     "end_time": "2021-12-07T01:07:12.847364Z",
     "start_time": "2021-12-07T01:07:12.834018Z"
    }
   },
   "outputs": [
    {
     "data": {
      "text/html": [
       "<div>\n",
       "<style scoped>\n",
       "    .dataframe tbody tr th:only-of-type {\n",
       "        vertical-align: middle;\n",
       "    }\n",
       "\n",
       "    .dataframe tbody tr th {\n",
       "        vertical-align: top;\n",
       "    }\n",
       "\n",
       "    .dataframe thead th {\n",
       "        text-align: right;\n",
       "    }\n",
       "</style>\n",
       "<table border=\"1\" class=\"dataframe\">\n",
       "  <thead>\n",
       "    <tr style=\"text-align: right;\">\n",
       "      <th></th>\n",
       "      <th>0</th>\n",
       "    </tr>\n",
       "  </thead>\n",
       "  <tbody>\n",
       "    <tr>\n",
       "      <th>vio_cnt</th>\n",
       "      <td>14</td>\n",
       "    </tr>\n",
       "    <tr>\n",
       "      <th>single_u20</th>\n",
       "      <td>14</td>\n",
       "    </tr>\n",
       "    <tr>\n",
       "      <th>ofn_340</th>\n",
       "      <td>7</td>\n",
       "    </tr>\n",
       "    <tr>\n",
       "      <th>house</th>\n",
       "      <td>7</td>\n",
       "    </tr>\n",
       "    <tr>\n",
       "      <th>ofn_20</th>\n",
       "      <td>6</td>\n",
       "    </tr>\n",
       "    <tr>\n",
       "      <th>절도폭력범죄발생대비검거수</th>\n",
       "      <td>6</td>\n",
       "    </tr>\n",
       "    <tr>\n",
       "      <th>ofn_80ov</th>\n",
       "      <td>5</td>\n",
       "    </tr>\n",
       "    <tr>\n",
       "      <th>for_o40</th>\n",
       "      <td>5</td>\n",
       "    </tr>\n",
       "    <tr>\n",
       "      <th>for_2030</th>\n",
       "      <td>5</td>\n",
       "    </tr>\n",
       "    <tr>\n",
       "      <th>before_q2</th>\n",
       "      <td>5</td>\n",
       "    </tr>\n",
       "    <tr>\n",
       "      <th>ofn_m</th>\n",
       "      <td>4</td>\n",
       "    </tr>\n",
       "    <tr>\n",
       "      <th>for_u20</th>\n",
       "      <td>4</td>\n",
       "    </tr>\n",
       "    <tr>\n",
       "      <th>ofn_10</th>\n",
       "      <td>4</td>\n",
       "    </tr>\n",
       "    <tr>\n",
       "      <th>bell_r</th>\n",
       "      <td>4</td>\n",
       "    </tr>\n",
       "    <tr>\n",
       "      <th>child</th>\n",
       "      <td>4</td>\n",
       "    </tr>\n",
       "    <tr>\n",
       "      <th>ofn_w</th>\n",
       "      <td>3</td>\n",
       "    </tr>\n",
       "    <tr>\n",
       "      <th>vic_340</th>\n",
       "      <td>3</td>\n",
       "    </tr>\n",
       "    <tr>\n",
       "      <th>vic_w</th>\n",
       "      <td>3</td>\n",
       "    </tr>\n",
       "    <tr>\n",
       "      <th>기초질서범죄발생대비검거수</th>\n",
       "      <td>3</td>\n",
       "    </tr>\n",
       "    <tr>\n",
       "      <th>case_car_only</th>\n",
       "      <td>3</td>\n",
       "    </tr>\n",
       "    <tr>\n",
       "      <th>single_o60</th>\n",
       "      <td>3</td>\n",
       "    </tr>\n",
       "    <tr>\n",
       "      <th>인구수대비경찰수</th>\n",
       "      <td>2</td>\n",
       "    </tr>\n",
       "    <tr>\n",
       "      <th>vic_unknown</th>\n",
       "      <td>2</td>\n",
       "    </tr>\n",
       "    <tr>\n",
       "      <th>vic_80ov</th>\n",
       "      <td>2</td>\n",
       "    </tr>\n",
       "    <tr>\n",
       "      <th>vic_5670</th>\n",
       "      <td>2</td>\n",
       "    </tr>\n",
       "    <tr>\n",
       "      <th>car_cnt</th>\n",
       "      <td>2</td>\n",
       "    </tr>\n",
       "    <tr>\n",
       "      <th>ofn_5670</th>\n",
       "      <td>2</td>\n",
       "    </tr>\n",
       "    <tr>\n",
       "      <th>popu_o60</th>\n",
       "      <td>2</td>\n",
       "    </tr>\n",
       "    <tr>\n",
       "      <th>case_car_car</th>\n",
       "      <td>1</td>\n",
       "    </tr>\n",
       "    <tr>\n",
       "      <th>single_4050</th>\n",
       "      <td>1</td>\n",
       "    </tr>\n",
       "  </tbody>\n",
       "</table>\n",
       "</div>"
      ],
      "text/plain": [
       "                0\n",
       "vio_cnt        14\n",
       "single_u20     14\n",
       "ofn_340         7\n",
       "house           7\n",
       "ofn_20          6\n",
       "절도폭력범죄발생대비검거수   6\n",
       "ofn_80ov        5\n",
       "for_o40         5\n",
       "for_2030        5\n",
       "before_q2       5\n",
       "ofn_m           4\n",
       "for_u20         4\n",
       "ofn_10          4\n",
       "bell_r          4\n",
       "child           4\n",
       "ofn_w           3\n",
       "vic_340         3\n",
       "vic_w           3\n",
       "기초질서범죄발생대비검거수   3\n",
       "case_car_only   3\n",
       "single_o60      3\n",
       "인구수대비경찰수        2\n",
       "vic_unknown     2\n",
       "vic_80ov        2\n",
       "vic_5670        2\n",
       "car_cnt         2\n",
       "ofn_5670        2\n",
       "popu_o60        2\n",
       "case_car_car    1\n",
       "single_4050     1"
      ]
     },
     "execution_count": 36,
     "metadata": {},
     "output_type": "execute_result"
    }
   ],
   "source": [
    "cat_q1_full_fi = pd.DataFrame(best.feature_importances_,index=X2_train.columns)\n",
    "cat_q1_full_fi.sort_values(by=0,ascending=False)[:30]"
   ]
  },
  {
   "cell_type": "markdown",
   "id": "1b1508cf",
   "metadata": {},
   "source": [
    "# Q3"
   ]
  },
  {
   "cell_type": "code",
   "execution_count": 39,
   "id": "26243eaf",
   "metadata": {
    "ExecuteTime": {
     "end_time": "2021-12-07T01:20:53.351567Z",
     "start_time": "2021-12-07T01:20:53.338571Z"
    }
   },
   "outputs": [],
   "source": [
    "model = lgbm.LGBMRegressor()"
   ]
  },
  {
   "cell_type": "code",
   "execution_count": 40,
   "id": "18f2492a",
   "metadata": {
    "ExecuteTime": {
     "end_time": "2021-12-07T01:20:53.942896Z",
     "start_time": "2021-12-07T01:20:53.936910Z"
    }
   },
   "outputs": [],
   "source": [
    "para = {\"max_depth\" : [-1, 0, 1, 2, 3, 4, 5, 6, 7, 8, 9, 10], \"n_estimators\" : [30, 50, 100], \"learning_rate\" : [0.1, 0.01], \"num_leaves\" : range(30)}"
   ]
  },
  {
   "cell_type": "code",
   "execution_count": 41,
   "id": "0e411f57",
   "metadata": {
    "ExecuteTime": {
     "end_time": "2021-12-07T01:20:54.484547Z",
     "start_time": "2021-12-07T01:20:54.471898Z"
    }
   },
   "outputs": [],
   "source": [
    "grid = GridSearchCV(model, param_grid = para, cv = 3)"
   ]
  },
  {
   "cell_type": "code",
   "execution_count": 42,
   "id": "b58b4f52",
   "metadata": {
    "ExecuteTime": {
     "end_time": "2021-12-07T01:24:57.242322Z",
     "start_time": "2021-12-07T01:20:57.906347Z"
    }
   },
   "outputs": [
    {
     "data": {
      "text/plain": [
       "GridSearchCV(cv=3, estimator=LGBMRegressor(),\n",
       "             param_grid={'learning_rate': [0.1, 0.01],\n",
       "                         'max_depth': [-1, 0, 1, 2, 3, 4, 5, 6, 7, 8, 9, 10],\n",
       "                         'n_estimators': [30, 50, 100],\n",
       "                         'num_leaves': range(0, 30)})"
      ]
     },
     "execution_count": 42,
     "metadata": {},
     "output_type": "execute_result"
    }
   ],
   "source": [
    "grid.fit(X3_train, y3_train.astype(\"int\"))"
   ]
  },
  {
   "cell_type": "code",
   "execution_count": 43,
   "id": "d54d1e52",
   "metadata": {
    "ExecuteTime": {
     "end_time": "2021-12-07T01:24:57.860724Z",
     "start_time": "2021-12-07T01:24:57.847728Z"
    }
   },
   "outputs": [
    {
     "data": {
      "text/plain": [
       "LGBMRegressor(learning_rate=0.01, max_depth=3, n_estimators=50, num_leaves=5)"
      ]
     },
     "execution_count": 43,
     "metadata": {},
     "output_type": "execute_result"
    }
   ],
   "source": [
    "best = grid.best_estimator_\n",
    "best"
   ]
  },
  {
   "cell_type": "code",
   "execution_count": 44,
   "id": "a4411af8",
   "metadata": {
    "ExecuteTime": {
     "end_time": "2021-12-07T01:24:58.358712Z",
     "start_time": "2021-12-07T01:24:58.344751Z"
    }
   },
   "outputs": [],
   "source": [
    "pred = best.predict(X3_test)"
   ]
  },
  {
   "cell_type": "code",
   "execution_count": 45,
   "id": "30dde6ae",
   "metadata": {
    "ExecuteTime": {
     "end_time": "2021-12-07T01:24:58.934250Z",
     "start_time": "2021-12-07T01:24:58.921282Z"
    }
   },
   "outputs": [
    {
     "data": {
      "text/plain": [
       "2.724258411911962"
      ]
     },
     "execution_count": 45,
     "metadata": {},
     "output_type": "execute_result"
    }
   ],
   "source": [
    "mean_absolute_error(pred, y3_test)"
   ]
  },
  {
   "cell_type": "code",
   "execution_count": 46,
   "id": "d685e2f1",
   "metadata": {
    "ExecuteTime": {
     "end_time": "2021-12-07T01:24:59.476797Z",
     "start_time": "2021-12-07T01:24:59.463850Z"
    }
   },
   "outputs": [
    {
     "data": {
      "text/html": [
       "<div>\n",
       "<style scoped>\n",
       "    .dataframe tbody tr th:only-of-type {\n",
       "        vertical-align: middle;\n",
       "    }\n",
       "\n",
       "    .dataframe tbody tr th {\n",
       "        vertical-align: top;\n",
       "    }\n",
       "\n",
       "    .dataframe thead th {\n",
       "        text-align: right;\n",
       "    }\n",
       "</style>\n",
       "<table border=\"1\" class=\"dataframe\">\n",
       "  <thead>\n",
       "    <tr style=\"text-align: right;\">\n",
       "      <th></th>\n",
       "      <th>0</th>\n",
       "    </tr>\n",
       "  </thead>\n",
       "  <tbody>\n",
       "    <tr>\n",
       "      <th>child</th>\n",
       "      <td>33</td>\n",
       "    </tr>\n",
       "    <tr>\n",
       "      <th>ofn_20</th>\n",
       "      <td>21</td>\n",
       "    </tr>\n",
       "    <tr>\n",
       "      <th>ofn_unknown</th>\n",
       "      <td>20</td>\n",
       "    </tr>\n",
       "    <tr>\n",
       "      <th>vic_w</th>\n",
       "      <td>19</td>\n",
       "    </tr>\n",
       "    <tr>\n",
       "      <th>cctv_r</th>\n",
       "      <td>18</td>\n",
       "    </tr>\n",
       "    <tr>\n",
       "      <th>ofn_10</th>\n",
       "      <td>15</td>\n",
       "    </tr>\n",
       "    <tr>\n",
       "      <th>인구수대비경찰수</th>\n",
       "      <td>13</td>\n",
       "    </tr>\n",
       "    <tr>\n",
       "      <th>vic_20</th>\n",
       "      <td>13</td>\n",
       "    </tr>\n",
       "    <tr>\n",
       "      <th>vic_10</th>\n",
       "      <td>11</td>\n",
       "    </tr>\n",
       "    <tr>\n",
       "      <th>case_car_only</th>\n",
       "      <td>11</td>\n",
       "    </tr>\n",
       "    <tr>\n",
       "      <th>ofn_5670</th>\n",
       "      <td>9</td>\n",
       "    </tr>\n",
       "    <tr>\n",
       "      <th>single_u20</th>\n",
       "      <td>3</td>\n",
       "    </tr>\n",
       "    <tr>\n",
       "      <th>single_o60</th>\n",
       "      <td>3</td>\n",
       "    </tr>\n",
       "    <tr>\n",
       "      <th>report_sx_total</th>\n",
       "      <td>3</td>\n",
       "    </tr>\n",
       "    <tr>\n",
       "      <th>ofn_80ov</th>\n",
       "      <td>3</td>\n",
       "    </tr>\n",
       "    <tr>\n",
       "      <th>car_cnt</th>\n",
       "      <td>2</td>\n",
       "    </tr>\n",
       "    <tr>\n",
       "      <th>ofn_m</th>\n",
       "      <td>2</td>\n",
       "    </tr>\n",
       "    <tr>\n",
       "      <th>vic_5670</th>\n",
       "      <td>1</td>\n",
       "    </tr>\n",
       "    <tr>\n",
       "      <th>for_u20</th>\n",
       "      <td>0</td>\n",
       "    </tr>\n",
       "    <tr>\n",
       "      <th>bell_r</th>\n",
       "      <td>0</td>\n",
       "    </tr>\n",
       "    <tr>\n",
       "      <th>for_합계</th>\n",
       "      <td>0</td>\n",
       "    </tr>\n",
       "    <tr>\n",
       "      <th>popu_합계</th>\n",
       "      <td>0</td>\n",
       "    </tr>\n",
       "    <tr>\n",
       "      <th>ofn_340</th>\n",
       "      <td>0</td>\n",
       "    </tr>\n",
       "    <tr>\n",
       "      <th>ofn_w</th>\n",
       "      <td>0</td>\n",
       "    </tr>\n",
       "    <tr>\n",
       "      <th>vio_cnt</th>\n",
       "      <td>0</td>\n",
       "    </tr>\n",
       "    <tr>\n",
       "      <th>mur_rob_cnt</th>\n",
       "      <td>0</td>\n",
       "    </tr>\n",
       "    <tr>\n",
       "      <th>popu_u20</th>\n",
       "      <td>0</td>\n",
       "    </tr>\n",
       "    <tr>\n",
       "      <th>vic_340</th>\n",
       "      <td>0</td>\n",
       "    </tr>\n",
       "    <tr>\n",
       "      <th>vic_80ov</th>\n",
       "      <td>0</td>\n",
       "    </tr>\n",
       "    <tr>\n",
       "      <th>vic_m</th>\n",
       "      <td>0</td>\n",
       "    </tr>\n",
       "  </tbody>\n",
       "</table>\n",
       "</div>"
      ],
      "text/plain": [
       "                  0\n",
       "child            33\n",
       "ofn_20           21\n",
       "ofn_unknown      20\n",
       "vic_w            19\n",
       "cctv_r           18\n",
       "ofn_10           15\n",
       "인구수대비경찰수         13\n",
       "vic_20           13\n",
       "vic_10           11\n",
       "case_car_only    11\n",
       "ofn_5670          9\n",
       "single_u20        3\n",
       "single_o60        3\n",
       "report_sx_total   3\n",
       "ofn_80ov          3\n",
       "car_cnt           2\n",
       "ofn_m             2\n",
       "vic_5670          1\n",
       "for_u20           0\n",
       "bell_r            0\n",
       "for_합계            0\n",
       "popu_합계           0\n",
       "ofn_340           0\n",
       "ofn_w             0\n",
       "vio_cnt           0\n",
       "mur_rob_cnt       0\n",
       "popu_u20          0\n",
       "vic_340           0\n",
       "vic_80ov          0\n",
       "vic_m             0"
      ]
     },
     "execution_count": 46,
     "metadata": {},
     "output_type": "execute_result"
    }
   ],
   "source": [
    "cat_q1_full_fi = pd.DataFrame(best.feature_importances_,index=X3_train.columns)\n",
    "cat_q1_full_fi.sort_values(by=0,ascending=False)[:30]"
   ]
  },
  {
   "cell_type": "markdown",
   "id": "9d0e4214",
   "metadata": {},
   "source": [
    "# Q4"
   ]
  },
  {
   "cell_type": "code",
   "execution_count": 47,
   "id": "1941eb36",
   "metadata": {
    "ExecuteTime": {
     "end_time": "2021-12-07T01:24:59.981825Z",
     "start_time": "2021-12-07T01:24:59.969016Z"
    }
   },
   "outputs": [],
   "source": [
    "model = lgbm.LGBMRegressor()"
   ]
  },
  {
   "cell_type": "code",
   "execution_count": 48,
   "id": "60099b0f",
   "metadata": {
    "ExecuteTime": {
     "end_time": "2021-12-07T01:25:00.557437Z",
     "start_time": "2021-12-07T01:25:00.543472Z"
    }
   },
   "outputs": [],
   "source": [
    "para = {\"max_depth\" : [-1, 0, 1, 2, 3, 4, 5, 6, 7, 8, 9, 10], \"n_estimators\" : [30, 50, 100], \"learning_rate\" : [0.1, 0.01], \"num_leaves\" : range(30)}"
   ]
  },
  {
   "cell_type": "code",
   "execution_count": 49,
   "id": "9710fd93",
   "metadata": {
    "ExecuteTime": {
     "end_time": "2021-12-07T01:25:01.070655Z",
     "start_time": "2021-12-07T01:25:01.057569Z"
    }
   },
   "outputs": [],
   "source": [
    "grid = GridSearchCV(model, param_grid = para, cv = 3)"
   ]
  },
  {
   "cell_type": "code",
   "execution_count": 51,
   "id": "fd2f059d",
   "metadata": {
    "ExecuteTime": {
     "end_time": "2021-12-07T01:29:29.012012Z",
     "start_time": "2021-12-07T01:25:32.016887Z"
    }
   },
   "outputs": [
    {
     "data": {
      "text/plain": [
       "GridSearchCV(cv=3, estimator=LGBMRegressor(),\n",
       "             param_grid={'learning_rate': [0.1, 0.01],\n",
       "                         'max_depth': [-1, 0, 1, 2, 3, 4, 5, 6, 7, 8, 9, 10],\n",
       "                         'n_estimators': [30, 50, 100],\n",
       "                         'num_leaves': range(0, 30)})"
      ]
     },
     "execution_count": 51,
     "metadata": {},
     "output_type": "execute_result"
    }
   ],
   "source": [
    "grid.fit(X4_train, y4_train.astype(\"int\"))"
   ]
  },
  {
   "cell_type": "code",
   "execution_count": 52,
   "id": "b9217016",
   "metadata": {
    "ExecuteTime": {
     "end_time": "2021-12-07T01:29:29.599405Z",
     "start_time": "2021-12-07T01:29:29.588435Z"
    }
   },
   "outputs": [
    {
     "data": {
      "text/plain": [
       "LGBMRegressor(num_leaves=3)"
      ]
     },
     "execution_count": 52,
     "metadata": {},
     "output_type": "execute_result"
    }
   ],
   "source": [
    "best = grid.best_estimator_\n",
    "best"
   ]
  },
  {
   "cell_type": "code",
   "execution_count": 53,
   "id": "6408d3b6",
   "metadata": {
    "ExecuteTime": {
     "end_time": "2021-12-07T01:29:30.079440Z",
     "start_time": "2021-12-07T01:29:30.066476Z"
    }
   },
   "outputs": [],
   "source": [
    "pred = best.predict(X4_test)"
   ]
  },
  {
   "cell_type": "code",
   "execution_count": 54,
   "id": "e4696491",
   "metadata": {
    "ExecuteTime": {
     "end_time": "2021-12-07T01:29:30.668372Z",
     "start_time": "2021-12-07T01:29:30.655359Z"
    }
   },
   "outputs": [
    {
     "data": {
      "text/plain": [
       "2.8001681535916667"
      ]
     },
     "execution_count": 54,
     "metadata": {},
     "output_type": "execute_result"
    }
   ],
   "source": [
    "mean_absolute_error(pred, y4_test)"
   ]
  },
  {
   "cell_type": "code",
   "execution_count": 55,
   "id": "7342f9cb",
   "metadata": {
    "ExecuteTime": {
     "end_time": "2021-12-07T01:29:31.151013Z",
     "start_time": "2021-12-07T01:29:31.138012Z"
    }
   },
   "outputs": [
    {
     "data": {
      "text/html": [
       "<div>\n",
       "<style scoped>\n",
       "    .dataframe tbody tr th:only-of-type {\n",
       "        vertical-align: middle;\n",
       "    }\n",
       "\n",
       "    .dataframe tbody tr th {\n",
       "        vertical-align: top;\n",
       "    }\n",
       "\n",
       "    .dataframe thead th {\n",
       "        text-align: right;\n",
       "    }\n",
       "</style>\n",
       "<table border=\"1\" class=\"dataframe\">\n",
       "  <thead>\n",
       "    <tr style=\"text-align: right;\">\n",
       "      <th></th>\n",
       "      <th>0</th>\n",
       "    </tr>\n",
       "  </thead>\n",
       "  <tbody>\n",
       "    <tr>\n",
       "      <th>총범죄발생대비검거수</th>\n",
       "      <td>15</td>\n",
       "    </tr>\n",
       "    <tr>\n",
       "      <th>house</th>\n",
       "      <td>12</td>\n",
       "    </tr>\n",
       "    <tr>\n",
       "      <th>child</th>\n",
       "      <td>10</td>\n",
       "    </tr>\n",
       "    <tr>\n",
       "      <th>mur_rob_cnt</th>\n",
       "      <td>10</td>\n",
       "    </tr>\n",
       "    <tr>\n",
       "      <th>before_q4</th>\n",
       "      <td>10</td>\n",
       "    </tr>\n",
       "    <tr>\n",
       "      <th>강도살인범죄발생대비검거수</th>\n",
       "      <td>10</td>\n",
       "    </tr>\n",
       "    <tr>\n",
       "      <th>ofn_20</th>\n",
       "      <td>10</td>\n",
       "    </tr>\n",
       "    <tr>\n",
       "      <th>case_car_man</th>\n",
       "      <td>9</td>\n",
       "    </tr>\n",
       "    <tr>\n",
       "      <th>ofn_5670</th>\n",
       "      <td>9</td>\n",
       "    </tr>\n",
       "    <tr>\n",
       "      <th>ofn_m</th>\n",
       "      <td>8</td>\n",
       "    </tr>\n",
       "    <tr>\n",
       "      <th>vio_cnt</th>\n",
       "      <td>8</td>\n",
       "    </tr>\n",
       "    <tr>\n",
       "      <th>popu_o60</th>\n",
       "      <td>6</td>\n",
       "    </tr>\n",
       "    <tr>\n",
       "      <th>vic_10</th>\n",
       "      <td>6</td>\n",
       "    </tr>\n",
       "    <tr>\n",
       "      <th>cctv_r</th>\n",
       "      <td>5</td>\n",
       "    </tr>\n",
       "    <tr>\n",
       "      <th>ofn_10</th>\n",
       "      <td>5</td>\n",
       "    </tr>\n",
       "    <tr>\n",
       "      <th>ofn_80ov</th>\n",
       "      <td>5</td>\n",
       "    </tr>\n",
       "    <tr>\n",
       "      <th>single_4050</th>\n",
       "      <td>5</td>\n",
       "    </tr>\n",
       "    <tr>\n",
       "      <th>single_합계</th>\n",
       "      <td>5</td>\n",
       "    </tr>\n",
       "    <tr>\n",
       "      <th>for_2030</th>\n",
       "      <td>5</td>\n",
       "    </tr>\n",
       "    <tr>\n",
       "      <th>for_합계</th>\n",
       "      <td>5</td>\n",
       "    </tr>\n",
       "    <tr>\n",
       "      <th>for_o40</th>\n",
       "      <td>4</td>\n",
       "    </tr>\n",
       "    <tr>\n",
       "      <th>vic_unknown</th>\n",
       "      <td>4</td>\n",
       "    </tr>\n",
       "    <tr>\n",
       "      <th>외국인인구수대비검거수</th>\n",
       "      <td>3</td>\n",
       "    </tr>\n",
       "    <tr>\n",
       "      <th>ofn_w</th>\n",
       "      <td>3</td>\n",
       "    </tr>\n",
       "    <tr>\n",
       "      <th>single_f_2030</th>\n",
       "      <td>3</td>\n",
       "    </tr>\n",
       "    <tr>\n",
       "      <th>ofn_unknown</th>\n",
       "      <td>3</td>\n",
       "    </tr>\n",
       "    <tr>\n",
       "      <th>vic_20</th>\n",
       "      <td>3</td>\n",
       "    </tr>\n",
       "    <tr>\n",
       "      <th>인구수대비검거수</th>\n",
       "      <td>3</td>\n",
       "    </tr>\n",
       "    <tr>\n",
       "      <th>adult_r</th>\n",
       "      <td>2</td>\n",
       "    </tr>\n",
       "    <tr>\n",
       "      <th>vic_5670</th>\n",
       "      <td>2</td>\n",
       "    </tr>\n",
       "  </tbody>\n",
       "</table>\n",
       "</div>"
      ],
      "text/plain": [
       "                0\n",
       "총범죄발생대비검거수     15\n",
       "house          12\n",
       "child          10\n",
       "mur_rob_cnt    10\n",
       "before_q4      10\n",
       "강도살인범죄발생대비검거수  10\n",
       "ofn_20         10\n",
       "case_car_man    9\n",
       "ofn_5670        9\n",
       "ofn_m           8\n",
       "vio_cnt         8\n",
       "popu_o60        6\n",
       "vic_10          6\n",
       "cctv_r          5\n",
       "ofn_10          5\n",
       "ofn_80ov        5\n",
       "single_4050     5\n",
       "single_합계       5\n",
       "for_2030        5\n",
       "for_합계          5\n",
       "for_o40         4\n",
       "vic_unknown     4\n",
       "외국인인구수대비검거수     3\n",
       "ofn_w           3\n",
       "single_f_2030   3\n",
       "ofn_unknown     3\n",
       "vic_20          3\n",
       "인구수대비검거수        3\n",
       "adult_r         2\n",
       "vic_5670        2"
      ]
     },
     "execution_count": 55,
     "metadata": {},
     "output_type": "execute_result"
    }
   ],
   "source": [
    "cat_q1_full_fi = pd.DataFrame(best.feature_importances_,index=X4_train.columns)\n",
    "cat_q1_full_fi.sort_values(by=0,ascending=False)[:30]"
   ]
  },
  {
   "cell_type": "markdown",
   "id": "3af806be",
   "metadata": {},
   "source": [
    "# Q5"
   ]
  },
  {
   "cell_type": "code",
   "execution_count": 56,
   "id": "8b371db2",
   "metadata": {
    "ExecuteTime": {
     "end_time": "2021-12-07T01:29:31.662196Z",
     "start_time": "2021-12-07T01:29:31.649674Z"
    }
   },
   "outputs": [],
   "source": [
    "model = lgbm.LGBMRegressor()"
   ]
  },
  {
   "cell_type": "code",
   "execution_count": 57,
   "id": "66289cb1",
   "metadata": {
    "ExecuteTime": {
     "end_time": "2021-12-07T01:29:32.178296Z",
     "start_time": "2021-12-07T01:29:32.165163Z"
    }
   },
   "outputs": [],
   "source": [
    "para = {\"max_depth\" : [-1, 0, 1, 2, 3, 4, 5, 6, 7, 8, 9, 10], \"n_estimators\" : [30, 50, 100], \"learning_rate\" : [0.1, 0.01], \"num_leaves\" : range(30)}"
   ]
  },
  {
   "cell_type": "code",
   "execution_count": 58,
   "id": "c8fd5007",
   "metadata": {
    "ExecuteTime": {
     "end_time": "2021-12-07T01:29:32.687707Z",
     "start_time": "2021-12-07T01:29:32.673864Z"
    }
   },
   "outputs": [],
   "source": [
    "grid = GridSearchCV(model, param_grid = para, cv = 3)"
   ]
  },
  {
   "cell_type": "code",
   "execution_count": 59,
   "id": "b321b7b5",
   "metadata": {
    "ExecuteTime": {
     "end_time": "2021-12-07T01:33:31.084226Z",
     "start_time": "2021-12-07T01:29:33.170355Z"
    }
   },
   "outputs": [
    {
     "data": {
      "text/plain": [
       "GridSearchCV(cv=3, estimator=LGBMRegressor(),\n",
       "             param_grid={'learning_rate': [0.1, 0.01],\n",
       "                         'max_depth': [-1, 0, 1, 2, 3, 4, 5, 6, 7, 8, 9, 10],\n",
       "                         'n_estimators': [30, 50, 100],\n",
       "                         'num_leaves': range(0, 30)})"
      ]
     },
     "execution_count": 59,
     "metadata": {},
     "output_type": "execute_result"
    }
   ],
   "source": [
    "grid.fit(X5_train, y5_train.astype(\"int\"))"
   ]
  },
  {
   "cell_type": "code",
   "execution_count": 60,
   "id": "ba5954b1",
   "metadata": {
    "ExecuteTime": {
     "end_time": "2021-12-07T01:33:31.718565Z",
     "start_time": "2021-12-07T01:33:31.705566Z"
    }
   },
   "outputs": [
    {
     "data": {
      "text/plain": [
       "LGBMRegressor(num_leaves=2)"
      ]
     },
     "execution_count": 60,
     "metadata": {},
     "output_type": "execute_result"
    }
   ],
   "source": [
    "best = grid.best_estimator_\n",
    "best"
   ]
  },
  {
   "cell_type": "code",
   "execution_count": 61,
   "id": "49dc3b6b",
   "metadata": {
    "ExecuteTime": {
     "end_time": "2021-12-07T01:33:32.309802Z",
     "start_time": "2021-12-07T01:33:32.296837Z"
    }
   },
   "outputs": [],
   "source": [
    "pred = best.predict(X5_test)"
   ]
  },
  {
   "cell_type": "code",
   "execution_count": 62,
   "id": "0c34bc7a",
   "metadata": {
    "ExecuteTime": {
     "end_time": "2021-12-07T01:33:32.947516Z",
     "start_time": "2021-12-07T01:33:32.935008Z"
    }
   },
   "outputs": [
    {
     "data": {
      "text/plain": [
       "2.472423040435554"
      ]
     },
     "execution_count": 62,
     "metadata": {},
     "output_type": "execute_result"
    }
   ],
   "source": [
    "mean_absolute_error(pred, y5_test)"
   ]
  },
  {
   "cell_type": "code",
   "execution_count": 63,
   "id": "f75cdf3e",
   "metadata": {
    "ExecuteTime": {
     "end_time": "2021-12-07T01:33:33.486485Z",
     "start_time": "2021-12-07T01:33:33.473202Z"
    }
   },
   "outputs": [
    {
     "data": {
      "text/html": [
       "<div>\n",
       "<style scoped>\n",
       "    .dataframe tbody tr th:only-of-type {\n",
       "        vertical-align: middle;\n",
       "    }\n",
       "\n",
       "    .dataframe tbody tr th {\n",
       "        vertical-align: top;\n",
       "    }\n",
       "\n",
       "    .dataframe thead th {\n",
       "        text-align: right;\n",
       "    }\n",
       "</style>\n",
       "<table border=\"1\" class=\"dataframe\">\n",
       "  <thead>\n",
       "    <tr style=\"text-align: right;\">\n",
       "      <th></th>\n",
       "      <th>0</th>\n",
       "    </tr>\n",
       "  </thead>\n",
       "  <tbody>\n",
       "    <tr>\n",
       "      <th>child</th>\n",
       "      <td>8</td>\n",
       "    </tr>\n",
       "    <tr>\n",
       "      <th>single_u20</th>\n",
       "      <td>8</td>\n",
       "    </tr>\n",
       "    <tr>\n",
       "      <th>vio_cnt</th>\n",
       "      <td>8</td>\n",
       "    </tr>\n",
       "    <tr>\n",
       "      <th>house</th>\n",
       "      <td>7</td>\n",
       "    </tr>\n",
       "    <tr>\n",
       "      <th>single_4050</th>\n",
       "      <td>7</td>\n",
       "    </tr>\n",
       "    <tr>\n",
       "      <th>ofn_20</th>\n",
       "      <td>6</td>\n",
       "    </tr>\n",
       "    <tr>\n",
       "      <th>절도폭력범죄발생대비검거수</th>\n",
       "      <td>6</td>\n",
       "    </tr>\n",
       "    <tr>\n",
       "      <th>for_2030</th>\n",
       "      <td>6</td>\n",
       "    </tr>\n",
       "    <tr>\n",
       "      <th>vic_w</th>\n",
       "      <td>5</td>\n",
       "    </tr>\n",
       "    <tr>\n",
       "      <th>ofn_w</th>\n",
       "      <td>5</td>\n",
       "    </tr>\n",
       "    <tr>\n",
       "      <th>ofn_5670</th>\n",
       "      <td>5</td>\n",
       "    </tr>\n",
       "    <tr>\n",
       "      <th>before_q5</th>\n",
       "      <td>5</td>\n",
       "    </tr>\n",
       "    <tr>\n",
       "      <th>for_o40</th>\n",
       "      <td>4</td>\n",
       "    </tr>\n",
       "    <tr>\n",
       "      <th>case_car_only</th>\n",
       "      <td>4</td>\n",
       "    </tr>\n",
       "    <tr>\n",
       "      <th>ofn_10</th>\n",
       "      <td>3</td>\n",
       "    </tr>\n",
       "    <tr>\n",
       "      <th>vic_80ov</th>\n",
       "      <td>3</td>\n",
       "    </tr>\n",
       "    <tr>\n",
       "      <th>vic_340</th>\n",
       "      <td>3</td>\n",
       "    </tr>\n",
       "    <tr>\n",
       "      <th>ofn_unknown</th>\n",
       "      <td>2</td>\n",
       "    </tr>\n",
       "    <tr>\n",
       "      <th>single_o60</th>\n",
       "      <td>2</td>\n",
       "    </tr>\n",
       "    <tr>\n",
       "      <th>for_합계</th>\n",
       "      <td>2</td>\n",
       "    </tr>\n",
       "    <tr>\n",
       "      <th>ofn_340</th>\n",
       "      <td>1</td>\n",
       "    </tr>\n",
       "    <tr>\n",
       "      <th>popu_합계</th>\n",
       "      <td>0</td>\n",
       "    </tr>\n",
       "    <tr>\n",
       "      <th>car_cnt</th>\n",
       "      <td>0</td>\n",
       "    </tr>\n",
       "    <tr>\n",
       "      <th>ofn_80ov</th>\n",
       "      <td>0</td>\n",
       "    </tr>\n",
       "    <tr>\n",
       "      <th>ofn_m</th>\n",
       "      <td>0</td>\n",
       "    </tr>\n",
       "    <tr>\n",
       "      <th>mur_rob_cnt</th>\n",
       "      <td>0</td>\n",
       "    </tr>\n",
       "    <tr>\n",
       "      <th>single_2030</th>\n",
       "      <td>0</td>\n",
       "    </tr>\n",
       "    <tr>\n",
       "      <th>vic_10</th>\n",
       "      <td>0</td>\n",
       "    </tr>\n",
       "    <tr>\n",
       "      <th>bell_r</th>\n",
       "      <td>0</td>\n",
       "    </tr>\n",
       "    <tr>\n",
       "      <th>vic_5670</th>\n",
       "      <td>0</td>\n",
       "    </tr>\n",
       "  </tbody>\n",
       "</table>\n",
       "</div>"
      ],
      "text/plain": [
       "               0\n",
       "child          8\n",
       "single_u20     8\n",
       "vio_cnt        8\n",
       "house          7\n",
       "single_4050    7\n",
       "ofn_20         6\n",
       "절도폭력범죄발생대비검거수  6\n",
       "for_2030       6\n",
       "vic_w          5\n",
       "ofn_w          5\n",
       "ofn_5670       5\n",
       "before_q5      5\n",
       "for_o40        4\n",
       "case_car_only  4\n",
       "ofn_10         3\n",
       "vic_80ov       3\n",
       "vic_340        3\n",
       "ofn_unknown    2\n",
       "single_o60     2\n",
       "for_합계         2\n",
       "ofn_340        1\n",
       "popu_합계        0\n",
       "car_cnt        0\n",
       "ofn_80ov       0\n",
       "ofn_m          0\n",
       "mur_rob_cnt    0\n",
       "single_2030    0\n",
       "vic_10         0\n",
       "bell_r         0\n",
       "vic_5670       0"
      ]
     },
     "execution_count": 63,
     "metadata": {},
     "output_type": "execute_result"
    }
   ],
   "source": [
    "cat_q1_full_fi = pd.DataFrame(best.feature_importances_,index=X5_train.columns)\n",
    "cat_q1_full_fi.sort_values(by=0,ascending=False)[:30]"
   ]
  }
 ],
 "metadata": {
  "kernelspec": {
   "display_name": "Python 3",
   "language": "python",
   "name": "python3"
  },
  "language_info": {
   "codemirror_mode": {
    "name": "ipython",
    "version": 3
   },
   "file_extension": ".py",
   "mimetype": "text/x-python",
   "name": "python",
   "nbconvert_exporter": "python",
   "pygments_lexer": "ipython3",
   "version": "3.8.8"
  },
  "toc": {
   "base_numbering": 1,
   "nav_menu": {},
   "number_sections": true,
   "sideBar": true,
   "skip_h1_title": false,
   "title_cell": "Table of Contents",
   "title_sidebar": "Contents",
   "toc_cell": false,
   "toc_position": {},
   "toc_section_display": true,
   "toc_window_display": false
  },
  "varInspector": {
   "cols": {
    "lenName": 16,
    "lenType": 16,
    "lenVar": 40
   },
   "kernels_config": {
    "python": {
     "delete_cmd_postfix": "",
     "delete_cmd_prefix": "del ",
     "library": "var_list.py",
     "varRefreshCmd": "print(var_dic_list())"
    },
    "r": {
     "delete_cmd_postfix": ") ",
     "delete_cmd_prefix": "rm(",
     "library": "var_list.r",
     "varRefreshCmd": "cat(var_dic_list()) "
    }
   },
   "types_to_exclude": [
    "module",
    "function",
    "builtin_function_or_method",
    "instance",
    "_Feature"
   ],
   "window_display": false
  }
 },
 "nbformat": 4,
 "nbformat_minor": 5
}
