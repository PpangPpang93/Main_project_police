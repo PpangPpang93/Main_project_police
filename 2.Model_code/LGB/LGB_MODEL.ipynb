{
 "cells": [
  {
   "cell_type": "code",
   "execution_count": 2,
   "id": "03dc2383",
   "metadata": {
    "ExecuteTime": {
     "end_time": "2021-12-03T06:20:50.272697Z",
     "start_time": "2021-12-03T06:20:45.684629Z"
    }
   },
   "outputs": [],
   "source": [
    "import numpy as np\n",
    "import pandas as pd\n",
    "import matplotlib.pyplot as plt\n",
    "import seaborn as sns\n",
    "import plotly.express as px\n",
    "from sklearn.preprocessing import StandardScaler\n",
    "from sklearn.preprocessing import MinMaxScaler\n",
    "from sklearn.metrics import accuracy_score\n",
    "from tqdm import tqdm\n",
    "\n",
    "# OLS\n",
    "from statsmodels.formula.api import ols\n",
    "import statsmodels.api as sm\n",
    "# VIF 확인\n",
    "from statsmodels.stats.outliers_influence import variance_inflation_factor \n",
    "\n",
    "from sklearn.metrics import mean_absolute_error\n",
    "import warnings"
   ]
  },
  {
   "cell_type": "code",
   "execution_count": 47,
   "id": "6ae2177e",
   "metadata": {
    "ExecuteTime": {
     "end_time": "2021-12-03T06:25:27.719405Z",
     "start_time": "2021-12-03T06:25:27.699460Z"
    }
   },
   "outputs": [],
   "source": [
    "import warnings\n",
    "import platform\n",
    "from matplotlib import font_manager, rc\n",
    "\n",
    "path = \"c:/Windows/Fonts/malgun.ttf\"\n",
    "if platform.system() == 'Darwin':\n",
    "    font_name = 'AppleGothic'\n",
    "    rc('font', family='AppleGothic')\n",
    "elif platform.system() == 'Windows':\n",
    "    font_name = font_manager.FontProperties(fname=path).get_name()\n",
    "    rc('font', family=font_name)\n",
    "else:\n",
    "    font_name = font_manager.FontProperties(fname=\"/usr/share/fonts/nanumfont/NanumGothic.ttf\")\n",
    "    rc('font', family=\"NanumGothic\")\n",
    "warnings.simplefilter(action='ignore')"
   ]
  },
  {
   "cell_type": "code",
   "execution_count": 6,
   "id": "48d6fb05",
   "metadata": {
    "ExecuteTime": {
     "end_time": "2021-12-03T03:49:45.999124Z",
     "start_time": "2021-12-03T03:49:40.965165Z"
    }
   },
   "outputs": [
    {
     "name": "stdout",
     "output_type": "stream",
     "text": [
      "Collecting lightgbm\n",
      "  Downloading lightgbm-3.3.1-py3-none-win_amd64.whl (1.0 MB)\n",
      "Requirement already satisfied: wheel in c:\\programdata\\anaconda3\\lib\\site-packages (from lightgbm) (0.36.2)\n",
      "Requirement already satisfied: scikit-learn!=0.22.0 in c:\\programdata\\anaconda3\\lib\\site-packages (from lightgbm) (0.24.1)\n",
      "Requirement already satisfied: scipy in c:\\programdata\\anaconda3\\lib\\site-packages (from lightgbm) (1.6.2)\n",
      "Requirement already satisfied: numpy in c:\\programdata\\anaconda3\\lib\\site-packages (from lightgbm) (1.20.1)\n",
      "Requirement already satisfied: threadpoolctl>=2.0.0 in c:\\programdata\\anaconda3\\lib\\site-packages (from scikit-learn!=0.22.0->lightgbm) (2.1.0)\n",
      "Requirement already satisfied: joblib>=0.11 in c:\\programdata\\anaconda3\\lib\\site-packages (from scikit-learn!=0.22.0->lightgbm) (1.0.1)\n",
      "Installing collected packages: lightgbm\n",
      "Successfully installed lightgbm-3.3.1\n"
     ]
    },
    {
     "name": "stderr",
     "output_type": "stream",
     "text": [
      "WARNING: Ignoring invalid distribution -eautifulsoup4 (c:\\programdata\\anaconda3\\lib\\site-packages)\n",
      "WARNING: Ignoring invalid distribution -eautifulsoup4 (c:\\programdata\\anaconda3\\lib\\site-packages)\n",
      "WARNING: Ignoring invalid distribution -eautifulsoup4 (c:\\programdata\\anaconda3\\lib\\site-packages)\n",
      "WARNING: Ignoring invalid distribution -eautifulsoup4 (c:\\programdata\\anaconda3\\lib\\site-packages)\n",
      "WARNING: Ignoring invalid distribution -eautifulsoup4 (c:\\programdata\\anaconda3\\lib\\site-packages)\n",
      "WARNING: Ignoring invalid distribution -eautifulsoup4 (c:\\programdata\\anaconda3\\lib\\site-packages)\n"
     ]
    }
   ],
   "source": [
    "!pip install lightgbm"
   ]
  },
  {
   "cell_type": "code",
   "execution_count": 45,
   "id": "db67e896",
   "metadata": {
    "ExecuteTime": {
     "end_time": "2021-12-03T06:23:48.090079Z",
     "start_time": "2021-12-03T06:23:47.945702Z"
    },
    "scrolled": true
   },
   "outputs": [],
   "source": [
    "# 라이브러리 import\n",
    "from sklearn.datasets import load_breast_cancer\n",
    "from sklearn.datasets import load_wine\n",
    "from sklearn.model_selection import train_test_split\n",
    "\n",
    "from lightgbm import LGBMClassifier, plot_importance\n",
    "\n",
    "from matplotlib import pyplot as plt\n",
    "from lightgbm import plot_importance\n",
    "from lightgbm import plot_tree\n",
    "\n",
    "from sklearn.metrics import classification_report"
   ]
  },
  {
   "cell_type": "code",
   "execution_count": 14,
   "id": "1b28b2dd",
   "metadata": {
    "ExecuteTime": {
     "end_time": "2021-12-03T06:21:32.394036Z",
     "start_time": "2021-12-03T06:21:32.385063Z"
    }
   },
   "outputs": [],
   "source": [
    "import lightgbm as lgb\n"
   ]
  },
  {
   "cell_type": "code",
   "execution_count": 33,
   "id": "ac72cfc3",
   "metadata": {
    "ExecuteTime": {
     "end_time": "2021-12-03T06:23:02.849351Z",
     "start_time": "2021-12-03T06:23:02.822424Z"
    }
   },
   "outputs": [],
   "source": [
    "total = pd.read_csv(\"total_data(2016포함).csv\")"
   ]
  },
  {
   "cell_type": "code",
   "execution_count": 34,
   "id": "a8e11e0a",
   "metadata": {
    "ExecuteTime": {
     "end_time": "2021-12-03T06:23:03.187319Z",
     "start_time": "2021-12-03T06:23:03.176378Z"
    }
   },
   "outputs": [],
   "source": [
    "total = total[(total[\"year\"] != \"2020(상반기)\") & (total[\"year\"] != \"2020(하반기)\")]"
   ]
  },
  {
   "cell_type": "code",
   "execution_count": 35,
   "id": "eeaccb64",
   "metadata": {
    "ExecuteTime": {
     "end_time": "2021-12-03T06:23:03.513410Z",
     "start_time": "2021-12-03T06:23:03.501413Z"
    }
   },
   "outputs": [],
   "source": [
    "col_name_x = total.columns[2:-5]\n",
    "col_name_y = total.columns[-5:]"
   ]
  },
  {
   "cell_type": "code",
   "execution_count": 59,
   "id": "c4df513f",
   "metadata": {
    "ExecuteTime": {
     "end_time": "2021-12-03T04:08:07.602124Z",
     "start_time": "2021-12-03T04:08:07.573194Z"
    }
   },
   "outputs": [
    {
     "data": {
      "text/html": [
       "<div>\n",
       "<style scoped>\n",
       "    .dataframe tbody tr th:only-of-type {\n",
       "        vertical-align: middle;\n",
       "    }\n",
       "\n",
       "    .dataframe tbody tr th {\n",
       "        vertical-align: top;\n",
       "    }\n",
       "\n",
       "    .dataframe thead th {\n",
       "        text-align: right;\n",
       "    }\n",
       "</style>\n",
       "<table border=\"1\" class=\"dataframe\">\n",
       "  <thead>\n",
       "    <tr style=\"text-align: right;\">\n",
       "      <th></th>\n",
       "      <th>year</th>\n",
       "      <th>q1</th>\n",
       "      <th>q2</th>\n",
       "      <th>q3</th>\n",
       "      <th>q4</th>\n",
       "      <th>q5</th>\n",
       "    </tr>\n",
       "  </thead>\n",
       "  <tbody>\n",
       "    <tr>\n",
       "      <th>0</th>\n",
       "      <td>2017(상반기)</td>\n",
       "      <td>75.2</td>\n",
       "      <td>76.5</td>\n",
       "      <td>69.9</td>\n",
       "      <td>65.9</td>\n",
       "      <td>72.6</td>\n",
       "    </tr>\n",
       "    <tr>\n",
       "      <th>1</th>\n",
       "      <td>2017(상반기)</td>\n",
       "      <td>81.6</td>\n",
       "      <td>82.4</td>\n",
       "      <td>69.1</td>\n",
       "      <td>62.7</td>\n",
       "      <td>72.2</td>\n",
       "    </tr>\n",
       "    <tr>\n",
       "      <th>2</th>\n",
       "      <td>2017(상반기)</td>\n",
       "      <td>77.3</td>\n",
       "      <td>79.3</td>\n",
       "      <td>68.8</td>\n",
       "      <td>61.0</td>\n",
       "      <td>71.7</td>\n",
       "    </tr>\n",
       "    <tr>\n",
       "      <th>3</th>\n",
       "      <td>2017(상반기)</td>\n",
       "      <td>78.0</td>\n",
       "      <td>80.0</td>\n",
       "      <td>67.0</td>\n",
       "      <td>66.3</td>\n",
       "      <td>71.4</td>\n",
       "    </tr>\n",
       "    <tr>\n",
       "      <th>4</th>\n",
       "      <td>2017(상반기)</td>\n",
       "      <td>78.6</td>\n",
       "      <td>80.6</td>\n",
       "      <td>70.7</td>\n",
       "      <td>65.2</td>\n",
       "      <td>75.4</td>\n",
       "    </tr>\n",
       "    <tr>\n",
       "      <th>...</th>\n",
       "      <td>...</td>\n",
       "      <td>...</td>\n",
       "      <td>...</td>\n",
       "      <td>...</td>\n",
       "      <td>...</td>\n",
       "      <td>...</td>\n",
       "    </tr>\n",
       "    <tr>\n",
       "      <th>241</th>\n",
       "      <td>2019(하반기)</td>\n",
       "      <td>79.1</td>\n",
       "      <td>79.5</td>\n",
       "      <td>68.5</td>\n",
       "      <td>71.2</td>\n",
       "      <td>76.0</td>\n",
       "    </tr>\n",
       "    <tr>\n",
       "      <th>242</th>\n",
       "      <td>2019(하반기)</td>\n",
       "      <td>80.8</td>\n",
       "      <td>80.0</td>\n",
       "      <td>70.8</td>\n",
       "      <td>73.2</td>\n",
       "      <td>76.5</td>\n",
       "    </tr>\n",
       "    <tr>\n",
       "      <th>243</th>\n",
       "      <td>2019(하반기)</td>\n",
       "      <td>75.0</td>\n",
       "      <td>76.5</td>\n",
       "      <td>69.4</td>\n",
       "      <td>68.9</td>\n",
       "      <td>73.1</td>\n",
       "    </tr>\n",
       "    <tr>\n",
       "      <th>244</th>\n",
       "      <td>2019(하반기)</td>\n",
       "      <td>78.7</td>\n",
       "      <td>79.6</td>\n",
       "      <td>70.3</td>\n",
       "      <td>74.6</td>\n",
       "      <td>75.6</td>\n",
       "    </tr>\n",
       "    <tr>\n",
       "      <th>245</th>\n",
       "      <td>2019(하반기)</td>\n",
       "      <td>76.6</td>\n",
       "      <td>79.2</td>\n",
       "      <td>67.0</td>\n",
       "      <td>70.9</td>\n",
       "      <td>73.5</td>\n",
       "    </tr>\n",
       "  </tbody>\n",
       "</table>\n",
       "<p>246 rows × 6 columns</p>\n",
       "</div>"
      ],
      "text/plain": [
       "          year    q1    q2    q3    q4    q5\n",
       "0    2017(상반기)  75.2  76.5  69.9  65.9  72.6\n",
       "1    2017(상반기)  81.6  82.4  69.1  62.7  72.2\n",
       "2    2017(상반기)  77.3  79.3  68.8  61.0  71.7\n",
       "3    2017(상반기)  78.0  80.0  67.0  66.3  71.4\n",
       "4    2017(상반기)  78.6  80.6  70.7  65.2  75.4\n",
       "..         ...   ...   ...   ...   ...   ...\n",
       "241  2019(하반기)  79.1  79.5  68.5  71.2  76.0\n",
       "242  2019(하반기)  80.8  80.0  70.8  73.2  76.5\n",
       "243  2019(하반기)  75.0  76.5  69.4  68.9  73.1\n",
       "244  2019(하반기)  78.7  79.6  70.3  74.6  75.6\n",
       "245  2019(하반기)  76.6  79.2  67.0  70.9  73.5\n",
       "\n",
       "[246 rows x 6 columns]"
      ]
     },
     "execution_count": 59,
     "metadata": {},
     "output_type": "execute_result"
    }
   ],
   "source": [
    "total[[\"year\", \"q1\", \"q2\", \"q3\", \"q4\", \"q5\"]]"
   ]
  },
  {
   "cell_type": "code",
   "execution_count": 36,
   "id": "fee4246c",
   "metadata": {
    "ExecuteTime": {
     "end_time": "2021-12-03T06:23:05.815622Z",
     "start_time": "2021-12-03T06:23:05.796714Z"
    }
   },
   "outputs": [],
   "source": [
    "X = total[col_name_x]\n",
    "y = total[col_name_y]\n",
    "x_train = X.loc[:163]\n",
    "x_test = X.loc[164:]\n",
    "y_train = y.loc[:163]\n",
    "y_test = y.loc[164:]"
   ]
  },
  {
   "cell_type": "code",
   "execution_count": null,
   "id": "72ef5fe7",
   "metadata": {},
   "outputs": [],
   "source": [
    "[[\"year\", \"q1\", \"q2\", \"q3\", \"q4\", \"q5\"]]\n",
    "y_train[[\"year\", \"q1\"]]"
   ]
  },
  {
   "cell_type": "code",
   "execution_count": 37,
   "id": "8fc026d0",
   "metadata": {
    "ExecuteTime": {
     "end_time": "2021-12-03T06:23:08.075220Z",
     "start_time": "2021-12-03T06:23:08.054275Z"
    }
   },
   "outputs": [],
   "source": [
    "y1_train = y_train[[\"q1\"]]\n",
    "y1_test = y_test[[\"q1\"]]\n",
    "\n",
    "y2_train = y_train[\"q2\"]\n",
    "y2_test = y_test[\"q2\"]\n",
    "\n",
    "y3_train = y_train[\"q3\"]\n",
    "y3_test = y_test[\"q3\"]\n",
    "\n",
    "y4_train = y_train[\"q4\"]\n",
    "y4_test = y_test[\"q4\"]\n",
    "\n",
    "y5_train = y_train[\"q5\"]\n",
    "y5_test = y_test[\"q5\"]"
   ]
  },
  {
   "cell_type": "code",
   "execution_count": 10,
   "id": "9a21c51f",
   "metadata": {
    "ExecuteTime": {
     "end_time": "2021-12-03T06:21:15.065624Z",
     "start_time": "2021-12-03T06:21:15.026441Z"
    }
   },
   "outputs": [],
   "source": [
    "std_scaler = StandardScaler()\n",
    "std_scaler.fit(x_train)\n",
    "x_train_s = pd.DataFrame(std_scaler.transform(x_train), columns = x_train.columns)\n",
    "# x_train_s = sm.add_constant(x_train, has_constant = \"add\")\n",
    "\n",
    "x_test_s = std_scaler.transform(x_test)\n",
    "x_test_s = pd.DataFrame(std_scaler.transform(x_test), columns = x_test.columns)\n",
    "# x_test_s = sm.add_constant(x_test, has_constant = \"add\")"
   ]
  },
  {
   "cell_type": "code",
   "execution_count": 17,
   "id": "236029c3",
   "metadata": {
    "ExecuteTime": {
     "end_time": "2021-12-03T06:21:43.286742Z",
     "start_time": "2021-12-03T06:21:43.269753Z"
    }
   },
   "outputs": [],
   "source": [
    "b1 = ['report_sx_여성', 'vio_cnt', 'theft_violence_x', 'robber_murder_x',\n",
    "       'theft_violence_y', 'robber_murder_y', '가해_10대이하', '피해_80대이상', 'for_합계',\n",
    "       'popu_2030', 'popu_o60', 'for_u20', 'for_2030', 'for_4050', 'for_o60',\n",
    "       'single_합계', 'single_2030', 'single_4050', 'single_o60', 'single_f_합계',\n",
    "       'single_f_4050', 'single_f_o60']\n",
    "\n",
    "b2 = ['robber_murder_y', 'single_o60', '가해_10대이하', 'for_u20',\n",
    "       'robber_murder_x', 'for_합계', '피해_80대이상', 'vio_cnt', 'single_합계',\n",
    "       'single_f_합계', 'theft_violence_y', 'theft_violence_x', 'for_o60',\n",
    "       'single_4050', 'single_f_4050', 'popu_o60', 'single_f_o60',\n",
    "       'report_sx_여성', 'for_2030', 'for_4050']\n",
    "\n",
    "b3 = ['robber_murder_y', 'single_f_2030', '가해_80대이상', 'single_2030',\n",
    "       'single_4050', '피해_70대', 'traffic_x', 'adult', 'robber_murder_x',\n",
    "       'mur_rob_cnt', '가해_70대', 'theft_violence_y', 'for_4050', 'single_합계',\n",
    "       'for_o60', 'theft_violence_x', '5m_crm_yn', 'for_합계', 'for_2030',\n",
    "       'bell']\n",
    "\n",
    "b4 = ['mur_rob_cnt', 'for_4050', 'for_합계', 'single_4050', 'single_합계', 'cctv',\n",
    "       'for_2030', 'theft_violence_x', 'for_o60', '가해_여', 'car_cnt']\n",
    "\n",
    "b5 = ['single_o60', 'single_f_o60', 'single_f_합계', 'for_2030', 'single_2030',\n",
    "       'for_합계', 'for_o60', 'popu_o60', 'vio_cnt', 'single_4050', 'popu_2030',\n",
    "       'for_u20', 'single_f_4050', 'robber_murder_x', 'single_합계', '가해_여',\n",
    "       'for_4050', '피해_80대이상', 'robber_murder_y', 'theft_violence_x']"
   ]
  },
  {
   "cell_type": "markdown",
   "id": "5bc9ea58",
   "metadata": {},
   "source": [
    "# LGB"
   ]
  },
  {
   "cell_type": "markdown",
   "id": "9363841b",
   "metadata": {},
   "source": [
    "장점)\n",
    "\n",
    "    - 학습하는데 걸리는 시간이 적다, 빠른 속도\n",
    "\n",
    "    - 메모리 사용량이 상대적으로 적은편이다\n",
    "\n",
    "    - categorical feature들의 자동 변환과 최적 분할\n",
    "\n",
    "    - GPU 학습 지원\n",
    "\n",
    "단점)\n",
    "\n",
    "    - 작은 dataset을 사용할 경우 과적합 가능성이 크다 (일반적으로 10,000개 이하의 데이터를 적다고 한다)"
   ]
  },
  {
   "cell_type": "code",
   "execution_count": 13,
   "id": "6b8f95e3",
   "metadata": {
    "ExecuteTime": {
     "end_time": "2021-12-03T06:21:27.974156Z",
     "start_time": "2021-12-03T06:21:26.714658Z"
    }
   },
   "outputs": [],
   "source": [
    "import lightgbm as lgbm"
   ]
  },
  {
   "cell_type": "code",
   "execution_count": 15,
   "id": "da6755c1",
   "metadata": {
    "ExecuteTime": {
     "end_time": "2021-12-03T06:21:39.429353Z",
     "start_time": "2021-12-03T06:21:39.417381Z"
    }
   },
   "outputs": [],
   "source": [
    "reg = lgbm.LGBMRegressor()"
   ]
  },
  {
   "cell_type": "code",
   "execution_count": 98,
   "id": "7591a79e",
   "metadata": {
    "ExecuteTime": {
     "end_time": "2021-12-03T07:08:39.304979Z",
     "start_time": "2021-12-03T07:08:38.749290Z"
    }
   },
   "outputs": [],
   "source": [
    "lgb_model = lgb.LGBMClassifier(max_depth = 10, n_estimators = 100, learning_rate = 0.01).fit(x_train, y5_train.astype(\"int\"))"
   ]
  },
  {
   "cell_type": "code",
   "execution_count": 95,
   "id": "37abd0f6",
   "metadata": {
    "ExecuteTime": {
     "end_time": "2021-12-03T07:02:40.398653Z",
     "start_time": "2021-12-03T07:02:40.375719Z"
    }
   },
   "outputs": [],
   "source": [
    "a = lgb_model.predict(x_test)"
   ]
  },
  {
   "cell_type": "code",
   "execution_count": 99,
   "id": "09dda9a8",
   "metadata": {
    "ExecuteTime": {
     "end_time": "2021-12-03T07:08:41.560025Z",
     "start_time": "2021-12-03T07:08:41.542073Z"
    },
    "scrolled": true
   },
   "outputs": [
    {
     "data": {
      "text/plain": [
       "6.175609756097559"
      ]
     },
     "execution_count": 99,
     "metadata": {},
     "output_type": "execute_result"
    }
   ],
   "source": [
    "mean_absolute_error(a, y5_test)"
   ]
  },
  {
   "cell_type": "code",
   "execution_count": 100,
   "id": "f0b28413",
   "metadata": {
    "ExecuteTime": {
     "end_time": "2021-12-03T07:08:54.149986Z",
     "start_time": "2021-12-03T07:08:51.453751Z"
    },
    "scrolled": true
   },
   "outputs": [
    {
     "data": {
      "image/png": "[encoded data removed]",
      "text/plain": [
       "<Figure size 1440x1440 with 1 Axes>"
      ]
     },
     "metadata": {
      "needs_background": "light"
     },
     "output_type": "display_data"
    }
   ],
   "source": [
    "fig, ax = plt.subplots(figsize = (20, 20))\n",
    "plot_importance(lgb_model, ax=ax)\n",
    "plt.show(30)"
   ]
  }
 ],
 "metadata": {
  "kernelspec": {
   "display_name": "Python 3",
   "language": "python",
   "name": "python3"
  },
  "language_info": {
   "codemirror_mode": {
    "name": "ipython",
    "version": 3
   },
   "file_extension": ".py",
   "mimetype": "text/x-python",
   "name": "python",
   "nbconvert_exporter": "python",
   "pygments_lexer": "ipython3",
   "version": "3.8.8"
  },
  "toc": {
   "base_numbering": 1,
   "nav_menu": {},
   "number_sections": true,
   "sideBar": true,
   "skip_h1_title": false,
   "title_cell": "Table of Contents",
   "title_sidebar": "Contents",
   "toc_cell": false,
   "toc_position": {},
   "toc_section_display": true,
   "toc_window_display": false
  },
  "varInspector": {
   "cols": {
    "lenName": 16,
    "lenType": 16,
    "lenVar": 40
   },
   "kernels_config": {
    "python": {
     "delete_cmd_postfix": "",
     "delete_cmd_prefix": "del ",
     "library": "var_list.py",
     "varRefreshCmd": "print(var_dic_list())"
    },
    "r": {
     "delete_cmd_postfix": ") ",
     "delete_cmd_prefix": "rm(",
     "library": "var_list.r",
     "varRefreshCmd": "cat(var_dic_list()) "
    }
   },
   "types_to_exclude": [
    "module",
    "function",
    "builtin_function_or_method",
    "instance",
    "_Feature"
   ],
   "window_display": false
  }
 },
 "nbformat": 4,
 "nbformat_minor": 5
}
