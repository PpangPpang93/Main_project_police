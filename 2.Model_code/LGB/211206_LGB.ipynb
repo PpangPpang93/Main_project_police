{
 "cells": [
  {
   "cell_type": "code",
   "execution_count": 859,
   "id": "383bb258",
   "metadata": {
    "ExecuteTime": {
     "end_time": "2021-12-06T08:06:37.156708Z",
     "start_time": "2021-12-06T08:06:37.145263Z"
    }
   },
   "outputs": [],
   "source": [
    "import pandas as pd\n",
    "import numpy as np\n",
    "import seaborn as sns\n",
    "import matplotlib.pyplot as plt\n",
    "import os"
   ]
  },
  {
   "cell_type": "code",
   "execution_count": 860,
   "id": "cd25e7c8",
   "metadata": {
    "ExecuteTime": {
     "end_time": "2021-12-06T08:06:50.423288Z",
     "start_time": "2021-12-06T08:06:50.410970Z"
    }
   },
   "outputs": [],
   "source": [
    "# 라이브러리 import\n",
    "from sklearn.datasets import load_breast_cancer\n",
    "from sklearn.datasets import load_wine\n",
    "from sklearn.model_selection import train_test_split\n",
    "\n",
    "from lightgbm import LGBMClassifier, plot_importance\n",
    "\n",
    "from matplotlib import pyplot as plt\n",
    "from lightgbm import plot_importance\n",
    "from lightgbm import plot_tree\n",
    "\n",
    "from sklearn.metrics import classification_report"
   ]
  },
  {
   "cell_type": "code",
   "execution_count": 861,
   "id": "97bf8ffd",
   "metadata": {
    "ExecuteTime": {
     "end_time": "2021-12-06T08:07:03.234978Z",
     "start_time": "2021-12-06T08:07:03.222107Z"
    }
   },
   "outputs": [],
   "source": [
    "from sklearn.preprocessing import StandardScaler"
   ]
  },
  {
   "cell_type": "code",
   "execution_count": 862,
   "id": "122ec37b",
   "metadata": {
    "ExecuteTime": {
     "end_time": "2021-12-06T08:07:15.279449Z",
     "start_time": "2021-12-06T08:07:15.267483Z"
    }
   },
   "outputs": [],
   "source": [
    "import warnings\n",
    "import platform\n",
    "from matplotlib import font_manager, rc\n",
    "## 운영체제별 글꼴 세팅\n",
    "path = \"c:/Windows/Fonts/malgun.ttf\"\n",
    "if platform.system() == 'Darwin':\n",
    "    font_name = 'AppleGothic'\n",
    "    rc('font', family='AppleGothic')\n",
    "elif platform.system() == 'Windows':\n",
    "    font_name = font_manager.FontProperties(fname=path).get_name()\n",
    "    rc('font', family=font_name)\n",
    "else:\n",
    "    font_name = font_manager.FontProperties(fname=\"/usr/share/fonts/nanumfont/NanumGothic.ttf\")\n",
    "    rc('font', family=\"NanumGothic\")\n",
    "warnings.simplefilter(action='ignore')"
   ]
  },
  {
   "cell_type": "code",
   "execution_count": 919,
   "id": "3b778b7c",
   "metadata": {
    "ExecuteTime": {
     "end_time": "2021-12-06T08:45:41.692398Z",
     "start_time": "2021-12-06T08:45:41.659485Z"
    }
   },
   "outputs": [],
   "source": [
    "df_cat = pd.read_csv(\"total_data(교통,인구,집값,어린이,벨포함).csv\")"
   ]
  },
  {
   "cell_type": "code",
   "execution_count": 920,
   "id": "aa27f044",
   "metadata": {
    "ExecuteTime": {
     "end_time": "2021-12-06T08:45:52.985108Z",
     "start_time": "2021-12-06T08:45:52.973140Z"
    }
   },
   "outputs": [],
   "source": [
    "df_cat = df_cat[(df_cat[\"year\"] != \"2020(상반기)\") & (df_cat[\"year\"] != \"2020(하반기)\")]"
   ]
  },
  {
   "cell_type": "code",
   "execution_count": 921,
   "id": "49d7c0ca",
   "metadata": {
    "ExecuteTime": {
     "end_time": "2021-12-06T08:46:04.653683Z",
     "start_time": "2021-12-06T08:46:04.624811Z"
    }
   },
   "outputs": [],
   "source": [
    "X = df_cat[df_cat.columns[2:-5]]\n",
    "y = df_cat[df_cat.columns[-5:]]\n",
    "\n",
    "y1 = df_cat[[\"q1\"]]\n",
    "y2 = df_cat[[\"q2\"]]\n",
    "y3 = df_cat[[\"q3\"]]\n",
    "y4 = df_cat[[\"q4\"]]\n",
    "y5 = df_cat[[\"q5\"]]\n",
    "\n",
    "# standard = StandardScaler()\n",
    "# standard.fit(X)\n",
    "# X_stand = standard.transform(X)\n",
    "# X_scale = pd.DataFrame(X_stand,columns = X.columns)\n",
    "\n",
    "# train, test셋 구분\n",
    "X_train = X.loc[:164]\n",
    "X1_train = X_train.drop(columns=[\"before_q2\", \"before_q3\", \"before_q4\", \"before_q5\"])\n",
    "X2_train = X_train.drop(columns=[\"before_q1\", \"before_q3\", \"before_q4\", \"before_q5\"])\n",
    "X3_train = X_train.drop(columns=[\"before_q1\", \"before_q1\", \"before_q4\", \"before_q5\"])\n",
    "X4_train = X_train.drop(columns=[\"before_q1\", \"before_q2\", \"before_q3\", \"before_q5\"])\n",
    "X5_train = X_train.drop(columns=[\"before_q1\", \"before_q2\", \"before_q3\", \"before_q4\"])\n",
    "\n",
    "X_test = X.loc[164:]\n",
    "X1_test = X_test.drop(columns=[\"before_q2\", \"before_q3\", \"before_q4\", \"before_q5\"])\n",
    "X2_test = X_test.drop(columns=[\"before_q1\", \"before_q3\", \"before_q4\", \"before_q5\"])\n",
    "X3_test = X_test.drop(columns=[\"before_q1\", \"before_q1\", \"before_q4\", \"before_q5\"])\n",
    "X4_test = X_test.drop(columns=[\"before_q1\", \"before_q2\", \"before_q3\", \"before_q5\"])\n",
    "X5_test = X_test.drop(columns=[\"before_q1\", \"before_q2\", \"before_q3\", \"before_q4\"])\n",
    "\n",
    "y1_train = y1.loc[:164]\n",
    "y1_test = y1.loc[164:]\n",
    "\n",
    "y2_train = y2.loc[:164]\n",
    "y2_test = y2.loc[164:]\n",
    "\n",
    "y3_train = y3.loc[:164]\n",
    "y3_test = y3.loc[164:]\n",
    "\n",
    "y4_train = y4.loc[:164]\n",
    "y4_test = y4.loc[164:]\n",
    "\n",
    "y5_train = y5.loc[:164]\n",
    "y5_test = y5.loc[164:]"
   ]
  },
  {
   "cell_type": "markdown",
   "id": "30983049",
   "metadata": {},
   "source": [
    "# LGB"
   ]
  },
  {
   "cell_type": "code",
   "execution_count": 867,
   "id": "03464530",
   "metadata": {
    "ExecuteTime": {
     "end_time": "2021-12-06T08:08:20.456601Z",
     "start_time": "2021-12-06T08:08:20.444628Z"
    }
   },
   "outputs": [],
   "source": [
    "import lightgbm as lgbm\n",
    "from sklearn.metrics import mean_absolute_error"
   ]
  },
  {
   "cell_type": "markdown",
   "id": "1dcb06db",
   "metadata": {},
   "source": [
    "# Q1"
   ]
  },
  {
   "cell_type": "code",
   "execution_count": 907,
   "id": "c1b23f21",
   "metadata": {
    "ExecuteTime": {
     "end_time": "2021-12-06T08:41:16.130226Z",
     "start_time": "2021-12-06T08:41:16.119252Z"
    }
   },
   "outputs": [],
   "source": [
    "from sklearn.model_selection import GridSearchCV"
   ]
  },
  {
   "cell_type": "code",
   "execution_count": 922,
   "id": "a4eb961f",
   "metadata": {
    "ExecuteTime": {
     "end_time": "2021-12-06T08:46:14.832463Z",
     "start_time": "2021-12-06T08:46:14.821495Z"
    }
   },
   "outputs": [],
   "source": [
    "model = LGBMClassifier()"
   ]
  },
  {
   "cell_type": "code",
   "execution_count": 923,
   "id": "9557767e",
   "metadata": {
    "ExecuteTime": {
     "end_time": "2021-12-06T08:46:24.680688Z",
     "start_time": "2021-12-06T08:46:24.667716Z"
    }
   },
   "outputs": [],
   "source": [
    "para = {\"max_depth\" : [-1, 0, 1, 2, 3, 4, 5, 6, 7, 8, 9, 10], \"n_estimators\" : [30, 50, 100], \"learning_rate\" : [0.1, 0.01]}"
   ]
  },
  {
   "cell_type": "code",
   "execution_count": 924,
   "id": "8381033f",
   "metadata": {
    "ExecuteTime": {
     "end_time": "2021-12-06T08:46:35.022092Z",
     "start_time": "2021-12-06T08:46:35.008132Z"
    }
   },
   "outputs": [],
   "source": [
    "grid = GridSearchCV(model, param_grid = para, cv = 3)"
   ]
  },
  {
   "cell_type": "code",
   "execution_count": 925,
   "id": "2295c40c",
   "metadata": {
    "ExecuteTime": {
     "end_time": "2021-12-06T08:47:32.514339Z",
     "start_time": "2021-12-06T08:46:44.752063Z"
    },
    "scrolled": true
   },
   "outputs": [
    {
     "data": {
      "text/plain": [
       "GridSearchCV(cv=3, estimator=LGBMClassifier(),\n",
       "             param_grid={'learning_rate': [0.1, 0.01],\n",
       "                         'max_depth': [-1, 0, 1, 2, 3, 4, 5, 6, 7, 8, 9, 10],\n",
       "                         'n_estimators': [30, 50, 100]})"
      ]
     },
     "execution_count": 925,
     "metadata": {},
     "output_type": "execute_result"
    }
   ],
   "source": [
    "grid.fit(X1_train, y1_train.astype(\"int\"))"
   ]
  },
  {
   "cell_type": "code",
   "execution_count": 926,
   "id": "8020fcb6",
   "metadata": {
    "ExecuteTime": {
     "end_time": "2021-12-06T08:47:43.071278Z",
     "start_time": "2021-12-06T08:47:43.058311Z"
    }
   },
   "outputs": [],
   "source": [
    "best = grid.best_estimator_"
   ]
  },
  {
   "cell_type": "code",
   "execution_count": 927,
   "id": "53726aee",
   "metadata": {
    "ExecuteTime": {
     "end_time": "2021-12-06T08:47:53.127557Z",
     "start_time": "2021-12-06T08:47:53.115632Z"
    }
   },
   "outputs": [],
   "source": [
    "pred = best.predict(X1_test)"
   ]
  },
  {
   "cell_type": "code",
   "execution_count": 928,
   "id": "ab958e29",
   "metadata": {
    "ExecuteTime": {
     "end_time": "2021-12-06T08:48:03.320697Z",
     "start_time": "2021-12-06T08:48:03.306736Z"
    }
   },
   "outputs": [
    {
     "data": {
      "text/plain": [
       "3.106097560975609"
      ]
     },
     "execution_count": 928,
     "metadata": {},
     "output_type": "execute_result"
    }
   ],
   "source": [
    "mean_absolute_error(pred, y1_test)"
   ]
  },
  {
   "cell_type": "code",
   "execution_count": 929,
   "id": "184c2ce0",
   "metadata": {
    "ExecuteTime": {
     "end_time": "2021-12-06T08:48:38.497167Z",
     "start_time": "2021-12-06T08:48:38.471210Z"
    }
   },
   "outputs": [
    {
     "data": {
      "text/html": [
       "<div>\n",
       "<style scoped>\n",
       "    .dataframe tbody tr th:only-of-type {\n",
       "        vertical-align: middle;\n",
       "    }\n",
       "\n",
       "    .dataframe tbody tr th {\n",
       "        vertical-align: top;\n",
       "    }\n",
       "\n",
       "    .dataframe thead th {\n",
       "        text-align: right;\n",
       "    }\n",
       "</style>\n",
       "<table border=\"1\" class=\"dataframe\">\n",
       "  <thead>\n",
       "    <tr style=\"text-align: right;\">\n",
       "      <th></th>\n",
       "      <th>0</th>\n",
       "    </tr>\n",
       "  </thead>\n",
       "  <tbody>\n",
       "    <tr>\n",
       "      <th>vic_10</th>\n",
       "      <td>202</td>\n",
       "    </tr>\n",
       "    <tr>\n",
       "      <th>vic_340</th>\n",
       "      <td>168</td>\n",
       "    </tr>\n",
       "    <tr>\n",
       "      <th>before_q1</th>\n",
       "      <td>158</td>\n",
       "    </tr>\n",
       "    <tr>\n",
       "      <th>popu_u20</th>\n",
       "      <td>125</td>\n",
       "    </tr>\n",
       "    <tr>\n",
       "      <th>report_sx_total</th>\n",
       "      <td>123</td>\n",
       "    </tr>\n",
       "    <tr>\n",
       "      <th>adult_r</th>\n",
       "      <td>115</td>\n",
       "    </tr>\n",
       "    <tr>\n",
       "      <th>child</th>\n",
       "      <td>112</td>\n",
       "    </tr>\n",
       "    <tr>\n",
       "      <th>vic_20</th>\n",
       "      <td>105</td>\n",
       "    </tr>\n",
       "    <tr>\n",
       "      <th>bell_r</th>\n",
       "      <td>98</td>\n",
       "    </tr>\n",
       "    <tr>\n",
       "      <th>ofn_m</th>\n",
       "      <td>98</td>\n",
       "    </tr>\n",
       "    <tr>\n",
       "      <th>ofn_20</th>\n",
       "      <td>90</td>\n",
       "    </tr>\n",
       "    <tr>\n",
       "      <th>인구수대비경찰수</th>\n",
       "      <td>87</td>\n",
       "    </tr>\n",
       "    <tr>\n",
       "      <th>case_car_man</th>\n",
       "      <td>86</td>\n",
       "    </tr>\n",
       "    <tr>\n",
       "      <th>case_car_car</th>\n",
       "      <td>82</td>\n",
       "    </tr>\n",
       "    <tr>\n",
       "      <th>single_u20</th>\n",
       "      <td>77</td>\n",
       "    </tr>\n",
       "    <tr>\n",
       "      <th>for_합계</th>\n",
       "      <td>67</td>\n",
       "    </tr>\n",
       "    <tr>\n",
       "      <th>vic_w</th>\n",
       "      <td>63</td>\n",
       "    </tr>\n",
       "    <tr>\n",
       "      <th>vio_cnt</th>\n",
       "      <td>62</td>\n",
       "    </tr>\n",
       "    <tr>\n",
       "      <th>car_cnt</th>\n",
       "      <td>59</td>\n",
       "    </tr>\n",
       "    <tr>\n",
       "      <th>외국인인구수대비검거수</th>\n",
       "      <td>58</td>\n",
       "    </tr>\n",
       "    <tr>\n",
       "      <th>ofn_unknown</th>\n",
       "      <td>58</td>\n",
       "    </tr>\n",
       "    <tr>\n",
       "      <th>강도살인범죄발생대비검거수</th>\n",
       "      <td>50</td>\n",
       "    </tr>\n",
       "    <tr>\n",
       "      <th>popu_o60</th>\n",
       "      <td>49</td>\n",
       "    </tr>\n",
       "    <tr>\n",
       "      <th>ofn_w</th>\n",
       "      <td>48</td>\n",
       "    </tr>\n",
       "    <tr>\n",
       "      <th>for_2030</th>\n",
       "      <td>45</td>\n",
       "    </tr>\n",
       "    <tr>\n",
       "      <th>vic_unknown</th>\n",
       "      <td>45</td>\n",
       "    </tr>\n",
       "    <tr>\n",
       "      <th>single_2030</th>\n",
       "      <td>45</td>\n",
       "    </tr>\n",
       "    <tr>\n",
       "      <th>vic_5670</th>\n",
       "      <td>44</td>\n",
       "    </tr>\n",
       "    <tr>\n",
       "      <th>case_car_only</th>\n",
       "      <td>42</td>\n",
       "    </tr>\n",
       "    <tr>\n",
       "      <th>총범죄발생대비검거수</th>\n",
       "      <td>42</td>\n",
       "    </tr>\n",
       "  </tbody>\n",
       "</table>\n",
       "</div>"
      ],
      "text/plain": [
       "                   0\n",
       "vic_10           202\n",
       "vic_340          168\n",
       "before_q1        158\n",
       "popu_u20         125\n",
       "report_sx_total  123\n",
       "adult_r          115\n",
       "child            112\n",
       "vic_20           105\n",
       "bell_r            98\n",
       "ofn_m             98\n",
       "ofn_20            90\n",
       "인구수대비경찰수          87\n",
       "case_car_man      86\n",
       "case_car_car      82\n",
       "single_u20        77\n",
       "for_합계            67\n",
       "vic_w             63\n",
       "vio_cnt           62\n",
       "car_cnt           59\n",
       "외국인인구수대비검거수       58\n",
       "ofn_unknown       58\n",
       "강도살인범죄발생대비검거수     50\n",
       "popu_o60          49\n",
       "ofn_w             48\n",
       "for_2030          45\n",
       "vic_unknown       45\n",
       "single_2030       45\n",
       "vic_5670          44\n",
       "case_car_only     42\n",
       "총범죄발생대비검거수        42"
      ]
     },
     "execution_count": 929,
     "metadata": {},
     "output_type": "execute_result"
    }
   ],
   "source": [
    "cat_q1_full_fi = pd.DataFrame(best.feature_importances_,index=X1_train.columns)\n",
    "cat_q1_full_fi.sort_values(by=0,ascending=False)[:30]"
   ]
  },
  {
   "cell_type": "markdown",
   "id": "a7f4d3b7",
   "metadata": {},
   "source": [
    "# Q2"
   ]
  },
  {
   "cell_type": "code",
   "execution_count": 899,
   "id": "9f7b4640",
   "metadata": {
    "ExecuteTime": {
     "end_time": "2021-12-06T08:30:51.797686Z",
     "start_time": "2021-12-06T08:30:51.778703Z"
    }
   },
   "outputs": [],
   "source": [
    "model = LGBMClassifier()"
   ]
  },
  {
   "cell_type": "code",
   "execution_count": 900,
   "id": "31854a45",
   "metadata": {
    "ExecuteTime": {
     "end_time": "2021-12-06T08:31:04.006357Z",
     "start_time": "2021-12-06T08:31:03.994387Z"
    }
   },
   "outputs": [],
   "source": [
    "para = {\"max_depth\" : [-1, 0, 1, 2, 3, 4, 5, 6, 7, 8, 9, 10], \"n_estimators\" : [30, 50, 100], \"learning_rate\" : [0.1, 0.01]}"
   ]
  },
  {
   "cell_type": "code",
   "execution_count": 901,
   "id": "3edca378",
   "metadata": {
    "ExecuteTime": {
     "end_time": "2021-12-06T08:31:15.733486Z",
     "start_time": "2021-12-06T08:31:15.721520Z"
    }
   },
   "outputs": [],
   "source": [
    "grid = GridSearchCV(model, param_grid = para, cv = 3)"
   ]
  },
  {
   "cell_type": "code",
   "execution_count": 902,
   "id": "bb496e6d",
   "metadata": {
    "ExecuteTime": {
     "end_time": "2021-12-06T08:32:16.998315Z",
     "start_time": "2021-12-06T08:31:27.550546Z"
    }
   },
   "outputs": [
    {
     "data": {
      "text/plain": [
       "GridSearchCV(cv=3, estimator=LGBMClassifier(),\n",
       "             param_grid={'learning_rate': [0.1, 0.01],\n",
       "                         'max_depth': [-1, 0, 1, 2, 3, 4, 5, 6, 7, 8, 9, 10],\n",
       "                         'n_estimators': [30, 50, 100]})"
      ]
     },
     "execution_count": 902,
     "metadata": {},
     "output_type": "execute_result"
    }
   ],
   "source": [
    "grid.fit(X_train, y2_train.astype(\"int\"))"
   ]
  },
  {
   "cell_type": "code",
   "execution_count": 903,
   "id": "8d412c01",
   "metadata": {
    "ExecuteTime": {
     "end_time": "2021-12-06T08:32:30.021489Z",
     "start_time": "2021-12-06T08:32:30.007526Z"
    }
   },
   "outputs": [],
   "source": [
    "best = grid.best_estimator_"
   ]
  },
  {
   "cell_type": "code",
   "execution_count": 904,
   "id": "ea120a1c",
   "metadata": {
    "ExecuteTime": {
     "end_time": "2021-12-06T08:32:42.291677Z",
     "start_time": "2021-12-06T08:32:42.278713Z"
    }
   },
   "outputs": [],
   "source": [
    "pred = best.predict(X_test)"
   ]
  },
  {
   "cell_type": "code",
   "execution_count": 905,
   "id": "39be3d19",
   "metadata": {
    "ExecuteTime": {
     "end_time": "2021-12-06T08:32:54.615721Z",
     "start_time": "2021-12-06T08:32:54.603755Z"
    }
   },
   "outputs": [
    {
     "data": {
      "text/plain": [
       "2.913414634146342"
      ]
     },
     "execution_count": 905,
     "metadata": {},
     "output_type": "execute_result"
    }
   ],
   "source": [
    "mean_absolute_error(pred, y2_test)"
   ]
  },
  {
   "cell_type": "code",
   "execution_count": 906,
   "id": "61f5f5ef",
   "metadata": {
    "ExecuteTime": {
     "end_time": "2021-12-06T08:33:07.212714Z",
     "start_time": "2021-12-06T08:33:07.184791Z"
    }
   },
   "outputs": [
    {
     "data": {
      "text/html": [
       "<div>\n",
       "<style scoped>\n",
       "    .dataframe tbody tr th:only-of-type {\n",
       "        vertical-align: middle;\n",
       "    }\n",
       "\n",
       "    .dataframe tbody tr th {\n",
       "        vertical-align: top;\n",
       "    }\n",
       "\n",
       "    .dataframe thead th {\n",
       "        text-align: right;\n",
       "    }\n",
       "</style>\n",
       "<table border=\"1\" class=\"dataframe\">\n",
       "  <thead>\n",
       "    <tr style=\"text-align: right;\">\n",
       "      <th></th>\n",
       "      <th>0</th>\n",
       "    </tr>\n",
       "  </thead>\n",
       "  <tbody>\n",
       "    <tr>\n",
       "      <th>before_q4</th>\n",
       "      <td>330</td>\n",
       "    </tr>\n",
       "    <tr>\n",
       "      <th>before_q2</th>\n",
       "      <td>300</td>\n",
       "    </tr>\n",
       "    <tr>\n",
       "      <th>절도폭력범죄발생대비검거수</th>\n",
       "      <td>260</td>\n",
       "    </tr>\n",
       "    <tr>\n",
       "      <th>강도살인범죄발생대비검거수</th>\n",
       "      <td>259</td>\n",
       "    </tr>\n",
       "    <tr>\n",
       "      <th>before_q1</th>\n",
       "      <td>234</td>\n",
       "    </tr>\n",
       "    <tr>\n",
       "      <th>교통사고범죄발생대비검거수</th>\n",
       "      <td>209</td>\n",
       "    </tr>\n",
       "    <tr>\n",
       "      <th>인구수대비검거수</th>\n",
       "      <td>166</td>\n",
       "    </tr>\n",
       "    <tr>\n",
       "      <th>피해_80대이상</th>\n",
       "      <td>158</td>\n",
       "    </tr>\n",
       "    <tr>\n",
       "      <th>cctv_r</th>\n",
       "      <td>156</td>\n",
       "    </tr>\n",
       "    <tr>\n",
       "      <th>before_q3</th>\n",
       "      <td>151</td>\n",
       "    </tr>\n",
       "    <tr>\n",
       "      <th>child</th>\n",
       "      <td>147</td>\n",
       "    </tr>\n",
       "    <tr>\n",
       "      <th>before_q5</th>\n",
       "      <td>137</td>\n",
       "    </tr>\n",
       "    <tr>\n",
       "      <th>car_cnt</th>\n",
       "      <td>131</td>\n",
       "    </tr>\n",
       "    <tr>\n",
       "      <th>single_u20</th>\n",
       "      <td>124</td>\n",
       "    </tr>\n",
       "    <tr>\n",
       "      <th>차량단독</th>\n",
       "      <td>121</td>\n",
       "    </tr>\n",
       "    <tr>\n",
       "      <th>report_sx_total</th>\n",
       "      <td>118</td>\n",
       "    </tr>\n",
       "    <tr>\n",
       "      <th>피해_10대이하</th>\n",
       "      <td>118</td>\n",
       "    </tr>\n",
       "    <tr>\n",
       "      <th>가해_70대</th>\n",
       "      <td>116</td>\n",
       "    </tr>\n",
       "    <tr>\n",
       "      <th>외국인인구수대비검거수</th>\n",
       "      <td>109</td>\n",
       "    </tr>\n",
       "    <tr>\n",
       "      <th>가해_10대이하</th>\n",
       "      <td>109</td>\n",
       "    </tr>\n",
       "    <tr>\n",
       "      <th>인구수대비경찰수</th>\n",
       "      <td>106</td>\n",
       "    </tr>\n",
       "    <tr>\n",
       "      <th>adult_r</th>\n",
       "      <td>104</td>\n",
       "    </tr>\n",
       "    <tr>\n",
       "      <th>기초질서범죄발생대비검거수</th>\n",
       "      <td>101</td>\n",
       "    </tr>\n",
       "    <tr>\n",
       "      <th>피해_미분류</th>\n",
       "      <td>97</td>\n",
       "    </tr>\n",
       "    <tr>\n",
       "      <th>single_f_u20</th>\n",
       "      <td>97</td>\n",
       "    </tr>\n",
       "    <tr>\n",
       "      <th>for_o40</th>\n",
       "      <td>97</td>\n",
       "    </tr>\n",
       "    <tr>\n",
       "      <th>vio_cnt</th>\n",
       "      <td>96</td>\n",
       "    </tr>\n",
       "    <tr>\n",
       "      <th>가해_여</th>\n",
       "      <td>94</td>\n",
       "    </tr>\n",
       "    <tr>\n",
       "      <th>house</th>\n",
       "      <td>93</td>\n",
       "    </tr>\n",
       "    <tr>\n",
       "      <th>for_합계</th>\n",
       "      <td>92</td>\n",
       "    </tr>\n",
       "  </tbody>\n",
       "</table>\n",
       "</div>"
      ],
      "text/plain": [
       "                   0\n",
       "before_q4        330\n",
       "before_q2        300\n",
       "절도폭력범죄발생대비검거수    260\n",
       "강도살인범죄발생대비검거수    259\n",
       "before_q1        234\n",
       "교통사고범죄발생대비검거수    209\n",
       "인구수대비검거수         166\n",
       "피해_80대이상         158\n",
       "cctv_r           156\n",
       "before_q3        151\n",
       "child            147\n",
       "before_q5        137\n",
       "car_cnt          131\n",
       "single_u20       124\n",
       "차량단독             121\n",
       "report_sx_total  118\n",
       "피해_10대이하         118\n",
       "가해_70대           116\n",
       "외국인인구수대비검거수      109\n",
       "가해_10대이하         109\n",
       "인구수대비경찰수         106\n",
       "adult_r          104\n",
       "기초질서범죄발생대비검거수    101\n",
       "피해_미분류            97\n",
       "single_f_u20      97\n",
       "for_o40           97\n",
       "vio_cnt           96\n",
       "가해_여              94\n",
       "house             93\n",
       "for_합계            92"
      ]
     },
     "execution_count": 906,
     "metadata": {},
     "output_type": "execute_result"
    }
   ],
   "source": [
    "cat_q2_full_fi = pd.DataFrame(best.feature_importances_,index=X_train.columns)\n",
    "cat_q2_full_fi.sort_values(by=0,ascending=False)[:30]"
   ]
  },
  {
   "cell_type": "markdown",
   "id": "bc07eac1",
   "metadata": {},
   "source": [
    "# Q3"
   ]
  },
  {
   "cell_type": "code",
   "execution_count": 802,
   "id": "061b6313",
   "metadata": {
    "ExecuteTime": {
     "end_time": "2021-12-06T07:07:00.878859Z",
     "start_time": "2021-12-06T07:07:00.803074Z"
    }
   },
   "outputs": [],
   "source": [
    "lgb_model = lgbm.LGBMRegressor(max_depth = 10, n_estimators = 100, learning_rate = 0.01).fit(X_train, y3_train.astype(\"int\"))"
   ]
  },
  {
   "cell_type": "code",
   "execution_count": 803,
   "id": "ab0d12a6",
   "metadata": {
    "ExecuteTime": {
     "end_time": "2021-12-06T07:07:13.707812Z",
     "start_time": "2021-12-06T07:07:13.694846Z"
    }
   },
   "outputs": [],
   "source": [
    "a = lgb_model.predict(X_test)"
   ]
  },
  {
   "cell_type": "code",
   "execution_count": 804,
   "id": "9fae15ff",
   "metadata": {
    "ExecuteTime": {
     "end_time": "2021-12-06T07:07:26.386375Z",
     "start_time": "2021-12-06T07:07:26.373404Z"
    }
   },
   "outputs": [
    {
     "data": {
      "text/plain": [
       "2.44899963918254"
      ]
     },
     "execution_count": 804,
     "metadata": {},
     "output_type": "execute_result"
    }
   ],
   "source": [
    "mean_absolute_error(a, y3_test.astype(\"int\"))"
   ]
  },
  {
   "cell_type": "markdown",
   "id": "edb22368",
   "metadata": {},
   "source": [
    "# Q4"
   ]
  },
  {
   "cell_type": "code",
   "execution_count": 805,
   "id": "57caf9ff",
   "metadata": {
    "ExecuteTime": {
     "end_time": "2021-12-06T07:07:39.250198Z",
     "start_time": "2021-12-06T07:07:39.221275Z"
    }
   },
   "outputs": [],
   "source": [
    "lgb_model = lgbm.LGBMRegressor(max_depth = 10, n_estimators = 10, learning_rate = 0.01).fit(X_train, y4_train.astype(\"int\"))"
   ]
  },
  {
   "cell_type": "code",
   "execution_count": 806,
   "id": "31b13aed",
   "metadata": {
    "ExecuteTime": {
     "end_time": "2021-12-06T07:07:53.295639Z",
     "start_time": "2021-12-06T07:07:53.283669Z"
    }
   },
   "outputs": [],
   "source": [
    "a = lgb_model.predict(X_test)"
   ]
  },
  {
   "cell_type": "code",
   "execution_count": 807,
   "id": "7f29eb20",
   "metadata": {
    "ExecuteTime": {
     "end_time": "2021-12-06T07:08:07.745165Z",
     "start_time": "2021-12-06T07:08:07.732200Z"
    }
   },
   "outputs": [
    {
     "data": {
      "text/plain": [
       "3.7903806790905836"
      ]
     },
     "execution_count": 807,
     "metadata": {},
     "output_type": "execute_result"
    }
   ],
   "source": [
    "mean_absolute_error(a, y4_test.astype(\"int\"))"
   ]
  },
  {
   "cell_type": "markdown",
   "id": "72862326",
   "metadata": {},
   "source": [
    "# Q5"
   ]
  },
  {
   "cell_type": "code",
   "execution_count": 808,
   "id": "f3cc9901",
   "metadata": {
    "ExecuteTime": {
     "end_time": "2021-12-06T07:08:20.237759Z",
     "start_time": "2021-12-06T07:08:20.192911Z"
    }
   },
   "outputs": [],
   "source": [
    "lgb_model = lgbm.LGBMRegressor(max_depth = 10, n_estimators = 50, learning_rate = 0.01).fit(X_train, y5_train.astype(\"int\"))"
   ]
  },
  {
   "cell_type": "code",
   "execution_count": 809,
   "id": "e1d33755",
   "metadata": {
    "ExecuteTime": {
     "end_time": "2021-12-06T07:08:34.677188Z",
     "start_time": "2021-12-06T07:08:34.664228Z"
    }
   },
   "outputs": [],
   "source": [
    "a = lgb_model.predict(X_test)"
   ]
  },
  {
   "cell_type": "code",
   "execution_count": 810,
   "id": "07c3ccf8",
   "metadata": {
    "ExecuteTime": {
     "end_time": "2021-12-06T07:08:47.325621Z",
     "start_time": "2021-12-06T07:08:47.299466Z"
    }
   },
   "outputs": [
    {
     "data": {
      "text/plain": [
       "2.670274055769999"
      ]
     },
     "execution_count": 810,
     "metadata": {},
     "output_type": "execute_result"
    }
   ],
   "source": [
    "mean_absolute_error(a, y5_test.astype(\"int\"))"
   ]
  },
  {
   "cell_type": "markdown",
   "id": "9b70d1ab",
   "metadata": {},
   "source": [
    "## Q5 -> Y4"
   ]
  },
  {
   "cell_type": "code",
   "execution_count": 166,
   "id": "fabdd428",
   "metadata": {
    "ExecuteTime": {
     "end_time": "2021-12-06T01:11:16.087160Z",
     "start_time": "2021-12-06T01:11:15.556596Z"
    }
   },
   "outputs": [],
   "source": [
    "lgb_model = lgbm.LGBMClassifier(max_depth = 10, n_estimators = 100, learning_rate = 0.01).fit(X_train, y5_train.astype(\"int\"))"
   ]
  },
  {
   "cell_type": "code",
   "execution_count": 167,
   "id": "38a1be6e",
   "metadata": {
    "ExecuteTime": {
     "end_time": "2021-12-06T01:11:16.774429Z",
     "start_time": "2021-12-06T01:11:16.749531Z"
    }
   },
   "outputs": [],
   "source": [
    "a = lgb_model.predict(X_test)"
   ]
  },
  {
   "cell_type": "code",
   "execution_count": 172,
   "id": "0126880d",
   "metadata": {
    "ExecuteTime": {
     "end_time": "2021-12-06T01:11:41.328997Z",
     "start_time": "2021-12-06T01:11:41.306921Z"
    },
    "scrolled": true
   },
   "outputs": [
    {
     "data": {
      "text/plain": [
       "2.573170731707317"
      ]
     },
     "execution_count": 172,
     "metadata": {},
     "output_type": "execute_result"
    }
   ],
   "source": [
    "mean_absolute_error(a, y4_test.astype(\"int\"))"
   ]
  },
  {
   "cell_type": "markdown",
   "id": "028fc20d",
   "metadata": {},
   "source": [
    "# 아파트_마지막"
   ]
  },
  {
   "cell_type": "code",
   "execution_count": 479,
   "id": "5163b1fe",
   "metadata": {
    "ExecuteTime": {
     "end_time": "2021-12-06T04:51:30.634556Z",
     "start_time": "2021-12-06T04:51:30.605621Z"
    }
   },
   "outputs": [],
   "source": [
    "data = pd.read_csv(\"유형별_매매가격지수_20210817191046.csv\", encoding = \"cp949\")"
   ]
  },
  {
   "cell_type": "code",
   "execution_count": 480,
   "id": "b14ec074",
   "metadata": {
    "ExecuteTime": {
     "end_time": "2021-12-06T04:51:31.973267Z",
     "start_time": "2021-12-06T04:51:31.960310Z"
    }
   },
   "outputs": [],
   "source": [
    "data_종합 = data[data['주택유형별(1)'] == \"종합\"]\n",
    "data_아파트 = data[data['주택유형별(1)'] == \"아파트\"]"
   ]
  },
  {
   "cell_type": "code",
   "execution_count": 481,
   "id": "c9184b0b",
   "metadata": {
    "ExecuteTime": {
     "end_time": "2021-12-06T04:51:33.310794Z",
     "start_time": "2021-12-06T04:51:33.297831Z"
    }
   },
   "outputs": [],
   "source": [
    "data_종합.drop([\"주택유형별(1)\"], axis = 1, inplace = True)\n",
    "data_아파트.drop([\"주택유형별(1)\"], axis = 1, inplace = True)"
   ]
  },
  {
   "cell_type": "code",
   "execution_count": 494,
   "id": "36bb67e2",
   "metadata": {
    "ExecuteTime": {
     "end_time": "2021-12-06T04:55:31.113782Z",
     "start_time": "2021-12-06T04:55:31.106799Z"
    }
   },
   "outputs": [],
   "source": [
    "data_종합['sgg'] = region\n",
    "data_아파트['sgg'] = region"
   ]
  },
  {
   "cell_type": "code",
   "execution_count": 497,
   "id": "847f79eb",
   "metadata": {
    "ExecuteTime": {
     "end_time": "2021-12-06T04:55:47.457255Z",
     "start_time": "2021-12-06T04:55:47.443310Z"
    }
   },
   "outputs": [],
   "source": [
    "data_종합.drop(['지역별(1)','지역별(2)','지역별(3)','지역별(4)'],axis=1,inplace=True)\n",
    "data_아파트.drop(['지역별(1)','지역별(2)','지역별(3)','지역별(4)'],axis=1,inplace=True)"
   ]
  },
  {
   "cell_type": "code",
   "execution_count": 490,
   "id": "6c3f624b",
   "metadata": {
    "ExecuteTime": {
     "end_time": "2021-12-06T04:54:19.099304Z",
     "start_time": "2021-12-06T04:54:19.093319Z"
    }
   },
   "outputs": [],
   "source": [
    "region =  (data_종합[\"지역별(4)\"][0:29] + \"구\").tolist() + [\"충남세종\"] + data_종합[\"지역별(3)\"][30:35].tolist() + [\"진주\"]"
   ]
  },
  {
   "cell_type": "code",
   "execution_count": null,
   "id": "2d25d50f",
   "metadata": {},
   "outputs": [],
   "source": [
    "region.remove(\"권선구\")"
   ]
  },
  {
   "cell_type": "code",
   "execution_count": null,
   "id": "b3f58ec1",
   "metadata": {},
   "outputs": [],
   "source": [
    "data_total = pd.merge(data_종합, data_아파트, how = \"inner\", on = \"sgg\")"
   ]
  },
  {
   "cell_type": "code",
   "execution_count": 485,
   "id": "7d024116",
   "metadata": {
    "ExecuteTime": {
     "end_time": "2021-12-06T04:51:46.396600Z",
     "start_time": "2021-12-06T04:51:46.376644Z"
    }
   },
   "outputs": [],
   "source": [
    "region2 = pd.DataFrame(region, columns = [\"sgg_nm\"])"
   ]
  },
  {
   "cell_type": "code",
   "execution_count": 427,
   "id": "361d00e1",
   "metadata": {
    "ExecuteTime": {
     "end_time": "2021-12-06T04:29:55.940713Z",
     "start_time": "2021-12-06T04:29:55.924756Z"
    }
   },
   "outputs": [],
   "source": [
    "# 경찰서별 담당 행정구역\n",
    "sgg_nm_transfer = {\n",
    "    '마산동부경찰서' : '마산회원'  ,\n",
    "    '마산중부경찰서' : '마산합포'  ,\n",
    "    '서울강남경찰서' : '강남구'  , \n",
    "    '서울강동경찰서' : '강동구' , \n",
    "    '서울강북경찰서' :'강북구'  , \n",
    "    '서울강서경찰서' :  '강서구',\n",
    "    '서울관악경찰서' : '관악구' ,\n",
    "      '서울광진경찰서' : '광진구', \n",
    "     '서울구로경찰서' : '구로구' , \n",
    "     '서울금천경찰서' : '금천구' , \n",
    "    '서울남대문경찰서' : '중구' , \n",
    "    '서울노원경찰서' : '노원구' ,\n",
    "    '서울도봉경찰서' : '도봉구'  , \n",
    "    '서울동대문경찰서' : '동대문구'  , \n",
    "    '서울동작경찰서' : '동작구'  , \n",
    "    '서울마포경찰서' : '마포구' , \n",
    "    '서울방배경찰서' : '서초구', \n",
    "    '서울서대문경찰서' : '서대문구' ,\n",
    "    '서울서부경찰서' : '은평구' , \n",
    "    '서울서초경찰서' : '서초구' , \n",
    "    '서울성동경찰서' : '성동구' , \n",
    "    '서울성북경찰서' :'성북구' , \n",
    "    '서울송파경찰서' :'송파구' , \n",
    "    '서울수서경찰서' : '강남구' ,\n",
    "     '서울양천경찰서': '양천구'  , \n",
    "    '서울영등포경찰서' : '영등포구' , \n",
    "    '서울용산경찰서': '용산구'  , \n",
    "    '서울은평경찰서' : '은평구' , \n",
    "    '서울종로경찰서': '종로구', \n",
    "    '서울종암경찰서' : '성북구'  ,\n",
    "     '서울중랑경찰서' : '중랑구'   , \n",
    "    '서울중부경찰서' : '중구'  , \n",
    "    '서울혜화경찰서': '종로구'  , \n",
    "    '세종경찰서' : '충남세종'  , \n",
    "    '수원남부경찰서': '영통구'  ,\n",
    "   '수원서부경찰서' : '팔달구'  ,  \n",
    "    '수원중부경찰서' :'장안구'   , \n",
    "    '진주경찰서' : '진주'  ,\n",
    "    '진해경찰서' : '진해'  , \n",
    "    '창원서부경찰서' : '의창' , \n",
    "    '창원중부경찰서': '성산'\n",
    "    \n",
    "}"
   ]
  },
  {
   "cell_type": "code",
   "execution_count": 388,
   "id": "0a2dd681",
   "metadata": {
    "ExecuteTime": {
     "end_time": "2021-12-06T04:20:54.577251Z",
     "start_time": "2021-12-06T04:20:54.555308Z"
    }
   },
   "outputs": [],
   "source": [
    "base = pd.read_csv(\"base_df.csv\")"
   ]
  },
  {
   "cell_type": "code",
   "execution_count": 474,
   "id": "c36285e5",
   "metadata": {
    "ExecuteTime": {
     "end_time": "2021-12-06T04:50:09.626782Z",
     "start_time": "2021-12-06T04:50:09.607837Z"
    }
   },
   "outputs": [
    {
     "data": {
      "text/plain": [
       "0        중구\n",
       "1       종로구\n",
       "2        중구\n",
       "3      서대문구\n",
       "4       종로구\n",
       "       ... \n",
       "323      의창\n",
       "324    마산합포\n",
       "325    마산회원\n",
       "326      진주\n",
       "327      진해\n",
       "Name: sgg_nm, Length: 328, dtype: object"
      ]
     },
     "execution_count": 474,
     "metadata": {},
     "output_type": "execute_result"
    }
   ],
   "source": [
    "base['sgg_nm'] = base['jur_stn'].apply(lambda x : sgg_nm_transfer[x])\n",
    "base[\"sgg_nm\"]"
   ]
  },
  {
   "cell_type": "code",
   "execution_count": 521,
   "id": "b1a83bb2",
   "metadata": {
    "ExecuteTime": {
     "end_time": "2021-12-06T05:02:18.345008Z",
     "start_time": "2021-12-06T05:02:18.335002Z"
    }
   },
   "outputs": [],
   "source": [
    "base.columns = [\"jur_stn\", \"sgg\"]"
   ]
  },
  {
   "cell_type": "code",
   "execution_count": 549,
   "id": "c316d47d",
   "metadata": {
    "ExecuteTime": {
     "end_time": "2021-12-06T05:08:16.399370Z",
     "start_time": "2021-12-06T05:08:16.377430Z"
    }
   },
   "outputs": [],
   "source": [
    "total = pd.merge(base, data_total, on = \"sgg\")"
   ]
  },
  {
   "cell_type": "code",
   "execution_count": 574,
   "id": "0353eafa",
   "metadata": {
    "ExecuteTime": {
     "end_time": "2021-12-06T05:21:02.922577Z",
     "start_time": "2021-12-06T05:21:02.907572Z"
    }
   },
   "outputs": [
    {
     "data": {
      "text/plain": [
       "0      100.0\n",
       "1      100.0\n",
       "2      100.0\n",
       "3      100.0\n",
       "4      100.0\n",
       "       ...  \n",
       "323    100.0\n",
       "324    100.0\n",
       "325    100.0\n",
       "326    100.0\n",
       "327    100.0\n",
       "Name: 2017. 11_x, Length: 328, dtype: float64"
      ]
     },
     "execution_count": 574,
     "metadata": {},
     "output_type": "execute_result"
    }
   ],
   "source": [
    "total[\"2017. 11_x\"]"
   ]
  },
  {
   "cell_type": "code",
   "execution_count": 539,
   "id": "53c40526",
   "metadata": {
    "ExecuteTime": {
     "end_time": "2021-12-06T05:05:12.522563Z",
     "start_time": "2021-12-06T05:05:12.508601Z"
    }
   },
   "outputs": [],
   "source": [
    "total.drop(\"sgg\", axis = 1, inplace = True)"
   ]
  },
  {
   "cell_type": "code",
   "execution_count": 571,
   "id": "486a5b25",
   "metadata": {
    "ExecuteTime": {
     "end_time": "2021-12-06T05:20:17.349105Z",
     "start_time": "2021-12-06T05:20:17.322178Z"
    }
   },
   "outputs": [],
   "source": [
    "total[\"2017(상반기)\"] = round((total[\"2017. 01_x\"] + total[\"2017. 02_x\"] + total[\"2017. 03_x\"] + total[\"2017. 04_x\"] + total[\"2017. 05_x\"] + total[\"2017. 06_x\"] + \n",
    "                            total[\"2017. 01_y\"] + total[\"2017. 02_y\"] + total[\"2017. 03_y\"] + total[\"2017. 04_y\"] + total[\"2017. 05_y\"] + total[\"2017. 06_y\"]) / 12)\n",
    "\n",
    "total[\"2018(상반기)\"] = round((total[\"2018. 01_x\"] + total[\"2018. 02_x\"] + total[\"2018. 03_x\"] + total[\"2018. 04_x\"] + total[\"2018. 05_x\"] + total[\"2018. 06_x\"] + \n",
    "                            total[\"2018. 01_y\"] + total[\"2018. 02_y\"] + total[\"2018. 03_y\"] + total[\"2018. 04_y\"] + total[\"2018. 05_y\"] + total[\"2018. 06_y\"]) / 12)\n",
    "\n",
    "total[\"2019(상반기)\"] = round((total[\"2019. 01_x\"] + total[\"2019. 02_x\"] + total[\"2019. 03_x\"] + total[\"2019. 04_x\"] + total[\"2019. 05_x\"] + total[\"2019. 06_x\"] + \n",
    "                            total[\"2019. 01_y\"] + total[\"2019. 02_y\"] + total[\"2019. 03_y\"] + total[\"2019. 04_y\"] + total[\"2019. 05_y\"] + total[\"2019. 06_y\"]) / 12)\n",
    "\n",
    "total[\"2020(상반기)\"] = round((total[\"2020. 01_x\"] + total[\"2020. 02_x\"] + total[\"2020. 03_x\"] + total[\"2020. 04_x\"] + total[\"2020. 05_x\"] + total[\"2020. 06_x\"] + \n",
    "                            total[\"2020. 01_y\"] + total[\"2020. 02_y\"] + total[\"2020. 03_y\"] + total[\"2020. 04_y\"] + total[\"2020. 05_y\"] + total[\"2020. 06_y\"]) / 12)\n"
   ]
  },
  {
   "cell_type": "code",
   "execution_count": 575,
   "id": "0ee11805",
   "metadata": {
    "ExecuteTime": {
     "end_time": "2021-12-06T05:23:42.821644Z",
     "start_time": "2021-12-06T05:23:42.795726Z"
    }
   },
   "outputs": [],
   "source": [
    "total[\"2017(하반기)\"] = round((total[\"2017. 07_x\"] + total[\"2017. 08_x\"] + total[\"2017. 09_x\"] + total[\"2017. 10_x\"] + total[\"2017. 11_x\"] + total[\"2017. 12_x\"] + \n",
    "                            total[\"2017. 07_y\"] + total[\"2017. 08_y\"] + total[\"2017. 09_y\"] + total[\"2017. 10_y\"] + total[\"2017. 11_y\"] + total[\"2017. 12_y\"]) / 12)\n",
    "\n",
    "total[\"2018(하반기)\"] = round((total[\"2018. 07_x\"] + total[\"2018. 08_x\"] + total[\"2018. 09_x\"] + total[\"2018. 10_x\"] + total[\"2018. 11_x\"] + total[\"2018. 12_x\"] + \n",
    "                            total[\"2018. 07_y\"] + total[\"2018. 08_y\"] + total[\"2018. 09_y\"] + total[\"2018. 10_y\"] + total[\"2018. 11_y\"] + total[\"2018. 12_y\"]) / 12)\n",
    "\n",
    "total[\"2019(하반기)\"] = round((total[\"2019. 07_x\"] + total[\"2019. 08_x\"] + total[\"2019. 09_x\"] + total[\"2019. 10_x\"] + total[\"2019. 11_x\"] + total[\"2019. 12_x\"] + \n",
    "                            total[\"2019. 07_y\"] + total[\"2019. 08_y\"] + total[\"2019. 09_y\"] + total[\"2019. 10_y\"] + total[\"2019. 11_y\"] + total[\"2019. 12_y\"]) / 12)\n",
    "\n",
    "total[\"2020(하반기)\"] = round((total[\"2020. 07_x\"] + total[\"2020. 08_x\"] + total[\"2020. 09_x\"] + total[\"2020. 10_x\"] + total[\"2020. 11_x\"] + total[\"2020. 12_x\"] + \n",
    "                            total[\"2020. 07_y\"] + total[\"2020. 08_y\"] + total[\"2020. 09_y\"] + total[\"2020. 10_y\"] + total[\"2020. 11_y\"] + total[\"2020. 12_y\"]) / 12)\n"
   ]
  },
  {
   "cell_type": "code",
   "execution_count": 609,
   "id": "875ddcc3",
   "metadata": {
    "ExecuteTime": {
     "end_time": "2021-12-06T05:27:44.260140Z",
     "start_time": "2021-12-06T05:27:44.240164Z"
    }
   },
   "outputs": [],
   "source": [
    "total1 = total.columns[:2]\n",
    "total2 = total.columns[98:]"
   ]
  },
  {
   "cell_type": "code",
   "execution_count": 613,
   "id": "dff94f5c",
   "metadata": {
    "ExecuteTime": {
     "end_time": "2021-12-06T05:30:03.482998Z",
     "start_time": "2021-12-06T05:30:03.464055Z"
    }
   },
   "outputs": [],
   "source": [
    "name = total[total1]"
   ]
  },
  {
   "cell_type": "code",
   "execution_count": 614,
   "id": "ff66eaa2",
   "metadata": {
    "ExecuteTime": {
     "end_time": "2021-12-06T05:30:06.909666Z",
     "start_time": "2021-12-06T05:30:06.899693Z"
    }
   },
   "outputs": [],
   "source": [
    "val = total[total2]"
   ]
  },
  {
   "cell_type": "code",
   "execution_count": 618,
   "id": "63a4f717",
   "metadata": {
    "ExecuteTime": {
     "end_time": "2021-12-06T05:31:04.675583Z",
     "start_time": "2021-12-06T05:31:04.662617Z"
    }
   },
   "outputs": [],
   "source": [
    "total_last = pd.concat([name, val], axis = 1)"
   ]
  },
  {
   "cell_type": "code",
   "execution_count": 623,
   "id": "100a9b2e",
   "metadata": {
    "ExecuteTime": {
     "end_time": "2021-12-06T05:34:24.479884Z",
     "start_time": "2021-12-06T05:34:24.470909Z"
    }
   },
   "outputs": [],
   "source": [
    "total_last.drop([\"sgg\"], axis = 1, inplace = True)"
   ]
  },
  {
   "cell_type": "code",
   "execution_count": 632,
   "id": "fe17e556",
   "metadata": {
    "ExecuteTime": {
     "end_time": "2021-12-06T05:38:13.450529Z",
     "start_time": "2021-12-06T05:38:13.414622Z"
    }
   },
   "outputs": [],
   "source": [
    "total_last.to_csv(\"house_price.csv\", index = False)"
   ]
  },
  {
   "cell_type": "code",
   "execution_count": 685,
   "id": "d476763c",
   "metadata": {
    "ExecuteTime": {
     "end_time": "2021-12-06T06:00:15.418536Z",
     "start_time": "2021-12-06T06:00:15.368000Z"
    }
   },
   "outputs": [
    {
     "data": {
      "text/html": [
       "<div>\n",
       "<style scoped>\n",
       "    .dataframe tbody tr th:only-of-type {\n",
       "        vertical-align: middle;\n",
       "    }\n",
       "\n",
       "    .dataframe tbody tr th {\n",
       "        vertical-align: top;\n",
       "    }\n",
       "\n",
       "    .dataframe thead th {\n",
       "        text-align: right;\n",
       "    }\n",
       "</style>\n",
       "<table border=\"1\" class=\"dataframe\">\n",
       "  <thead>\n",
       "    <tr style=\"text-align: right;\">\n",
       "      <th></th>\n",
       "      <th>jur_stn</th>\n",
       "      <th>2017(상반기)</th>\n",
       "      <th>2017(하반기)</th>\n",
       "      <th>2018(상반기)</th>\n",
       "      <th>2019(상반기)</th>\n",
       "      <th>2020(상반기)</th>\n",
       "      <th>2018(하반기)</th>\n",
       "      <th>2019(하반기)</th>\n",
       "      <th>2020(하반기)</th>\n",
       "    </tr>\n",
       "  </thead>\n",
       "  <tbody>\n",
       "    <tr>\n",
       "      <th>0</th>\n",
       "      <td>서울중부경찰서</td>\n",
       "      <td>97.0</td>\n",
       "      <td>99.0</td>\n",
       "      <td>103.0</td>\n",
       "      <td>109.0</td>\n",
       "      <td>111.0</td>\n",
       "      <td>108.0</td>\n",
       "      <td>110.0</td>\n",
       "      <td>113.0</td>\n",
       "    </tr>\n",
       "    <tr>\n",
       "      <th>1</th>\n",
       "      <td>서울남대문경찰서</td>\n",
       "      <td>97.0</td>\n",
       "      <td>99.0</td>\n",
       "      <td>103.0</td>\n",
       "      <td>109.0</td>\n",
       "      <td>111.0</td>\n",
       "      <td>108.0</td>\n",
       "      <td>110.0</td>\n",
       "      <td>113.0</td>\n",
       "    </tr>\n",
       "    <tr>\n",
       "      <th>2</th>\n",
       "      <td>서울종로경찰서</td>\n",
       "      <td>98.0</td>\n",
       "      <td>100.0</td>\n",
       "      <td>102.0</td>\n",
       "      <td>107.0</td>\n",
       "      <td>109.0</td>\n",
       "      <td>106.0</td>\n",
       "      <td>108.0</td>\n",
       "      <td>111.0</td>\n",
       "    </tr>\n",
       "    <tr>\n",
       "      <th>3</th>\n",
       "      <td>서울혜화경찰서</td>\n",
       "      <td>98.0</td>\n",
       "      <td>100.0</td>\n",
       "      <td>102.0</td>\n",
       "      <td>107.0</td>\n",
       "      <td>109.0</td>\n",
       "      <td>106.0</td>\n",
       "      <td>108.0</td>\n",
       "      <td>111.0</td>\n",
       "    </tr>\n",
       "    <tr>\n",
       "      <th>4</th>\n",
       "      <td>서울서대문경찰서</td>\n",
       "      <td>98.0</td>\n",
       "      <td>100.0</td>\n",
       "      <td>102.0</td>\n",
       "      <td>107.0</td>\n",
       "      <td>109.0</td>\n",
       "      <td>106.0</td>\n",
       "      <td>107.0</td>\n",
       "      <td>110.0</td>\n",
       "    </tr>\n",
       "    <tr>\n",
       "      <th>5</th>\n",
       "      <td>서울용산경찰서</td>\n",
       "      <td>97.0</td>\n",
       "      <td>100.0</td>\n",
       "      <td>105.0</td>\n",
       "      <td>110.0</td>\n",
       "      <td>112.0</td>\n",
       "      <td>109.0</td>\n",
       "      <td>110.0</td>\n",
       "      <td>114.0</td>\n",
       "    </tr>\n",
       "    <tr>\n",
       "      <th>6</th>\n",
       "      <td>서울성북경찰서</td>\n",
       "      <td>98.0</td>\n",
       "      <td>100.0</td>\n",
       "      <td>103.0</td>\n",
       "      <td>108.0</td>\n",
       "      <td>110.0</td>\n",
       "      <td>107.0</td>\n",
       "      <td>108.0</td>\n",
       "      <td>112.0</td>\n",
       "    </tr>\n",
       "    <tr>\n",
       "      <th>7</th>\n",
       "      <td>서울종암경찰서</td>\n",
       "      <td>98.0</td>\n",
       "      <td>100.0</td>\n",
       "      <td>103.0</td>\n",
       "      <td>108.0</td>\n",
       "      <td>110.0</td>\n",
       "      <td>107.0</td>\n",
       "      <td>108.0</td>\n",
       "      <td>112.0</td>\n",
       "    </tr>\n",
       "    <tr>\n",
       "      <th>8</th>\n",
       "      <td>서울동대문경찰서</td>\n",
       "      <td>98.0</td>\n",
       "      <td>100.0</td>\n",
       "      <td>102.0</td>\n",
       "      <td>106.0</td>\n",
       "      <td>108.0</td>\n",
       "      <td>106.0</td>\n",
       "      <td>106.0</td>\n",
       "      <td>111.0</td>\n",
       "    </tr>\n",
       "    <tr>\n",
       "      <th>9</th>\n",
       "      <td>서울마포경찰서</td>\n",
       "      <td>97.0</td>\n",
       "      <td>100.0</td>\n",
       "      <td>104.0</td>\n",
       "      <td>110.0</td>\n",
       "      <td>113.0</td>\n",
       "      <td>110.0</td>\n",
       "      <td>111.0</td>\n",
       "      <td>116.0</td>\n",
       "    </tr>\n",
       "    <tr>\n",
       "      <th>10</th>\n",
       "      <td>서울영등포경찰서</td>\n",
       "      <td>97.0</td>\n",
       "      <td>100.0</td>\n",
       "      <td>103.0</td>\n",
       "      <td>109.0</td>\n",
       "      <td>112.0</td>\n",
       "      <td>108.0</td>\n",
       "      <td>110.0</td>\n",
       "      <td>114.0</td>\n",
       "    </tr>\n",
       "    <tr>\n",
       "      <th>11</th>\n",
       "      <td>서울성동경찰서</td>\n",
       "      <td>97.0</td>\n",
       "      <td>100.0</td>\n",
       "      <td>105.0</td>\n",
       "      <td>109.0</td>\n",
       "      <td>111.0</td>\n",
       "      <td>109.0</td>\n",
       "      <td>109.0</td>\n",
       "      <td>113.0</td>\n",
       "    </tr>\n",
       "    <tr>\n",
       "      <th>12</th>\n",
       "      <td>서울동작경찰서</td>\n",
       "      <td>97.0</td>\n",
       "      <td>99.0</td>\n",
       "      <td>103.0</td>\n",
       "      <td>108.0</td>\n",
       "      <td>112.0</td>\n",
       "      <td>108.0</td>\n",
       "      <td>109.0</td>\n",
       "      <td>113.0</td>\n",
       "    </tr>\n",
       "    <tr>\n",
       "      <th>13</th>\n",
       "      <td>서울광진경찰서</td>\n",
       "      <td>97.0</td>\n",
       "      <td>100.0</td>\n",
       "      <td>105.0</td>\n",
       "      <td>107.0</td>\n",
       "      <td>109.0</td>\n",
       "      <td>107.0</td>\n",
       "      <td>108.0</td>\n",
       "      <td>111.0</td>\n",
       "    </tr>\n",
       "    <tr>\n",
       "      <th>14</th>\n",
       "      <td>서울서부경찰서</td>\n",
       "      <td>98.0</td>\n",
       "      <td>100.0</td>\n",
       "      <td>101.0</td>\n",
       "      <td>106.0</td>\n",
       "      <td>107.0</td>\n",
       "      <td>105.0</td>\n",
       "      <td>106.0</td>\n",
       "      <td>109.0</td>\n",
       "    </tr>\n",
       "    <tr>\n",
       "      <th>15</th>\n",
       "      <td>서울은평경찰서</td>\n",
       "      <td>98.0</td>\n",
       "      <td>100.0</td>\n",
       "      <td>101.0</td>\n",
       "      <td>106.0</td>\n",
       "      <td>107.0</td>\n",
       "      <td>105.0</td>\n",
       "      <td>106.0</td>\n",
       "      <td>109.0</td>\n",
       "    </tr>\n",
       "    <tr>\n",
       "      <th>16</th>\n",
       "      <td>서울강북경찰서</td>\n",
       "      <td>99.0</td>\n",
       "      <td>100.0</td>\n",
       "      <td>102.0</td>\n",
       "      <td>107.0</td>\n",
       "      <td>109.0</td>\n",
       "      <td>105.0</td>\n",
       "      <td>107.0</td>\n",
       "      <td>112.0</td>\n",
       "    </tr>\n",
       "    <tr>\n",
       "      <th>17</th>\n",
       "      <td>서울금천경찰서</td>\n",
       "      <td>98.0</td>\n",
       "      <td>100.0</td>\n",
       "      <td>101.0</td>\n",
       "      <td>104.0</td>\n",
       "      <td>106.0</td>\n",
       "      <td>103.0</td>\n",
       "      <td>104.0</td>\n",
       "      <td>108.0</td>\n",
       "    </tr>\n",
       "    <tr>\n",
       "      <th>18</th>\n",
       "      <td>서울중랑경찰서</td>\n",
       "      <td>99.0</td>\n",
       "      <td>100.0</td>\n",
       "      <td>101.0</td>\n",
       "      <td>104.0</td>\n",
       "      <td>106.0</td>\n",
       "      <td>104.0</td>\n",
       "      <td>104.0</td>\n",
       "      <td>108.0</td>\n",
       "    </tr>\n",
       "    <tr>\n",
       "      <th>19</th>\n",
       "      <td>서울강남경찰서</td>\n",
       "      <td>96.0</td>\n",
       "      <td>100.0</td>\n",
       "      <td>107.0</td>\n",
       "      <td>108.0</td>\n",
       "      <td>112.0</td>\n",
       "      <td>110.0</td>\n",
       "      <td>109.0</td>\n",
       "      <td>113.0</td>\n",
       "    </tr>\n",
       "    <tr>\n",
       "      <th>20</th>\n",
       "      <td>서울수서경찰서</td>\n",
       "      <td>96.0</td>\n",
       "      <td>100.0</td>\n",
       "      <td>107.0</td>\n",
       "      <td>108.0</td>\n",
       "      <td>112.0</td>\n",
       "      <td>110.0</td>\n",
       "      <td>109.0</td>\n",
       "      <td>113.0</td>\n",
       "    </tr>\n",
       "    <tr>\n",
       "      <th>21</th>\n",
       "      <td>서울관악경찰서</td>\n",
       "      <td>97.0</td>\n",
       "      <td>100.0</td>\n",
       "      <td>101.0</td>\n",
       "      <td>104.0</td>\n",
       "      <td>106.0</td>\n",
       "      <td>104.0</td>\n",
       "      <td>104.0</td>\n",
       "      <td>109.0</td>\n",
       "    </tr>\n",
       "    <tr>\n",
       "      <th>22</th>\n",
       "      <td>서울강서경찰서</td>\n",
       "      <td>97.0</td>\n",
       "      <td>100.0</td>\n",
       "      <td>103.0</td>\n",
       "      <td>107.0</td>\n",
       "      <td>109.0</td>\n",
       "      <td>107.0</td>\n",
       "      <td>107.0</td>\n",
       "      <td>111.0</td>\n",
       "    </tr>\n",
       "    <tr>\n",
       "      <th>23</th>\n",
       "      <td>서울강동경찰서</td>\n",
       "      <td>97.0</td>\n",
       "      <td>100.0</td>\n",
       "      <td>106.0</td>\n",
       "      <td>109.0</td>\n",
       "      <td>113.0</td>\n",
       "      <td>110.0</td>\n",
       "      <td>109.0</td>\n",
       "      <td>114.0</td>\n",
       "    </tr>\n",
       "    <tr>\n",
       "      <th>24</th>\n",
       "      <td>서울구로경찰서</td>\n",
       "      <td>98.0</td>\n",
       "      <td>100.0</td>\n",
       "      <td>102.0</td>\n",
       "      <td>106.0</td>\n",
       "      <td>108.0</td>\n",
       "      <td>105.0</td>\n",
       "      <td>106.0</td>\n",
       "      <td>111.0</td>\n",
       "    </tr>\n",
       "    <tr>\n",
       "      <th>25</th>\n",
       "      <td>서울서초경찰서</td>\n",
       "      <td>98.0</td>\n",
       "      <td>100.0</td>\n",
       "      <td>106.0</td>\n",
       "      <td>107.0</td>\n",
       "      <td>110.0</td>\n",
       "      <td>108.0</td>\n",
       "      <td>108.0</td>\n",
       "      <td>111.0</td>\n",
       "    </tr>\n",
       "    <tr>\n",
       "      <th>26</th>\n",
       "      <td>서울방배경찰서</td>\n",
       "      <td>98.0</td>\n",
       "      <td>100.0</td>\n",
       "      <td>106.0</td>\n",
       "      <td>107.0</td>\n",
       "      <td>110.0</td>\n",
       "      <td>108.0</td>\n",
       "      <td>108.0</td>\n",
       "      <td>111.0</td>\n",
       "    </tr>\n",
       "    <tr>\n",
       "      <th>27</th>\n",
       "      <td>서울양천경찰서</td>\n",
       "      <td>97.0</td>\n",
       "      <td>100.0</td>\n",
       "      <td>105.0</td>\n",
       "      <td>108.0</td>\n",
       "      <td>112.0</td>\n",
       "      <td>108.0</td>\n",
       "      <td>108.0</td>\n",
       "      <td>114.0</td>\n",
       "    </tr>\n",
       "    <tr>\n",
       "      <th>28</th>\n",
       "      <td>서울송파경찰서</td>\n",
       "      <td>95.0</td>\n",
       "      <td>99.0</td>\n",
       "      <td>108.0</td>\n",
       "      <td>109.0</td>\n",
       "      <td>114.0</td>\n",
       "      <td>110.0</td>\n",
       "      <td>110.0</td>\n",
       "      <td>115.0</td>\n",
       "    </tr>\n",
       "    <tr>\n",
       "      <th>29</th>\n",
       "      <td>서울노원경찰서</td>\n",
       "      <td>97.0</td>\n",
       "      <td>100.0</td>\n",
       "      <td>101.0</td>\n",
       "      <td>103.0</td>\n",
       "      <td>106.0</td>\n",
       "      <td>103.0</td>\n",
       "      <td>103.0</td>\n",
       "      <td>109.0</td>\n",
       "    </tr>\n",
       "    <tr>\n",
       "      <th>30</th>\n",
       "      <td>서울도봉경찰서</td>\n",
       "      <td>98.0</td>\n",
       "      <td>100.0</td>\n",
       "      <td>101.0</td>\n",
       "      <td>104.0</td>\n",
       "      <td>106.0</td>\n",
       "      <td>104.0</td>\n",
       "      <td>104.0</td>\n",
       "      <td>109.0</td>\n",
       "    </tr>\n",
       "    <tr>\n",
       "      <th>31</th>\n",
       "      <td>수원중부경찰서</td>\n",
       "      <td>99.0</td>\n",
       "      <td>100.0</td>\n",
       "      <td>100.0</td>\n",
       "      <td>101.0</td>\n",
       "      <td>107.0</td>\n",
       "      <td>100.0</td>\n",
       "      <td>100.0</td>\n",
       "      <td>112.0</td>\n",
       "    </tr>\n",
       "    <tr>\n",
       "      <th>32</th>\n",
       "      <td>수원남부경찰서</td>\n",
       "      <td>99.0</td>\n",
       "      <td>100.0</td>\n",
       "      <td>102.0</td>\n",
       "      <td>103.0</td>\n",
       "      <td>121.0</td>\n",
       "      <td>103.0</td>\n",
       "      <td>105.0</td>\n",
       "      <td>130.0</td>\n",
       "    </tr>\n",
       "    <tr>\n",
       "      <th>33</th>\n",
       "      <td>수원서부경찰서</td>\n",
       "      <td>99.0</td>\n",
       "      <td>100.0</td>\n",
       "      <td>101.0</td>\n",
       "      <td>106.0</td>\n",
       "      <td>119.0</td>\n",
       "      <td>104.0</td>\n",
       "      <td>106.0</td>\n",
       "      <td>126.0</td>\n",
       "    </tr>\n",
       "    <tr>\n",
       "      <th>34</th>\n",
       "      <td>세종경찰서</td>\n",
       "      <td>97.0</td>\n",
       "      <td>100.0</td>\n",
       "      <td>101.0</td>\n",
       "      <td>101.0</td>\n",
       "      <td>109.0</td>\n",
       "      <td>101.0</td>\n",
       "      <td>99.0</td>\n",
       "      <td>135.0</td>\n",
       "    </tr>\n",
       "    <tr>\n",
       "      <th>35</th>\n",
       "      <td>창원중부경찰서</td>\n",
       "      <td>109.0</td>\n",
       "      <td>103.0</td>\n",
       "      <td>96.0</td>\n",
       "      <td>87.0</td>\n",
       "      <td>87.0</td>\n",
       "      <td>89.0</td>\n",
       "      <td>85.0</td>\n",
       "      <td>93.0</td>\n",
       "    </tr>\n",
       "    <tr>\n",
       "      <th>36</th>\n",
       "      <td>창원서부경찰서</td>\n",
       "      <td>106.0</td>\n",
       "      <td>102.0</td>\n",
       "      <td>97.0</td>\n",
       "      <td>89.0</td>\n",
       "      <td>89.0</td>\n",
       "      <td>92.0</td>\n",
       "      <td>87.0</td>\n",
       "      <td>95.0</td>\n",
       "    </tr>\n",
       "    <tr>\n",
       "      <th>37</th>\n",
       "      <td>마산중부경찰서</td>\n",
       "      <td>103.0</td>\n",
       "      <td>101.0</td>\n",
       "      <td>99.0</td>\n",
       "      <td>91.0</td>\n",
       "      <td>88.0</td>\n",
       "      <td>95.0</td>\n",
       "      <td>88.0</td>\n",
       "      <td>88.0</td>\n",
       "    </tr>\n",
       "    <tr>\n",
       "      <th>38</th>\n",
       "      <td>마산동부경찰서</td>\n",
       "      <td>103.0</td>\n",
       "      <td>101.0</td>\n",
       "      <td>97.0</td>\n",
       "      <td>89.0</td>\n",
       "      <td>85.0</td>\n",
       "      <td>93.0</td>\n",
       "      <td>86.0</td>\n",
       "      <td>86.0</td>\n",
       "    </tr>\n",
       "    <tr>\n",
       "      <th>39</th>\n",
       "      <td>진주경찰서</td>\n",
       "      <td>98.0</td>\n",
       "      <td>100.0</td>\n",
       "      <td>99.0</td>\n",
       "      <td>96.0</td>\n",
       "      <td>91.0</td>\n",
       "      <td>98.0</td>\n",
       "      <td>92.0</td>\n",
       "      <td>92.0</td>\n",
       "    </tr>\n",
       "    <tr>\n",
       "      <th>40</th>\n",
       "      <td>진해경찰서</td>\n",
       "      <td>103.0</td>\n",
       "      <td>101.0</td>\n",
       "      <td>97.0</td>\n",
       "      <td>92.0</td>\n",
       "      <td>89.0</td>\n",
       "      <td>94.0</td>\n",
       "      <td>89.0</td>\n",
       "      <td>90.0</td>\n",
       "    </tr>\n",
       "  </tbody>\n",
       "</table>\n",
       "</div>"
      ],
      "text/plain": [
       "     jur_stn  2017(상반기)  2017(하반기)  2018(상반기)  2019(상반기)  2020(상반기)  \\\n",
       "0    서울중부경찰서       97.0       99.0      103.0      109.0      111.0   \n",
       "1   서울남대문경찰서       97.0       99.0      103.0      109.0      111.0   \n",
       "2    서울종로경찰서       98.0      100.0      102.0      107.0      109.0   \n",
       "3    서울혜화경찰서       98.0      100.0      102.0      107.0      109.0   \n",
       "4   서울서대문경찰서       98.0      100.0      102.0      107.0      109.0   \n",
       "5    서울용산경찰서       97.0      100.0      105.0      110.0      112.0   \n",
       "6    서울성북경찰서       98.0      100.0      103.0      108.0      110.0   \n",
       "7    서울종암경찰서       98.0      100.0      103.0      108.0      110.0   \n",
       "8   서울동대문경찰서       98.0      100.0      102.0      106.0      108.0   \n",
       "9    서울마포경찰서       97.0      100.0      104.0      110.0      113.0   \n",
       "10  서울영등포경찰서       97.0      100.0      103.0      109.0      112.0   \n",
       "11   서울성동경찰서       97.0      100.0      105.0      109.0      111.0   \n",
       "12   서울동작경찰서       97.0       99.0      103.0      108.0      112.0   \n",
       "13   서울광진경찰서       97.0      100.0      105.0      107.0      109.0   \n",
       "14   서울서부경찰서       98.0      100.0      101.0      106.0      107.0   \n",
       "15   서울은평경찰서       98.0      100.0      101.0      106.0      107.0   \n",
       "16   서울강북경찰서       99.0      100.0      102.0      107.0      109.0   \n",
       "17   서울금천경찰서       98.0      100.0      101.0      104.0      106.0   \n",
       "18   서울중랑경찰서       99.0      100.0      101.0      104.0      106.0   \n",
       "19   서울강남경찰서       96.0      100.0      107.0      108.0      112.0   \n",
       "20   서울수서경찰서       96.0      100.0      107.0      108.0      112.0   \n",
       "21   서울관악경찰서       97.0      100.0      101.0      104.0      106.0   \n",
       "22   서울강서경찰서       97.0      100.0      103.0      107.0      109.0   \n",
       "23   서울강동경찰서       97.0      100.0      106.0      109.0      113.0   \n",
       "24   서울구로경찰서       98.0      100.0      102.0      106.0      108.0   \n",
       "25   서울서초경찰서       98.0      100.0      106.0      107.0      110.0   \n",
       "26   서울방배경찰서       98.0      100.0      106.0      107.0      110.0   \n",
       "27   서울양천경찰서       97.0      100.0      105.0      108.0      112.0   \n",
       "28   서울송파경찰서       95.0       99.0      108.0      109.0      114.0   \n",
       "29   서울노원경찰서       97.0      100.0      101.0      103.0      106.0   \n",
       "30   서울도봉경찰서       98.0      100.0      101.0      104.0      106.0   \n",
       "31   수원중부경찰서       99.0      100.0      100.0      101.0      107.0   \n",
       "32   수원남부경찰서       99.0      100.0      102.0      103.0      121.0   \n",
       "33   수원서부경찰서       99.0      100.0      101.0      106.0      119.0   \n",
       "34     세종경찰서       97.0      100.0      101.0      101.0      109.0   \n",
       "35   창원중부경찰서      109.0      103.0       96.0       87.0       87.0   \n",
       "36   창원서부경찰서      106.0      102.0       97.0       89.0       89.0   \n",
       "37   마산중부경찰서      103.0      101.0       99.0       91.0       88.0   \n",
       "38   마산동부경찰서      103.0      101.0       97.0       89.0       85.0   \n",
       "39     진주경찰서       98.0      100.0       99.0       96.0       91.0   \n",
       "40     진해경찰서      103.0      101.0       97.0       92.0       89.0   \n",
       "\n",
       "    2018(하반기)  2019(하반기)  2020(하반기)  \n",
       "0       108.0      110.0      113.0  \n",
       "1       108.0      110.0      113.0  \n",
       "2       106.0      108.0      111.0  \n",
       "3       106.0      108.0      111.0  \n",
       "4       106.0      107.0      110.0  \n",
       "5       109.0      110.0      114.0  \n",
       "6       107.0      108.0      112.0  \n",
       "7       107.0      108.0      112.0  \n",
       "8       106.0      106.0      111.0  \n",
       "9       110.0      111.0      116.0  \n",
       "10      108.0      110.0      114.0  \n",
       "11      109.0      109.0      113.0  \n",
       "12      108.0      109.0      113.0  \n",
       "13      107.0      108.0      111.0  \n",
       "14      105.0      106.0      109.0  \n",
       "15      105.0      106.0      109.0  \n",
       "16      105.0      107.0      112.0  \n",
       "17      103.0      104.0      108.0  \n",
       "18      104.0      104.0      108.0  \n",
       "19      110.0      109.0      113.0  \n",
       "20      110.0      109.0      113.0  \n",
       "21      104.0      104.0      109.0  \n",
       "22      107.0      107.0      111.0  \n",
       "23      110.0      109.0      114.0  \n",
       "24      105.0      106.0      111.0  \n",
       "25      108.0      108.0      111.0  \n",
       "26      108.0      108.0      111.0  \n",
       "27      108.0      108.0      114.0  \n",
       "28      110.0      110.0      115.0  \n",
       "29      103.0      103.0      109.0  \n",
       "30      104.0      104.0      109.0  \n",
       "31      100.0      100.0      112.0  \n",
       "32      103.0      105.0      130.0  \n",
       "33      104.0      106.0      126.0  \n",
       "34      101.0       99.0      135.0  \n",
       "35       89.0       85.0       93.0  \n",
       "36       92.0       87.0       95.0  \n",
       "37       95.0       88.0       88.0  \n",
       "38       93.0       86.0       86.0  \n",
       "39       98.0       92.0       92.0  \n",
       "40       94.0       89.0       90.0  "
      ]
     },
     "execution_count": 685,
     "metadata": {},
     "output_type": "execute_result"
    }
   ],
   "source": [
    "total_last = total_last.drop_duplicates()\n",
    "total_last.index = range(len(total_last))\n",
    "total_last"
   ]
  },
  {
   "cell_type": "code",
   "execution_count": 691,
   "id": "6e89b011",
   "metadata": {
    "ExecuteTime": {
     "end_time": "2021-12-06T06:01:59.329128Z",
     "start_time": "2021-12-06T06:01:59.318155Z"
    }
   },
   "outputs": [],
   "source": [
    "house_df2017_up = total_last[[\"jur_stn\", \"2017(상반기)\"]]\n",
    "house_df2017_up[\"year\"] = \"2017(상반기)\"\n",
    "house_df2017_up.rename(columns={\"2017(상반기)\": \"house\"},inplace=True)"
   ]
  },
  {
   "cell_type": "code",
   "execution_count": 692,
   "id": "05c29929",
   "metadata": {
    "ExecuteTime": {
     "end_time": "2021-12-06T06:02:00.902818Z",
     "start_time": "2021-12-06T06:02:00.890818Z"
    }
   },
   "outputs": [],
   "source": [
    "house_df2017_down = total_last[[\"jur_stn\", \"2017(하반기)\"]]\n",
    "house_df2017_down[\"year\"] = \"2017(하반기)\"\n",
    "house_df2017_down.rename(columns={\"2017(하반기)\": \"house\"},inplace=True)"
   ]
  },
  {
   "cell_type": "code",
   "execution_count": 693,
   "id": "83f9c3f1",
   "metadata": {
    "ExecuteTime": {
     "end_time": "2021-12-06T06:02:02.516848Z",
     "start_time": "2021-12-06T06:02:02.503598Z"
    }
   },
   "outputs": [],
   "source": [
    "house_df2018_up = total_last[[\"jur_stn\", \"2018(상반기)\"]]\n",
    "house_df2018_up[\"year\"] = \"2018(상반기)\"\n",
    "house_df2018_up.rename(columns={\"2018(상반기)\": \"house\"},inplace=True)"
   ]
  },
  {
   "cell_type": "code",
   "execution_count": 694,
   "id": "6d0989e2",
   "metadata": {
    "ExecuteTime": {
     "end_time": "2021-12-06T06:02:04.292307Z",
     "start_time": "2021-12-06T06:02:04.280340Z"
    }
   },
   "outputs": [],
   "source": [
    "house_df2018_down = total_last[[\"jur_stn\", \"2018(하반기)\"]]\n",
    "house_df2018_down[\"year\"] = \"2018(하반기)\"\n",
    "house_df2018_down.rename(columns={\"2018(하반기)\": \"house\"},inplace=True)"
   ]
  },
  {
   "cell_type": "code",
   "execution_count": 699,
   "id": "52f70a3d",
   "metadata": {
    "ExecuteTime": {
     "end_time": "2021-12-06T06:05:50.323153Z",
     "start_time": "2021-12-06T06:05:50.299134Z"
    }
   },
   "outputs": [],
   "source": [
    "house_df2020_up = total_last[[\"jur_stn\", \"2020(상반기)\"]]\n",
    "house_df2020_up[\"year\"] = \"2020(상반기)\"\n",
    "house_df2020_up.rename(columns={\"2020(상반기)\": \"house\"},inplace=True)\n",
    "house_df2020_down = total_last[[\"jur_stn\", \"2020(하반기)\"]]\n",
    "house_df2020_down[\"year\"] = \"2020(하반기)\"\n",
    "house_df2020_down.rename(columns={\"2020(하반기)\": \"house\"},inplace=True)\n",
    "house_df2019_up = total_last[[\"jur_stn\", \"2019(상반기)\"]]\n",
    "house_df2019_up[\"year\"] = \"2019(상반기)\"\n",
    "house_df2019_up.rename(columns={\"2019(상반기)\": \"house\"},inplace=True)\n",
    "house_df2019_down = total_last[[\"jur_stn\", \"2019(하반기)\"]]\n",
    "house_df2019_down[\"year\"] = \"2019(하반기)\"\n",
    "house_df2019_down.rename(columns={\"2019(하반기)\": \"house\"},inplace=True)"
   ]
  },
  {
   "cell_type": "code",
   "execution_count": 701,
   "id": "b919a304",
   "metadata": {
    "ExecuteTime": {
     "end_time": "2021-12-06T06:06:14.116467Z",
     "start_time": "2021-12-06T06:06:14.086548Z"
    }
   },
   "outputs": [
    {
     "data": {
      "text/html": [
       "<div>\n",
       "<style scoped>\n",
       "    .dataframe tbody tr th:only-of-type {\n",
       "        vertical-align: middle;\n",
       "    }\n",
       "\n",
       "    .dataframe tbody tr th {\n",
       "        vertical-align: top;\n",
       "    }\n",
       "\n",
       "    .dataframe thead th {\n",
       "        text-align: right;\n",
       "    }\n",
       "</style>\n",
       "<table border=\"1\" class=\"dataframe\">\n",
       "  <thead>\n",
       "    <tr style=\"text-align: right;\">\n",
       "      <th></th>\n",
       "      <th>jur_stn</th>\n",
       "      <th>house</th>\n",
       "      <th>year</th>\n",
       "    </tr>\n",
       "  </thead>\n",
       "  <tbody>\n",
       "    <tr>\n",
       "      <th>0</th>\n",
       "      <td>서울중부경찰서</td>\n",
       "      <td>97.0</td>\n",
       "      <td>2017(상반기)</td>\n",
       "    </tr>\n",
       "    <tr>\n",
       "      <th>1</th>\n",
       "      <td>서울남대문경찰서</td>\n",
       "      <td>97.0</td>\n",
       "      <td>2017(상반기)</td>\n",
       "    </tr>\n",
       "    <tr>\n",
       "      <th>2</th>\n",
       "      <td>서울종로경찰서</td>\n",
       "      <td>98.0</td>\n",
       "      <td>2017(상반기)</td>\n",
       "    </tr>\n",
       "    <tr>\n",
       "      <th>3</th>\n",
       "      <td>서울혜화경찰서</td>\n",
       "      <td>98.0</td>\n",
       "      <td>2017(상반기)</td>\n",
       "    </tr>\n",
       "    <tr>\n",
       "      <th>4</th>\n",
       "      <td>서울서대문경찰서</td>\n",
       "      <td>98.0</td>\n",
       "      <td>2017(상반기)</td>\n",
       "    </tr>\n",
       "    <tr>\n",
       "      <th>...</th>\n",
       "      <td>...</td>\n",
       "      <td>...</td>\n",
       "      <td>...</td>\n",
       "    </tr>\n",
       "    <tr>\n",
       "      <th>36</th>\n",
       "      <td>창원서부경찰서</td>\n",
       "      <td>95.0</td>\n",
       "      <td>2020(하반기)</td>\n",
       "    </tr>\n",
       "    <tr>\n",
       "      <th>37</th>\n",
       "      <td>마산중부경찰서</td>\n",
       "      <td>88.0</td>\n",
       "      <td>2020(하반기)</td>\n",
       "    </tr>\n",
       "    <tr>\n",
       "      <th>38</th>\n",
       "      <td>마산동부경찰서</td>\n",
       "      <td>86.0</td>\n",
       "      <td>2020(하반기)</td>\n",
       "    </tr>\n",
       "    <tr>\n",
       "      <th>39</th>\n",
       "      <td>진주경찰서</td>\n",
       "      <td>92.0</td>\n",
       "      <td>2020(하반기)</td>\n",
       "    </tr>\n",
       "    <tr>\n",
       "      <th>40</th>\n",
       "      <td>진해경찰서</td>\n",
       "      <td>90.0</td>\n",
       "      <td>2020(하반기)</td>\n",
       "    </tr>\n",
       "  </tbody>\n",
       "</table>\n",
       "<p>328 rows × 3 columns</p>\n",
       "</div>"
      ],
      "text/plain": [
       "     jur_stn  house       year\n",
       "0    서울중부경찰서   97.0  2017(상반기)\n",
       "1   서울남대문경찰서   97.0  2017(상반기)\n",
       "2    서울종로경찰서   98.0  2017(상반기)\n",
       "3    서울혜화경찰서   98.0  2017(상반기)\n",
       "4   서울서대문경찰서   98.0  2017(상반기)\n",
       "..       ...    ...        ...\n",
       "36   창원서부경찰서   95.0  2020(하반기)\n",
       "37   마산중부경찰서   88.0  2020(하반기)\n",
       "38   마산동부경찰서   86.0  2020(하반기)\n",
       "39     진주경찰서   92.0  2020(하반기)\n",
       "40     진해경찰서   90.0  2020(하반기)\n",
       "\n",
       "[328 rows x 3 columns]"
      ]
     },
     "execution_count": 701,
     "metadata": {},
     "output_type": "execute_result"
    }
   ],
   "source": [
    "real_last=pd.concat([house_df2017_up,house_df2017_down,house_df2018_up,house_df2018_down,house_df2019_up,house_df2019_down,house_df2020_up,house_df2020_down])\n",
    "real_last"
   ]
  },
  {
   "cell_type": "code",
   "execution_count": 718,
   "id": "c8cdf6c5",
   "metadata": {
    "ExecuteTime": {
     "end_time": "2021-12-06T06:09:03.290341Z",
     "start_time": "2021-12-06T06:09:03.273388Z"
    }
   },
   "outputs": [],
   "source": [
    "real_last = real_last[[\"jur_stn\", \"year\", \"house\"]]"
   ]
  },
  {
   "cell_type": "code",
   "execution_count": 726,
   "id": "651ae47f",
   "metadata": {
    "ExecuteTime": {
     "end_time": "2021-12-06T06:10:56.173273Z",
     "start_time": "2021-12-06T06:10:56.158320Z"
    }
   },
   "outputs": [],
   "source": [
    "real_last.to_csv(\"house_price.csv\", index = False)"
   ]
  },
  {
   "cell_type": "code",
   "execution_count": 727,
   "id": "d83d084c",
   "metadata": {
    "ExecuteTime": {
     "end_time": "2021-12-06T06:11:02.105264Z",
     "start_time": "2021-12-06T06:11:02.081361Z"
    },
    "scrolled": true
   },
   "outputs": [
    {
     "data": {
      "text/html": [
       "<div>\n",
       "<style scoped>\n",
       "    .dataframe tbody tr th:only-of-type {\n",
       "        vertical-align: middle;\n",
       "    }\n",
       "\n",
       "    .dataframe tbody tr th {\n",
       "        vertical-align: top;\n",
       "    }\n",
       "\n",
       "    .dataframe thead th {\n",
       "        text-align: right;\n",
       "    }\n",
       "</style>\n",
       "<table border=\"1\" class=\"dataframe\">\n",
       "  <thead>\n",
       "    <tr style=\"text-align: right;\">\n",
       "      <th></th>\n",
       "      <th>jur_stn</th>\n",
       "      <th>year</th>\n",
       "      <th>house</th>\n",
       "    </tr>\n",
       "  </thead>\n",
       "  <tbody>\n",
       "    <tr>\n",
       "      <th>0</th>\n",
       "      <td>서울중부경찰서</td>\n",
       "      <td>2017(상반기)</td>\n",
       "      <td>97.0</td>\n",
       "    </tr>\n",
       "    <tr>\n",
       "      <th>1</th>\n",
       "      <td>서울남대문경찰서</td>\n",
       "      <td>2017(상반기)</td>\n",
       "      <td>97.0</td>\n",
       "    </tr>\n",
       "    <tr>\n",
       "      <th>2</th>\n",
       "      <td>서울종로경찰서</td>\n",
       "      <td>2017(상반기)</td>\n",
       "      <td>98.0</td>\n",
       "    </tr>\n",
       "    <tr>\n",
       "      <th>3</th>\n",
       "      <td>서울혜화경찰서</td>\n",
       "      <td>2017(상반기)</td>\n",
       "      <td>98.0</td>\n",
       "    </tr>\n",
       "    <tr>\n",
       "      <th>4</th>\n",
       "      <td>서울서대문경찰서</td>\n",
       "      <td>2017(상반기)</td>\n",
       "      <td>98.0</td>\n",
       "    </tr>\n",
       "    <tr>\n",
       "      <th>...</th>\n",
       "      <td>...</td>\n",
       "      <td>...</td>\n",
       "      <td>...</td>\n",
       "    </tr>\n",
       "    <tr>\n",
       "      <th>323</th>\n",
       "      <td>창원서부경찰서</td>\n",
       "      <td>2020(하반기)</td>\n",
       "      <td>95.0</td>\n",
       "    </tr>\n",
       "    <tr>\n",
       "      <th>324</th>\n",
       "      <td>마산중부경찰서</td>\n",
       "      <td>2020(하반기)</td>\n",
       "      <td>88.0</td>\n",
       "    </tr>\n",
       "    <tr>\n",
       "      <th>325</th>\n",
       "      <td>마산동부경찰서</td>\n",
       "      <td>2020(하반기)</td>\n",
       "      <td>86.0</td>\n",
       "    </tr>\n",
       "    <tr>\n",
       "      <th>326</th>\n",
       "      <td>진주경찰서</td>\n",
       "      <td>2020(하반기)</td>\n",
       "      <td>92.0</td>\n",
       "    </tr>\n",
       "    <tr>\n",
       "      <th>327</th>\n",
       "      <td>진해경찰서</td>\n",
       "      <td>2020(하반기)</td>\n",
       "      <td>90.0</td>\n",
       "    </tr>\n",
       "  </tbody>\n",
       "</table>\n",
       "<p>328 rows × 3 columns</p>\n",
       "</div>"
      ],
      "text/plain": [
       "      jur_stn       year  house\n",
       "0     서울중부경찰서  2017(상반기)   97.0\n",
       "1    서울남대문경찰서  2017(상반기)   97.0\n",
       "2     서울종로경찰서  2017(상반기)   98.0\n",
       "3     서울혜화경찰서  2017(상반기)   98.0\n",
       "4    서울서대문경찰서  2017(상반기)   98.0\n",
       "..        ...        ...    ...\n",
       "323   창원서부경찰서  2020(하반기)   95.0\n",
       "324   마산중부경찰서  2020(하반기)   88.0\n",
       "325   마산동부경찰서  2020(하반기)   86.0\n",
       "326     진주경찰서  2020(하반기)   92.0\n",
       "327     진해경찰서  2020(하반기)   90.0\n",
       "\n",
       "[328 rows x 3 columns]"
      ]
     },
     "execution_count": 727,
     "metadata": {},
     "output_type": "execute_result"
    }
   ],
   "source": [
    "f2f2 = pd.read_csv(\"house_price.csv\")\n",
    "f2f2"
   ]
  }
 ],
 "metadata": {
  "kernelspec": {
   "display_name": "Python 3",
   "language": "python",
   "name": "python3"
  },
  "language_info": {
   "codemirror_mode": {
    "name": "ipython",
    "version": 3
   },
   "file_extension": ".py",
   "mimetype": "text/x-python",
   "name": "python",
   "nbconvert_exporter": "python",
   "pygments_lexer": "ipython3",
   "version": "3.8.8"
  },
  "toc": {
   "base_numbering": 1,
   "nav_menu": {},
   "number_sections": true,
   "sideBar": true,
   "skip_h1_title": false,
   "title_cell": "Table of Contents",
   "title_sidebar": "Contents",
   "toc_cell": false,
   "toc_position": {},
   "toc_section_display": true,
   "toc_window_display": false
  },
  "varInspector": {
   "cols": {
    "lenName": 16,
    "lenType": 16,
    "lenVar": 40
   },
   "kernels_config": {
    "python": {
     "delete_cmd_postfix": "",
     "delete_cmd_prefix": "del ",
     "library": "var_list.py",
     "varRefreshCmd": "print(var_dic_list())"
    },
    "r": {
     "delete_cmd_postfix": ") ",
     "delete_cmd_prefix": "rm(",
     "library": "var_list.r",
     "varRefreshCmd": "cat(var_dic_list()) "
    }
   },
   "types_to_exclude": [
    "module",
    "function",
    "builtin_function_or_method",
    "instance",
    "_Feature"
   ],
   "window_display": false
  }
 },
 "nbformat": 4,
 "nbformat_minor": 5
}
