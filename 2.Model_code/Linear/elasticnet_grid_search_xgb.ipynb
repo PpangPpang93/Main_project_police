{
 "cells": [
  {
   "cell_type": "code",
   "execution_count": 3,
   "id": "7728bbaa",
   "metadata": {
    "ExecuteTime": {
     "end_time": "2021-12-03T04:01:52.732781Z",
     "start_time": "2021-12-03T04:01:52.387119Z"
    }
   },
   "outputs": [],
   "source": [
    "import pandas as pd\n",
    "import numpy as np\n",
    "#import matplotlib.pyplot as plt\n",
    "#import seaborn as sns"
   ]
  },
  {
   "cell_type": "code",
   "execution_count": 4,
   "id": "68f550bc",
   "metadata": {
    "ExecuteTime": {
     "end_time": "2021-12-03T04:01:52.777861Z",
     "start_time": "2021-12-03T04:01:52.749745Z"
    }
   },
   "outputs": [],
   "source": [
    "df = pd.read_csv('total_data(2016제외) (1).csv')"
   ]
  },
  {
   "cell_type": "markdown",
   "id": "21dbcb15",
   "metadata": {},
   "source": [
    "### xdata로 xgb로 결정한 feature를 넣어서 Elastic\n",
    "- elasticnet으로 xgb로 결정한 feature를 넣어 모델생성"
   ]
  },
  {
   "cell_type": "code",
   "execution_count": 5,
   "id": "dc7a18a2",
   "metadata": {
    "ExecuteTime": {
     "end_time": "2021-12-03T04:01:54.535926Z",
     "start_time": "2021-12-03T04:01:53.482876Z"
    }
   },
   "outputs": [],
   "source": [
    "# 필요 패키지 로드\n",
    "#from sklearn.preprocessing import MinMaxScaler\n",
    "from sklearn.preprocessing import StandardScaler\n",
    "from sklearn.linear_model import ElasticNet\n",
    "from sklearn.metrics import mean_absolute_error"
   ]
  },
  {
   "cell_type": "code",
   "execution_count": 6,
   "id": "ac15d59f",
   "metadata": {
    "ExecuteTime": {
     "end_time": "2021-12-03T04:01:54.625878Z",
     "start_time": "2021-12-03T04:01:54.569030Z"
    }
   },
   "outputs": [
    {
     "data": {
      "text/html": [
       "<div>\n",
       "<style scoped>\n",
       "    .dataframe tbody tr th:only-of-type {\n",
       "        vertical-align: middle;\n",
       "    }\n",
       "\n",
       "    .dataframe tbody tr th {\n",
       "        vertical-align: top;\n",
       "    }\n",
       "\n",
       "    .dataframe thead th {\n",
       "        text-align: right;\n",
       "    }\n",
       "</style>\n",
       "<table border=\"1\" class=\"dataframe\">\n",
       "  <thead>\n",
       "    <tr style=\"text-align: right;\">\n",
       "      <th></th>\n",
       "      <th>jur_stn</th>\n",
       "      <th>year</th>\n",
       "      <th>report_sx_남성</th>\n",
       "      <th>report_sx_불상</th>\n",
       "      <th>report_sx_여성</th>\n",
       "      <th>report_sx_total</th>\n",
       "      <th>vio_cnt</th>\n",
       "      <th>mur_rob_cnt</th>\n",
       "      <th>car_cnt</th>\n",
       "      <th>5m_crm_yn</th>\n",
       "      <th>...</th>\n",
       "      <th>single_f_2030</th>\n",
       "      <th>single_f_4050</th>\n",
       "      <th>single_f_o60</th>\n",
       "      <th>adult</th>\n",
       "      <th>bell</th>\n",
       "      <th>q1</th>\n",
       "      <th>q2</th>\n",
       "      <th>q3</th>\n",
       "      <th>q4</th>\n",
       "      <th>q5</th>\n",
       "    </tr>\n",
       "  </thead>\n",
       "  <tbody>\n",
       "    <tr>\n",
       "      <th>0</th>\n",
       "      <td>서울중부경찰서</td>\n",
       "      <td>2017(상반기)</td>\n",
       "      <td>13404.0</td>\n",
       "      <td>3239.0</td>\n",
       "      <td>5931.0</td>\n",
       "      <td>22574.0</td>\n",
       "      <td>1324.0</td>\n",
       "      <td>0.0</td>\n",
       "      <td>1412.0</td>\n",
       "      <td>3275.0</td>\n",
       "      <td>...</td>\n",
       "      <td>2128.0</td>\n",
       "      <td>1230.5</td>\n",
       "      <td>1635.5</td>\n",
       "      <td>0.0</td>\n",
       "      <td>0.0</td>\n",
       "      <td>75.2</td>\n",
       "      <td>76.5</td>\n",
       "      <td>69.9</td>\n",
       "      <td>65.9</td>\n",
       "      <td>72.6</td>\n",
       "    </tr>\n",
       "    <tr>\n",
       "      <th>1</th>\n",
       "      <td>서울종로경찰서</td>\n",
       "      <td>2017(상반기)</td>\n",
       "      <td>11579.0</td>\n",
       "      <td>2560.0</td>\n",
       "      <td>5534.0</td>\n",
       "      <td>19674.0</td>\n",
       "      <td>1102.0</td>\n",
       "      <td>0.0</td>\n",
       "      <td>867.0</td>\n",
       "      <td>2914.0</td>\n",
       "      <td>...</td>\n",
       "      <td>2703.0</td>\n",
       "      <td>1378.5</td>\n",
       "      <td>1782.5</td>\n",
       "      <td>2.0</td>\n",
       "      <td>2.0</td>\n",
       "      <td>81.6</td>\n",
       "      <td>82.4</td>\n",
       "      <td>69.1</td>\n",
       "      <td>62.7</td>\n",
       "      <td>72.2</td>\n",
       "    </tr>\n",
       "    <tr>\n",
       "      <th>2</th>\n",
       "      <td>서울남대문경찰서</td>\n",
       "      <td>2017(상반기)</td>\n",
       "      <td>9093.0</td>\n",
       "      <td>1855.0</td>\n",
       "      <td>3551.0</td>\n",
       "      <td>14499.0</td>\n",
       "      <td>949.0</td>\n",
       "      <td>0.0</td>\n",
       "      <td>736.0</td>\n",
       "      <td>2506.0</td>\n",
       "      <td>...</td>\n",
       "      <td>2128.0</td>\n",
       "      <td>1230.5</td>\n",
       "      <td>1635.5</td>\n",
       "      <td>0.0</td>\n",
       "      <td>0.0</td>\n",
       "      <td>77.3</td>\n",
       "      <td>79.3</td>\n",
       "      <td>68.8</td>\n",
       "      <td>61.0</td>\n",
       "      <td>71.7</td>\n",
       "    </tr>\n",
       "    <tr>\n",
       "      <th>3</th>\n",
       "      <td>서울서대문경찰서</td>\n",
       "      <td>2017(상반기)</td>\n",
       "      <td>18441.0</td>\n",
       "      <td>10029.0</td>\n",
       "      <td>10298.0</td>\n",
       "      <td>38769.0</td>\n",
       "      <td>1924.0</td>\n",
       "      <td>0.0</td>\n",
       "      <td>1788.0</td>\n",
       "      <td>4267.0</td>\n",
       "      <td>...</td>\n",
       "      <td>12420.0</td>\n",
       "      <td>4496.0</td>\n",
       "      <td>7066.0</td>\n",
       "      <td>0.0</td>\n",
       "      <td>0.0</td>\n",
       "      <td>78.0</td>\n",
       "      <td>80.0</td>\n",
       "      <td>67.0</td>\n",
       "      <td>66.3</td>\n",
       "      <td>71.4</td>\n",
       "    </tr>\n",
       "    <tr>\n",
       "      <th>4</th>\n",
       "      <td>서울혜화경찰서</td>\n",
       "      <td>2017(상반기)</td>\n",
       "      <td>10829.0</td>\n",
       "      <td>2989.0</td>\n",
       "      <td>5038.0</td>\n",
       "      <td>18857.0</td>\n",
       "      <td>1127.0</td>\n",
       "      <td>0.0</td>\n",
       "      <td>899.0</td>\n",
       "      <td>2864.0</td>\n",
       "      <td>...</td>\n",
       "      <td>2703.0</td>\n",
       "      <td>1378.5</td>\n",
       "      <td>1782.5</td>\n",
       "      <td>0.0</td>\n",
       "      <td>0.0</td>\n",
       "      <td>78.6</td>\n",
       "      <td>80.6</td>\n",
       "      <td>70.7</td>\n",
       "      <td>65.2</td>\n",
       "      <td>75.4</td>\n",
       "    </tr>\n",
       "    <tr>\n",
       "      <th>...</th>\n",
       "      <td>...</td>\n",
       "      <td>...</td>\n",
       "      <td>...</td>\n",
       "      <td>...</td>\n",
       "      <td>...</td>\n",
       "      <td>...</td>\n",
       "      <td>...</td>\n",
       "      <td>...</td>\n",
       "      <td>...</td>\n",
       "      <td>...</td>\n",
       "      <td>...</td>\n",
       "      <td>...</td>\n",
       "      <td>...</td>\n",
       "      <td>...</td>\n",
       "      <td>...</td>\n",
       "      <td>...</td>\n",
       "      <td>...</td>\n",
       "      <td>...</td>\n",
       "      <td>...</td>\n",
       "      <td>...</td>\n",
       "      <td>...</td>\n",
       "    </tr>\n",
       "    <tr>\n",
       "      <th>241</th>\n",
       "      <td>창원서부경찰서</td>\n",
       "      <td>2019(하반기)</td>\n",
       "      <td>12630.0</td>\n",
       "      <td>2990.0</td>\n",
       "      <td>7151.0</td>\n",
       "      <td>22771.0</td>\n",
       "      <td>1460.0</td>\n",
       "      <td>2.0</td>\n",
       "      <td>1964.0</td>\n",
       "      <td>2142.0</td>\n",
       "      <td>...</td>\n",
       "      <td>2900.0</td>\n",
       "      <td>4492.0</td>\n",
       "      <td>5574.0</td>\n",
       "      <td>1.0</td>\n",
       "      <td>1.0</td>\n",
       "      <td>79.1</td>\n",
       "      <td>79.5</td>\n",
       "      <td>68.5</td>\n",
       "      <td>71.2</td>\n",
       "      <td>76.0</td>\n",
       "    </tr>\n",
       "    <tr>\n",
       "      <th>242</th>\n",
       "      <td>마산중부경찰서</td>\n",
       "      <td>2019(하반기)</td>\n",
       "      <td>12223.0</td>\n",
       "      <td>2552.0</td>\n",
       "      <td>6489.0</td>\n",
       "      <td>21264.0</td>\n",
       "      <td>1265.0</td>\n",
       "      <td>5.0</td>\n",
       "      <td>1584.0</td>\n",
       "      <td>1369.0</td>\n",
       "      <td>...</td>\n",
       "      <td>2216.0</td>\n",
       "      <td>2837.0</td>\n",
       "      <td>7186.0</td>\n",
       "      <td>3.0</td>\n",
       "      <td>3.0</td>\n",
       "      <td>80.8</td>\n",
       "      <td>80.0</td>\n",
       "      <td>70.8</td>\n",
       "      <td>73.2</td>\n",
       "      <td>76.5</td>\n",
       "    </tr>\n",
       "    <tr>\n",
       "      <th>243</th>\n",
       "      <td>마산동부경찰서</td>\n",
       "      <td>2019(하반기)</td>\n",
       "      <td>15177.0</td>\n",
       "      <td>3190.0</td>\n",
       "      <td>7647.0</td>\n",
       "      <td>26014.0</td>\n",
       "      <td>1715.0</td>\n",
       "      <td>8.0</td>\n",
       "      <td>1910.0</td>\n",
       "      <td>1920.0</td>\n",
       "      <td>...</td>\n",
       "      <td>1496.0</td>\n",
       "      <td>2939.0</td>\n",
       "      <td>6166.0</td>\n",
       "      <td>1.0</td>\n",
       "      <td>1.0</td>\n",
       "      <td>75.0</td>\n",
       "      <td>76.5</td>\n",
       "      <td>69.4</td>\n",
       "      <td>68.9</td>\n",
       "      <td>73.1</td>\n",
       "    </tr>\n",
       "    <tr>\n",
       "      <th>244</th>\n",
       "      <td>진주경찰서</td>\n",
       "      <td>2019(하반기)</td>\n",
       "      <td>21840.0</td>\n",
       "      <td>5262.0</td>\n",
       "      <td>11455.0</td>\n",
       "      <td>38557.0</td>\n",
       "      <td>2552.0</td>\n",
       "      <td>0.0</td>\n",
       "      <td>3570.0</td>\n",
       "      <td>2876.0</td>\n",
       "      <td>...</td>\n",
       "      <td>6026.0</td>\n",
       "      <td>5205.0</td>\n",
       "      <td>11823.0</td>\n",
       "      <td>8.0</td>\n",
       "      <td>8.0</td>\n",
       "      <td>78.7</td>\n",
       "      <td>79.6</td>\n",
       "      <td>70.3</td>\n",
       "      <td>74.6</td>\n",
       "      <td>75.6</td>\n",
       "    </tr>\n",
       "    <tr>\n",
       "      <th>245</th>\n",
       "      <td>진해경찰서</td>\n",
       "      <td>2019(하반기)</td>\n",
       "      <td>11600.0</td>\n",
       "      <td>2442.0</td>\n",
       "      <td>6278.0</td>\n",
       "      <td>20320.0</td>\n",
       "      <td>1444.0</td>\n",
       "      <td>0.0</td>\n",
       "      <td>1692.0</td>\n",
       "      <td>1354.0</td>\n",
       "      <td>...</td>\n",
       "      <td>1782.0</td>\n",
       "      <td>2592.0</td>\n",
       "      <td>4931.0</td>\n",
       "      <td>3.0</td>\n",
       "      <td>3.0</td>\n",
       "      <td>76.6</td>\n",
       "      <td>79.2</td>\n",
       "      <td>67.0</td>\n",
       "      <td>70.9</td>\n",
       "      <td>73.5</td>\n",
       "    </tr>\n",
       "  </tbody>\n",
       "</table>\n",
       "<p>246 rows × 75 columns</p>\n",
       "</div>"
      ],
      "text/plain": [
       "      jur_stn       year  report_sx_남성  report_sx_불상  report_sx_여성  \\\n",
       "0     서울중부경찰서  2017(상반기)       13404.0        3239.0        5931.0   \n",
       "1     서울종로경찰서  2017(상반기)       11579.0        2560.0        5534.0   \n",
       "2    서울남대문경찰서  2017(상반기)        9093.0        1855.0        3551.0   \n",
       "3    서울서대문경찰서  2017(상반기)       18441.0       10029.0       10298.0   \n",
       "4     서울혜화경찰서  2017(상반기)       10829.0        2989.0        5038.0   \n",
       "..        ...        ...           ...           ...           ...   \n",
       "241   창원서부경찰서  2019(하반기)       12630.0        2990.0        7151.0   \n",
       "242   마산중부경찰서  2019(하반기)       12223.0        2552.0        6489.0   \n",
       "243   마산동부경찰서  2019(하반기)       15177.0        3190.0        7647.0   \n",
       "244     진주경찰서  2019(하반기)       21840.0        5262.0       11455.0   \n",
       "245     진해경찰서  2019(하반기)       11600.0        2442.0        6278.0   \n",
       "\n",
       "     report_sx_total  vio_cnt  mur_rob_cnt  car_cnt  5m_crm_yn  ...  \\\n",
       "0            22574.0   1324.0          0.0   1412.0     3275.0  ...   \n",
       "1            19674.0   1102.0          0.0    867.0     2914.0  ...   \n",
       "2            14499.0    949.0          0.0    736.0     2506.0  ...   \n",
       "3            38769.0   1924.0          0.0   1788.0     4267.0  ...   \n",
       "4            18857.0   1127.0          0.0    899.0     2864.0  ...   \n",
       "..               ...      ...          ...      ...        ...  ...   \n",
       "241          22771.0   1460.0          2.0   1964.0     2142.0  ...   \n",
       "242          21264.0   1265.0          5.0   1584.0     1369.0  ...   \n",
       "243          26014.0   1715.0          8.0   1910.0     1920.0  ...   \n",
       "244          38557.0   2552.0          0.0   3570.0     2876.0  ...   \n",
       "245          20320.0   1444.0          0.0   1692.0     1354.0  ...   \n",
       "\n",
       "     single_f_2030  single_f_4050  single_f_o60  adult  bell    q1    q2  \\\n",
       "0           2128.0         1230.5        1635.5    0.0   0.0  75.2  76.5   \n",
       "1           2703.0         1378.5        1782.5    2.0   2.0  81.6  82.4   \n",
       "2           2128.0         1230.5        1635.5    0.0   0.0  77.3  79.3   \n",
       "3          12420.0         4496.0        7066.0    0.0   0.0  78.0  80.0   \n",
       "4           2703.0         1378.5        1782.5    0.0   0.0  78.6  80.6   \n",
       "..             ...            ...           ...    ...   ...   ...   ...   \n",
       "241         2900.0         4492.0        5574.0    1.0   1.0  79.1  79.5   \n",
       "242         2216.0         2837.0        7186.0    3.0   3.0  80.8  80.0   \n",
       "243         1496.0         2939.0        6166.0    1.0   1.0  75.0  76.5   \n",
       "244         6026.0         5205.0       11823.0    8.0   8.0  78.7  79.6   \n",
       "245         1782.0         2592.0        4931.0    3.0   3.0  76.6  79.2   \n",
       "\n",
       "       q3    q4    q5  \n",
       "0    69.9  65.9  72.6  \n",
       "1    69.1  62.7  72.2  \n",
       "2    68.8  61.0  71.7  \n",
       "3    67.0  66.3  71.4  \n",
       "4    70.7  65.2  75.4  \n",
       "..    ...   ...   ...  \n",
       "241  68.5  71.2  76.0  \n",
       "242  70.8  73.2  76.5  \n",
       "243  69.4  68.9  73.1  \n",
       "244  70.3  74.6  75.6  \n",
       "245  67.0  70.9  73.5  \n",
       "\n",
       "[246 rows x 75 columns]"
      ]
     },
     "execution_count": 6,
     "metadata": {},
     "output_type": "execute_result"
    }
   ],
   "source": [
    "# y값인 q1-q5가 결측인 2020년 데이터 제거\n",
    "a = df[0:-82]\n",
    "a"
   ]
  },
  {
   "cell_type": "code",
   "execution_count": 7,
   "id": "56e4c73a",
   "metadata": {
    "ExecuteTime": {
     "end_time": "2021-12-03T04:01:55.234499Z",
     "start_time": "2021-12-03T04:01:55.211562Z"
    }
   },
   "outputs": [
    {
     "name": "stderr",
     "output_type": "stream",
     "text": [
      "C:\\Anaconda3\\lib\\site-packages\\pandas\\core\\frame.py:4906: SettingWithCopyWarning: \n",
      "A value is trying to be set on a copy of a slice from a DataFrame\n",
      "\n",
      "See the caveats in the documentation: https://pandas.pydata.org/pandas-docs/stable/user_guide/indexing.html#returning-a-view-versus-a-copy\n",
      "  return super().drop(\n"
     ]
    }
   ],
   "source": [
    "# 경찰서와 연도 데이터 제거\n",
    "a.drop(columns = ['jur_stn', 'year'], inplace = True)"
   ]
  },
  {
   "cell_type": "code",
   "execution_count": 8,
   "id": "9bf59750",
   "metadata": {
    "ExecuteTime": {
     "end_time": "2021-12-03T04:01:56.817471Z",
     "start_time": "2021-12-03T04:01:56.810489Z"
    }
   },
   "outputs": [],
   "source": [
    "a_ = a.drop(columns = ['q1', 'q2', 'q3', 'q4', 'q5'])"
   ]
  },
  {
   "cell_type": "code",
   "execution_count": 12,
   "id": "eba44d57",
   "metadata": {
    "ExecuteTime": {
     "end_time": "2021-12-03T04:02:39.836216Z",
     "start_time": "2021-12-03T04:02:39.769413Z"
    }
   },
   "outputs": [
    {
     "data": {
      "text/html": [
       "<div>\n",
       "<style scoped>\n",
       "    .dataframe tbody tr th:only-of-type {\n",
       "        vertical-align: middle;\n",
       "    }\n",
       "\n",
       "    .dataframe tbody tr th {\n",
       "        vertical-align: top;\n",
       "    }\n",
       "\n",
       "    .dataframe thead th {\n",
       "        text-align: right;\n",
       "    }\n",
       "</style>\n",
       "<table border=\"1\" class=\"dataframe\">\n",
       "  <thead>\n",
       "    <tr style=\"text-align: right;\">\n",
       "      <th></th>\n",
       "      <th>report_sx_남성</th>\n",
       "      <th>report_sx_불상</th>\n",
       "      <th>report_sx_여성</th>\n",
       "      <th>report_sx_total</th>\n",
       "      <th>vio_cnt</th>\n",
       "      <th>mur_rob_cnt</th>\n",
       "      <th>car_cnt</th>\n",
       "      <th>5m_crm_yn</th>\n",
       "      <th>theft_violence_x</th>\n",
       "      <th>robber_murder_x</th>\n",
       "      <th>...</th>\n",
       "      <th>single_2030</th>\n",
       "      <th>single_4050</th>\n",
       "      <th>single_o60</th>\n",
       "      <th>single_f_합계</th>\n",
       "      <th>single_f_u20</th>\n",
       "      <th>single_f_2030</th>\n",
       "      <th>single_f_4050</th>\n",
       "      <th>single_f_o60</th>\n",
       "      <th>adult</th>\n",
       "      <th>bell</th>\n",
       "    </tr>\n",
       "  </thead>\n",
       "  <tbody>\n",
       "    <tr>\n",
       "      <th>0</th>\n",
       "      <td>13404.0</td>\n",
       "      <td>3239.0</td>\n",
       "      <td>5931.0</td>\n",
       "      <td>22574.0</td>\n",
       "      <td>1324.0</td>\n",
       "      <td>0.0</td>\n",
       "      <td>1412.0</td>\n",
       "      <td>3275.0</td>\n",
       "      <td>572.0</td>\n",
       "      <td>4.0</td>\n",
       "      <td>...</td>\n",
       "      <td>4310.5</td>\n",
       "      <td>2954.5</td>\n",
       "      <td>2567.5</td>\n",
       "      <td>5169.0</td>\n",
       "      <td>175.0</td>\n",
       "      <td>2128.0</td>\n",
       "      <td>1230.5</td>\n",
       "      <td>1635.5</td>\n",
       "      <td>0.0</td>\n",
       "      <td>0.0</td>\n",
       "    </tr>\n",
       "    <tr>\n",
       "      <th>1</th>\n",
       "      <td>11579.0</td>\n",
       "      <td>2560.0</td>\n",
       "      <td>5534.0</td>\n",
       "      <td>19674.0</td>\n",
       "      <td>1102.0</td>\n",
       "      <td>0.0</td>\n",
       "      <td>867.0</td>\n",
       "      <td>2914.0</td>\n",
       "      <td>525.0</td>\n",
       "      <td>2.0</td>\n",
       "      <td>...</td>\n",
       "      <td>5483.5</td>\n",
       "      <td>3220.5</td>\n",
       "      <td>2861.5</td>\n",
       "      <td>6022.0</td>\n",
       "      <td>158.0</td>\n",
       "      <td>2703.0</td>\n",
       "      <td>1378.5</td>\n",
       "      <td>1782.5</td>\n",
       "      <td>2.0</td>\n",
       "      <td>2.0</td>\n",
       "    </tr>\n",
       "    <tr>\n",
       "      <th>2</th>\n",
       "      <td>9093.0</td>\n",
       "      <td>1855.0</td>\n",
       "      <td>3551.0</td>\n",
       "      <td>14499.0</td>\n",
       "      <td>949.0</td>\n",
       "      <td>0.0</td>\n",
       "      <td>736.0</td>\n",
       "      <td>2506.0</td>\n",
       "      <td>413.0</td>\n",
       "      <td>0.0</td>\n",
       "      <td>...</td>\n",
       "      <td>4310.5</td>\n",
       "      <td>2954.5</td>\n",
       "      <td>2567.5</td>\n",
       "      <td>5169.0</td>\n",
       "      <td>175.0</td>\n",
       "      <td>2128.0</td>\n",
       "      <td>1230.5</td>\n",
       "      <td>1635.5</td>\n",
       "      <td>0.0</td>\n",
       "      <td>0.0</td>\n",
       "    </tr>\n",
       "    <tr>\n",
       "      <th>3</th>\n",
       "      <td>18441.0</td>\n",
       "      <td>10029.0</td>\n",
       "      <td>10298.0</td>\n",
       "      <td>38769.0</td>\n",
       "      <td>1924.0</td>\n",
       "      <td>0.0</td>\n",
       "      <td>1788.0</td>\n",
       "      <td>4267.0</td>\n",
       "      <td>674.0</td>\n",
       "      <td>0.0</td>\n",
       "      <td>...</td>\n",
       "      <td>23040.0</td>\n",
       "      <td>9687.0</td>\n",
       "      <td>9894.0</td>\n",
       "      <td>24527.0</td>\n",
       "      <td>545.0</td>\n",
       "      <td>12420.0</td>\n",
       "      <td>4496.0</td>\n",
       "      <td>7066.0</td>\n",
       "      <td>0.0</td>\n",
       "      <td>0.0</td>\n",
       "    </tr>\n",
       "    <tr>\n",
       "      <th>4</th>\n",
       "      <td>10829.0</td>\n",
       "      <td>2989.0</td>\n",
       "      <td>5038.0</td>\n",
       "      <td>18857.0</td>\n",
       "      <td>1127.0</td>\n",
       "      <td>0.0</td>\n",
       "      <td>899.0</td>\n",
       "      <td>2864.0</td>\n",
       "      <td>427.0</td>\n",
       "      <td>4.0</td>\n",
       "      <td>...</td>\n",
       "      <td>5483.5</td>\n",
       "      <td>3220.5</td>\n",
       "      <td>2861.5</td>\n",
       "      <td>6022.0</td>\n",
       "      <td>158.0</td>\n",
       "      <td>2703.0</td>\n",
       "      <td>1378.5</td>\n",
       "      <td>1782.5</td>\n",
       "      <td>0.0</td>\n",
       "      <td>0.0</td>\n",
       "    </tr>\n",
       "    <tr>\n",
       "      <th>...</th>\n",
       "      <td>...</td>\n",
       "      <td>...</td>\n",
       "      <td>...</td>\n",
       "      <td>...</td>\n",
       "      <td>...</td>\n",
       "      <td>...</td>\n",
       "      <td>...</td>\n",
       "      <td>...</td>\n",
       "      <td>...</td>\n",
       "      <td>...</td>\n",
       "      <td>...</td>\n",
       "      <td>...</td>\n",
       "      <td>...</td>\n",
       "      <td>...</td>\n",
       "      <td>...</td>\n",
       "      <td>...</td>\n",
       "      <td>...</td>\n",
       "      <td>...</td>\n",
       "      <td>...</td>\n",
       "      <td>...</td>\n",
       "      <td>...</td>\n",
       "    </tr>\n",
       "    <tr>\n",
       "      <th>241</th>\n",
       "      <td>12630.0</td>\n",
       "      <td>2990.0</td>\n",
       "      <td>7151.0</td>\n",
       "      <td>22771.0</td>\n",
       "      <td>1460.0</td>\n",
       "      <td>2.0</td>\n",
       "      <td>1964.0</td>\n",
       "      <td>2142.0</td>\n",
       "      <td>363.0</td>\n",
       "      <td>2.0</td>\n",
       "      <td>...</td>\n",
       "      <td>8529.0</td>\n",
       "      <td>10946.0</td>\n",
       "      <td>8555.0</td>\n",
       "      <td>13016.0</td>\n",
       "      <td>50.0</td>\n",
       "      <td>2900.0</td>\n",
       "      <td>4492.0</td>\n",
       "      <td>5574.0</td>\n",
       "      <td>1.0</td>\n",
       "      <td>1.0</td>\n",
       "    </tr>\n",
       "    <tr>\n",
       "      <th>242</th>\n",
       "      <td>12223.0</td>\n",
       "      <td>2552.0</td>\n",
       "      <td>6489.0</td>\n",
       "      <td>21264.0</td>\n",
       "      <td>1265.0</td>\n",
       "      <td>5.0</td>\n",
       "      <td>1584.0</td>\n",
       "      <td>1369.0</td>\n",
       "      <td>151.0</td>\n",
       "      <td>3.0</td>\n",
       "      <td>...</td>\n",
       "      <td>5895.0</td>\n",
       "      <td>6580.0</td>\n",
       "      <td>10395.0</td>\n",
       "      <td>12431.0</td>\n",
       "      <td>192.0</td>\n",
       "      <td>2216.0</td>\n",
       "      <td>2837.0</td>\n",
       "      <td>7186.0</td>\n",
       "      <td>3.0</td>\n",
       "      <td>3.0</td>\n",
       "    </tr>\n",
       "    <tr>\n",
       "      <th>243</th>\n",
       "      <td>15177.0</td>\n",
       "      <td>3190.0</td>\n",
       "      <td>7647.0</td>\n",
       "      <td>26014.0</td>\n",
       "      <td>1715.0</td>\n",
       "      <td>8.0</td>\n",
       "      <td>1910.0</td>\n",
       "      <td>1920.0</td>\n",
       "      <td>312.0</td>\n",
       "      <td>6.0</td>\n",
       "      <td>...</td>\n",
       "      <td>3791.0</td>\n",
       "      <td>7160.0</td>\n",
       "      <td>9299.0</td>\n",
       "      <td>10643.0</td>\n",
       "      <td>42.0</td>\n",
       "      <td>1496.0</td>\n",
       "      <td>2939.0</td>\n",
       "      <td>6166.0</td>\n",
       "      <td>1.0</td>\n",
       "      <td>1.0</td>\n",
       "    </tr>\n",
       "    <tr>\n",
       "      <th>244</th>\n",
       "      <td>21840.0</td>\n",
       "      <td>5262.0</td>\n",
       "      <td>11455.0</td>\n",
       "      <td>38557.0</td>\n",
       "      <td>2552.0</td>\n",
       "      <td>0.0</td>\n",
       "      <td>3570.0</td>\n",
       "      <td>2876.0</td>\n",
       "      <td>537.0</td>\n",
       "      <td>0.0</td>\n",
       "      <td>...</td>\n",
       "      <td>15178.0</td>\n",
       "      <td>11882.0</td>\n",
       "      <td>16273.0</td>\n",
       "      <td>23362.0</td>\n",
       "      <td>308.0</td>\n",
       "      <td>6026.0</td>\n",
       "      <td>5205.0</td>\n",
       "      <td>11823.0</td>\n",
       "      <td>8.0</td>\n",
       "      <td>8.0</td>\n",
       "    </tr>\n",
       "    <tr>\n",
       "      <th>245</th>\n",
       "      <td>11600.0</td>\n",
       "      <td>2442.0</td>\n",
       "      <td>6278.0</td>\n",
       "      <td>20320.0</td>\n",
       "      <td>1444.0</td>\n",
       "      <td>0.0</td>\n",
       "      <td>1692.0</td>\n",
       "      <td>1354.0</td>\n",
       "      <td>187.0</td>\n",
       "      <td>0.0</td>\n",
       "      <td>...</td>\n",
       "      <td>6316.0</td>\n",
       "      <td>7359.0</td>\n",
       "      <td>7241.0</td>\n",
       "      <td>9331.0</td>\n",
       "      <td>26.0</td>\n",
       "      <td>1782.0</td>\n",
       "      <td>2592.0</td>\n",
       "      <td>4931.0</td>\n",
       "      <td>3.0</td>\n",
       "      <td>3.0</td>\n",
       "    </tr>\n",
       "  </tbody>\n",
       "</table>\n",
       "<p>246 rows × 68 columns</p>\n",
       "</div>"
      ],
      "text/plain": [
       "     report_sx_남성  report_sx_불상  report_sx_여성  report_sx_total  vio_cnt  \\\n",
       "0         13404.0        3239.0        5931.0          22574.0   1324.0   \n",
       "1         11579.0        2560.0        5534.0          19674.0   1102.0   \n",
       "2          9093.0        1855.0        3551.0          14499.0    949.0   \n",
       "3         18441.0       10029.0       10298.0          38769.0   1924.0   \n",
       "4         10829.0        2989.0        5038.0          18857.0   1127.0   \n",
       "..            ...           ...           ...              ...      ...   \n",
       "241       12630.0        2990.0        7151.0          22771.0   1460.0   \n",
       "242       12223.0        2552.0        6489.0          21264.0   1265.0   \n",
       "243       15177.0        3190.0        7647.0          26014.0   1715.0   \n",
       "244       21840.0        5262.0       11455.0          38557.0   2552.0   \n",
       "245       11600.0        2442.0        6278.0          20320.0   1444.0   \n",
       "\n",
       "     mur_rob_cnt  car_cnt  5m_crm_yn  theft_violence_x  robber_murder_x  ...  \\\n",
       "0            0.0   1412.0     3275.0             572.0              4.0  ...   \n",
       "1            0.0    867.0     2914.0             525.0              2.0  ...   \n",
       "2            0.0    736.0     2506.0             413.0              0.0  ...   \n",
       "3            0.0   1788.0     4267.0             674.0              0.0  ...   \n",
       "4            0.0    899.0     2864.0             427.0              4.0  ...   \n",
       "..           ...      ...        ...               ...              ...  ...   \n",
       "241          2.0   1964.0     2142.0             363.0              2.0  ...   \n",
       "242          5.0   1584.0     1369.0             151.0              3.0  ...   \n",
       "243          8.0   1910.0     1920.0             312.0              6.0  ...   \n",
       "244          0.0   3570.0     2876.0             537.0              0.0  ...   \n",
       "245          0.0   1692.0     1354.0             187.0              0.0  ...   \n",
       "\n",
       "     single_2030  single_4050  single_o60  single_f_합계  single_f_u20  \\\n",
       "0         4310.5       2954.5      2567.5       5169.0         175.0   \n",
       "1         5483.5       3220.5      2861.5       6022.0         158.0   \n",
       "2         4310.5       2954.5      2567.5       5169.0         175.0   \n",
       "3        23040.0       9687.0      9894.0      24527.0         545.0   \n",
       "4         5483.5       3220.5      2861.5       6022.0         158.0   \n",
       "..           ...          ...         ...          ...           ...   \n",
       "241       8529.0      10946.0      8555.0      13016.0          50.0   \n",
       "242       5895.0       6580.0     10395.0      12431.0         192.0   \n",
       "243       3791.0       7160.0      9299.0      10643.0          42.0   \n",
       "244      15178.0      11882.0     16273.0      23362.0         308.0   \n",
       "245       6316.0       7359.0      7241.0       9331.0          26.0   \n",
       "\n",
       "     single_f_2030  single_f_4050  single_f_o60  adult  bell  \n",
       "0           2128.0         1230.5        1635.5    0.0   0.0  \n",
       "1           2703.0         1378.5        1782.5    2.0   2.0  \n",
       "2           2128.0         1230.5        1635.5    0.0   0.0  \n",
       "3          12420.0         4496.0        7066.0    0.0   0.0  \n",
       "4           2703.0         1378.5        1782.5    0.0   0.0  \n",
       "..             ...            ...           ...    ...   ...  \n",
       "241         2900.0         4492.0        5574.0    1.0   1.0  \n",
       "242         2216.0         2837.0        7186.0    3.0   3.0  \n",
       "243         1496.0         2939.0        6166.0    1.0   1.0  \n",
       "244         6026.0         5205.0       11823.0    8.0   8.0  \n",
       "245         1782.0         2592.0        4931.0    3.0   3.0  \n",
       "\n",
       "[246 rows x 68 columns]"
      ]
     },
     "execution_count": 12,
     "metadata": {},
     "output_type": "execute_result"
    }
   ],
   "source": [
    "a_"
   ]
  },
  {
   "cell_type": "code",
   "execution_count": 15,
   "id": "0a7ec34c",
   "metadata": {
    "ExecuteTime": {
     "end_time": "2021-12-03T04:03:33.891766Z",
     "start_time": "2021-12-03T04:03:33.883788Z"
    }
   },
   "outputs": [],
   "source": [
    "a_1 = a_[['for_4050', 'for_합계', 'for_u20', 'for_2030', 'single_2030',\n",
    "       'single_f_o60', 'single_o60', 'single_f_합계', 'popu_2030', '가해_10대이하',\n",
    "       'theft_violence_y', 'popu_o60', 'single_합계', 'robber_murder_y',\n",
    "       'for_o60', 'report_sx_여성', '피해_80대이상', 'single_f_4050', 'vio_cnt',\n",
    "       'robber_murder_x']]"
   ]
  },
  {
   "cell_type": "code",
   "execution_count": 17,
   "id": "2a5868bb",
   "metadata": {
    "ExecuteTime": {
     "end_time": "2021-12-03T04:05:55.004039Z",
     "start_time": "2021-12-03T04:05:54.988082Z"
    }
   },
   "outputs": [],
   "source": [
    "a_2 = a_[['robber_murder_y', 'single_o60', '가해_10대이하', 'for_u20',\n",
    "       'robber_murder_x', 'for_합계', '피해_80대이상', 'vio_cnt', 'single_합계',\n",
    "       'single_f_합계', 'theft_violence_y', 'theft_violence_x', 'for_o60',\n",
    "       'single_4050', 'single_f_4050', 'popu_o60', 'single_f_o60',\n",
    "       'report_sx_여성', 'for_2030', 'for_4050']]"
   ]
  },
  {
   "cell_type": "code",
   "execution_count": 18,
   "id": "3c7098a0",
   "metadata": {
    "ExecuteTime": {
     "end_time": "2021-12-03T04:05:55.535555Z",
     "start_time": "2021-12-03T04:05:55.522590Z"
    }
   },
   "outputs": [],
   "source": [
    "a_3 = a_[['robber_murder_y', 'single_f_2030', '가해_80대이상', 'single_2030',\n",
    "       'single_4050', '피해_70대', 'traffic_x', 'adult', 'robber_murder_x',\n",
    "       'mur_rob_cnt', '가해_70대', 'theft_violence_y', 'for_4050', 'single_합계',\n",
    "       'for_o60', 'theft_violence_x', '5m_crm_yn', 'for_합계', 'for_2030',\n",
    "       'bell']]"
   ]
  },
  {
   "cell_type": "code",
   "execution_count": 19,
   "id": "4793ceb5",
   "metadata": {
    "ExecuteTime": {
     "end_time": "2021-12-03T04:06:03.693197Z",
     "start_time": "2021-12-03T04:06:03.674249Z"
    }
   },
   "outputs": [],
   "source": [
    "a_4 = a_[['mur_rob_cnt', 'for_4050', 'for_합계', 'single_4050', 'single_합계', 'cctv',\n",
    "       'for_2030', 'theft_violence_x', 'for_o60', '가해_여', 'car_cnt']]"
   ]
  },
  {
   "cell_type": "code",
   "execution_count": 20,
   "id": "9de5a18f",
   "metadata": {
    "ExecuteTime": {
     "end_time": "2021-12-03T04:06:09.119445Z",
     "start_time": "2021-12-03T04:06:09.110460Z"
    }
   },
   "outputs": [],
   "source": [
    "a_5 = a_[['single_o60', 'single_f_o60', 'single_f_합계', 'for_2030', 'single_2030',\n",
    "       'for_합계', 'for_o60', 'popu_o60', 'vio_cnt', 'single_4050', 'popu_2030',\n",
    "       'for_u20', 'single_f_4050', 'robber_murder_x', 'single_합계', '가해_여',\n",
    "       'for_4050', '피해_80대이상', 'robber_murder_y', 'theft_violence_x']]"
   ]
  },
  {
   "cell_type": "code",
   "execution_count": 22,
   "id": "8f36a4c3",
   "metadata": {
    "ExecuteTime": {
     "end_time": "2021-12-03T04:08:00.741811Z",
     "start_time": "2021-12-03T04:08:00.711838Z"
    }
   },
   "outputs": [
    {
     "data": {
      "text/plain": [
       "array([[-0.44471781, -0.55302633, -0.48898838, ..., -1.70872887,\n",
       "        -1.08002514,  0.02046058],\n",
       "       [-0.48941689, -0.51798283, -0.33491247, ..., -1.62995962,\n",
       "        -1.26140432, -0.69858259],\n",
       "       [-0.44471781, -0.55302633, -0.48898838, ..., -1.70872887,\n",
       "        -1.38640889, -1.41762576],\n",
       "       ...,\n",
       "       [-0.61571289, -0.7750176 , -0.93463395, ..., -0.79942306,\n",
       "        -0.76056902,  0.73950375],\n",
       "       [-0.46327215, -0.35479004, -0.52007993, ...,  0.406598  ,\n",
       "        -0.07672048, -1.41762576],\n",
       "       [-0.46179624, -0.57418004, -0.81303144, ..., -0.98410501,\n",
       "        -0.98198234, -1.41762576]])"
      ]
     },
     "execution_count": 22,
     "metadata": {},
     "output_type": "execute_result"
    }
   ],
   "source": [
    "# StandardScaling\n",
    "scaler1 = StandardScaler()\n",
    "scaler1.fit(a_1) # scaler에 xdata 학습\n",
    "a_s1 = scaler1.transform(a_1)\n",
    "a_s1"
   ]
  },
  {
   "cell_type": "code",
   "execution_count": 23,
   "id": "c03c11d6",
   "metadata": {
    "ExecuteTime": {
     "end_time": "2021-12-03T04:08:00.907367Z",
     "start_time": "2021-12-03T04:08:00.882434Z"
    }
   },
   "outputs": [
    {
     "data": {
      "text/plain": [
       "array([[-0.45018049, -1.54175937, -1.08718846, ..., -1.08891897,\n",
       "        -0.71525744, -0.44471781],\n",
       "       [-0.11761472, -1.47523454, -1.17944384, ..., -1.17135971,\n",
       "        -0.53631115, -0.48941689],\n",
       "       [-1.44787778, -1.54175937, -1.36395461, ..., -1.58314811,\n",
       "        -0.71525744, -0.44471781],\n",
       "       ...,\n",
       "       [ 0.54751681, -0.0185895 , -0.99493307, ..., -0.7325756 ,\n",
       "        -0.93101467, -0.61571289],\n",
       "       [-1.44787778,  1.55945205, -0.16463461, ...,  0.05819103,\n",
       "         0.02757248, -0.46327215],\n",
       "       [-1.44787778, -0.48426336, -0.34914538, ..., -1.01686119,\n",
       "        -0.59565942, -0.46179624]])"
      ]
     },
     "execution_count": 23,
     "metadata": {},
     "output_type": "execute_result"
    }
   ],
   "source": [
    "# StandardScaling\n",
    "scaler2 = StandardScaler()\n",
    "scaler2.fit(a_2) # scaler에 xdata 학습\n",
    "a_s2 = scaler2.transform(a_2)\n",
    "a_s2"
   ]
  },
  {
   "cell_type": "code",
   "execution_count": 24,
   "id": "d5f9bb1f",
   "metadata": {
    "ExecuteTime": {
     "end_time": "2021-12-03T04:08:01.057001Z",
     "start_time": "2021-12-03T04:08:01.044001Z"
    }
   },
   "outputs": [
    {
     "data": {
      "text/plain": [
       "array([[-0.45018049, -0.97165206, -0.83332757, ..., -0.55302633,\n",
       "        -0.71525744, -0.59342342],\n",
       "       [-0.11761472, -0.87776189, -1.19046796, ..., -0.51798283,\n",
       "        -0.53631115,  0.29943384],\n",
       "       [-1.44787778, -0.97165206, -0.83332757, ..., -0.55302633,\n",
       "        -0.71525744, -0.59342342],\n",
       "       ...,\n",
       "       [ 0.54751681, -1.0748496 , -0.83332757, ..., -0.7750176 ,\n",
       "        -0.93101467, -0.14699479],\n",
       "       [-1.44787778, -0.33515836,  1.30951476, ..., -0.35479004,\n",
       "         0.02757248,  2.97800563],\n",
       "       [-1.44787778, -1.02814945, -0.1190468 , ..., -0.57418004,\n",
       "        -0.59565942,  0.74586247]])"
      ]
     },
     "execution_count": 24,
     "metadata": {},
     "output_type": "execute_result"
    }
   ],
   "source": [
    "# StandardScaling\n",
    "scaler3 = StandardScaler()\n",
    "scaler3.fit(a_3) # scaler에 xdata 학습\n",
    "a_s3 = scaler3.transform(a_3)\n",
    "a_s3"
   ]
  },
  {
   "cell_type": "code",
   "execution_count": 25,
   "id": "0ebef8b4",
   "metadata": {
    "ExecuteTime": {
     "end_time": "2021-12-03T04:08:01.238474Z",
     "start_time": "2021-12-03T04:08:01.217507Z"
    }
   },
   "outputs": [
    {
     "data": {
      "text/plain": [
       "array([[-0.68019192, -0.44471781, -0.55302633, ..., -0.38911982,\n",
       "        -1.11672616, -0.92567779],\n",
       "       [-0.68019192, -0.48941689, -0.51798283, ..., -0.45704651,\n",
       "        -1.16852978, -1.4252536 ],\n",
       "       [-0.68019192, -0.44471781, -0.55302633, ..., -0.38911982,\n",
       "        -1.20306553, -1.54533513],\n",
       "       ...,\n",
       "       [ 1.90901058, -0.61571289, -0.7750176 , ..., -0.59093101,\n",
       "        -0.85770802, -0.46918467],\n",
       "       [-0.68019192, -0.46327215, -0.35479004, ..., -0.55745988,\n",
       "        -0.13245724,  1.05245908],\n",
       "       [-0.68019192, -0.46179624, -0.57418004, ..., -0.5358021 ,\n",
       "         0.28197177, -0.66901499]])"
      ]
     },
     "execution_count": 25,
     "metadata": {},
     "output_type": "execute_result"
    }
   ],
   "source": [
    "# StandardScaling\n",
    "scaler4 = StandardScaler()\n",
    "scaler4.fit(a_4) # scaler에 xdata 학습\n",
    "a_s4 = scaler4.transform(a_4)\n",
    "a_s4"
   ]
  },
  {
   "cell_type": "code",
   "execution_count": 26,
   "id": "8a6f316c",
   "metadata": {
    "ExecuteTime": {
     "end_time": "2021-12-03T04:08:01.419024Z",
     "start_time": "2021-12-03T04:08:01.395070Z"
    }
   },
   "outputs": [
    {
     "data": {
      "text/plain": [
       "array([[-1.54175937, -1.55004946, -1.40869518, ..., -1.00033815,\n",
       "        -0.45018049, -0.40220751],\n",
       "       [-1.47523454, -1.50210803, -1.32273075, ..., -0.79961777,\n",
       "        -0.11761472, -0.54579805],\n",
       "       [-1.54175937, -1.55004946, -1.40869518, ..., -1.4017789 ,\n",
       "        -1.44787778, -0.88797125],\n",
       "       ...,\n",
       "       [-0.0185895 , -0.07250741, -0.85703135, ..., -0.59889739,\n",
       "         0.54751681, -1.19653815],\n",
       "       [ 1.55945205,  1.77242259,  0.42477579, ...,  0.80614526,\n",
       "        -1.44787778, -0.50913663],\n",
       "       [-0.48426336, -0.47528071, -0.98925329, ...,  1.40830639,\n",
       "        -1.44787778, -1.57842789]])"
      ]
     },
     "execution_count": 26,
     "metadata": {},
     "output_type": "execute_result"
    }
   ],
   "source": [
    "# StandardScaling\n",
    "scaler5 = StandardScaler()\n",
    "scaler5.fit(a_5) # scaler에 xdata 학습\n",
    "a_s5 = scaler5.transform(a_5)\n",
    "a_s5"
   ]
  },
  {
   "cell_type": "code",
   "execution_count": 29,
   "id": "5b5a9cd1",
   "metadata": {
    "ExecuteTime": {
     "end_time": "2021-12-03T04:14:01.168944Z",
     "start_time": "2021-12-03T04:14:01.161963Z"
    }
   },
   "outputs": [],
   "source": [
    "# x데이터 설정 2017, 2018 데이터를 학습용, 2019년 데이터를 검증용 데이터셋으로 설정\n",
    "\n",
    "xtrain1 = a_s2[:-82]\n",
    "xtest1 = a_s2[-82:]\n",
    "xtrain2 = a_s2[:-82]\n",
    "xtest2 = a_s2[-82:]\n",
    "xtrain3 = a_s3[:-82]\n",
    "xtest3 = a_s3[-82:]\n",
    "xtrain4 = a_s4[:-82]\n",
    "xtest4 = a_s4[-82:]\n",
    "xtrain5 = a_s5[:-82]\n",
    "xtest5 = a_s5[-82:]"
   ]
  },
  {
   "cell_type": "code",
   "execution_count": 30,
   "id": "78e668b1",
   "metadata": {
    "ExecuteTime": {
     "end_time": "2021-12-03T04:14:01.729920Z",
     "start_time": "2021-12-03T04:14:01.722907Z"
    }
   },
   "outputs": [],
   "source": [
    "# y데이터 설정 2017, 2018 데이터를 학습용, 2019년 데이터를 검증용 데이터셋으로 설정\n",
    "\n",
    "train = a[:-82]\n",
    "test = a[-82:]\n",
    "\n",
    "ytrain1 = train['q1']\n",
    "ytrain2 = train['q2']\n",
    "ytrain3 = train['q3']\n",
    "ytrain4 = train['q4']\n",
    "ytrain5 = train['q5']\n",
    "\n",
    "ytest1 = test['q1']\n",
    "ytest2 = test['q2']\n",
    "ytest3 = test['q3']\n",
    "ytest4 = test['q4']\n",
    "ytest5 = test['q5']"
   ]
  },
  {
   "cell_type": "code",
   "execution_count": 31,
   "id": "1a0ade1d",
   "metadata": {
    "ExecuteTime": {
     "end_time": "2021-12-03T04:14:09.234649Z",
     "start_time": "2021-12-03T04:14:09.224667Z"
    }
   },
   "outputs": [
    {
     "data": {
      "text/plain": [
       "Index(['for_4050', 'for_합계', 'for_u20', 'for_2030', 'single_2030',\n",
       "       'single_f_o60', 'single_o60', 'single_f_합계', 'popu_2030', '가해_10대이하',\n",
       "       'theft_violence_y', 'popu_o60', 'single_합계', 'robber_murder_y',\n",
       "       'for_o60', 'report_sx_여성', '피해_80대이상', 'single_f_4050', 'vio_cnt',\n",
       "       'robber_murder_x'],\n",
       "      dtype='object')"
      ]
     },
     "execution_count": 31,
     "metadata": {},
     "output_type": "execute_result"
    }
   ],
   "source": [
    "a_1.columns"
   ]
  },
  {
   "cell_type": "code",
   "execution_count": 32,
   "id": "943cae14",
   "metadata": {
    "ExecuteTime": {
     "end_time": "2021-12-03T04:22:00.353413Z",
     "start_time": "2021-12-03T04:22:00.339452Z"
    }
   },
   "outputs": [],
   "source": [
    "# 그리드 서치 패키지\n",
    "from sklearn.model_selection import GridSearchCV"
   ]
  },
  {
   "cell_type": "code",
   "execution_count": 33,
   "id": "89c071f1",
   "metadata": {
    "ExecuteTime": {
     "end_time": "2021-12-03T04:22:01.047914Z",
     "start_time": "2021-12-03T04:22:01.037302Z"
    }
   },
   "outputs": [],
   "source": [
    "# 최적 성능을 내는 lasso의 alpha값을 얻기 위해 param_grid 생성\n",
    "\n",
    "param_grid = {'l1_ratio': np.linspace(0.01, 1.0, 100), 'alpha' : np.linspace(0.001, 1.0, 1000)}\n",
    "\n",
    "#그리드 서치 설정\n",
    "#grid_search = GridSearchCV(ElasticNet(), param_grid = param_grid, cv = 10, n_jobs = -1, scoring ='r2')\n",
    "grid_search = GridSearchCV(ElasticNet(), param_grid = param_grid, cv = 10, n_jobs = -1, scoring ='neg_mean_absolute_error')"
   ]
  },
  {
   "cell_type": "markdown",
   "id": "ae3db99c",
   "metadata": {},
   "source": [
    "#### q1 절도폭력 "
   ]
  },
  {
   "cell_type": "code",
   "execution_count": 34,
   "id": "24aeeadd",
   "metadata": {
    "ExecuteTime": {
     "end_time": "2021-12-03T04:33:27.381203Z",
     "start_time": "2021-12-03T04:22:02.484458Z"
    }
   },
   "outputs": [],
   "source": [
    "# 그리드 서치 후 최고 성능의 모델을 ela1에 저장\n",
    "\n",
    "grid_search.fit(xtrain1, ytrain1)\n",
    "ela1 = grid_search.best_estimator_"
   ]
  },
  {
   "cell_type": "code",
   "execution_count": 35,
   "id": "d0ddcc37",
   "metadata": {
    "ExecuteTime": {
     "end_time": "2021-12-03T04:33:27.711442Z",
     "start_time": "2021-12-03T04:33:27.698477Z"
    }
   },
   "outputs": [
    {
     "data": {
      "text/plain": [
       "2.828463506950819"
      ]
     },
     "execution_count": 35,
     "metadata": {},
     "output_type": "execute_result"
    }
   ],
   "source": [
    "# MAE 출력\n",
    "\n",
    "y_pred1 = ela1.predict(xtest1)\n",
    "mean_absolute_error(ytest1, y_pred1)"
   ]
  },
  {
   "cell_type": "code",
   "execution_count": 46,
   "id": "4e505fff",
   "metadata": {
    "ExecuteTime": {
     "end_time": "2021-12-03T04:38:46.537757Z",
     "start_time": "2021-12-03T04:38:46.523723Z"
    }
   },
   "outputs": [
    {
     "name": "stdout",
     "output_type": "stream",
     "text": [
      "alpha = 0.035\n",
      "l1_ratio = 1.0\n",
      "[-0.06184511 -2.33635067 -0.39948134  1.27728687  0.39081619 -0.\n",
      " -0.         -1.92386271  0.          1.21651276 -0.38274654  1.99886289\n",
      " -1.38972091 -1.65551156  0.          3.32187811  0.         -0.\n",
      " -1.60045414 -0.        ]\n",
      "feature 갯수: 13\n",
      "가장 강한 양의 상관관계:  report_sx_여성 \n",
      "가장 강한 음의 상관관계:  for_합계\n"
     ]
    }
   ],
   "source": [
    "# 결과\n",
    "\n",
    "print('alpha =', ela1.alpha)\n",
    "print('l1_ratio =', ela1.l1_ratio)\n",
    "print(ela1.coef_) # Ridge 회귀분석으로 나온 weghit값\n",
    "print('feature 갯수:', len(a_1.columns[ela1.coef_ != 0]))\n",
    "print('가장 강한 양의 상관관계: ',a_1.columns[ela1.coef_.argmax()], '\\n가장 강한 음의 상관관계: ', a_1.columns[ela1.coef_.argmin()])"
   ]
  },
  {
   "cell_type": "markdown",
   "id": "a294834f",
   "metadata": {},
   "source": [
    "#### q2 강도살인"
   ]
  },
  {
   "cell_type": "code",
   "execution_count": 47,
   "id": "56c82a56",
   "metadata": {
    "ExecuteTime": {
     "end_time": "2021-12-03T04:51:26.398765Z",
     "start_time": "2021-12-03T04:39:13.121840Z"
    }
   },
   "outputs": [
    {
     "name": "stderr",
     "output_type": "stream",
     "text": [
      "C:\\Anaconda3\\lib\\site-packages\\sklearn\\linear_model\\_coordinate_descent.py:530: ConvergenceWarning: Objective did not converge. You might want to increase the number of iterations. Duality gap: 301.5526773095701, tolerance: 0.18037177439024385\n",
      "  model = cd_fast.enet_coordinate_descent(\n"
     ]
    }
   ],
   "source": [
    "# 그리드 서치 후 최고 성능의 모델을 ela2에 저장\n",
    "\n",
    "grid_search.fit(xtrain2, ytrain2)\n",
    "ela2 = grid_search.best_estimator_"
   ]
  },
  {
   "cell_type": "code",
   "execution_count": 48,
   "id": "af019254",
   "metadata": {
    "ExecuteTime": {
     "end_time": "2021-12-03T04:51:26.639940Z",
     "start_time": "2021-12-03T04:51:26.627073Z"
    }
   },
   "outputs": [
    {
     "data": {
      "text/plain": [
       "2.874407091957171"
      ]
     },
     "execution_count": 48,
     "metadata": {},
     "output_type": "execute_result"
    }
   ],
   "source": [
    "# MAE 출력\n",
    "\n",
    "y_pred2 = ela2.predict(xtest2)\n",
    "mean_absolute_error(ytest2, y_pred2)"
   ]
  },
  {
   "cell_type": "code",
   "execution_count": 49,
   "id": "0d2cce03",
   "metadata": {
    "ExecuteTime": {
     "end_time": "2021-12-03T04:51:26.864340Z",
     "start_time": "2021-12-03T04:51:26.851276Z"
    }
   },
   "outputs": [
    {
     "name": "stdout",
     "output_type": "stream",
     "text": [
      "alpha = 0.001\n",
      "l1_ratio = 0.35000000000000003\n",
      "[-0.14874159 -6.52197683 -0.80885577  2.04053491  0.38416593 -1.17548343\n",
      "  0.0085108  -2.5366865   5.74329762 -4.74341114 -0.72826919  2.136799\n",
      " -5.2964221  -4.60422628  2.64362271  5.53829187  3.41264214  0.23370656\n",
      " -1.50098838  4.69569028]\n",
      "feature 갯수: 20\n",
      "가장 강한 양의 상관관계:  single_합계 \n",
      "가장 강한 음의 상관관계:  single_o60\n"
     ]
    }
   ],
   "source": [
    "# 결과\n",
    "\n",
    "print('alpha =', ela2.alpha)\n",
    "print('l1_ratio =', ela2.l1_ratio)\n",
    "print(ela2.coef_) # Ridge 회귀분석으로 나온 weghit값\n",
    "print('feature 갯수:', len(a_2.columns[ela2.coef_ != 0]))\n",
    "print('가장 강한 양의 상관관계: ',a_2.columns[ela2.coef_.argmax()], '\\n가장 강한 음의 상관관계: ', a_2.columns[ela2.coef_.argmin()])"
   ]
  },
  {
   "cell_type": "code",
   "execution_count": 50,
   "id": "646b2b1f",
   "metadata": {
    "ExecuteTime": {
     "end_time": "2021-12-03T04:51:27.089065Z",
     "start_time": "2021-12-03T04:51:27.076017Z"
    }
   },
   "outputs": [
    {
     "name": "stdout",
     "output_type": "stream",
     "text": [
      "상위 30개 feature\n",
      " Index(['피해_80대이상', 'robber_murder_y', 'report_sx_여성', 'robber_murder_x',\n",
      "       'theft_violence_y', '가해_10대이하', 'for_합계', 'for_2030', 'for_u20',\n",
      "       'theft_violence_x', 'vio_cnt', 'single_f_4050', 'single_f_o60',\n",
      "       'single_4050', 'for_4050', 'single_f_합계', 'for_o60', 'popu_o60',\n",
      "       'single_합계', 'single_o60'],\n",
      "      dtype='object')\n"
     ]
    }
   ],
   "source": [
    "# q2 관련 feature\n",
    "print('상위 30개 feature\\n', a_2.columns[sorted(range(len(ela2.coef_)), key=lambda i: abs(ela2.coef_[i]))[-30:]])"
   ]
  },
  {
   "cell_type": "markdown",
   "id": "f345e5cd",
   "metadata": {},
   "source": [
    "#### q3 교통안전"
   ]
  },
  {
   "cell_type": "code",
   "execution_count": 51,
   "id": "86cd47f1",
   "metadata": {
    "ExecuteTime": {
     "end_time": "2021-12-03T05:01:37.829837Z",
     "start_time": "2021-12-03T04:51:27.287911Z"
    }
   },
   "outputs": [],
   "source": [
    "# 그리드 서치 후 최고 성능의 모델을 lasso3에 저장\n",
    "\n",
    "grid_search.fit(xtrain3, ytrain3)\n",
    "ela3 = grid_search.best_estimator_"
   ]
  },
  {
   "cell_type": "code",
   "execution_count": 52,
   "id": "9b8ddf36",
   "metadata": {
    "ExecuteTime": {
     "end_time": "2021-12-03T05:01:38.217703Z",
     "start_time": "2021-12-03T05:01:38.204663Z"
    }
   },
   "outputs": [
    {
     "data": {
      "text/plain": [
       "2.3844019973772177"
      ]
     },
     "execution_count": 52,
     "metadata": {},
     "output_type": "execute_result"
    }
   ],
   "source": [
    "# MAE 출력\n",
    "\n",
    "y_pred3 = ela3.predict(xtest3)\n",
    "mean_absolute_error(ytest3, y_pred3)"
   ]
  },
  {
   "cell_type": "code",
   "execution_count": 53,
   "id": "1756fa6a",
   "metadata": {
    "ExecuteTime": {
     "end_time": "2021-12-03T05:01:38.502649Z",
     "start_time": "2021-12-03T05:01:38.488626Z"
    }
   },
   "outputs": [
    {
     "name": "stdout",
     "output_type": "stream",
     "text": [
      "alpha = 0.139\n",
      "l1_ratio = 1.0\n",
      "[-0.         -0.          0.         -0.         -0.59846375  0.45957675\n",
      " -0.35440786 -0.          0.          0.          0.41455889 -0.\n",
      " -0.01561904 -0.         -0.          0.          0.         -0.\n",
      " -0.09377313 -0.        ]\n",
      "feature 갯수: 6\n",
      "가장 강한 양의 상관관계:  피해_70대 \n",
      "가장 강한 음의 상관관계:  single_4050\n"
     ]
    }
   ],
   "source": [
    "# 결과\n",
    "\n",
    "print('alpha =', ela3.alpha)\n",
    "print('l1_ratio =', ela3.l1_ratio)\n",
    "print(ela3.coef_) # Ridge 회귀분석으로 나온 weghit값\n",
    "print('feature 갯수:', len(a_3.columns[ela3.coef_ != 0]))\n",
    "print('가장 강한 양의 상관관계: ',a_3.columns[ela3.coef_.argmax()], '\\n가장 강한 음의 상관관계: ', a_3.columns[ela3.coef_.argmin()])"
   ]
  },
  {
   "cell_type": "code",
   "execution_count": 54,
   "id": "4f6a72a2",
   "metadata": {
    "ExecuteTime": {
     "end_time": "2021-12-03T05:01:38.772180Z",
     "start_time": "2021-12-03T05:01:38.758190Z"
    }
   },
   "outputs": [
    {
     "name": "stdout",
     "output_type": "stream",
     "text": [
      "상위 30개 feature\n",
      " Index(['robber_murder_y', 'single_f_2030', '가해_80대이상', 'single_2030', 'adult',\n",
      "       'robber_murder_x', 'mur_rob_cnt', 'theft_violence_y', 'single_합계',\n",
      "       'for_o60', 'theft_violence_x', '5m_crm_yn', 'for_합계', 'bell',\n",
      "       'for_4050', 'for_2030', 'traffic_x', '가해_70대', '피해_70대', 'single_4050'],\n",
      "      dtype='object')\n"
     ]
    }
   ],
   "source": [
    "# q3 관련 feature\n",
    "print('상위 30개 feature\\n', a_3.columns[sorted(range(len(ela3.coef_)), key=lambda i: abs(ela3.coef_[i]))[-30:]])"
   ]
  },
  {
   "cell_type": "markdown",
   "id": "745d4226",
   "metadata": {},
   "source": [
    "#### q4 법질서 준수도"
   ]
  },
  {
   "cell_type": "code",
   "execution_count": 55,
   "id": "440b790c",
   "metadata": {
    "ExecuteTime": {
     "end_time": "2021-12-03T05:11:41.124962Z",
     "start_time": "2021-12-03T05:01:39.059340Z"
    }
   },
   "outputs": [
    {
     "name": "stderr",
     "output_type": "stream",
     "text": [
      "C:\\Anaconda3\\lib\\site-packages\\sklearn\\linear_model\\_coordinate_descent.py:530: ConvergenceWarning: Objective did not converge. You might want to increase the number of iterations. Duality gap: 516.1503833083053, tolerance: 0.27214904878048785\n",
      "  model = cd_fast.enet_coordinate_descent(\n"
     ]
    }
   ],
   "source": [
    "# 그리드 서치 후 최고 성능의 모델을 lasso4에 저장\n",
    "\n",
    "grid_search.fit(xtrain4, ytrain4)\n",
    "ela4 = grid_search.best_estimator_"
   ]
  },
  {
   "cell_type": "code",
   "execution_count": 56,
   "id": "1f1455e3",
   "metadata": {
    "ExecuteTime": {
     "end_time": "2021-12-03T05:11:41.350053Z",
     "start_time": "2021-12-03T05:11:41.336216Z"
    }
   },
   "outputs": [
    {
     "data": {
      "text/plain": [
       "2.743810830654499"
      ]
     },
     "execution_count": 56,
     "metadata": {},
     "output_type": "execute_result"
    }
   ],
   "source": [
    "# MAE 출력\n",
    "\n",
    "y_pred4 = ela4.predict(xtest4)\n",
    "mean_absolute_error(ytest4, y_pred4)"
   ]
  },
  {
   "cell_type": "code",
   "execution_count": 57,
   "id": "6ddde85f",
   "metadata": {
    "ExecuteTime": {
     "end_time": "2021-12-03T05:11:41.575156Z",
     "start_time": "2021-12-03T05:11:41.562190Z"
    }
   },
   "outputs": [
    {
     "name": "stdout",
     "output_type": "stream",
     "text": [
      "alpha = 0.001\n",
      "l1_ratio = 1.0\n",
      "[ 1.40036205 -5.36434607  9.38044717 -2.19525035  1.52197704  0.84764676\n",
      " -3.6164628  -3.85464281 -1.13992311  1.32328656  3.26299134]\n",
      "feature 갯수: 11\n",
      "가장 강한 양의 상관관계:  for_합계 \n",
      "가장 강한 음의 상관관계:  for_4050\n"
     ]
    }
   ],
   "source": [
    "# 결과\n",
    "\n",
    "print('alpha =', ela4.alpha)\n",
    "print('l1_ratio =', ela4.l1_ratio)\n",
    "print(ela4.coef_) # Ridge 회귀분석으로 나온 weghit값\n",
    "print('feature 갯수:', len(a_4.columns[ela4.coef_ != 0]))\n",
    "print('가장 강한 양의 상관관계: ',a_4.columns[ela4.coef_.argmax()], '\\n가장 강한 음의 상관관계: ', a_4.columns[ela4.coef_.argmin()])"
   ]
  },
  {
   "cell_type": "code",
   "execution_count": 58,
   "id": "ca79628f",
   "metadata": {
    "ExecuteTime": {
     "end_time": "2021-12-03T05:11:41.785471Z",
     "start_time": "2021-12-03T05:11:41.774316Z"
    }
   },
   "outputs": [
    {
     "name": "stdout",
     "output_type": "stream",
     "text": [
      "상위 30개 feature\n",
      " Index(['cctv', 'for_o60', '가해_여', 'mur_rob_cnt', 'single_합계', 'single_4050',\n",
      "       'car_cnt', 'for_2030', 'theft_violence_x', 'for_4050', 'for_합계'],\n",
      "      dtype='object')\n"
     ]
    }
   ],
   "source": [
    "# q3 관련 feature\n",
    "print('상위 30개 feature\\n', a_4.columns[sorted(range(len(ela4.coef_)), key=lambda i: abs(ela4.coef_[i]))[-30:]])"
   ]
  },
  {
   "cell_type": "markdown",
   "id": "5510203c",
   "metadata": {},
   "source": [
    "#### q5 전반적 안전도"
   ]
  },
  {
   "cell_type": "code",
   "execution_count": 59,
   "id": "0cfe81a5",
   "metadata": {
    "ExecuteTime": {
     "end_time": "2021-12-03T05:22:32.167065Z",
     "start_time": "2021-12-03T05:11:41.981188Z"
    }
   },
   "outputs": [],
   "source": [
    "# 그리드 서치 후 최고 성능의 모델을 lasso4에 저장\n",
    "\n",
    "grid_search.fit(xtrain5, ytrain5)\n",
    "ela5 = grid_search.best_estimator_"
   ]
  },
  {
   "cell_type": "code",
   "execution_count": 60,
   "id": "c8ee961d",
   "metadata": {
    "ExecuteTime": {
     "end_time": "2021-12-03T05:22:32.437701Z",
     "start_time": "2021-12-03T05:22:32.424974Z"
    }
   },
   "outputs": [
    {
     "data": {
      "text/plain": [
       "2.345048879490055"
      ]
     },
     "execution_count": 60,
     "metadata": {},
     "output_type": "execute_result"
    }
   ],
   "source": [
    "# MAE 출력\n",
    "\n",
    "y_pred5 = ela5.predict(xtest5)\n",
    "mean_absolute_error(ytest5, y_pred5)"
   ]
  },
  {
   "cell_type": "code",
   "execution_count": 61,
   "id": "d96bc91b",
   "metadata": {
    "ExecuteTime": {
     "end_time": "2021-12-03T05:22:32.751861Z",
     "start_time": "2021-12-03T05:22:32.737898Z"
    }
   },
   "outputs": [
    {
     "name": "stdout",
     "output_type": "stream",
     "text": [
      "alpha = 0.009000000000000001\n",
      "l1_ratio = 0.01\n",
      "[-1.25867186  0.29647243  1.05212064 -1.1459099   0.17623391 -0.45722915\n",
      " -0.40751588  2.12251136 -1.64077225 -2.22012702  0.28920447  1.41776717\n",
      "  0.57067653  0.5053599  -0.54931721  1.1830857  -0.2213457  -0.50944601\n",
      " -0.20606122  0.46416553]\n",
      "feature 갯수: 20\n",
      "가장 강한 양의 상관관계:  popu_o60 \n",
      "가장 강한 음의 상관관계:  single_4050\n"
     ]
    }
   ],
   "source": [
    "# 결과\n",
    "\n",
    "print('alpha =', ela5.alpha)\n",
    "print('l1_ratio =', ela5.l1_ratio)\n",
    "print(ela5.coef_) # Ridge 회귀분석으로 나온 weghit값\n",
    "print('feature 갯수:', len(a_5.columns[ela5.coef_ != 0]))\n",
    "print('가장 강한 양의 상관관계: ',a_5.columns[ela5.coef_.argmax()], '\\n가장 강한 음의 상관관계: ', a_5.columns[ela5.coef_.argmin()])"
   ]
  },
  {
   "cell_type": "code",
   "execution_count": 62,
   "id": "10ee398a",
   "metadata": {
    "ExecuteTime": {
     "end_time": "2021-12-03T05:22:33.021512Z",
     "start_time": "2021-12-03T05:22:33.008546Z"
    }
   },
   "outputs": [
    {
     "name": "stdout",
     "output_type": "stream",
     "text": [
      "feature:  Index(['single_o60', 'single_f_o60', 'single_f_합계', 'for_2030', 'single_2030',\n",
      "       'for_합계', 'for_o60', 'popu_o60', 'vio_cnt', 'single_4050', 'popu_2030',\n",
      "       'for_u20', 'single_f_4050', 'robber_murder_x', 'single_합계', '가해_여',\n",
      "       'for_4050', '피해_80대이상', 'robber_murder_y', 'theft_violence_x'],\n",
      "      dtype='object')\n"
     ]
    }
   ],
   "source": [
    "print('feature: ', a_5.columns[ela5.coef_ != 0])"
   ]
  },
  {
   "cell_type": "code",
   "execution_count": 63,
   "id": "e3024f8d",
   "metadata": {
    "ExecuteTime": {
     "end_time": "2021-12-03T05:22:33.291166Z",
     "start_time": "2021-12-03T05:22:33.279160Z"
    },
    "scrolled": true
   },
   "outputs": [
    {
     "name": "stdout",
     "output_type": "stream",
     "text": [
      "상위 30개 feature\n",
      " Index(['single_2030', 'robber_murder_y', 'for_4050', 'popu_2030',\n",
      "       'single_f_o60', 'for_o60', 'for_합계', 'theft_violence_x',\n",
      "       'robber_murder_x', '피해_80대이상', 'single_합계', 'single_f_4050',\n",
      "       'single_f_합계', 'for_2030', '가해_여', 'single_o60', 'for_u20', 'vio_cnt',\n",
      "       'popu_o60', 'single_4050'],\n",
      "      dtype='object')\n"
     ]
    }
   ],
   "source": [
    "# q5 관련 feature\n",
    "print('상위 30개 feature\\n', a_5.columns[sorted(range(len(ela5.coef_)), key=lambda i: abs(ela5.coef_[i]))[-30:]])"
   ]
  },
  {
   "cell_type": "code",
   "execution_count": null,
   "id": "18095a7e",
   "metadata": {},
   "outputs": [],
   "source": []
  }
 ],
 "metadata": {
  "kernelspec": {
   "display_name": "Python 3",
   "language": "python",
   "name": "python3"
  },
  "language_info": {
   "codemirror_mode": {
    "name": "ipython",
    "version": 3
   },
   "file_extension": ".py",
   "mimetype": "text/x-python",
   "name": "python",
   "nbconvert_exporter": "python",
   "pygments_lexer": "ipython3",
   "version": "3.8.8"
  },
  "toc": {
   "base_numbering": 1,
   "nav_menu": {},
   "number_sections": true,
   "sideBar": true,
   "skip_h1_title": false,
   "title_cell": "Table of Contents",
   "title_sidebar": "Contents",
   "toc_cell": false,
   "toc_position": {},
   "toc_section_display": true,
   "toc_window_display": false
  },
  "varInspector": {
   "cols": {
    "lenName": 16,
    "lenType": 16,
    "lenVar": 40
   },
   "kernels_config": {
    "python": {
     "delete_cmd_postfix": "",
     "delete_cmd_prefix": "del ",
     "library": "var_list.py",
     "varRefreshCmd": "print(var_dic_list())"
    },
    "r": {
     "delete_cmd_postfix": ") ",
     "delete_cmd_prefix": "rm(",
     "library": "var_list.r",
     "varRefreshCmd": "cat(var_dic_list()) "
    }
   },
   "types_to_exclude": [
    "module",
    "function",
    "builtin_function_or_method",
    "instance",
    "_Feature"
   ],
   "window_display": false
  }
 },
 "nbformat": 4,
 "nbformat_minor": 5
}
