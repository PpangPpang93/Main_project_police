{
 "cells": [
  {
   "cell_type": "code",
   "execution_count": 26,
   "id": "7728bbaa",
   "metadata": {
    "ExecuteTime": {
     "end_time": "2021-12-03T05:30:33.861075Z",
     "start_time": "2021-12-03T05:30:33.856087Z"
    }
   },
   "outputs": [],
   "source": [
    "import pandas as pd\n",
    "import numpy as np\n",
    "#import matplotlib.pyplot as plt\n",
    "#import seaborn as sns"
   ]
  },
  {
   "cell_type": "code",
   "execution_count": 27,
   "id": "68f550bc",
   "metadata": {
    "ExecuteTime": {
     "end_time": "2021-12-03T05:30:34.326053Z",
     "start_time": "2021-12-03T05:30:34.299121Z"
    }
   },
   "outputs": [],
   "source": [
    "df = pd.read_csv('total_data(2016제외) (1).csv')"
   ]
  },
  {
   "cell_type": "markdown",
   "id": "21dbcb15",
   "metadata": {},
   "source": [
    "### xdata로 상관계수가 높은 column을 넣어서 Ridge\n",
    "- elasticnet으로 상관계수가 높은 feature를 넣어 모델생성"
   ]
  },
  {
   "cell_type": "code",
   "execution_count": 28,
   "id": "dc7a18a2",
   "metadata": {
    "ExecuteTime": {
     "end_time": "2021-12-03T05:30:34.867622Z",
     "start_time": "2021-12-03T05:30:34.858611Z"
    }
   },
   "outputs": [],
   "source": [
    "# 필요 패키지 로드\n",
    "#from sklearn.preprocessing import MinMaxScaler\n",
    "from sklearn.preprocessing import StandardScaler\n",
    "from sklearn.linear_model import Ridge\n",
    "from sklearn.metrics import mean_absolute_error"
   ]
  },
  {
   "cell_type": "code",
   "execution_count": 29,
   "id": "ac15d59f",
   "metadata": {
    "ExecuteTime": {
     "end_time": "2021-12-03T05:30:35.392057Z",
     "start_time": "2021-12-03T05:30:35.350155Z"
    }
   },
   "outputs": [
    {
     "data": {
      "text/html": [
       "<div>\n",
       "<style scoped>\n",
       "    .dataframe tbody tr th:only-of-type {\n",
       "        vertical-align: middle;\n",
       "    }\n",
       "\n",
       "    .dataframe tbody tr th {\n",
       "        vertical-align: top;\n",
       "    }\n",
       "\n",
       "    .dataframe thead th {\n",
       "        text-align: right;\n",
       "    }\n",
       "</style>\n",
       "<table border=\"1\" class=\"dataframe\">\n",
       "  <thead>\n",
       "    <tr style=\"text-align: right;\">\n",
       "      <th></th>\n",
       "      <th>jur_stn</th>\n",
       "      <th>year</th>\n",
       "      <th>report_sx_남성</th>\n",
       "      <th>report_sx_불상</th>\n",
       "      <th>report_sx_여성</th>\n",
       "      <th>report_sx_total</th>\n",
       "      <th>vio_cnt</th>\n",
       "      <th>mur_rob_cnt</th>\n",
       "      <th>car_cnt</th>\n",
       "      <th>5m_crm_yn</th>\n",
       "      <th>...</th>\n",
       "      <th>single_f_2030</th>\n",
       "      <th>single_f_4050</th>\n",
       "      <th>single_f_o60</th>\n",
       "      <th>adult</th>\n",
       "      <th>bell</th>\n",
       "      <th>q1</th>\n",
       "      <th>q2</th>\n",
       "      <th>q3</th>\n",
       "      <th>q4</th>\n",
       "      <th>q5</th>\n",
       "    </tr>\n",
       "  </thead>\n",
       "  <tbody>\n",
       "    <tr>\n",
       "      <th>0</th>\n",
       "      <td>서울중부경찰서</td>\n",
       "      <td>2017(상반기)</td>\n",
       "      <td>13404.0</td>\n",
       "      <td>3239.0</td>\n",
       "      <td>5931.0</td>\n",
       "      <td>22574.0</td>\n",
       "      <td>1324.0</td>\n",
       "      <td>0.0</td>\n",
       "      <td>1412.0</td>\n",
       "      <td>3275.0</td>\n",
       "      <td>...</td>\n",
       "      <td>2128.0</td>\n",
       "      <td>1230.5</td>\n",
       "      <td>1635.5</td>\n",
       "      <td>0.0</td>\n",
       "      <td>0.0</td>\n",
       "      <td>75.2</td>\n",
       "      <td>76.5</td>\n",
       "      <td>69.9</td>\n",
       "      <td>65.9</td>\n",
       "      <td>72.6</td>\n",
       "    </tr>\n",
       "    <tr>\n",
       "      <th>1</th>\n",
       "      <td>서울종로경찰서</td>\n",
       "      <td>2017(상반기)</td>\n",
       "      <td>11579.0</td>\n",
       "      <td>2560.0</td>\n",
       "      <td>5534.0</td>\n",
       "      <td>19674.0</td>\n",
       "      <td>1102.0</td>\n",
       "      <td>0.0</td>\n",
       "      <td>867.0</td>\n",
       "      <td>2914.0</td>\n",
       "      <td>...</td>\n",
       "      <td>2703.0</td>\n",
       "      <td>1378.5</td>\n",
       "      <td>1782.5</td>\n",
       "      <td>2.0</td>\n",
       "      <td>2.0</td>\n",
       "      <td>81.6</td>\n",
       "      <td>82.4</td>\n",
       "      <td>69.1</td>\n",
       "      <td>62.7</td>\n",
       "      <td>72.2</td>\n",
       "    </tr>\n",
       "    <tr>\n",
       "      <th>2</th>\n",
       "      <td>서울남대문경찰서</td>\n",
       "      <td>2017(상반기)</td>\n",
       "      <td>9093.0</td>\n",
       "      <td>1855.0</td>\n",
       "      <td>3551.0</td>\n",
       "      <td>14499.0</td>\n",
       "      <td>949.0</td>\n",
       "      <td>0.0</td>\n",
       "      <td>736.0</td>\n",
       "      <td>2506.0</td>\n",
       "      <td>...</td>\n",
       "      <td>2128.0</td>\n",
       "      <td>1230.5</td>\n",
       "      <td>1635.5</td>\n",
       "      <td>0.0</td>\n",
       "      <td>0.0</td>\n",
       "      <td>77.3</td>\n",
       "      <td>79.3</td>\n",
       "      <td>68.8</td>\n",
       "      <td>61.0</td>\n",
       "      <td>71.7</td>\n",
       "    </tr>\n",
       "    <tr>\n",
       "      <th>3</th>\n",
       "      <td>서울서대문경찰서</td>\n",
       "      <td>2017(상반기)</td>\n",
       "      <td>18441.0</td>\n",
       "      <td>10029.0</td>\n",
       "      <td>10298.0</td>\n",
       "      <td>38769.0</td>\n",
       "      <td>1924.0</td>\n",
       "      <td>0.0</td>\n",
       "      <td>1788.0</td>\n",
       "      <td>4267.0</td>\n",
       "      <td>...</td>\n",
       "      <td>12420.0</td>\n",
       "      <td>4496.0</td>\n",
       "      <td>7066.0</td>\n",
       "      <td>0.0</td>\n",
       "      <td>0.0</td>\n",
       "      <td>78.0</td>\n",
       "      <td>80.0</td>\n",
       "      <td>67.0</td>\n",
       "      <td>66.3</td>\n",
       "      <td>71.4</td>\n",
       "    </tr>\n",
       "    <tr>\n",
       "      <th>4</th>\n",
       "      <td>서울혜화경찰서</td>\n",
       "      <td>2017(상반기)</td>\n",
       "      <td>10829.0</td>\n",
       "      <td>2989.0</td>\n",
       "      <td>5038.0</td>\n",
       "      <td>18857.0</td>\n",
       "      <td>1127.0</td>\n",
       "      <td>0.0</td>\n",
       "      <td>899.0</td>\n",
       "      <td>2864.0</td>\n",
       "      <td>...</td>\n",
       "      <td>2703.0</td>\n",
       "      <td>1378.5</td>\n",
       "      <td>1782.5</td>\n",
       "      <td>0.0</td>\n",
       "      <td>0.0</td>\n",
       "      <td>78.6</td>\n",
       "      <td>80.6</td>\n",
       "      <td>70.7</td>\n",
       "      <td>65.2</td>\n",
       "      <td>75.4</td>\n",
       "    </tr>\n",
       "    <tr>\n",
       "      <th>...</th>\n",
       "      <td>...</td>\n",
       "      <td>...</td>\n",
       "      <td>...</td>\n",
       "      <td>...</td>\n",
       "      <td>...</td>\n",
       "      <td>...</td>\n",
       "      <td>...</td>\n",
       "      <td>...</td>\n",
       "      <td>...</td>\n",
       "      <td>...</td>\n",
       "      <td>...</td>\n",
       "      <td>...</td>\n",
       "      <td>...</td>\n",
       "      <td>...</td>\n",
       "      <td>...</td>\n",
       "      <td>...</td>\n",
       "      <td>...</td>\n",
       "      <td>...</td>\n",
       "      <td>...</td>\n",
       "      <td>...</td>\n",
       "      <td>...</td>\n",
       "    </tr>\n",
       "    <tr>\n",
       "      <th>241</th>\n",
       "      <td>창원서부경찰서</td>\n",
       "      <td>2019(하반기)</td>\n",
       "      <td>12630.0</td>\n",
       "      <td>2990.0</td>\n",
       "      <td>7151.0</td>\n",
       "      <td>22771.0</td>\n",
       "      <td>1460.0</td>\n",
       "      <td>2.0</td>\n",
       "      <td>1964.0</td>\n",
       "      <td>2142.0</td>\n",
       "      <td>...</td>\n",
       "      <td>2900.0</td>\n",
       "      <td>4492.0</td>\n",
       "      <td>5574.0</td>\n",
       "      <td>1.0</td>\n",
       "      <td>1.0</td>\n",
       "      <td>79.1</td>\n",
       "      <td>79.5</td>\n",
       "      <td>68.5</td>\n",
       "      <td>71.2</td>\n",
       "      <td>76.0</td>\n",
       "    </tr>\n",
       "    <tr>\n",
       "      <th>242</th>\n",
       "      <td>마산중부경찰서</td>\n",
       "      <td>2019(하반기)</td>\n",
       "      <td>12223.0</td>\n",
       "      <td>2552.0</td>\n",
       "      <td>6489.0</td>\n",
       "      <td>21264.0</td>\n",
       "      <td>1265.0</td>\n",
       "      <td>5.0</td>\n",
       "      <td>1584.0</td>\n",
       "      <td>1369.0</td>\n",
       "      <td>...</td>\n",
       "      <td>2216.0</td>\n",
       "      <td>2837.0</td>\n",
       "      <td>7186.0</td>\n",
       "      <td>3.0</td>\n",
       "      <td>3.0</td>\n",
       "      <td>80.8</td>\n",
       "      <td>80.0</td>\n",
       "      <td>70.8</td>\n",
       "      <td>73.2</td>\n",
       "      <td>76.5</td>\n",
       "    </tr>\n",
       "    <tr>\n",
       "      <th>243</th>\n",
       "      <td>마산동부경찰서</td>\n",
       "      <td>2019(하반기)</td>\n",
       "      <td>15177.0</td>\n",
       "      <td>3190.0</td>\n",
       "      <td>7647.0</td>\n",
       "      <td>26014.0</td>\n",
       "      <td>1715.0</td>\n",
       "      <td>8.0</td>\n",
       "      <td>1910.0</td>\n",
       "      <td>1920.0</td>\n",
       "      <td>...</td>\n",
       "      <td>1496.0</td>\n",
       "      <td>2939.0</td>\n",
       "      <td>6166.0</td>\n",
       "      <td>1.0</td>\n",
       "      <td>1.0</td>\n",
       "      <td>75.0</td>\n",
       "      <td>76.5</td>\n",
       "      <td>69.4</td>\n",
       "      <td>68.9</td>\n",
       "      <td>73.1</td>\n",
       "    </tr>\n",
       "    <tr>\n",
       "      <th>244</th>\n",
       "      <td>진주경찰서</td>\n",
       "      <td>2019(하반기)</td>\n",
       "      <td>21840.0</td>\n",
       "      <td>5262.0</td>\n",
       "      <td>11455.0</td>\n",
       "      <td>38557.0</td>\n",
       "      <td>2552.0</td>\n",
       "      <td>0.0</td>\n",
       "      <td>3570.0</td>\n",
       "      <td>2876.0</td>\n",
       "      <td>...</td>\n",
       "      <td>6026.0</td>\n",
       "      <td>5205.0</td>\n",
       "      <td>11823.0</td>\n",
       "      <td>8.0</td>\n",
       "      <td>8.0</td>\n",
       "      <td>78.7</td>\n",
       "      <td>79.6</td>\n",
       "      <td>70.3</td>\n",
       "      <td>74.6</td>\n",
       "      <td>75.6</td>\n",
       "    </tr>\n",
       "    <tr>\n",
       "      <th>245</th>\n",
       "      <td>진해경찰서</td>\n",
       "      <td>2019(하반기)</td>\n",
       "      <td>11600.0</td>\n",
       "      <td>2442.0</td>\n",
       "      <td>6278.0</td>\n",
       "      <td>20320.0</td>\n",
       "      <td>1444.0</td>\n",
       "      <td>0.0</td>\n",
       "      <td>1692.0</td>\n",
       "      <td>1354.0</td>\n",
       "      <td>...</td>\n",
       "      <td>1782.0</td>\n",
       "      <td>2592.0</td>\n",
       "      <td>4931.0</td>\n",
       "      <td>3.0</td>\n",
       "      <td>3.0</td>\n",
       "      <td>76.6</td>\n",
       "      <td>79.2</td>\n",
       "      <td>67.0</td>\n",
       "      <td>70.9</td>\n",
       "      <td>73.5</td>\n",
       "    </tr>\n",
       "  </tbody>\n",
       "</table>\n",
       "<p>246 rows × 75 columns</p>\n",
       "</div>"
      ],
      "text/plain": [
       "      jur_stn       year  report_sx_남성  report_sx_불상  report_sx_여성  \\\n",
       "0     서울중부경찰서  2017(상반기)       13404.0        3239.0        5931.0   \n",
       "1     서울종로경찰서  2017(상반기)       11579.0        2560.0        5534.0   \n",
       "2    서울남대문경찰서  2017(상반기)        9093.0        1855.0        3551.0   \n",
       "3    서울서대문경찰서  2017(상반기)       18441.0       10029.0       10298.0   \n",
       "4     서울혜화경찰서  2017(상반기)       10829.0        2989.0        5038.0   \n",
       "..        ...        ...           ...           ...           ...   \n",
       "241   창원서부경찰서  2019(하반기)       12630.0        2990.0        7151.0   \n",
       "242   마산중부경찰서  2019(하반기)       12223.0        2552.0        6489.0   \n",
       "243   마산동부경찰서  2019(하반기)       15177.0        3190.0        7647.0   \n",
       "244     진주경찰서  2019(하반기)       21840.0        5262.0       11455.0   \n",
       "245     진해경찰서  2019(하반기)       11600.0        2442.0        6278.0   \n",
       "\n",
       "     report_sx_total  vio_cnt  mur_rob_cnt  car_cnt  5m_crm_yn  ...  \\\n",
       "0            22574.0   1324.0          0.0   1412.0     3275.0  ...   \n",
       "1            19674.0   1102.0          0.0    867.0     2914.0  ...   \n",
       "2            14499.0    949.0          0.0    736.0     2506.0  ...   \n",
       "3            38769.0   1924.0          0.0   1788.0     4267.0  ...   \n",
       "4            18857.0   1127.0          0.0    899.0     2864.0  ...   \n",
       "..               ...      ...          ...      ...        ...  ...   \n",
       "241          22771.0   1460.0          2.0   1964.0     2142.0  ...   \n",
       "242          21264.0   1265.0          5.0   1584.0     1369.0  ...   \n",
       "243          26014.0   1715.0          8.0   1910.0     1920.0  ...   \n",
       "244          38557.0   2552.0          0.0   3570.0     2876.0  ...   \n",
       "245          20320.0   1444.0          0.0   1692.0     1354.0  ...   \n",
       "\n",
       "     single_f_2030  single_f_4050  single_f_o60  adult  bell    q1    q2  \\\n",
       "0           2128.0         1230.5        1635.5    0.0   0.0  75.2  76.5   \n",
       "1           2703.0         1378.5        1782.5    2.0   2.0  81.6  82.4   \n",
       "2           2128.0         1230.5        1635.5    0.0   0.0  77.3  79.3   \n",
       "3          12420.0         4496.0        7066.0    0.0   0.0  78.0  80.0   \n",
       "4           2703.0         1378.5        1782.5    0.0   0.0  78.6  80.6   \n",
       "..             ...            ...           ...    ...   ...   ...   ...   \n",
       "241         2900.0         4492.0        5574.0    1.0   1.0  79.1  79.5   \n",
       "242         2216.0         2837.0        7186.0    3.0   3.0  80.8  80.0   \n",
       "243         1496.0         2939.0        6166.0    1.0   1.0  75.0  76.5   \n",
       "244         6026.0         5205.0       11823.0    8.0   8.0  78.7  79.6   \n",
       "245         1782.0         2592.0        4931.0    3.0   3.0  76.6  79.2   \n",
       "\n",
       "       q3    q4    q5  \n",
       "0    69.9  65.9  72.6  \n",
       "1    69.1  62.7  72.2  \n",
       "2    68.8  61.0  71.7  \n",
       "3    67.0  66.3  71.4  \n",
       "4    70.7  65.2  75.4  \n",
       "..    ...   ...   ...  \n",
       "241  68.5  71.2  76.0  \n",
       "242  70.8  73.2  76.5  \n",
       "243  69.4  68.9  73.1  \n",
       "244  70.3  74.6  75.6  \n",
       "245  67.0  70.9  73.5  \n",
       "\n",
       "[246 rows x 75 columns]"
      ]
     },
     "execution_count": 29,
     "metadata": {},
     "output_type": "execute_result"
    }
   ],
   "source": [
    "# y값인 q1-q5가 결측인 2020년 데이터 제거\n",
    "a = df[0:-82]\n",
    "a"
   ]
  },
  {
   "cell_type": "code",
   "execution_count": 30,
   "id": "56e4c73a",
   "metadata": {
    "ExecuteTime": {
     "end_time": "2021-12-03T05:30:35.903816Z",
     "start_time": "2021-12-03T05:30:35.890560Z"
    }
   },
   "outputs": [
    {
     "name": "stderr",
     "output_type": "stream",
     "text": [
      "C:\\Anaconda3\\lib\\site-packages\\pandas\\core\\frame.py:4906: SettingWithCopyWarning: \n",
      "A value is trying to be set on a copy of a slice from a DataFrame\n",
      "\n",
      "See the caveats in the documentation: https://pandas.pydata.org/pandas-docs/stable/user_guide/indexing.html#returning-a-view-versus-a-copy\n",
      "  return super().drop(\n"
     ]
    }
   ],
   "source": [
    "# 경찰서와 연도 데이터 제거\n",
    "a.drop(columns = ['jur_stn', 'year'], inplace = True)"
   ]
  },
  {
   "cell_type": "code",
   "execution_count": 31,
   "id": "9bf59750",
   "metadata": {
    "ExecuteTime": {
     "end_time": "2021-12-03T05:30:36.474925Z",
     "start_time": "2021-12-03T05:30:36.462957Z"
    }
   },
   "outputs": [],
   "source": [
    "a_ = a.drop(columns = ['q1', 'q2', 'q3', 'q4', 'q5'])"
   ]
  },
  {
   "cell_type": "code",
   "execution_count": 32,
   "id": "d1fb07ad",
   "metadata": {
    "ExecuteTime": {
     "end_time": "2021-12-03T05:30:37.031825Z",
     "start_time": "2021-12-03T05:30:36.988291Z"
    }
   },
   "outputs": [
    {
     "data": {
      "text/html": [
       "<div>\n",
       "<style scoped>\n",
       "    .dataframe tbody tr th:only-of-type {\n",
       "        vertical-align: middle;\n",
       "    }\n",
       "\n",
       "    .dataframe tbody tr th {\n",
       "        vertical-align: top;\n",
       "    }\n",
       "\n",
       "    .dataframe thead th {\n",
       "        text-align: right;\n",
       "    }\n",
       "</style>\n",
       "<table border=\"1\" class=\"dataframe\">\n",
       "  <thead>\n",
       "    <tr style=\"text-align: right;\">\n",
       "      <th></th>\n",
       "      <th>report_sx_남성</th>\n",
       "      <th>report_sx_불상</th>\n",
       "      <th>report_sx_여성</th>\n",
       "      <th>report_sx_total</th>\n",
       "      <th>vio_cnt</th>\n",
       "      <th>mur_rob_cnt</th>\n",
       "      <th>car_cnt</th>\n",
       "      <th>5m_crm_yn</th>\n",
       "      <th>theft_violence_x</th>\n",
       "      <th>robber_murder_x</th>\n",
       "      <th>...</th>\n",
       "      <th>single_2030</th>\n",
       "      <th>single_4050</th>\n",
       "      <th>single_o60</th>\n",
       "      <th>single_f_합계</th>\n",
       "      <th>single_f_u20</th>\n",
       "      <th>single_f_2030</th>\n",
       "      <th>single_f_4050</th>\n",
       "      <th>single_f_o60</th>\n",
       "      <th>adult</th>\n",
       "      <th>bell</th>\n",
       "    </tr>\n",
       "  </thead>\n",
       "  <tbody>\n",
       "    <tr>\n",
       "      <th>0</th>\n",
       "      <td>13404.0</td>\n",
       "      <td>3239.0</td>\n",
       "      <td>5931.0</td>\n",
       "      <td>22574.0</td>\n",
       "      <td>1324.0</td>\n",
       "      <td>0.0</td>\n",
       "      <td>1412.0</td>\n",
       "      <td>3275.0</td>\n",
       "      <td>572.0</td>\n",
       "      <td>4.0</td>\n",
       "      <td>...</td>\n",
       "      <td>4310.5</td>\n",
       "      <td>2954.5</td>\n",
       "      <td>2567.5</td>\n",
       "      <td>5169.0</td>\n",
       "      <td>175.0</td>\n",
       "      <td>2128.0</td>\n",
       "      <td>1230.5</td>\n",
       "      <td>1635.5</td>\n",
       "      <td>0.0</td>\n",
       "      <td>0.0</td>\n",
       "    </tr>\n",
       "    <tr>\n",
       "      <th>1</th>\n",
       "      <td>11579.0</td>\n",
       "      <td>2560.0</td>\n",
       "      <td>5534.0</td>\n",
       "      <td>19674.0</td>\n",
       "      <td>1102.0</td>\n",
       "      <td>0.0</td>\n",
       "      <td>867.0</td>\n",
       "      <td>2914.0</td>\n",
       "      <td>525.0</td>\n",
       "      <td>2.0</td>\n",
       "      <td>...</td>\n",
       "      <td>5483.5</td>\n",
       "      <td>3220.5</td>\n",
       "      <td>2861.5</td>\n",
       "      <td>6022.0</td>\n",
       "      <td>158.0</td>\n",
       "      <td>2703.0</td>\n",
       "      <td>1378.5</td>\n",
       "      <td>1782.5</td>\n",
       "      <td>2.0</td>\n",
       "      <td>2.0</td>\n",
       "    </tr>\n",
       "    <tr>\n",
       "      <th>2</th>\n",
       "      <td>9093.0</td>\n",
       "      <td>1855.0</td>\n",
       "      <td>3551.0</td>\n",
       "      <td>14499.0</td>\n",
       "      <td>949.0</td>\n",
       "      <td>0.0</td>\n",
       "      <td>736.0</td>\n",
       "      <td>2506.0</td>\n",
       "      <td>413.0</td>\n",
       "      <td>0.0</td>\n",
       "      <td>...</td>\n",
       "      <td>4310.5</td>\n",
       "      <td>2954.5</td>\n",
       "      <td>2567.5</td>\n",
       "      <td>5169.0</td>\n",
       "      <td>175.0</td>\n",
       "      <td>2128.0</td>\n",
       "      <td>1230.5</td>\n",
       "      <td>1635.5</td>\n",
       "      <td>0.0</td>\n",
       "      <td>0.0</td>\n",
       "    </tr>\n",
       "    <tr>\n",
       "      <th>3</th>\n",
       "      <td>18441.0</td>\n",
       "      <td>10029.0</td>\n",
       "      <td>10298.0</td>\n",
       "      <td>38769.0</td>\n",
       "      <td>1924.0</td>\n",
       "      <td>0.0</td>\n",
       "      <td>1788.0</td>\n",
       "      <td>4267.0</td>\n",
       "      <td>674.0</td>\n",
       "      <td>0.0</td>\n",
       "      <td>...</td>\n",
       "      <td>23040.0</td>\n",
       "      <td>9687.0</td>\n",
       "      <td>9894.0</td>\n",
       "      <td>24527.0</td>\n",
       "      <td>545.0</td>\n",
       "      <td>12420.0</td>\n",
       "      <td>4496.0</td>\n",
       "      <td>7066.0</td>\n",
       "      <td>0.0</td>\n",
       "      <td>0.0</td>\n",
       "    </tr>\n",
       "    <tr>\n",
       "      <th>4</th>\n",
       "      <td>10829.0</td>\n",
       "      <td>2989.0</td>\n",
       "      <td>5038.0</td>\n",
       "      <td>18857.0</td>\n",
       "      <td>1127.0</td>\n",
       "      <td>0.0</td>\n",
       "      <td>899.0</td>\n",
       "      <td>2864.0</td>\n",
       "      <td>427.0</td>\n",
       "      <td>4.0</td>\n",
       "      <td>...</td>\n",
       "      <td>5483.5</td>\n",
       "      <td>3220.5</td>\n",
       "      <td>2861.5</td>\n",
       "      <td>6022.0</td>\n",
       "      <td>158.0</td>\n",
       "      <td>2703.0</td>\n",
       "      <td>1378.5</td>\n",
       "      <td>1782.5</td>\n",
       "      <td>0.0</td>\n",
       "      <td>0.0</td>\n",
       "    </tr>\n",
       "    <tr>\n",
       "      <th>...</th>\n",
       "      <td>...</td>\n",
       "      <td>...</td>\n",
       "      <td>...</td>\n",
       "      <td>...</td>\n",
       "      <td>...</td>\n",
       "      <td>...</td>\n",
       "      <td>...</td>\n",
       "      <td>...</td>\n",
       "      <td>...</td>\n",
       "      <td>...</td>\n",
       "      <td>...</td>\n",
       "      <td>...</td>\n",
       "      <td>...</td>\n",
       "      <td>...</td>\n",
       "      <td>...</td>\n",
       "      <td>...</td>\n",
       "      <td>...</td>\n",
       "      <td>...</td>\n",
       "      <td>...</td>\n",
       "      <td>...</td>\n",
       "      <td>...</td>\n",
       "    </tr>\n",
       "    <tr>\n",
       "      <th>241</th>\n",
       "      <td>12630.0</td>\n",
       "      <td>2990.0</td>\n",
       "      <td>7151.0</td>\n",
       "      <td>22771.0</td>\n",
       "      <td>1460.0</td>\n",
       "      <td>2.0</td>\n",
       "      <td>1964.0</td>\n",
       "      <td>2142.0</td>\n",
       "      <td>363.0</td>\n",
       "      <td>2.0</td>\n",
       "      <td>...</td>\n",
       "      <td>8529.0</td>\n",
       "      <td>10946.0</td>\n",
       "      <td>8555.0</td>\n",
       "      <td>13016.0</td>\n",
       "      <td>50.0</td>\n",
       "      <td>2900.0</td>\n",
       "      <td>4492.0</td>\n",
       "      <td>5574.0</td>\n",
       "      <td>1.0</td>\n",
       "      <td>1.0</td>\n",
       "    </tr>\n",
       "    <tr>\n",
       "      <th>242</th>\n",
       "      <td>12223.0</td>\n",
       "      <td>2552.0</td>\n",
       "      <td>6489.0</td>\n",
       "      <td>21264.0</td>\n",
       "      <td>1265.0</td>\n",
       "      <td>5.0</td>\n",
       "      <td>1584.0</td>\n",
       "      <td>1369.0</td>\n",
       "      <td>151.0</td>\n",
       "      <td>3.0</td>\n",
       "      <td>...</td>\n",
       "      <td>5895.0</td>\n",
       "      <td>6580.0</td>\n",
       "      <td>10395.0</td>\n",
       "      <td>12431.0</td>\n",
       "      <td>192.0</td>\n",
       "      <td>2216.0</td>\n",
       "      <td>2837.0</td>\n",
       "      <td>7186.0</td>\n",
       "      <td>3.0</td>\n",
       "      <td>3.0</td>\n",
       "    </tr>\n",
       "    <tr>\n",
       "      <th>243</th>\n",
       "      <td>15177.0</td>\n",
       "      <td>3190.0</td>\n",
       "      <td>7647.0</td>\n",
       "      <td>26014.0</td>\n",
       "      <td>1715.0</td>\n",
       "      <td>8.0</td>\n",
       "      <td>1910.0</td>\n",
       "      <td>1920.0</td>\n",
       "      <td>312.0</td>\n",
       "      <td>6.0</td>\n",
       "      <td>...</td>\n",
       "      <td>3791.0</td>\n",
       "      <td>7160.0</td>\n",
       "      <td>9299.0</td>\n",
       "      <td>10643.0</td>\n",
       "      <td>42.0</td>\n",
       "      <td>1496.0</td>\n",
       "      <td>2939.0</td>\n",
       "      <td>6166.0</td>\n",
       "      <td>1.0</td>\n",
       "      <td>1.0</td>\n",
       "    </tr>\n",
       "    <tr>\n",
       "      <th>244</th>\n",
       "      <td>21840.0</td>\n",
       "      <td>5262.0</td>\n",
       "      <td>11455.0</td>\n",
       "      <td>38557.0</td>\n",
       "      <td>2552.0</td>\n",
       "      <td>0.0</td>\n",
       "      <td>3570.0</td>\n",
       "      <td>2876.0</td>\n",
       "      <td>537.0</td>\n",
       "      <td>0.0</td>\n",
       "      <td>...</td>\n",
       "      <td>15178.0</td>\n",
       "      <td>11882.0</td>\n",
       "      <td>16273.0</td>\n",
       "      <td>23362.0</td>\n",
       "      <td>308.0</td>\n",
       "      <td>6026.0</td>\n",
       "      <td>5205.0</td>\n",
       "      <td>11823.0</td>\n",
       "      <td>8.0</td>\n",
       "      <td>8.0</td>\n",
       "    </tr>\n",
       "    <tr>\n",
       "      <th>245</th>\n",
       "      <td>11600.0</td>\n",
       "      <td>2442.0</td>\n",
       "      <td>6278.0</td>\n",
       "      <td>20320.0</td>\n",
       "      <td>1444.0</td>\n",
       "      <td>0.0</td>\n",
       "      <td>1692.0</td>\n",
       "      <td>1354.0</td>\n",
       "      <td>187.0</td>\n",
       "      <td>0.0</td>\n",
       "      <td>...</td>\n",
       "      <td>6316.0</td>\n",
       "      <td>7359.0</td>\n",
       "      <td>7241.0</td>\n",
       "      <td>9331.0</td>\n",
       "      <td>26.0</td>\n",
       "      <td>1782.0</td>\n",
       "      <td>2592.0</td>\n",
       "      <td>4931.0</td>\n",
       "      <td>3.0</td>\n",
       "      <td>3.0</td>\n",
       "    </tr>\n",
       "  </tbody>\n",
       "</table>\n",
       "<p>246 rows × 68 columns</p>\n",
       "</div>"
      ],
      "text/plain": [
       "     report_sx_남성  report_sx_불상  report_sx_여성  report_sx_total  vio_cnt  \\\n",
       "0         13404.0        3239.0        5931.0          22574.0   1324.0   \n",
       "1         11579.0        2560.0        5534.0          19674.0   1102.0   \n",
       "2          9093.0        1855.0        3551.0          14499.0    949.0   \n",
       "3         18441.0       10029.0       10298.0          38769.0   1924.0   \n",
       "4         10829.0        2989.0        5038.0          18857.0   1127.0   \n",
       "..            ...           ...           ...              ...      ...   \n",
       "241       12630.0        2990.0        7151.0          22771.0   1460.0   \n",
       "242       12223.0        2552.0        6489.0          21264.0   1265.0   \n",
       "243       15177.0        3190.0        7647.0          26014.0   1715.0   \n",
       "244       21840.0        5262.0       11455.0          38557.0   2552.0   \n",
       "245       11600.0        2442.0        6278.0          20320.0   1444.0   \n",
       "\n",
       "     mur_rob_cnt  car_cnt  5m_crm_yn  theft_violence_x  robber_murder_x  ...  \\\n",
       "0            0.0   1412.0     3275.0             572.0              4.0  ...   \n",
       "1            0.0    867.0     2914.0             525.0              2.0  ...   \n",
       "2            0.0    736.0     2506.0             413.0              0.0  ...   \n",
       "3            0.0   1788.0     4267.0             674.0              0.0  ...   \n",
       "4            0.0    899.0     2864.0             427.0              4.0  ...   \n",
       "..           ...      ...        ...               ...              ...  ...   \n",
       "241          2.0   1964.0     2142.0             363.0              2.0  ...   \n",
       "242          5.0   1584.0     1369.0             151.0              3.0  ...   \n",
       "243          8.0   1910.0     1920.0             312.0              6.0  ...   \n",
       "244          0.0   3570.0     2876.0             537.0              0.0  ...   \n",
       "245          0.0   1692.0     1354.0             187.0              0.0  ...   \n",
       "\n",
       "     single_2030  single_4050  single_o60  single_f_합계  single_f_u20  \\\n",
       "0         4310.5       2954.5      2567.5       5169.0         175.0   \n",
       "1         5483.5       3220.5      2861.5       6022.0         158.0   \n",
       "2         4310.5       2954.5      2567.5       5169.0         175.0   \n",
       "3        23040.0       9687.0      9894.0      24527.0         545.0   \n",
       "4         5483.5       3220.5      2861.5       6022.0         158.0   \n",
       "..           ...          ...         ...          ...           ...   \n",
       "241       8529.0      10946.0      8555.0      13016.0          50.0   \n",
       "242       5895.0       6580.0     10395.0      12431.0         192.0   \n",
       "243       3791.0       7160.0      9299.0      10643.0          42.0   \n",
       "244      15178.0      11882.0     16273.0      23362.0         308.0   \n",
       "245       6316.0       7359.0      7241.0       9331.0          26.0   \n",
       "\n",
       "     single_f_2030  single_f_4050  single_f_o60  adult  bell  \n",
       "0           2128.0         1230.5        1635.5    0.0   0.0  \n",
       "1           2703.0         1378.5        1782.5    2.0   2.0  \n",
       "2           2128.0         1230.5        1635.5    0.0   0.0  \n",
       "3          12420.0         4496.0        7066.0    0.0   0.0  \n",
       "4           2703.0         1378.5        1782.5    0.0   0.0  \n",
       "..             ...            ...           ...    ...   ...  \n",
       "241         2900.0         4492.0        5574.0    1.0   1.0  \n",
       "242         2216.0         2837.0        7186.0    3.0   3.0  \n",
       "243         1496.0         2939.0        6166.0    1.0   1.0  \n",
       "244         6026.0         5205.0       11823.0    8.0   8.0  \n",
       "245         1782.0         2592.0        4931.0    3.0   3.0  \n",
       "\n",
       "[246 rows x 68 columns]"
      ]
     },
     "execution_count": 32,
     "metadata": {},
     "output_type": "execute_result"
    }
   ],
   "source": [
    "a_"
   ]
  },
  {
   "cell_type": "code",
   "execution_count": 33,
   "id": "11c9857d",
   "metadata": {
    "ExecuteTime": {
     "end_time": "2021-12-03T05:30:37.557621Z",
     "start_time": "2021-12-03T05:30:37.544408Z"
    }
   },
   "outputs": [],
   "source": [
    "a_1 = a_[['report_sx_여성', 'vio_cnt', 'theft_violence_x', 'robber_murder_x',\n",
    "       'theft_violence_y', 'robber_murder_y', '가해_10대이하', '피해_80대이상', 'for_합계',\n",
    "       'popu_2030', 'popu_o60', 'for_u20', 'for_2030', 'for_4050', 'for_o60',\n",
    "       'single_합계', 'single_2030', 'single_4050', 'single_o60', 'single_f_합계',\n",
    "       'single_f_4050', 'single_f_o60']]"
   ]
  },
  {
   "cell_type": "code",
   "execution_count": 34,
   "id": "d92d0762",
   "metadata": {
    "ExecuteTime": {
     "end_time": "2021-12-03T05:30:38.112949Z",
     "start_time": "2021-12-03T05:30:38.099924Z"
    }
   },
   "outputs": [],
   "source": [
    "a_2 = a_[['report_sx_여성', 'vio_cnt', 'theft_violence_x', 'robber_murder_x',\n",
    "       'theft_violence_y', 'robber_murder_y', '가해_10대이하', '피해_80대이상', 'for_합계',\n",
    "       'popu_o60', 'for_u20', 'for_2030', 'for_4050', 'for_o60', 'single_합계',\n",
    "       'single_4050', 'single_o60', 'single_f_합계', 'single_f_4050',\n",
    "       'single_f_o60']]"
   ]
  },
  {
   "cell_type": "code",
   "execution_count": 35,
   "id": "3d9c9614",
   "metadata": {
    "ExecuteTime": {
     "end_time": "2021-12-03T05:30:38.594104Z",
     "start_time": "2021-12-03T05:30:38.584506Z"
    }
   },
   "outputs": [],
   "source": [
    "a_3 = a_[['mur_rob_cnt', '5m_crm_yn', 'theft_violence_x', 'robber_murder_x',\n",
    "       'traffic_x', 'theft_violence_y', 'robber_murder_y', '가해_70대',\n",
    "       '가해_80대이상', '피해_70대', 'for_합계', 'for_2030', 'for_4050', 'for_o60',\n",
    "       'single_합계', 'single_2030', 'single_4050', 'single_f_2030', 'adult',\n",
    "       'bell']]"
   ]
  },
  {
   "cell_type": "code",
   "execution_count": 36,
   "id": "49bf8fea",
   "metadata": {
    "ExecuteTime": {
     "end_time": "2021-12-03T05:30:39.104252Z",
     "start_time": "2021-12-03T05:30:39.089624Z"
    }
   },
   "outputs": [],
   "source": [
    "a_4 = a_[['mur_rob_cnt', 'car_cnt', 'theft_violence_x', '가해_여', 'cctv', 'for_합계',\n",
    "       'for_2030', 'for_4050', 'for_o60', 'single_합계', 'single_4050']]"
   ]
  },
  {
   "cell_type": "code",
   "execution_count": 37,
   "id": "7758a745",
   "metadata": {
    "ExecuteTime": {
     "end_time": "2021-12-03T05:30:39.628642Z",
     "start_time": "2021-12-03T05:30:39.616308Z"
    }
   },
   "outputs": [],
   "source": [
    "a_5 = a_[['report_sx_여성', 'vio_cnt', 'theft_violence_x', 'robber_murder_x',\n",
    "       'theft_violence_y', 'robber_murder_y', '가해_여', '가해_10대이하', '피해_80대이상',\n",
    "       'for_합계', 'popu_2030', 'popu_o60', 'for_u20', 'for_2030', 'for_4050',\n",
    "       'for_o60', 'single_합계', 'single_2030', 'single_4050', 'single_o60',\n",
    "       'single_f_합계', 'single_f_4050', 'single_f_o60']]"
   ]
  },
  {
   "cell_type": "code",
   "execution_count": 38,
   "id": "a955d41d",
   "metadata": {
    "ExecuteTime": {
     "end_time": "2021-12-03T05:30:40.153072Z",
     "start_time": "2021-12-03T05:30:40.138594Z"
    }
   },
   "outputs": [
    {
     "data": {
      "text/plain": [
       "array([[-1.08891897, -1.08002514, -0.40220751, ..., -1.40869518,\n",
       "        -1.70872887, -1.55004946],\n",
       "       [-1.17135971, -1.26140432, -0.54579805, ..., -1.32273075,\n",
       "        -1.62995962, -1.50210803],\n",
       "       [-1.58314811, -1.38640889, -0.88797125, ..., -1.40869518,\n",
       "        -1.70872887, -1.55004946],\n",
       "       ...,\n",
       "       [-0.7325756 , -0.76056902, -1.19653815, ..., -0.85703135,\n",
       "        -0.79942306, -0.07250741],\n",
       "       [ 0.05819103, -0.07672048, -0.50913663, ...,  0.42477579,\n",
       "         0.406598  ,  1.77242259],\n",
       "       [-1.01686119, -0.98198234, -1.57842789, ..., -0.98925329,\n",
       "        -0.98410501, -0.47528071]])"
      ]
     },
     "execution_count": 38,
     "metadata": {},
     "output_type": "execute_result"
    }
   ],
   "source": [
    "# StandardScaling\n",
    "scaler1 = StandardScaler()\n",
    "scaler1.fit(a_1) # scaler에 xdata 학습\n",
    "a_s1 = scaler1.transform(a_1)\n",
    "a_s1"
   ]
  },
  {
   "cell_type": "code",
   "execution_count": 39,
   "id": "90b38ba9",
   "metadata": {
    "ExecuteTime": {
     "end_time": "2021-12-03T05:30:40.679915Z",
     "start_time": "2021-12-03T05:30:40.666519Z"
    }
   },
   "outputs": [
    {
     "data": {
      "text/plain": [
       "array([[-1.08891897, -1.08002514, -0.40220751, ..., -1.40869518,\n",
       "        -1.70872887, -1.55004946],\n",
       "       [-1.17135971, -1.26140432, -0.54579805, ..., -1.32273075,\n",
       "        -1.62995962, -1.50210803],\n",
       "       [-1.58314811, -1.38640889, -0.88797125, ..., -1.40869518,\n",
       "        -1.70872887, -1.55004946],\n",
       "       ...,\n",
       "       [-0.7325756 , -0.76056902, -1.19653815, ..., -0.85703135,\n",
       "        -0.79942306, -0.07250741],\n",
       "       [ 0.05819103, -0.07672048, -0.50913663, ...,  0.42477579,\n",
       "         0.406598  ,  1.77242259],\n",
       "       [-1.01686119, -0.98198234, -1.57842789, ..., -0.98925329,\n",
       "        -0.98410501, -0.47528071]])"
      ]
     },
     "execution_count": 39,
     "metadata": {},
     "output_type": "execute_result"
    }
   ],
   "source": [
    "# StandardScaling\n",
    "scaler2 = StandardScaler()\n",
    "scaler2.fit(a_2) # scaler에 xdata 학습\n",
    "a_s2 = scaler2.transform(a_2)\n",
    "a_s2"
   ]
  },
  {
   "cell_type": "code",
   "execution_count": 40,
   "id": "d7e85ed2",
   "metadata": {
    "ExecuteTime": {
     "end_time": "2021-12-03T05:30:41.235780Z",
     "start_time": "2021-12-03T05:30:41.222663Z"
    }
   },
   "outputs": [
    {
     "data": {
      "text/plain": [
       "array([[-0.68019192, -0.53368129, -0.40220751, ..., -0.97165206,\n",
       "        -0.59342342, -0.59342342],\n",
       "       [-0.68019192, -0.71416836, -0.54579805, ..., -0.87776189,\n",
       "         0.29943384,  0.29943384],\n",
       "       [-0.68019192, -0.91815375, -0.88797125, ..., -0.97165206,\n",
       "        -0.59342342, -0.59342342],\n",
       "       ...,\n",
       "       [ 1.90901058, -1.21113276, -1.19653815, ..., -1.0748496 ,\n",
       "        -0.14699479, -0.14699479],\n",
       "       [-0.68019192, -0.733167  , -0.50913663, ..., -0.33515836,\n",
       "         2.97800563,  2.97800563],\n",
       "       [-0.68019192, -1.49411249, -1.57842789, ..., -1.02814945,\n",
       "         0.74586247,  0.74586247]])"
      ]
     },
     "execution_count": 40,
     "metadata": {},
     "output_type": "execute_result"
    }
   ],
   "source": [
    "# StandardScaling\n",
    "scaler3 = StandardScaler()\n",
    "scaler3.fit(a_3) # scaler에 xdata 학습\n",
    "a_s3 = scaler3.transform(a_3)\n",
    "a_s3"
   ]
  },
  {
   "cell_type": "code",
   "execution_count": 41,
   "id": "ec00e970",
   "metadata": {
    "ExecuteTime": {
     "end_time": "2021-12-03T05:30:41.790712Z",
     "start_time": "2021-12-03T05:30:41.776984Z"
    }
   },
   "outputs": [
    {
     "data": {
      "text/plain": [
       "array([[-0.68019192, -0.92567779, -0.40220751, ..., -0.38911982,\n",
       "        -1.38252074, -1.64561528],\n",
       "       [-0.68019192, -1.4252536 , -0.54579805, ..., -0.45704651,\n",
       "        -1.29327693, -1.58609783],\n",
       "       [-0.68019192, -1.54533513, -0.88797125, ..., -0.38911982,\n",
       "        -1.38252074, -1.64561528],\n",
       "       ...,\n",
       "       [ 1.90901058, -0.46918467, -1.19653815, ..., -0.59093101,\n",
       "        -0.85594629, -0.70463545],\n",
       "       [-0.68019192,  1.05245908, -0.50913663, ..., -0.55745988,\n",
       "         0.36027682,  0.35191116],\n",
       "       [-0.68019192, -0.66901499, -1.57842789, ..., -0.5358021 ,\n",
       "        -0.82352669, -0.66010924]])"
      ]
     },
     "execution_count": 41,
     "metadata": {},
     "output_type": "execute_result"
    }
   ],
   "source": [
    "# StandardScaling\n",
    "scaler4 = StandardScaler()\n",
    "scaler4.fit(a_4) # scaler에 xdata 학습\n",
    "a_s4 = scaler4.transform(a_4)\n",
    "a_s4"
   ]
  },
  {
   "cell_type": "code",
   "execution_count": 42,
   "id": "8080874f",
   "metadata": {
    "ExecuteTime": {
     "end_time": "2021-12-03T05:30:42.315244Z",
     "start_time": "2021-12-03T05:30:42.302017Z"
    }
   },
   "outputs": [
    {
     "data": {
      "text/plain": [
       "array([[-1.08891897, -1.08002514, -0.40220751, ..., -1.40869518,\n",
       "        -1.70872887, -1.55004946],\n",
       "       [-1.17135971, -1.26140432, -0.54579805, ..., -1.32273075,\n",
       "        -1.62995962, -1.50210803],\n",
       "       [-1.58314811, -1.38640889, -0.88797125, ..., -1.40869518,\n",
       "        -1.70872887, -1.55004946],\n",
       "       ...,\n",
       "       [-0.7325756 , -0.76056902, -1.19653815, ..., -0.85703135,\n",
       "        -0.79942306, -0.07250741],\n",
       "       [ 0.05819103, -0.07672048, -0.50913663, ...,  0.42477579,\n",
       "         0.406598  ,  1.77242259],\n",
       "       [-1.01686119, -0.98198234, -1.57842789, ..., -0.98925329,\n",
       "        -0.98410501, -0.47528071]])"
      ]
     },
     "execution_count": 42,
     "metadata": {},
     "output_type": "execute_result"
    }
   ],
   "source": [
    "# StandardScaling\n",
    "scaler5 = StandardScaler()\n",
    "scaler5.fit(a_5) # scaler에 xdata 학습\n",
    "a_s5 = scaler5.transform(a_5)\n",
    "a_s5"
   ]
  },
  {
   "cell_type": "code",
   "execution_count": 43,
   "id": "4defbbb3",
   "metadata": {
    "ExecuteTime": {
     "end_time": "2021-12-03T05:30:42.887456Z",
     "start_time": "2021-12-03T05:30:42.873807Z"
    }
   },
   "outputs": [],
   "source": [
    "# x데이터 설정 2017, 2018 데이터를 학습용, 2019년 데이터를 검증용 데이터셋으로 설정\n",
    "\n",
    "xtrain1 = a_s2[:-82]\n",
    "xtest1 = a_s2[-82:]\n",
    "xtrain2 = a_s2[:-82]\n",
    "xtest2 = a_s2[-82:]\n",
    "xtrain3 = a_s3[:-82]\n",
    "xtest3 = a_s3[-82:]\n",
    "xtrain4 = a_s4[:-82]\n",
    "xtest4 = a_s4[-82:]\n",
    "xtrain5 = a_s5[:-82]\n",
    "xtest5 = a_s5[-82:]"
   ]
  },
  {
   "cell_type": "code",
   "execution_count": 44,
   "id": "51059778",
   "metadata": {
    "ExecuteTime": {
     "end_time": "2021-12-03T05:30:43.412628Z",
     "start_time": "2021-12-03T05:30:43.400496Z"
    }
   },
   "outputs": [],
   "source": [
    "# y데이터 설정 2017, 2018 데이터를 학습용, 2019년 데이터를 검증용 데이터셋으로 설정\n",
    "\n",
    "train = a[:-82]\n",
    "test = a[-82:]\n",
    "\n",
    "ytrain1 = train['q1']\n",
    "ytrain2 = train['q2']\n",
    "ytrain3 = train['q3']\n",
    "ytrain4 = train['q4']\n",
    "ytrain5 = train['q5']\n",
    "\n",
    "ytest1 = test['q1']\n",
    "ytest2 = test['q2']\n",
    "ytest3 = test['q3']\n",
    "ytest4 = test['q4']\n",
    "ytest5 = test['q5']"
   ]
  },
  {
   "cell_type": "code",
   "execution_count": 45,
   "id": "013e0493",
   "metadata": {
    "ExecuteTime": {
     "end_time": "2021-12-03T05:30:43.893883Z",
     "start_time": "2021-12-03T05:30:43.881756Z"
    }
   },
   "outputs": [
    {
     "data": {
      "text/plain": [
       "Index(['report_sx_여성', 'vio_cnt', 'theft_violence_x', 'robber_murder_x',\n",
       "       'theft_violence_y', 'robber_murder_y', '가해_10대이하', '피해_80대이상', 'for_합계',\n",
       "       'popu_2030', 'popu_o60', 'for_u20', 'for_2030', 'for_4050', 'for_o60',\n",
       "       'single_합계', 'single_2030', 'single_4050', 'single_o60', 'single_f_합계',\n",
       "       'single_f_4050', 'single_f_o60'],\n",
       "      dtype='object')"
      ]
     },
     "execution_count": 45,
     "metadata": {},
     "output_type": "execute_result"
    }
   ],
   "source": [
    "a_1.columns"
   ]
  },
  {
   "cell_type": "code",
   "execution_count": 46,
   "id": "943cae14",
   "metadata": {
    "ExecuteTime": {
     "end_time": "2021-12-03T05:30:44.403270Z",
     "start_time": "2021-12-03T05:30:44.389026Z"
    }
   },
   "outputs": [],
   "source": [
    "# 그리드 서치 패키지\n",
    "from sklearn.model_selection import GridSearchCV"
   ]
  },
  {
   "cell_type": "code",
   "execution_count": 48,
   "id": "89c071f1",
   "metadata": {
    "ExecuteTime": {
     "end_time": "2021-12-03T05:30:46.304109Z",
     "start_time": "2021-12-03T05:30:46.292653Z"
    }
   },
   "outputs": [],
   "source": [
    "# 최적 성능을 내는 lasso의 alpha값을 얻기 위해 param_grid 생성\n",
    "\n",
    "param_grid = {'alpha' : np.linspace(0.001, 10.0, 10000)}\n",
    "\n",
    "#그리드 서치 설정\n",
    "#grid_search = GridSearchCV(ElasticNet(), param_grid = param_grid, cv = 10, n_jobs = -1, scoring ='r2')\n",
    "grid_search = GridSearchCV(Ridge(), param_grid = param_grid, cv = 10, n_jobs = -1, scoring ='neg_mean_absolute_error')"
   ]
  },
  {
   "cell_type": "markdown",
   "id": "ae3db99c",
   "metadata": {},
   "source": [
    "#### q1 절도폭력 "
   ]
  },
  {
   "cell_type": "code",
   "execution_count": 49,
   "id": "24aeeadd",
   "metadata": {
    "ExecuteTime": {
     "end_time": "2021-12-03T05:31:47.932560Z",
     "start_time": "2021-12-03T05:30:47.288805Z"
    }
   },
   "outputs": [],
   "source": [
    "# 그리드 서치 후 최고 성능의 모델을 ela1에 저장\n",
    "\n",
    "grid_search.fit(xtrain1, ytrain1)\n",
    "ela1 = grid_search.best_estimator_"
   ]
  },
  {
   "cell_type": "code",
   "execution_count": 50,
   "id": "d0ddcc37",
   "metadata": {
    "ExecuteTime": {
     "end_time": "2021-12-03T05:31:48.336787Z",
     "start_time": "2021-12-03T05:31:48.324272Z"
    }
   },
   "outputs": [
    {
     "data": {
      "text/plain": [
       "2.898749873445177"
      ]
     },
     "execution_count": 50,
     "metadata": {},
     "output_type": "execute_result"
    }
   ],
   "source": [
    "# MAE 출력\n",
    "\n",
    "y_pred1 = ela1.predict(xtest1)\n",
    "mean_absolute_error(ytest1, y_pred1)"
   ]
  },
  {
   "cell_type": "code",
   "execution_count": 52,
   "id": "4e505fff",
   "metadata": {
    "ExecuteTime": {
     "end_time": "2021-12-03T05:34:09.149871Z",
     "start_time": "2021-12-03T05:34:09.130871Z"
    }
   },
   "outputs": [
    {
     "name": "stdout",
     "output_type": "stream",
     "text": [
      "alpha = 2.989\n",
      "[-0.37955179 -1.73134789  2.28552008  0.5216034  -0.65419474 -0.20862743\n",
      " -0.39642643  0.08559926 -0.660994    2.69275997  1.55183545 -1.5594606\n",
      " -0.28534529 -0.6467045   0.32233582 -2.11519032 -2.12914491  0.97432909\n",
      "  0.88888623  0.02700532]\n",
      "가장 강한 양의 상관관계:  popu_2030 \n",
      "가장 강한 음의 상관관계:  single_2030\n"
     ]
    }
   ],
   "source": [
    "# 결과\n",
    "\n",
    "print('alpha =', ela1.alpha)\n",
    "print(ela1.coef_) # Ridge 회귀분석으로 나온 weghit값\n",
    "print('가장 강한 양의 상관관계: ',a_1.columns[ela1.coef_.argmax()], '\\n가장 강한 음의 상관관계: ', a_1.columns[ela1.coef_.argmin()])"
   ]
  },
  {
   "cell_type": "markdown",
   "id": "a294834f",
   "metadata": {},
   "source": [
    "#### q2 강도살인"
   ]
  },
  {
   "cell_type": "code",
   "execution_count": 53,
   "id": "56c82a56",
   "metadata": {
    "ExecuteTime": {
     "end_time": "2021-12-03T05:35:17.054962Z",
     "start_time": "2021-12-03T05:34:20.378266Z"
    }
   },
   "outputs": [],
   "source": [
    "# 그리드 서치 후 최고 성능의 모델을 ela2에 저장\n",
    "\n",
    "grid_search.fit(xtrain2, ytrain2)\n",
    "ridge2 = grid_search.best_estimator_"
   ]
  },
  {
   "cell_type": "code",
   "execution_count": 55,
   "id": "1dcf7ac6",
   "metadata": {
    "ExecuteTime": {
     "end_time": "2021-12-03T05:37:20.047515Z",
     "start_time": "2021-12-03T05:37:20.037548Z"
    }
   },
   "outputs": [],
   "source": [
    "ela2 = ridge2"
   ]
  },
  {
   "cell_type": "code",
   "execution_count": 56,
   "id": "af019254",
   "metadata": {
    "ExecuteTime": {
     "end_time": "2021-12-03T05:37:20.560331Z",
     "start_time": "2021-12-03T05:37:20.545082Z"
    }
   },
   "outputs": [
    {
     "data": {
      "text/plain": [
       "2.8507472470356725"
      ]
     },
     "execution_count": 56,
     "metadata": {},
     "output_type": "execute_result"
    }
   ],
   "source": [
    "# MAE 출력\n",
    "\n",
    "y_pred2 = ela2.predict(xtest2)\n",
    "mean_absolute_error(ytest2, y_pred2)"
   ]
  },
  {
   "cell_type": "code",
   "execution_count": 57,
   "id": "0d2cce03",
   "metadata": {
    "ExecuteTime": {
     "end_time": "2021-12-03T05:37:22.117565Z",
     "start_time": "2021-12-03T05:37:22.098564Z"
    }
   },
   "outputs": [
    {
     "name": "stdout",
     "output_type": "stream",
     "text": [
      "alpha = 0.052000000000000005\n",
      "[ 0.58412979 -2.74832045  2.09060583  0.40020489 -0.77336907 -0.17019597\n",
      " -0.93097931  0.02602306  0.53186352  5.88616185  1.84819567 -2.05753087\n",
      "  5.25293427 -6.88416625  7.71960753 -6.04151271 -6.31046983 -6.6972582\n",
      "  3.73682561  3.22003319]\n",
      "가장 강한 양의 상관관계:  single_합계 \n",
      "가장 강한 음의 상관관계:  for_o60\n"
     ]
    }
   ],
   "source": [
    "# 결과\n",
    "\n",
    "print('alpha =', ela2.alpha)\n",
    "print(ela2.coef_) # Ridge 회귀분석으로 나온 weghit값\n",
    "print('가장 강한 양의 상관관계: ',a_2.columns[ela2.coef_.argmax()], '\\n가장 강한 음의 상관관계: ', a_2.columns[ela2.coef_.argmin()])"
   ]
  },
  {
   "cell_type": "markdown",
   "id": "f345e5cd",
   "metadata": {},
   "source": [
    "#### q3 교통안전"
   ]
  },
  {
   "cell_type": "code",
   "execution_count": 59,
   "id": "86cd47f1",
   "metadata": {
    "ExecuteTime": {
     "end_time": "2021-12-03T05:38:28.764757Z",
     "start_time": "2021-12-03T05:37:34.506643Z"
    }
   },
   "outputs": [],
   "source": [
    "# 그리드 서치 후 최고 성능의 모델을 lasso3에 저장\n",
    "\n",
    "grid_search.fit(xtrain3, ytrain3)\n",
    "ela3 = grid_search.best_estimator_"
   ]
  },
  {
   "cell_type": "code",
   "execution_count": 60,
   "id": "9b8ddf36",
   "metadata": {
    "ExecuteTime": {
     "end_time": "2021-12-03T05:38:29.215499Z",
     "start_time": "2021-12-03T05:38:29.202351Z"
    }
   },
   "outputs": [
    {
     "data": {
      "text/plain": [
       "2.3773514544762233"
      ]
     },
     "execution_count": 60,
     "metadata": {},
     "output_type": "execute_result"
    }
   ],
   "source": [
    "# MAE 출력\n",
    "\n",
    "y_pred3 = ela3.predict(xtest3)\n",
    "mean_absolute_error(ytest3, y_pred3)"
   ]
  },
  {
   "cell_type": "code",
   "execution_count": 70,
   "id": "cd79a4c4",
   "metadata": {
    "ExecuteTime": {
     "end_time": "2021-12-03T05:43:14.388443Z",
     "start_time": "2021-12-03T05:43:14.330128Z"
    }
   },
   "outputs": [
    {
     "data": {
      "text/html": [
       "<div>\n",
       "<style scoped>\n",
       "    .dataframe tbody tr th:only-of-type {\n",
       "        vertical-align: middle;\n",
       "    }\n",
       "\n",
       "    .dataframe tbody tr th {\n",
       "        vertical-align: top;\n",
       "    }\n",
       "\n",
       "    .dataframe thead th {\n",
       "        text-align: right;\n",
       "    }\n",
       "</style>\n",
       "<table border=\"1\" class=\"dataframe\">\n",
       "  <thead>\n",
       "    <tr style=\"text-align: right;\">\n",
       "      <th></th>\n",
       "      <th>mur_rob_cnt</th>\n",
       "      <th>5m_crm_yn</th>\n",
       "      <th>theft_violence_x</th>\n",
       "      <th>robber_murder_x</th>\n",
       "      <th>traffic_x</th>\n",
       "      <th>theft_violence_y</th>\n",
       "      <th>robber_murder_y</th>\n",
       "      <th>가해_70대</th>\n",
       "      <th>가해_80대이상</th>\n",
       "      <th>피해_70대</th>\n",
       "      <th>for_합계</th>\n",
       "      <th>for_2030</th>\n",
       "      <th>for_4050</th>\n",
       "      <th>for_o60</th>\n",
       "      <th>single_합계</th>\n",
       "      <th>single_2030</th>\n",
       "      <th>single_4050</th>\n",
       "      <th>single_f_2030</th>\n",
       "      <th>adult</th>\n",
       "      <th>bell</th>\n",
       "    </tr>\n",
       "  </thead>\n",
       "  <tbody>\n",
       "    <tr>\n",
       "      <th>0</th>\n",
       "      <td>0.0</td>\n",
       "      <td>3275.0</td>\n",
       "      <td>572.0</td>\n",
       "      <td>4.0</td>\n",
       "      <td>347.0</td>\n",
       "      <td>236.0</td>\n",
       "      <td>3.0</td>\n",
       "      <td>22.0</td>\n",
       "      <td>2.0</td>\n",
       "      <td>20.0</td>\n",
       "      <td>5132.5</td>\n",
       "      <td>2436.0</td>\n",
       "      <td>1651.0</td>\n",
       "      <td>599.0</td>\n",
       "      <td>10082.0</td>\n",
       "      <td>4310.5</td>\n",
       "      <td>2954.5</td>\n",
       "      <td>2128.0</td>\n",
       "      <td>0.0</td>\n",
       "      <td>0.0</td>\n",
       "    </tr>\n",
       "    <tr>\n",
       "      <th>1</th>\n",
       "      <td>0.0</td>\n",
       "      <td>2914.0</td>\n",
       "      <td>525.0</td>\n",
       "      <td>2.0</td>\n",
       "      <td>202.0</td>\n",
       "      <td>208.0</td>\n",
       "      <td>4.0</td>\n",
       "      <td>23.0</td>\n",
       "      <td>1.0</td>\n",
       "      <td>16.0</td>\n",
       "      <td>5489.5</td>\n",
       "      <td>3031.5</td>\n",
       "      <td>1439.0</td>\n",
       "      <td>461.0</td>\n",
       "      <td>11819.0</td>\n",
       "      <td>5483.5</td>\n",
       "      <td>3220.5</td>\n",
       "      <td>2703.0</td>\n",
       "      <td>2.0</td>\n",
       "      <td>2.0</td>\n",
       "    </tr>\n",
       "    <tr>\n",
       "      <th>2</th>\n",
       "      <td>0.0</td>\n",
       "      <td>2506.0</td>\n",
       "      <td>413.0</td>\n",
       "      <td>0.0</td>\n",
       "      <td>248.0</td>\n",
       "      <td>224.0</td>\n",
       "      <td>0.0</td>\n",
       "      <td>22.0</td>\n",
       "      <td>2.0</td>\n",
       "      <td>13.0</td>\n",
       "      <td>5132.5</td>\n",
       "      <td>2436.0</td>\n",
       "      <td>1651.0</td>\n",
       "      <td>599.0</td>\n",
       "      <td>10082.0</td>\n",
       "      <td>4310.5</td>\n",
       "      <td>2954.5</td>\n",
       "      <td>2128.0</td>\n",
       "      <td>0.0</td>\n",
       "      <td>0.0</td>\n",
       "    </tr>\n",
       "    <tr>\n",
       "      <th>3</th>\n",
       "      <td>0.0</td>\n",
       "      <td>4267.0</td>\n",
       "      <td>674.0</td>\n",
       "      <td>0.0</td>\n",
       "      <td>335.0</td>\n",
       "      <td>380.0</td>\n",
       "      <td>1.0</td>\n",
       "      <td>34.0</td>\n",
       "      <td>4.0</td>\n",
       "      <td>28.0</td>\n",
       "      <td>13152.0</td>\n",
       "      <td>8272.0</td>\n",
       "      <td>2590.0</td>\n",
       "      <td>920.0</td>\n",
       "      <td>43418.0</td>\n",
       "      <td>23040.0</td>\n",
       "      <td>9687.0</td>\n",
       "      <td>12420.0</td>\n",
       "      <td>0.0</td>\n",
       "      <td>0.0</td>\n",
       "    </tr>\n",
       "    <tr>\n",
       "      <th>4</th>\n",
       "      <td>0.0</td>\n",
       "      <td>2864.0</td>\n",
       "      <td>427.0</td>\n",
       "      <td>4.0</td>\n",
       "      <td>542.0</td>\n",
       "      <td>170.0</td>\n",
       "      <td>5.0</td>\n",
       "      <td>15.0</td>\n",
       "      <td>2.0</td>\n",
       "      <td>21.0</td>\n",
       "      <td>5489.5</td>\n",
       "      <td>3031.5</td>\n",
       "      <td>1439.0</td>\n",
       "      <td>461.0</td>\n",
       "      <td>11819.0</td>\n",
       "      <td>5483.5</td>\n",
       "      <td>3220.5</td>\n",
       "      <td>2703.0</td>\n",
       "      <td>0.0</td>\n",
       "      <td>0.0</td>\n",
       "    </tr>\n",
       "    <tr>\n",
       "      <th>...</th>\n",
       "      <td>...</td>\n",
       "      <td>...</td>\n",
       "      <td>...</td>\n",
       "      <td>...</td>\n",
       "      <td>...</td>\n",
       "      <td>...</td>\n",
       "      <td>...</td>\n",
       "      <td>...</td>\n",
       "      <td>...</td>\n",
       "      <td>...</td>\n",
       "      <td>...</td>\n",
       "      <td>...</td>\n",
       "      <td>...</td>\n",
       "      <td>...</td>\n",
       "      <td>...</td>\n",
       "      <td>...</td>\n",
       "      <td>...</td>\n",
       "      <td>...</td>\n",
       "      <td>...</td>\n",
       "      <td>...</td>\n",
       "    </tr>\n",
       "    <tr>\n",
       "      <th>241</th>\n",
       "      <td>2.0</td>\n",
       "      <td>2142.0</td>\n",
       "      <td>363.0</td>\n",
       "      <td>2.0</td>\n",
       "      <td>703.0</td>\n",
       "      <td>377.0</td>\n",
       "      <td>2.0</td>\n",
       "      <td>19.0</td>\n",
       "      <td>0.0</td>\n",
       "      <td>22.0</td>\n",
       "      <td>5100.0</td>\n",
       "      <td>2989.0</td>\n",
       "      <td>1658.0</td>\n",
       "      <td>252.0</td>\n",
       "      <td>28135.0</td>\n",
       "      <td>8529.0</td>\n",
       "      <td>10946.0</td>\n",
       "      <td>2900.0</td>\n",
       "      <td>1.0</td>\n",
       "      <td>1.0</td>\n",
       "    </tr>\n",
       "    <tr>\n",
       "      <th>242</th>\n",
       "      <td>5.0</td>\n",
       "      <td>1369.0</td>\n",
       "      <td>151.0</td>\n",
       "      <td>3.0</td>\n",
       "      <td>503.0</td>\n",
       "      <td>156.0</td>\n",
       "      <td>4.0</td>\n",
       "      <td>28.0</td>\n",
       "      <td>4.0</td>\n",
       "      <td>32.0</td>\n",
       "      <td>3145.0</td>\n",
       "      <td>1932.0</td>\n",
       "      <td>896.0</td>\n",
       "      <td>146.0</td>\n",
       "      <td>23383.0</td>\n",
       "      <td>5895.0</td>\n",
       "      <td>6580.0</td>\n",
       "      <td>2216.0</td>\n",
       "      <td>3.0</td>\n",
       "      <td>3.0</td>\n",
       "    </tr>\n",
       "    <tr>\n",
       "      <th>243</th>\n",
       "      <td>8.0</td>\n",
       "      <td>1920.0</td>\n",
       "      <td>312.0</td>\n",
       "      <td>6.0</td>\n",
       "      <td>489.0</td>\n",
       "      <td>262.0</td>\n",
       "      <td>6.0</td>\n",
       "      <td>13.0</td>\n",
       "      <td>2.0</td>\n",
       "      <td>23.0</td>\n",
       "      <td>2871.0</td>\n",
       "      <td>1718.0</td>\n",
       "      <td>840.0</td>\n",
       "      <td>189.0</td>\n",
       "      <td>20331.0</td>\n",
       "      <td>3791.0</td>\n",
       "      <td>7160.0</td>\n",
       "      <td>1496.0</td>\n",
       "      <td>1.0</td>\n",
       "      <td>1.0</td>\n",
       "    </tr>\n",
       "    <tr>\n",
       "      <th>244</th>\n",
       "      <td>0.0</td>\n",
       "      <td>2876.0</td>\n",
       "      <td>537.0</td>\n",
       "      <td>0.0</td>\n",
       "      <td>732.0</td>\n",
       "      <td>465.0</td>\n",
       "      <td>0.0</td>\n",
       "      <td>32.0</td>\n",
       "      <td>8.0</td>\n",
       "      <td>41.0</td>\n",
       "      <td>7152.0</td>\n",
       "      <td>4908.0</td>\n",
       "      <td>1563.0</td>\n",
       "      <td>257.0</td>\n",
       "      <td>44003.0</td>\n",
       "      <td>15178.0</td>\n",
       "      <td>11882.0</td>\n",
       "      <td>6026.0</td>\n",
       "      <td>8.0</td>\n",
       "      <td>8.0</td>\n",
       "    </tr>\n",
       "    <tr>\n",
       "      <th>245</th>\n",
       "      <td>0.0</td>\n",
       "      <td>1354.0</td>\n",
       "      <td>187.0</td>\n",
       "      <td>0.0</td>\n",
       "      <td>464.0</td>\n",
       "      <td>142.0</td>\n",
       "      <td>0.0</td>\n",
       "      <td>22.0</td>\n",
       "      <td>4.0</td>\n",
       "      <td>26.0</td>\n",
       "      <td>4917.0</td>\n",
       "      <td>2834.0</td>\n",
       "      <td>1570.0</td>\n",
       "      <td>301.0</td>\n",
       "      <td>20962.0</td>\n",
       "      <td>6316.0</td>\n",
       "      <td>7359.0</td>\n",
       "      <td>1782.0</td>\n",
       "      <td>3.0</td>\n",
       "      <td>3.0</td>\n",
       "    </tr>\n",
       "  </tbody>\n",
       "</table>\n",
       "<p>246 rows × 20 columns</p>\n",
       "</div>"
      ],
      "text/plain": [
       "     mur_rob_cnt  5m_crm_yn  theft_violence_x  robber_murder_x  traffic_x  \\\n",
       "0            0.0     3275.0             572.0              4.0      347.0   \n",
       "1            0.0     2914.0             525.0              2.0      202.0   \n",
       "2            0.0     2506.0             413.0              0.0      248.0   \n",
       "3            0.0     4267.0             674.0              0.0      335.0   \n",
       "4            0.0     2864.0             427.0              4.0      542.0   \n",
       "..           ...        ...               ...              ...        ...   \n",
       "241          2.0     2142.0             363.0              2.0      703.0   \n",
       "242          5.0     1369.0             151.0              3.0      503.0   \n",
       "243          8.0     1920.0             312.0              6.0      489.0   \n",
       "244          0.0     2876.0             537.0              0.0      732.0   \n",
       "245          0.0     1354.0             187.0              0.0      464.0   \n",
       "\n",
       "     theft_violence_y  robber_murder_y  가해_70대  가해_80대이상  피해_70대   for_합계  \\\n",
       "0               236.0              3.0    22.0       2.0    20.0   5132.5   \n",
       "1               208.0              4.0    23.0       1.0    16.0   5489.5   \n",
       "2               224.0              0.0    22.0       2.0    13.0   5132.5   \n",
       "3               380.0              1.0    34.0       4.0    28.0  13152.0   \n",
       "4               170.0              5.0    15.0       2.0    21.0   5489.5   \n",
       "..                ...              ...     ...       ...     ...      ...   \n",
       "241             377.0              2.0    19.0       0.0    22.0   5100.0   \n",
       "242             156.0              4.0    28.0       4.0    32.0   3145.0   \n",
       "243             262.0              6.0    13.0       2.0    23.0   2871.0   \n",
       "244             465.0              0.0    32.0       8.0    41.0   7152.0   \n",
       "245             142.0              0.0    22.0       4.0    26.0   4917.0   \n",
       "\n",
       "     for_2030  for_4050  for_o60  single_합계  single_2030  single_4050  \\\n",
       "0      2436.0    1651.0    599.0    10082.0       4310.5       2954.5   \n",
       "1      3031.5    1439.0    461.0    11819.0       5483.5       3220.5   \n",
       "2      2436.0    1651.0    599.0    10082.0       4310.5       2954.5   \n",
       "3      8272.0    2590.0    920.0    43418.0      23040.0       9687.0   \n",
       "4      3031.5    1439.0    461.0    11819.0       5483.5       3220.5   \n",
       "..        ...       ...      ...        ...          ...          ...   \n",
       "241    2989.0    1658.0    252.0    28135.0       8529.0      10946.0   \n",
       "242    1932.0     896.0    146.0    23383.0       5895.0       6580.0   \n",
       "243    1718.0     840.0    189.0    20331.0       3791.0       7160.0   \n",
       "244    4908.0    1563.0    257.0    44003.0      15178.0      11882.0   \n",
       "245    2834.0    1570.0    301.0    20962.0       6316.0       7359.0   \n",
       "\n",
       "     single_f_2030  adult  bell  \n",
       "0           2128.0    0.0   0.0  \n",
       "1           2703.0    2.0   2.0  \n",
       "2           2128.0    0.0   0.0  \n",
       "3          12420.0    0.0   0.0  \n",
       "4           2703.0    0.0   0.0  \n",
       "..             ...    ...   ...  \n",
       "241         2900.0    1.0   1.0  \n",
       "242         2216.0    3.0   3.0  \n",
       "243         1496.0    1.0   1.0  \n",
       "244         6026.0    8.0   8.0  \n",
       "245         1782.0    3.0   3.0  \n",
       "\n",
       "[246 rows x 20 columns]"
      ]
     },
     "execution_count": 70,
     "metadata": {},
     "output_type": "execute_result"
    }
   ],
   "source": [
    "a_3"
   ]
  },
  {
   "cell_type": "code",
   "execution_count": 61,
   "id": "1756fa6a",
   "metadata": {
    "ExecuteTime": {
     "end_time": "2021-12-03T05:38:29.576144Z",
     "start_time": "2021-12-03T05:38:29.562721Z"
    }
   },
   "outputs": [
    {
     "name": "stdout",
     "output_type": "stream",
     "text": [
      "alpha = 10.0\n",
      "[ 0.21624028  0.12592228  0.3190131   0.19336056 -0.70579677  0.0059256\n",
      " -0.19674682  0.31557333  0.03671959  0.77069339 -0.02959518 -0.23380886\n",
      " -0.09572811 -0.07311277 -0.36421171 -0.09437374 -0.78352849  0.3959786\n",
      " -0.04172947 -0.04172947]\n",
      "가장 강한 양의 상관관계:  피해_70대 \n",
      "가장 강한 음의 상관관계:  single_4050\n"
     ]
    }
   ],
   "source": [
    "# 결과\n",
    "\n",
    "print('alpha =', ela3.alpha)\n",
    "print(ela3.coef_) # Ridge 회귀분석으로 나온 weghit값\n",
    "print('가장 강한 양의 상관관계: ',a_3.columns[ela3.coef_.argmax()], '\\n가장 강한 음의 상관관계: ', a_3.columns[ela3.coef_.argmin()])"
   ]
  },
  {
   "cell_type": "markdown",
   "id": "745d4226",
   "metadata": {},
   "source": [
    "#### q4 법질서 준수도"
   ]
  },
  {
   "cell_type": "code",
   "execution_count": 63,
   "id": "440b790c",
   "metadata": {
    "ExecuteTime": {
     "end_time": "2021-12-03T05:39:20.608090Z",
     "start_time": "2021-12-03T05:38:30.253877Z"
    }
   },
   "outputs": [],
   "source": [
    "# 그리드 서치 후 최고 성능의 모델을 lasso4에 저장\n",
    "\n",
    "grid_search.fit(xtrain4, ytrain4)\n",
    "ela4 = grid_search.best_estimator_"
   ]
  },
  {
   "cell_type": "code",
   "execution_count": 64,
   "id": "1f1455e3",
   "metadata": {
    "ExecuteTime": {
     "end_time": "2021-12-03T05:39:21.028158Z",
     "start_time": "2021-12-03T05:39:21.014490Z"
    }
   },
   "outputs": [
    {
     "data": {
      "text/plain": [
       "2.795917168141863"
      ]
     },
     "execution_count": 64,
     "metadata": {},
     "output_type": "execute_result"
    }
   ],
   "source": [
    "# MAE 출력\n",
    "\n",
    "y_pred4 = ela4.predict(xtest4)\n",
    "mean_absolute_error(ytest4, y_pred4)"
   ]
  },
  {
   "cell_type": "code",
   "execution_count": 65,
   "id": "6ddde85f",
   "metadata": {
    "ExecuteTime": {
     "end_time": "2021-12-03T05:39:21.418379Z",
     "start_time": "2021-12-03T05:39:21.404288Z"
    }
   },
   "outputs": [
    {
     "name": "stdout",
     "output_type": "stream",
     "text": [
      "alpha = 0.015\n",
      "[  1.40397838   3.32651762  -3.95447657   1.32606649   0.87357581\n",
      "  19.06272868  -7.20174739 -11.75072853  -1.31259922   1.59057826\n",
      "  -2.17829819]\n",
      "가장 강한 양의 상관관계:  for_합계 \n",
      "가장 강한 음의 상관관계:  for_4050\n"
     ]
    }
   ],
   "source": [
    "# 결과\n",
    "\n",
    "print('alpha =', ela4.alpha)\n",
    "print(ela4.coef_) # Ridge 회귀분석으로 나온 weghit값\n",
    "print('가장 강한 양의 상관관계: ',a_4.columns[ela4.coef_.argmax()], '\\n가장 강한 음의 상관관계: ', a_4.columns[ela4.coef_.argmin()])"
   ]
  },
  {
   "cell_type": "markdown",
   "id": "5510203c",
   "metadata": {},
   "source": [
    "#### q5 전반적 안전도"
   ]
  },
  {
   "cell_type": "code",
   "execution_count": 66,
   "id": "0cfe81a5",
   "metadata": {
    "ExecuteTime": {
     "end_time": "2021-12-03T05:40:16.161291Z",
     "start_time": "2021-12-03T05:39:21.779382Z"
    }
   },
   "outputs": [],
   "source": [
    "# 그리드 서치 후 최고 성능의 모델을 lasso4에 저장\n",
    "\n",
    "grid_search.fit(xtrain5, ytrain5)\n",
    "ela5 = grid_search.best_estimator_"
   ]
  },
  {
   "cell_type": "code",
   "execution_count": 67,
   "id": "c8ee961d",
   "metadata": {
    "ExecuteTime": {
     "end_time": "2021-12-03T05:40:16.568173Z",
     "start_time": "2021-12-03T05:40:16.554674Z"
    }
   },
   "outputs": [
    {
     "data": {
      "text/plain": [
       "2.58310588241684"
      ]
     },
     "execution_count": 67,
     "metadata": {},
     "output_type": "execute_result"
    }
   ],
   "source": [
    "# MAE 출력\n",
    "\n",
    "y_pred5 = ela5.predict(xtest5)\n",
    "mean_absolute_error(ytest5, y_pred5)"
   ]
  },
  {
   "cell_type": "code",
   "execution_count": 68,
   "id": "d96bc91b",
   "metadata": {
    "ExecuteTime": {
     "end_time": "2021-12-03T05:40:16.913685Z",
     "start_time": "2021-12-03T05:40:16.899090Z"
    }
   },
   "outputs": [
    {
     "name": "stdout",
     "output_type": "stream",
     "text": [
      "alpha = 2.784\n",
      "[-0.14374679 -1.17382511  1.1451641   0.54843345 -1.01090337 -0.29241338\n",
      "  1.45074236 -0.90454824 -0.13849791 -0.34822527  0.96295355  1.71312134\n",
      "  1.02626094 -0.70868639 -0.25506134 -0.35542069 -0.53520875  0.02738701\n",
      " -1.79811337 -0.90653411  0.73979661  0.31764956  0.04914378]\n",
      "가장 강한 양의 상관관계:  popu_o60 \n",
      "가장 강한 음의 상관관계:  single_4050\n"
     ]
    }
   ],
   "source": [
    "# 결과\n",
    "\n",
    "print('alpha =', ela5.alpha)\n",
    "print(ela5.coef_) # Ridge 회귀분석으로 나온 weghit값\n",
    "print('가장 강한 양의 상관관계: ',a_5.columns[ela5.coef_.argmax()], '\\n가장 강한 음의 상관관계: ', a_5.columns[ela5.coef_.argmin()])"
   ]
  },
  {
   "cell_type": "code",
   "execution_count": 69,
   "id": "10ee398a",
   "metadata": {
    "ExecuteTime": {
     "end_time": "2021-12-03T05:40:17.243582Z",
     "start_time": "2021-12-03T05:40:17.229570Z"
    }
   },
   "outputs": [
    {
     "name": "stdout",
     "output_type": "stream",
     "text": [
      "feature:  Index(['report_sx_여성', 'vio_cnt', 'theft_violence_x', 'robber_murder_x',\n",
      "       'theft_violence_y', 'robber_murder_y', '가해_여', '가해_10대이하', '피해_80대이상',\n",
      "       'for_합계', 'popu_2030', 'popu_o60', 'for_u20', 'for_2030', 'for_4050',\n",
      "       'for_o60', 'single_합계', 'single_2030', 'single_4050', 'single_o60',\n",
      "       'single_f_합계', 'single_f_4050', 'single_f_o60'],\n",
      "      dtype='object')\n"
     ]
    }
   ],
   "source": [
    "print('feature: ', a_5.columns[ela5.coef_ != 0])"
   ]
  },
  {
   "cell_type": "code",
   "execution_count": null,
   "id": "18095a7e",
   "metadata": {},
   "outputs": [],
   "source": []
  },
  {
   "cell_type": "code",
   "execution_count": null,
   "id": "b318f9ef",
   "metadata": {},
   "outputs": [],
   "source": []
  }
 ],
 "metadata": {
  "kernelspec": {
   "display_name": "Python 3",
   "language": "python",
   "name": "python3"
  },
  "language_info": {
   "codemirror_mode": {
    "name": "ipython",
    "version": 3
   },
   "file_extension": ".py",
   "mimetype": "text/x-python",
   "name": "python",
   "nbconvert_exporter": "python",
   "pygments_lexer": "ipython3",
   "version": "3.8.8"
  },
  "toc": {
   "base_numbering": 1,
   "nav_menu": {},
   "number_sections": true,
   "sideBar": true,
   "skip_h1_title": false,
   "title_cell": "Table of Contents",
   "title_sidebar": "Contents",
   "toc_cell": false,
   "toc_position": {},
   "toc_section_display": true,
   "toc_window_display": false
  },
  "varInspector": {
   "cols": {
    "lenName": 16,
    "lenType": 16,
    "lenVar": 40
   },
   "kernels_config": {
    "python": {
     "delete_cmd_postfix": "",
     "delete_cmd_prefix": "del ",
     "library": "var_list.py",
     "varRefreshCmd": "print(var_dic_list())"
    },
    "r": {
     "delete_cmd_postfix": ") ",
     "delete_cmd_prefix": "rm(",
     "library": "var_list.r",
     "varRefreshCmd": "cat(var_dic_list()) "
    }
   },
   "types_to_exclude": [
    "module",
    "function",
    "builtin_function_or_method",
    "instance",
    "_Feature"
   ],
   "window_display": false
  }
 },
 "nbformat": 4,
 "nbformat_minor": 5
}
