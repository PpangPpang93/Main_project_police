{
 "cells": [
  {
   "cell_type": "code",
   "execution_count": 4,
   "id": "7728bbaa",
   "metadata": {
    "ExecuteTime": {
     "end_time": "2021-12-06T07:38:12.624673Z",
     "start_time": "2021-12-06T07:38:12.609613Z"
    }
   },
   "outputs": [],
   "source": [
    "import pandas as pd\n",
    "import numpy as np\n",
    "#import matplotlib.pyplot as plt\n",
    "#import seaborn as sns"
   ]
  },
  {
   "cell_type": "code",
   "execution_count": 5,
   "id": "68f550bc",
   "metadata": {
    "ExecuteTime": {
     "end_time": "2021-12-06T07:38:13.128053Z",
     "start_time": "2021-12-06T07:38:13.083154Z"
    }
   },
   "outputs": [],
   "source": [
    "df = pd.read_csv('total_data.csv')"
   ]
  },
  {
   "cell_type": "markdown",
   "id": "21dbcb15",
   "metadata": {},
   "source": [
    "### xdata로 상관계수가 높은 column을 넣어서 Ridge\n",
    "- elasticnet으로 상관계수가 높은 feature를 넣어 모델생성"
   ]
  },
  {
   "cell_type": "code",
   "execution_count": 6,
   "id": "dc7a18a2",
   "metadata": {
    "ExecuteTime": {
     "end_time": "2021-12-06T07:38:13.720052Z",
     "start_time": "2021-12-06T07:38:13.706084Z"
    }
   },
   "outputs": [],
   "source": [
    "# 필요 패키지 로드\n",
    "#from sklearn.preprocessing import MinMaxScaler\n",
    "from sklearn.preprocessing import StandardScaler\n",
    "from sklearn.linear_model import Lasso\n",
    "from sklearn.metrics import mean_absolute_error"
   ]
  },
  {
   "cell_type": "code",
   "execution_count": 7,
   "id": "ac15d59f",
   "metadata": {
    "ExecuteTime": {
     "end_time": "2021-12-06T07:38:14.115648Z",
     "start_time": "2021-12-06T07:38:14.059006Z"
    }
   },
   "outputs": [
    {
     "data": {
      "text/html": [
       "<div>\n",
       "<style scoped>\n",
       "    .dataframe tbody tr th:only-of-type {\n",
       "        vertical-align: middle;\n",
       "    }\n",
       "\n",
       "    .dataframe tbody tr th {\n",
       "        vertical-align: top;\n",
       "    }\n",
       "\n",
       "    .dataframe thead th {\n",
       "        text-align: right;\n",
       "    }\n",
       "</style>\n",
       "<table border=\"1\" class=\"dataframe\">\n",
       "  <thead>\n",
       "    <tr style=\"text-align: right;\">\n",
       "      <th></th>\n",
       "      <th>jur_stn</th>\n",
       "      <th>year</th>\n",
       "      <th>child</th>\n",
       "      <th>house</th>\n",
       "      <th>report_sx_total</th>\n",
       "      <th>vio_cnt</th>\n",
       "      <th>mur_rob_cnt</th>\n",
       "      <th>car_cnt</th>\n",
       "      <th>popu_합계</th>\n",
       "      <th>for_합계</th>\n",
       "      <th>...</th>\n",
       "      <th>vic_w</th>\n",
       "      <th>vic_unknown</th>\n",
       "      <th>case_car_man</th>\n",
       "      <th>case_car_car</th>\n",
       "      <th>case_car_only</th>\n",
       "      <th>q1</th>\n",
       "      <th>q2</th>\n",
       "      <th>q3</th>\n",
       "      <th>q4</th>\n",
       "      <th>q5</th>\n",
       "    </tr>\n",
       "  </thead>\n",
       "  <tbody>\n",
       "    <tr>\n",
       "      <th>0</th>\n",
       "      <td>서울중부경찰서</td>\n",
       "      <td>2017(상반기)</td>\n",
       "      <td>39.0</td>\n",
       "      <td>97.0</td>\n",
       "      <td>22574.0</td>\n",
       "      <td>1324.0</td>\n",
       "      <td>0.0</td>\n",
       "      <td>1412.0</td>\n",
       "      <td>63948.0</td>\n",
       "      <td>5132.5</td>\n",
       "      <td>...</td>\n",
       "      <td>0.241636</td>\n",
       "      <td>0.022305</td>\n",
       "      <td>0.274074</td>\n",
       "      <td>0.703704</td>\n",
       "      <td>0.022222</td>\n",
       "      <td>75.2</td>\n",
       "      <td>76.5</td>\n",
       "      <td>69.9</td>\n",
       "      <td>65.9</td>\n",
       "      <td>72.6</td>\n",
       "    </tr>\n",
       "    <tr>\n",
       "      <th>1</th>\n",
       "      <td>서울종로경찰서</td>\n",
       "      <td>2017(상반기)</td>\n",
       "      <td>46.0</td>\n",
       "      <td>98.0</td>\n",
       "      <td>19674.0</td>\n",
       "      <td>1102.0</td>\n",
       "      <td>0.0</td>\n",
       "      <td>867.0</td>\n",
       "      <td>78638.5</td>\n",
       "      <td>5489.5</td>\n",
       "      <td>...</td>\n",
       "      <td>0.262745</td>\n",
       "      <td>0.039216</td>\n",
       "      <td>0.282353</td>\n",
       "      <td>0.682353</td>\n",
       "      <td>0.035294</td>\n",
       "      <td>81.6</td>\n",
       "      <td>82.4</td>\n",
       "      <td>69.1</td>\n",
       "      <td>62.7</td>\n",
       "      <td>72.2</td>\n",
       "    </tr>\n",
       "    <tr>\n",
       "      <th>2</th>\n",
       "      <td>서울남대문경찰서</td>\n",
       "      <td>2017(상반기)</td>\n",
       "      <td>39.0</td>\n",
       "      <td>97.0</td>\n",
       "      <td>14499.0</td>\n",
       "      <td>949.0</td>\n",
       "      <td>0.0</td>\n",
       "      <td>736.0</td>\n",
       "      <td>63948.0</td>\n",
       "      <td>5132.5</td>\n",
       "      <td>...</td>\n",
       "      <td>0.203922</td>\n",
       "      <td>0.043137</td>\n",
       "      <td>0.247059</td>\n",
       "      <td>0.713725</td>\n",
       "      <td>0.039216</td>\n",
       "      <td>77.3</td>\n",
       "      <td>79.3</td>\n",
       "      <td>68.8</td>\n",
       "      <td>61.0</td>\n",
       "      <td>71.7</td>\n",
       "    </tr>\n",
       "    <tr>\n",
       "      <th>3</th>\n",
       "      <td>서울서대문경찰서</td>\n",
       "      <td>2017(상반기)</td>\n",
       "      <td>39.0</td>\n",
       "      <td>98.0</td>\n",
       "      <td>38769.0</td>\n",
       "      <td>1924.0</td>\n",
       "      <td>0.0</td>\n",
       "      <td>1788.0</td>\n",
       "      <td>321345.0</td>\n",
       "      <td>13152.0</td>\n",
       "      <td>...</td>\n",
       "      <td>0.243697</td>\n",
       "      <td>0.044118</td>\n",
       "      <td>0.266807</td>\n",
       "      <td>0.691176</td>\n",
       "      <td>0.042017</td>\n",
       "      <td>78.0</td>\n",
       "      <td>80.0</td>\n",
       "      <td>67.0</td>\n",
       "      <td>66.3</td>\n",
       "      <td>71.4</td>\n",
       "    </tr>\n",
       "    <tr>\n",
       "      <th>4</th>\n",
       "      <td>서울혜화경찰서</td>\n",
       "      <td>2017(상반기)</td>\n",
       "      <td>46.0</td>\n",
       "      <td>98.0</td>\n",
       "      <td>18857.0</td>\n",
       "      <td>1127.0</td>\n",
       "      <td>0.0</td>\n",
       "      <td>899.0</td>\n",
       "      <td>78638.5</td>\n",
       "      <td>5489.5</td>\n",
       "      <td>...</td>\n",
       "      <td>0.217054</td>\n",
       "      <td>0.046512</td>\n",
       "      <td>0.262548</td>\n",
       "      <td>0.694981</td>\n",
       "      <td>0.042471</td>\n",
       "      <td>78.6</td>\n",
       "      <td>80.6</td>\n",
       "      <td>70.7</td>\n",
       "      <td>65.2</td>\n",
       "      <td>75.4</td>\n",
       "    </tr>\n",
       "    <tr>\n",
       "      <th>...</th>\n",
       "      <td>...</td>\n",
       "      <td>...</td>\n",
       "      <td>...</td>\n",
       "      <td>...</td>\n",
       "      <td>...</td>\n",
       "      <td>...</td>\n",
       "      <td>...</td>\n",
       "      <td>...</td>\n",
       "      <td>...</td>\n",
       "      <td>...</td>\n",
       "      <td>...</td>\n",
       "      <td>...</td>\n",
       "      <td>...</td>\n",
       "      <td>...</td>\n",
       "      <td>...</td>\n",
       "      <td>...</td>\n",
       "      <td>...</td>\n",
       "      <td>...</td>\n",
       "      <td>...</td>\n",
       "      <td>...</td>\n",
       "      <td>...</td>\n",
       "    </tr>\n",
       "    <tr>\n",
       "      <th>241</th>\n",
       "      <td>창원서부경찰서</td>\n",
       "      <td>2019(하반기)</td>\n",
       "      <td>44.0</td>\n",
       "      <td>87.0</td>\n",
       "      <td>22771.0</td>\n",
       "      <td>1460.0</td>\n",
       "      <td>2.0</td>\n",
       "      <td>1964.0</td>\n",
       "      <td>256001.0</td>\n",
       "      <td>5100.0</td>\n",
       "      <td>...</td>\n",
       "      <td>0.286982</td>\n",
       "      <td>0.047337</td>\n",
       "      <td>0.218935</td>\n",
       "      <td>0.733728</td>\n",
       "      <td>0.047337</td>\n",
       "      <td>79.1</td>\n",
       "      <td>79.5</td>\n",
       "      <td>68.5</td>\n",
       "      <td>71.2</td>\n",
       "      <td>76.0</td>\n",
       "    </tr>\n",
       "    <tr>\n",
       "      <th>242</th>\n",
       "      <td>마산중부경찰서</td>\n",
       "      <td>2019(하반기)</td>\n",
       "      <td>37.0</td>\n",
       "      <td>88.0</td>\n",
       "      <td>21264.0</td>\n",
       "      <td>1265.0</td>\n",
       "      <td>5.0</td>\n",
       "      <td>1584.0</td>\n",
       "      <td>177579.0</td>\n",
       "      <td>3145.0</td>\n",
       "      <td>...</td>\n",
       "      <td>0.280000</td>\n",
       "      <td>0.092308</td>\n",
       "      <td>0.258462</td>\n",
       "      <td>0.649231</td>\n",
       "      <td>0.092308</td>\n",
       "      <td>80.8</td>\n",
       "      <td>80.0</td>\n",
       "      <td>70.8</td>\n",
       "      <td>73.2</td>\n",
       "      <td>76.5</td>\n",
       "    </tr>\n",
       "    <tr>\n",
       "      <th>243</th>\n",
       "      <td>마산동부경찰서</td>\n",
       "      <td>2019(하반기)</td>\n",
       "      <td>44.0</td>\n",
       "      <td>86.0</td>\n",
       "      <td>26014.0</td>\n",
       "      <td>1715.0</td>\n",
       "      <td>8.0</td>\n",
       "      <td>1910.0</td>\n",
       "      <td>192446.0</td>\n",
       "      <td>2871.0</td>\n",
       "      <td>...</td>\n",
       "      <td>0.345679</td>\n",
       "      <td>0.032922</td>\n",
       "      <td>0.345679</td>\n",
       "      <td>0.621399</td>\n",
       "      <td>0.032922</td>\n",
       "      <td>75.0</td>\n",
       "      <td>76.5</td>\n",
       "      <td>69.4</td>\n",
       "      <td>68.9</td>\n",
       "      <td>73.1</td>\n",
       "    </tr>\n",
       "    <tr>\n",
       "      <th>244</th>\n",
       "      <td>진주경찰서</td>\n",
       "      <td>2019(하반기)</td>\n",
       "      <td>64.0</td>\n",
       "      <td>92.0</td>\n",
       "      <td>38557.0</td>\n",
       "      <td>2552.0</td>\n",
       "      <td>0.0</td>\n",
       "      <td>3570.0</td>\n",
       "      <td>354166.0</td>\n",
       "      <td>7152.0</td>\n",
       "      <td>...</td>\n",
       "      <td>0.357320</td>\n",
       "      <td>0.057072</td>\n",
       "      <td>0.357320</td>\n",
       "      <td>0.588089</td>\n",
       "      <td>0.054591</td>\n",
       "      <td>78.7</td>\n",
       "      <td>79.6</td>\n",
       "      <td>70.3</td>\n",
       "      <td>74.6</td>\n",
       "      <td>75.6</td>\n",
       "    </tr>\n",
       "    <tr>\n",
       "      <th>245</th>\n",
       "      <td>진해경찰서</td>\n",
       "      <td>2019(하반기)</td>\n",
       "      <td>37.0</td>\n",
       "      <td>89.0</td>\n",
       "      <td>20320.0</td>\n",
       "      <td>1444.0</td>\n",
       "      <td>0.0</td>\n",
       "      <td>1692.0</td>\n",
       "      <td>190885.0</td>\n",
       "      <td>4917.0</td>\n",
       "      <td>...</td>\n",
       "      <td>0.287982</td>\n",
       "      <td>0.049887</td>\n",
       "      <td>0.201814</td>\n",
       "      <td>0.752834</td>\n",
       "      <td>0.045351</td>\n",
       "      <td>76.6</td>\n",
       "      <td>79.2</td>\n",
       "      <td>67.0</td>\n",
       "      <td>70.9</td>\n",
       "      <td>73.5</td>\n",
       "    </tr>\n",
       "  </tbody>\n",
       "</table>\n",
       "<p>246 rows × 67 columns</p>\n",
       "</div>"
      ],
      "text/plain": [
       "      jur_stn       year  child  house  report_sx_total  vio_cnt  mur_rob_cnt  \\\n",
       "0     서울중부경찰서  2017(상반기)   39.0   97.0          22574.0   1324.0          0.0   \n",
       "1     서울종로경찰서  2017(상반기)   46.0   98.0          19674.0   1102.0          0.0   \n",
       "2    서울남대문경찰서  2017(상반기)   39.0   97.0          14499.0    949.0          0.0   \n",
       "3    서울서대문경찰서  2017(상반기)   39.0   98.0          38769.0   1924.0          0.0   \n",
       "4     서울혜화경찰서  2017(상반기)   46.0   98.0          18857.0   1127.0          0.0   \n",
       "..        ...        ...    ...    ...              ...      ...          ...   \n",
       "241   창원서부경찰서  2019(하반기)   44.0   87.0          22771.0   1460.0          2.0   \n",
       "242   마산중부경찰서  2019(하반기)   37.0   88.0          21264.0   1265.0          5.0   \n",
       "243   마산동부경찰서  2019(하반기)   44.0   86.0          26014.0   1715.0          8.0   \n",
       "244     진주경찰서  2019(하반기)   64.0   92.0          38557.0   2552.0          0.0   \n",
       "245     진해경찰서  2019(하반기)   37.0   89.0          20320.0   1444.0          0.0   \n",
       "\n",
       "     car_cnt   popu_합계   for_합계  ...     vic_w  vic_unknown  case_car_man  \\\n",
       "0     1412.0   63948.0   5132.5  ...  0.241636     0.022305      0.274074   \n",
       "1      867.0   78638.5   5489.5  ...  0.262745     0.039216      0.282353   \n",
       "2      736.0   63948.0   5132.5  ...  0.203922     0.043137      0.247059   \n",
       "3     1788.0  321345.0  13152.0  ...  0.243697     0.044118      0.266807   \n",
       "4      899.0   78638.5   5489.5  ...  0.217054     0.046512      0.262548   \n",
       "..       ...       ...      ...  ...       ...          ...           ...   \n",
       "241   1964.0  256001.0   5100.0  ...  0.286982     0.047337      0.218935   \n",
       "242   1584.0  177579.0   3145.0  ...  0.280000     0.092308      0.258462   \n",
       "243   1910.0  192446.0   2871.0  ...  0.345679     0.032922      0.345679   \n",
       "244   3570.0  354166.0   7152.0  ...  0.357320     0.057072      0.357320   \n",
       "245   1692.0  190885.0   4917.0  ...  0.287982     0.049887      0.201814   \n",
       "\n",
       "     case_car_car  case_car_only    q1    q2    q3    q4    q5  \n",
       "0        0.703704       0.022222  75.2  76.5  69.9  65.9  72.6  \n",
       "1        0.682353       0.035294  81.6  82.4  69.1  62.7  72.2  \n",
       "2        0.713725       0.039216  77.3  79.3  68.8  61.0  71.7  \n",
       "3        0.691176       0.042017  78.0  80.0  67.0  66.3  71.4  \n",
       "4        0.694981       0.042471  78.6  80.6  70.7  65.2  75.4  \n",
       "..            ...            ...   ...   ...   ...   ...   ...  \n",
       "241      0.733728       0.047337  79.1  79.5  68.5  71.2  76.0  \n",
       "242      0.649231       0.092308  80.8  80.0  70.8  73.2  76.5  \n",
       "243      0.621399       0.032922  75.0  76.5  69.4  68.9  73.1  \n",
       "244      0.588089       0.054591  78.7  79.6  70.3  74.6  75.6  \n",
       "245      0.752834       0.045351  76.6  79.2  67.0  70.9  73.5  \n",
       "\n",
       "[246 rows x 67 columns]"
      ]
     },
     "execution_count": 7,
     "metadata": {},
     "output_type": "execute_result"
    }
   ],
   "source": [
    "# y값인 q1-q5가 결측인 2020년 데이터 제거\n",
    "a = df[0:-82]\n",
    "a"
   ]
  },
  {
   "cell_type": "code",
   "execution_count": 8,
   "id": "56e4c73a",
   "metadata": {
    "ExecuteTime": {
     "end_time": "2021-12-06T07:38:14.404606Z",
     "start_time": "2021-12-06T07:38:14.388651Z"
    }
   },
   "outputs": [
    {
     "name": "stderr",
     "output_type": "stream",
     "text": [
      "C:\\Anaconda3\\lib\\site-packages\\pandas\\core\\frame.py:4906: SettingWithCopyWarning: \n",
      "A value is trying to be set on a copy of a slice from a DataFrame\n",
      "\n",
      "See the caveats in the documentation: https://pandas.pydata.org/pandas-docs/stable/user_guide/indexing.html#returning-a-view-versus-a-copy\n",
      "  return super().drop(\n"
     ]
    }
   ],
   "source": [
    "# 경찰서와 연도 데이터 제거\n",
    "a.drop(columns = ['jur_stn', 'year'], inplace = True)"
   ]
  },
  {
   "cell_type": "code",
   "execution_count": 9,
   "id": "9bf59750",
   "metadata": {
    "ExecuteTime": {
     "end_time": "2021-12-06T07:38:14.708279Z",
     "start_time": "2021-12-06T07:38:14.690273Z"
    }
   },
   "outputs": [],
   "source": [
    "a_ = a.drop(columns = ['q1', 'q2', 'q3', 'q4', 'q5'])"
   ]
  },
  {
   "cell_type": "code",
   "execution_count": 10,
   "id": "d1fb07ad",
   "metadata": {
    "ExecuteTime": {
     "end_time": "2021-12-06T07:38:15.629378Z",
     "start_time": "2021-12-06T07:38:15.616175Z"
    }
   },
   "outputs": [
    {
     "data": {
      "text/plain": [
       "Index(['child', 'house', 'report_sx_total', 'vio_cnt', 'mur_rob_cnt',\n",
       "       'car_cnt', 'popu_합계', 'for_합계', 'popu_u20', 'popu_o60', 'for_u20',\n",
       "       'for_2030', 'single_합계', 'single_u20', 'single_2030', 'single_4050',\n",
       "       'single_o60', 'single_f_합계', 'single_f_u20', 'single_f_2030',\n",
       "       'single_f_4050', 'single_f_o60', 'popu_2050', 'for_o40', '총범죄발생대비검거수',\n",
       "       '절도폭력범죄발생대비검거수', '강도살인범죄발생대비검거수', '교통사고범죄발생대비검거수', '기초질서범죄발생대비검거수',\n",
       "       '인구수대비검거수', '외국인인구수대비검거수', '인구수대비경찰수', 'before_q1', 'before_q2',\n",
       "       'before_q3', 'before_q4', 'before_q5', 'light_r', 'cctv_r', 'adult_r',\n",
       "       'bell_r', 'ofn_10', 'ofn_20', 'ofn_340', 'ofn_5670', 'ofn_80ov',\n",
       "       'ofn_m', 'ofn_w', 'ofn_unknown', 'vic_10', 'vic_20', 'vic_340',\n",
       "       'vic_5670', 'vic_80ov', 'vic_m', 'vic_w', 'vic_unknown', 'case_car_man',\n",
       "       'case_car_car', 'case_car_only'],\n",
       "      dtype='object')"
      ]
     },
     "execution_count": 10,
     "metadata": {},
     "output_type": "execute_result"
    }
   ],
   "source": [
    "a_.columns"
   ]
  },
  {
   "cell_type": "code",
   "execution_count": 11,
   "id": "11c9857d",
   "metadata": {
    "ExecuteTime": {
     "end_time": "2021-12-06T07:38:15.992511Z",
     "start_time": "2021-12-06T07:38:15.977539Z"
    }
   },
   "outputs": [],
   "source": [
    "a_1 = a_"
   ]
  },
  {
   "cell_type": "code",
   "execution_count": 12,
   "id": "d92d0762",
   "metadata": {
    "ExecuteTime": {
     "end_time": "2021-12-06T07:38:16.501636Z",
     "start_time": "2021-12-06T07:38:16.496655Z"
    }
   },
   "outputs": [],
   "source": [
    "a_2 = a_"
   ]
  },
  {
   "cell_type": "code",
   "execution_count": 13,
   "id": "3d9c9614",
   "metadata": {
    "ExecuteTime": {
     "end_time": "2021-12-06T07:38:16.714517Z",
     "start_time": "2021-12-06T07:38:16.703515Z"
    }
   },
   "outputs": [],
   "source": [
    "a_3 = a_"
   ]
  },
  {
   "cell_type": "code",
   "execution_count": 14,
   "id": "49bf8fea",
   "metadata": {
    "ExecuteTime": {
     "end_time": "2021-12-06T07:38:16.894262Z",
     "start_time": "2021-12-06T07:38:16.882288Z"
    }
   },
   "outputs": [],
   "source": [
    "a_4 = a_"
   ]
  },
  {
   "cell_type": "code",
   "execution_count": 15,
   "id": "7758a745",
   "metadata": {
    "ExecuteTime": {
     "end_time": "2021-12-06T07:38:17.329515Z",
     "start_time": "2021-12-06T07:38:17.323527Z"
    }
   },
   "outputs": [],
   "source": [
    "a_5 = a_"
   ]
  },
  {
   "cell_type": "code",
   "execution_count": 16,
   "id": "a955d41d",
   "metadata": {
    "ExecuteTime": {
     "end_time": "2021-12-06T07:38:17.738586Z",
     "start_time": "2021-12-06T07:38:17.714198Z"
    }
   },
   "outputs": [
    {
     "data": {
      "text/plain": [
       "array([[-1.16204451, -1.00794068, -0.94618196, ...,  0.39434438,\n",
       "        -0.11566933, -0.96802532],\n",
       "       [-0.81221223, -0.8173539 , -1.12728457, ...,  0.56656445,\n",
       "        -0.52850194,  0.00726295],\n",
       "       [-1.16204451, -1.00794068, -1.45045906, ..., -0.16763689,\n",
       "         0.07810924,  0.29984943],\n",
       "       ...,\n",
       "       [-0.91216431, -3.10439533, -0.73135679, ...,  1.88389689,\n",
       "        -1.70708755, -0.16973381],\n",
       "       [ 0.08735649, -1.96087461,  0.05194325, ...,  2.1260591 ,\n",
       "        -2.35115781,  1.44696268],\n",
       "       [-1.26199659, -2.53263497, -1.0869424 , ..., -1.10883527,\n",
       "         0.83430992,  0.7576378 ]])"
      ]
     },
     "execution_count": 16,
     "metadata": {},
     "output_type": "execute_result"
    }
   ],
   "source": [
    "# StandardScaling\n",
    "scaler1 = StandardScaler()\n",
    "scaler1.fit(a_1) # scaler에 xdata 학습\n",
    "a_s1 = scaler1.transform(a_1)\n",
    "a_s1"
   ]
  },
  {
   "cell_type": "code",
   "execution_count": 17,
   "id": "90b38ba9",
   "metadata": {
    "ExecuteTime": {
     "end_time": "2021-12-06T07:38:18.114596Z",
     "start_time": "2021-12-06T07:38:18.095649Z"
    }
   },
   "outputs": [
    {
     "data": {
      "text/plain": [
       "array([[-1.16204451, -1.00794068, -0.94618196, ...,  0.39434438,\n",
       "        -0.11566933, -0.96802532],\n",
       "       [-0.81221223, -0.8173539 , -1.12728457, ...,  0.56656445,\n",
       "        -0.52850194,  0.00726295],\n",
       "       [-1.16204451, -1.00794068, -1.45045906, ..., -0.16763689,\n",
       "         0.07810924,  0.29984943],\n",
       "       ...,\n",
       "       [-0.91216431, -3.10439533, -0.73135679, ...,  1.88389689,\n",
       "        -1.70708755, -0.16973381],\n",
       "       [ 0.08735649, -1.96087461,  0.05194325, ...,  2.1260591 ,\n",
       "        -2.35115781,  1.44696268],\n",
       "       [-1.26199659, -2.53263497, -1.0869424 , ..., -1.10883527,\n",
       "         0.83430992,  0.7576378 ]])"
      ]
     },
     "execution_count": 17,
     "metadata": {},
     "output_type": "execute_result"
    }
   ],
   "source": [
    "# StandardScaling\n",
    "scaler2 = StandardScaler()\n",
    "scaler2.fit(a_2) # scaler에 xdata 학습\n",
    "a_s2 = scaler2.transform(a_2)\n",
    "a_s2"
   ]
  },
  {
   "cell_type": "code",
   "execution_count": 18,
   "id": "d7e85ed2",
   "metadata": {
    "ExecuteTime": {
     "end_time": "2021-12-06T07:38:18.476276Z",
     "start_time": "2021-12-06T07:38:18.448349Z"
    }
   },
   "outputs": [
    {
     "data": {
      "text/plain": [
       "array([[-1.16204451, -1.00794068, -0.94618196, ...,  0.39434438,\n",
       "        -0.11566933, -0.96802532],\n",
       "       [-0.81221223, -0.8173539 , -1.12728457, ...,  0.56656445,\n",
       "        -0.52850194,  0.00726295],\n",
       "       [-1.16204451, -1.00794068, -1.45045906, ..., -0.16763689,\n",
       "         0.07810924,  0.29984943],\n",
       "       ...,\n",
       "       [-0.91216431, -3.10439533, -0.73135679, ...,  1.88389689,\n",
       "        -1.70708755, -0.16973381],\n",
       "       [ 0.08735649, -1.96087461,  0.05194325, ...,  2.1260591 ,\n",
       "        -2.35115781,  1.44696268],\n",
       "       [-1.26199659, -2.53263497, -1.0869424 , ..., -1.10883527,\n",
       "         0.83430992,  0.7576378 ]])"
      ]
     },
     "execution_count": 18,
     "metadata": {},
     "output_type": "execute_result"
    }
   ],
   "source": [
    "# StandardScaling\n",
    "scaler3 = StandardScaler()\n",
    "scaler3.fit(a_3) # scaler에 xdata 학습\n",
    "a_s3 = scaler3.transform(a_3)\n",
    "a_s3"
   ]
  },
  {
   "cell_type": "code",
   "execution_count": 19,
   "id": "ec00e970",
   "metadata": {
    "ExecuteTime": {
     "end_time": "2021-12-06T07:38:18.776085Z",
     "start_time": "2021-12-06T07:38:18.755178Z"
    }
   },
   "outputs": [
    {
     "data": {
      "text/plain": [
       "array([[-1.16204451, -1.00794068, -0.94618196, ...,  0.39434438,\n",
       "        -0.11566933, -0.96802532],\n",
       "       [-0.81221223, -0.8173539 , -1.12728457, ...,  0.56656445,\n",
       "        -0.52850194,  0.00726295],\n",
       "       [-1.16204451, -1.00794068, -1.45045906, ..., -0.16763689,\n",
       "         0.07810924,  0.29984943],\n",
       "       ...,\n",
       "       [-0.91216431, -3.10439533, -0.73135679, ...,  1.88389689,\n",
       "        -1.70708755, -0.16973381],\n",
       "       [ 0.08735649, -1.96087461,  0.05194325, ...,  2.1260591 ,\n",
       "        -2.35115781,  1.44696268],\n",
       "       [-1.26199659, -2.53263497, -1.0869424 , ..., -1.10883527,\n",
       "         0.83430992,  0.7576378 ]])"
      ]
     },
     "execution_count": 19,
     "metadata": {},
     "output_type": "execute_result"
    }
   ],
   "source": [
    "# StandardScaling\n",
    "scaler4 = StandardScaler()\n",
    "scaler4.fit(a_4) # scaler에 xdata 학습\n",
    "a_s4 = scaler4.transform(a_4)\n",
    "a_s4"
   ]
  },
  {
   "cell_type": "code",
   "execution_count": 20,
   "id": "8080874f",
   "metadata": {
    "ExecuteTime": {
     "end_time": "2021-12-06T07:38:19.091191Z",
     "start_time": "2021-12-06T07:38:19.071063Z"
    }
   },
   "outputs": [
    {
     "data": {
      "text/plain": [
       "array([[-1.16204451, -1.00794068, -0.94618196, ...,  0.39434438,\n",
       "        -0.11566933, -0.96802532],\n",
       "       [-0.81221223, -0.8173539 , -1.12728457, ...,  0.56656445,\n",
       "        -0.52850194,  0.00726295],\n",
       "       [-1.16204451, -1.00794068, -1.45045906, ..., -0.16763689,\n",
       "         0.07810924,  0.29984943],\n",
       "       ...,\n",
       "       [-0.91216431, -3.10439533, -0.73135679, ...,  1.88389689,\n",
       "        -1.70708755, -0.16973381],\n",
       "       [ 0.08735649, -1.96087461,  0.05194325, ...,  2.1260591 ,\n",
       "        -2.35115781,  1.44696268],\n",
       "       [-1.26199659, -2.53263497, -1.0869424 , ..., -1.10883527,\n",
       "         0.83430992,  0.7576378 ]])"
      ]
     },
     "execution_count": 20,
     "metadata": {},
     "output_type": "execute_result"
    }
   ],
   "source": [
    "# StandardScaling\n",
    "scaler5 = StandardScaler()\n",
    "scaler5.fit(a_5) # scaler에 xdata 학습\n",
    "a_s5 = scaler5.transform(a_5)\n",
    "a_s5"
   ]
  },
  {
   "cell_type": "code",
   "execution_count": 21,
   "id": "4defbbb3",
   "metadata": {
    "ExecuteTime": {
     "end_time": "2021-12-06T07:38:19.361855Z",
     "start_time": "2021-12-06T07:38:19.351785Z"
    }
   },
   "outputs": [],
   "source": [
    "# x데이터 설정 2017, 2018 데이터를 학습용, 2019년 데이터를 검증용 데이터셋으로 설정\n",
    "\n",
    "xtrain1 = a_s1[:-82]\n",
    "xtest1 = a_s1[-82:]\n",
    "xtrain2 = a_s2[:-82]\n",
    "xtest2 = a_s2[-82:]\n",
    "xtrain3 = a_s3[:-82]\n",
    "xtest3 = a_s3[-82:]\n",
    "xtrain4 = a_s4[:-82]\n",
    "xtest4 = a_s4[-82:]\n",
    "xtrain5 = a_s5[:-82]\n",
    "xtest5 = a_s5[-82:]"
   ]
  },
  {
   "cell_type": "code",
   "execution_count": 22,
   "id": "51059778",
   "metadata": {
    "ExecuteTime": {
     "end_time": "2021-12-06T07:38:19.631491Z",
     "start_time": "2021-12-06T07:38:19.618494Z"
    }
   },
   "outputs": [],
   "source": [
    "# y데이터 설정 2017, 2018 데이터를 학습용, 2019년 데이터를 검증용 데이터셋으로 설정\n",
    "\n",
    "train = a[:-82]\n",
    "test = a[-82:]\n",
    "\n",
    "ytrain1 = train['q1']\n",
    "ytrain2 = train['q2']\n",
    "ytrain3 = train['q3']\n",
    "ytrain4 = train['q4']\n",
    "ytrain5 = train['q5']\n",
    "\n",
    "ytest1 = test['q1']\n",
    "ytest2 = test['q2']\n",
    "ytest3 = test['q3']\n",
    "ytest4 = test['q4']\n",
    "ytest5 = test['q5']"
   ]
  },
  {
   "cell_type": "code",
   "execution_count": 23,
   "id": "013e0493",
   "metadata": {
    "ExecuteTime": {
     "end_time": "2021-12-06T07:38:19.946591Z",
     "start_time": "2021-12-06T07:38:19.935399Z"
    }
   },
   "outputs": [
    {
     "data": {
      "text/plain": [
       "Index(['child', 'house', 'report_sx_total', 'vio_cnt', 'mur_rob_cnt',\n",
       "       'car_cnt', 'popu_합계', 'for_합계', 'popu_u20', 'popu_o60', 'for_u20',\n",
       "       'for_2030', 'single_합계', 'single_u20', 'single_2030', 'single_4050',\n",
       "       'single_o60', 'single_f_합계', 'single_f_u20', 'single_f_2030',\n",
       "       'single_f_4050', 'single_f_o60', 'popu_2050', 'for_o40', '총범죄발생대비검거수',\n",
       "       '절도폭력범죄발생대비검거수', '강도살인범죄발생대비검거수', '교통사고범죄발생대비검거수', '기초질서범죄발생대비검거수',\n",
       "       '인구수대비검거수', '외국인인구수대비검거수', '인구수대비경찰수', 'before_q1', 'before_q2',\n",
       "       'before_q3', 'before_q4', 'before_q5', 'light_r', 'cctv_r', 'adult_r',\n",
       "       'bell_r', 'ofn_10', 'ofn_20', 'ofn_340', 'ofn_5670', 'ofn_80ov',\n",
       "       'ofn_m', 'ofn_w', 'ofn_unknown', 'vic_10', 'vic_20', 'vic_340',\n",
       "       'vic_5670', 'vic_80ov', 'vic_m', 'vic_w', 'vic_unknown', 'case_car_man',\n",
       "       'case_car_car', 'case_car_only'],\n",
       "      dtype='object')"
      ]
     },
     "execution_count": 23,
     "metadata": {},
     "output_type": "execute_result"
    }
   ],
   "source": [
    "a_1.columns"
   ]
  },
  {
   "cell_type": "code",
   "execution_count": 24,
   "id": "943cae14",
   "metadata": {
    "ExecuteTime": {
     "end_time": "2021-12-06T07:38:20.261803Z",
     "start_time": "2021-12-06T07:38:20.252629Z"
    }
   },
   "outputs": [],
   "source": [
    "# 그리드 서치 패키지\n",
    "from sklearn.model_selection import GridSearchCV"
   ]
  },
  {
   "cell_type": "code",
   "execution_count": 25,
   "id": "89c071f1",
   "metadata": {
    "ExecuteTime": {
     "end_time": "2021-12-06T07:38:20.576844Z",
     "start_time": "2021-12-06T07:38:20.564880Z"
    }
   },
   "outputs": [],
   "source": [
    "# 최적 성능을 내는 lasso의 alpha값을 얻기 위해 param_grid 생성\n",
    "\n",
    "param_grid = {'alpha' : np.linspace(0.001, 10.0, 10000)}\n",
    "\n",
    "#그리드 서치 설정\n",
    "#grid_search = GridSearchCV(Lasso(), param_grid = param_grid, cv = 10, n_jobs = -1, scoring ='r2')\n",
    "grid_search = GridSearchCV(Lasso(), param_grid = param_grid, cv = 10, n_jobs = -1, scoring ='neg_mean_absolute_error')"
   ]
  },
  {
   "cell_type": "markdown",
   "id": "ae3db99c",
   "metadata": {},
   "source": [
    "#### q1 절도폭력 "
   ]
  },
  {
   "cell_type": "code",
   "execution_count": 26,
   "id": "24aeeadd",
   "metadata": {
    "ExecuteTime": {
     "end_time": "2021-12-06T07:39:26.613486Z",
     "start_time": "2021-12-06T07:38:20.938039Z"
    }
   },
   "outputs": [],
   "source": [
    "# 그리드 서치 후 최고 성능의 모델을 ela1에 저장\n",
    "\n",
    "grid_search.fit(xtrain1, ytrain1)\n",
    "lasso1 = grid_search.best_estimator_"
   ]
  },
  {
   "cell_type": "code",
   "execution_count": 27,
   "id": "d0ddcc37",
   "metadata": {
    "ExecuteTime": {
     "end_time": "2021-12-06T07:39:26.958031Z",
     "start_time": "2021-12-06T07:39:26.944288Z"
    }
   },
   "outputs": [
    {
     "data": {
      "text/plain": [
       "2.1871350084392516"
      ]
     },
     "execution_count": 27,
     "metadata": {},
     "output_type": "execute_result"
    }
   ],
   "source": [
    "# MAE 출력\n",
    "\n",
    "y_pred1 = lasso1.predict(xtest1)\n",
    "mean_absolute_error(ytest1, y_pred1)"
   ]
  },
  {
   "cell_type": "code",
   "execution_count": 46,
   "id": "4e505fff",
   "metadata": {
    "ExecuteTime": {
     "end_time": "2021-12-06T07:43:30.106735Z",
     "start_time": "2021-12-06T07:43:30.089735Z"
    }
   },
   "outputs": [
    {
     "name": "stdout",
     "output_type": "stream",
     "text": [
      "alpha = 0.021\n",
      "[ 0.          0.42511649 -0.         -1.65910729  0.16948203  0.\n",
      "  0.         -0.          0.85163212  0.99353712  1.47668504 -0.60711634\n",
      " -0.          0.3242491   0.         -1.28507164 -0.13031473  0.\n",
      "  0.          1.09295358  0.         -0.          0.         -0.46686054\n",
      " -0.37708668 -0.10055692  0.01279539  0.04867457  0.19010976 -0.71763197\n",
      "  1.41143962  1.18624975 -0.         -0.         -0.20921486  0.05442657\n",
      "  0.30350117  0.17642624 -0.21026377 -0.21759718  0.18835426 -0.32880902\n",
      "  0.          0.32464304 -0.         -0.02737931 -0.7174347   0.\n",
      "  0.18052958 -0.18436065  0.          0.          0.         -0.3636099\n",
      " -0.          0.37375259 -0.          0.         -0.00529149  0.1508471 ]\n",
      "feature 개수:  37\n",
      "가장 강한 양의 상관관계:  for_u20 \n",
      "가장 강한 음의 상관관계:  vio_cnt\n"
     ]
    }
   ],
   "source": [
    "# 결과\n",
    "\n",
    "print('alpha =', lasso1.alpha)\n",
    "print(lasso1.coef_) # Ridge 회귀분석으로 나온 weghit값\n",
    "print('feature 개수: ', len(a_1.columns[lasso1.coef_ != 0]))\n",
    "print('가장 강한 양의 상관관계: ',a_1.columns[lasso1.coef_.argmax()], '\\n가장 강한 음의 상관관계: ', a_1.columns[lasso1.coef_.argmin()])"
   ]
  },
  {
   "cell_type": "code",
   "execution_count": 30,
   "id": "9f9cd3d6",
   "metadata": {
    "ExecuteTime": {
     "end_time": "2021-12-06T07:39:59.406922Z",
     "start_time": "2021-12-06T07:39:59.393993Z"
    }
   },
   "outputs": [
    {
     "name": "stdout",
     "output_type": "stream",
     "text": [
      "feature:  Index(['house', 'vio_cnt', 'mur_rob_cnt', 'popu_u20', 'popu_o60', 'for_u20',\n",
      "       'for_2030', 'single_u20', 'single_4050', 'single_o60', 'single_f_2030',\n",
      "       'for_o40', '총범죄발생대비검거수', '절도폭력범죄발생대비검거수', '강도살인범죄발생대비검거수',\n",
      "       '교통사고범죄발생대비검거수', '기초질서범죄발생대비검거수', '인구수대비검거수', '외국인인구수대비검거수', '인구수대비경찰수',\n",
      "       'before_q3', 'before_q4', 'before_q5', 'light_r', 'cctv_r', 'adult_r',\n",
      "       'bell_r', 'ofn_10', 'ofn_340', 'ofn_80ov', 'ofn_m', 'ofn_unknown',\n",
      "       'vic_10', 'vic_80ov', 'vic_w', 'case_car_car', 'case_car_only'],\n",
      "      dtype='object')\n"
     ]
    }
   ],
   "source": [
    "print('feature: ', a_1.columns[lasso1.coef_ != 0])"
   ]
  },
  {
   "cell_type": "markdown",
   "id": "a294834f",
   "metadata": {},
   "source": [
    "#### q2 강도살인"
   ]
  },
  {
   "cell_type": "code",
   "execution_count": 31,
   "id": "56c82a56",
   "metadata": {
    "ExecuteTime": {
     "end_time": "2021-12-06T07:40:58.999486Z",
     "start_time": "2021-12-06T07:40:02.953950Z"
    }
   },
   "outputs": [],
   "source": [
    "# 그리드 서치 후 최고 성능의 모델을 ela2에 저장\n",
    "\n",
    "grid_search.fit(xtrain2, ytrain2)\n",
    "lasso2 = grid_search.best_estimator_"
   ]
  },
  {
   "cell_type": "code",
   "execution_count": 32,
   "id": "af019254",
   "metadata": {
    "ExecuteTime": {
     "end_time": "2021-12-06T07:40:59.376033Z",
     "start_time": "2021-12-06T07:40:59.361806Z"
    }
   },
   "outputs": [
    {
     "data": {
      "text/plain": [
       "2.0471413661020796"
      ]
     },
     "execution_count": 32,
     "metadata": {},
     "output_type": "execute_result"
    }
   ],
   "source": [
    "# MAE 출력\n",
    "\n",
    "y_pred2 = lasso2.predict(xtest2)\n",
    "mean_absolute_error(ytest2, y_pred2)"
   ]
  },
  {
   "cell_type": "code",
   "execution_count": 44,
   "id": "0d2cce03",
   "metadata": {
    "ExecuteTime": {
     "end_time": "2021-12-06T07:43:20.140192Z",
     "start_time": "2021-12-06T07:43:20.130139Z"
    }
   },
   "outputs": [
    {
     "name": "stdout",
     "output_type": "stream",
     "text": [
      "alpha = 0.021\n",
      "[ 0.          0.42915689 -0.         -2.01752393  0.          0.74594998\n",
      "  0.         -0.          0.59198989  1.92049972  1.78388758 -1.04086226\n",
      "  0.          0.37471984  0.08018347 -1.23172997 -0.59120425  0.\n",
      " -0.          0.91909285  0.         -0.          0.         -0.52745292\n",
      " -0.         -0.         -0.          0.06729044  0.19837992 -0.92741628\n",
      "  0.70851213  1.36886505 -0.1356403   0.         -0.53753043  0.28916076\n",
      "  0.45684253  0.10212748 -0.1538169  -0.18862435  0.01418414 -0.61367072\n",
      " -0.          0.3030273  -0.         -0.         -0.89692431  0.\n",
      "  0.15673515  0.         -0.05722712  0.          0.         -0.5920882\n",
      " -0.          0.0435111  -0.          0.         -0.46052082  0.28183134]\n",
      "feature 개수:  35\n",
      "가장 강한 양의 상관관계:  popu_o60 \n",
      "가장 강한 음의 상관관계:  vio_cnt\n"
     ]
    }
   ],
   "source": [
    "# 결과\n",
    "\n",
    "print('alpha =', lasso2.alpha)\n",
    "print(lasso2.coef_) # Ridge 회귀분석으로 나온 weghit값\n",
    "print('feature 개수: ', len(a_2.columns[lasso2.coef_ != 0]))\n",
    "print('가장 강한 양의 상관관계: ',a_2.columns[lasso2.coef_.argmax()], '\\n가장 강한 음의 상관관계: ', a_2.columns[lasso2.coef_.argmin()])"
   ]
  },
  {
   "cell_type": "code",
   "execution_count": 34,
   "id": "fdb63c67",
   "metadata": {
    "ExecuteTime": {
     "end_time": "2021-12-06T07:41:00.069040Z",
     "start_time": "2021-12-06T07:41:00.055532Z"
    }
   },
   "outputs": [
    {
     "name": "stdout",
     "output_type": "stream",
     "text": [
      "feature:  Index(['house', 'vio_cnt', 'car_cnt', 'popu_u20', 'popu_o60', 'for_u20',\n",
      "       'for_2030', 'single_u20', 'single_2030', 'single_4050', 'single_o60',\n",
      "       'single_f_2030', 'for_o40', '교통사고범죄발생대비검거수', '기초질서범죄발생대비검거수',\n",
      "       '인구수대비검거수', '외국인인구수대비검거수', '인구수대비경찰수', 'before_q1', 'before_q3',\n",
      "       'before_q4', 'before_q5', 'light_r', 'cctv_r', 'adult_r', 'bell_r',\n",
      "       'ofn_10', 'ofn_340', 'ofn_m', 'ofn_unknown', 'vic_20', 'vic_80ov',\n",
      "       'vic_w', 'case_car_car', 'case_car_only'],\n",
      "      dtype='object')\n"
     ]
    }
   ],
   "source": [
    "print('feature: ', a_2.columns[lasso2.coef_ != 0])"
   ]
  },
  {
   "cell_type": "markdown",
   "id": "f345e5cd",
   "metadata": {},
   "source": [
    "#### q3 교통안전"
   ]
  },
  {
   "cell_type": "code",
   "execution_count": 35,
   "id": "86cd47f1",
   "metadata": {
    "ExecuteTime": {
     "end_time": "2021-12-06T07:41:59.708345Z",
     "start_time": "2021-12-06T07:41:00.384072Z"
    }
   },
   "outputs": [],
   "source": [
    "# 그리드 서치 후 최고 성능의 모델을 lasso3에 저장\n",
    "\n",
    "grid_search.fit(xtrain3, ytrain3)\n",
    "lasso3 = grid_search.best_estimator_"
   ]
  },
  {
   "cell_type": "code",
   "execution_count": 36,
   "id": "9b8ddf36",
   "metadata": {
    "ExecuteTime": {
     "end_time": "2021-12-06T07:42:00.022464Z",
     "start_time": "2021-12-06T07:42:00.009480Z"
    }
   },
   "outputs": [
    {
     "data": {
      "text/plain": [
       "2.454345636259885"
      ]
     },
     "execution_count": 36,
     "metadata": {},
     "output_type": "execute_result"
    }
   ],
   "source": [
    "# MAE 출력\n",
    "\n",
    "y_pred3 = lasso3.predict(xtest3)\n",
    "mean_absolute_error(ytest3, y_pred3)"
   ]
  },
  {
   "cell_type": "code",
   "execution_count": 45,
   "id": "1756fa6a",
   "metadata": {
    "ExecuteTime": {
     "end_time": "2021-12-06T07:43:23.763207Z",
     "start_time": "2021-12-06T07:43:23.745301Z"
    }
   },
   "outputs": [
    {
     "name": "stdout",
     "output_type": "stream",
     "text": [
      "alpha = 0.224\n",
      "[ 0.54790367  0.          0.          0.         -0.          0.\n",
      "  0.         -0.          0.          0.          0.          0.\n",
      " -0.          0.         -0.         -0.         -0.         -0.\n",
      "  0.         -0.         -0.          0.          0.         -0.\n",
      "  0.         -0.          0.          0.          0.          0.\n",
      "  0.          0.30742698  0.          0.          0.          0.\n",
      "  0.          0.0555366  -0.         -0.          0.         -0.27066816\n",
      " -0.32186105 -0.          0.          0.         -0.          0.\n",
      "  0.          0.         -0.         -0.          0.         -0.\n",
      "  0.         -0.         -0.         -0.          0.         -0.        ]\n",
      "feature 개수:  5\n",
      "가장 강한 양의 상관관계:  child \n",
      "가장 강한 음의 상관관계:  ofn_20\n"
     ]
    }
   ],
   "source": [
    "# 결과\n",
    "\n",
    "print('alpha =', lasso3.alpha)\n",
    "print(lasso3.coef_) # Ridge 회귀분석으로 나온 weghit값\n",
    "print('feature 개수: ', len(a_3.columns[lasso3.coef_ != 0]))\n",
    "print('가장 강한 양의 상관관계: ',a_3.columns[lasso3.coef_.argmax()], '\\n가장 강한 음의 상관관계: ', a_3.columns[lasso3.coef_.argmin()])"
   ]
  },
  {
   "cell_type": "code",
   "execution_count": 38,
   "id": "92679a31",
   "metadata": {
    "ExecuteTime": {
     "end_time": "2021-12-06T07:42:00.628756Z",
     "start_time": "2021-12-06T07:42:00.615341Z"
    }
   },
   "outputs": [
    {
     "name": "stdout",
     "output_type": "stream",
     "text": [
      "feature:  Index(['child', '인구수대비경찰수', 'light_r', 'ofn_10', 'ofn_20'], dtype='object')\n"
     ]
    }
   ],
   "source": [
    "print('feature: ', a_3.columns[lasso3.coef_ != 0])"
   ]
  },
  {
   "cell_type": "markdown",
   "id": "745d4226",
   "metadata": {},
   "source": [
    "#### q4 법질서 준수도"
   ]
  },
  {
   "cell_type": "code",
   "execution_count": 39,
   "id": "440b790c",
   "metadata": {
    "ExecuteTime": {
     "end_time": "2021-12-06T07:43:02.275498Z",
     "start_time": "2021-12-06T07:42:00.915815Z"
    }
   },
   "outputs": [],
   "source": [
    "# 그리드 서치 후 최고 성능의 모델을 lasso4에 저장\n",
    "\n",
    "grid_search.fit(xtrain4, ytrain4)\n",
    "lasso4 = grid_search.best_estimator_"
   ]
  },
  {
   "cell_type": "code",
   "execution_count": 40,
   "id": "1f1455e3",
   "metadata": {
    "ExecuteTime": {
     "end_time": "2021-12-06T07:43:02.291038Z",
     "start_time": "2021-12-06T07:43:02.279492Z"
    }
   },
   "outputs": [
    {
     "data": {
      "text/plain": [
       "2.6412036109058934"
      ]
     },
     "execution_count": 40,
     "metadata": {},
     "output_type": "execute_result"
    }
   ],
   "source": [
    "# MAE 출력\n",
    "\n",
    "y_pred4 = lasso4.predict(xtest4)\n",
    "mean_absolute_error(ytest4, y_pred4)"
   ]
  },
  {
   "cell_type": "code",
   "execution_count": 42,
   "id": "6ddde85f",
   "metadata": {
    "ExecuteTime": {
     "end_time": "2021-12-06T07:43:14.492747Z",
     "start_time": "2021-12-06T07:43:14.463820Z"
    }
   },
   "outputs": [
    {
     "name": "stdout",
     "output_type": "stream",
     "text": [
      "alpha = 0.097\n",
      "[ 0.06759591  0.46561362  0.         -0.          0.83671413  0.15551613\n",
      " -0.         -0.         -0.         -0.          0.         -0.\n",
      " -0.          0.          0.         -1.28720965 -0.          0.\n",
      "  0.32010344  0.         -0.         -0.         -0.         -0.13990142\n",
      "  0.         -0.45787246 -0.19417365 -0.          0.00874207 -0.\n",
      "  0.470805   -1.34447464  0.          0.36514138  0.          1.0184528\n",
      "  0.          0.          0.08266887 -0.38705872  0.14957544 -0.4219147\n",
      " -0.30059636  0.19090082  0.          0.         -0.34446297  0.\n",
      "  0.35674856  0.20384784 -0.          0.          0.         -0.02388795\n",
      "  0.         -0.         -0.         -0.08712547  0.28237157 -0.        ]\n",
      "feature 개수:  26\n",
      "가장 강한 양의 상관관계:  before_q4 \n",
      "가장 강한 음의 상관관계:  인구수대비경찰수\n"
     ]
    }
   ],
   "source": [
    "# 결과\n",
    "\n",
    "print('alpha =', lasso4.alpha)\n",
    "print(lasso4.coef_) # Ridge 회귀분석으로 나온 weghit값\n",
    "print('feature 개수: ', len(a_4.columns[lasso4.coef_ != 0]))\n",
    "print('가장 강한 양의 상관관계: ',a_4.columns[lasso4.coef_.argmax()], '\\n가장 강한 음의 상관관계: ', a_4.columns[lasso4.coef_.argmin()])"
   ]
  },
  {
   "cell_type": "code",
   "execution_count": 43,
   "id": "aa08cf25",
   "metadata": {
    "ExecuteTime": {
     "end_time": "2021-12-06T07:43:16.033286Z",
     "start_time": "2021-12-06T07:43:16.024933Z"
    }
   },
   "outputs": [
    {
     "name": "stdout",
     "output_type": "stream",
     "text": [
      "feature:  Index(['child', 'house', 'mur_rob_cnt', 'car_cnt', 'single_4050',\n",
      "       'single_f_u20', 'for_o40', '절도폭력범죄발생대비검거수', '강도살인범죄발생대비검거수',\n",
      "       '기초질서범죄발생대비검거수', '외국인인구수대비검거수', '인구수대비경찰수', 'before_q2', 'before_q4',\n",
      "       'cctv_r', 'adult_r', 'bell_r', 'ofn_10', 'ofn_20', 'ofn_340', 'ofn_m',\n",
      "       'ofn_unknown', 'vic_10', 'vic_80ov', 'case_car_man', 'case_car_car'],\n",
      "      dtype='object')\n"
     ]
    }
   ],
   "source": [
    "print('feature: ', a_4.columns[lasso4.coef_ != 0])"
   ]
  },
  {
   "cell_type": "markdown",
   "id": "5510203c",
   "metadata": {},
   "source": [
    "#### q5 전반적 안전도"
   ]
  },
  {
   "cell_type": "code",
   "execution_count": 47,
   "id": "0cfe81a5",
   "metadata": {
    "ExecuteTime": {
     "end_time": "2021-12-06T07:44:30.507386Z",
     "start_time": "2021-12-06T07:43:35.488968Z"
    }
   },
   "outputs": [],
   "source": [
    "# 그리드 서치 후 최고 성능의 모델을 lasso4에 저장\n",
    "\n",
    "grid_search.fit(xtrain5, ytrain5)\n",
    "lasso5 = grid_search.best_estimator_"
   ]
  },
  {
   "cell_type": "code",
   "execution_count": 48,
   "id": "c8ee961d",
   "metadata": {
    "ExecuteTime": {
     "end_time": "2021-12-06T07:44:30.852153Z",
     "start_time": "2021-12-06T07:44:30.838190Z"
    }
   },
   "outputs": [
    {
     "data": {
      "text/plain": [
       "2.1597428192914614"
      ]
     },
     "execution_count": 48,
     "metadata": {},
     "output_type": "execute_result"
    }
   ],
   "source": [
    "# MAE 출력\n",
    "\n",
    "y_pred5 = lasso5.predict(xtest5)\n",
    "mean_absolute_error(ytest5, y_pred5)"
   ]
  },
  {
   "cell_type": "code",
   "execution_count": 50,
   "id": "d96bc91b",
   "metadata": {
    "ExecuteTime": {
     "end_time": "2021-12-06T07:44:38.596989Z",
     "start_time": "2021-12-06T07:44:38.578996Z"
    }
   },
   "outputs": [
    {
     "name": "stdout",
     "output_type": "stream",
     "text": [
      "alpha = 0.024\n",
      "[ 0.          0.45704898  0.         -1.22377051  0.24684585  0.27192982\n",
      "  0.         -0.          0.59663343  1.07983448  0.68003466 -0.27880184\n",
      " -0.          0.21622562  0.         -1.39848521 -0.1524511   0.\n",
      "  0.          0.63328004  0.         -0.          0.         -0.35744253\n",
      "  0.         -0.48467528 -0.07423263 -0.          0.0756656  -0.\n",
      "  0.6920857   0.          0.          0.02679406 -0.11106227  0.09474177\n",
      "  0.25452695  0.12722076 -0.         -0.18850077  0.06067285 -0.39912854\n",
      " -0.24991453  0.23923348 -0.          0.0094063  -0.57496996  0.\n",
      "  0.23067595 -0.         -0.         -0.          0.05150321 -0.21222363\n",
      " -0.          0.06593002 -0.08039202  0.         -0.          0.        ]\n",
      "feature 개수:  34\n",
      "가장 강한 양의 상관관계:  popu_o60 \n",
      "가장 강한 음의 상관관계:  single_4050\n"
     ]
    }
   ],
   "source": [
    "# 결과\n",
    "\n",
    "print('alpha =', lasso5.alpha)\n",
    "print(lasso5.coef_) # Ridge 회귀분석으로 나온 weghit값\n",
    "print('feature 개수: ', len(a_5.columns[lasso5.coef_ != 0]))\n",
    "print('가장 강한 양의 상관관계: ',a_5.columns[lasso5.coef_.argmax()], '\\n가장 강한 음의 상관관계: ', a_5.columns[lasso5.coef_.argmin()])"
   ]
  },
  {
   "cell_type": "code",
   "execution_count": 51,
   "id": "10ee398a",
   "metadata": {
    "ExecuteTime": {
     "end_time": "2021-12-06T07:44:39.417052Z",
     "start_time": "2021-12-06T07:44:39.411072Z"
    }
   },
   "outputs": [
    {
     "name": "stdout",
     "output_type": "stream",
     "text": [
      "feature:  Index(['house', 'vio_cnt', 'mur_rob_cnt', 'car_cnt', 'popu_u20', 'popu_o60',\n",
      "       'for_u20', 'for_2030', 'single_u20', 'single_4050', 'single_o60',\n",
      "       'single_f_2030', 'for_o40', '절도폭력범죄발생대비검거수', '강도살인범죄발생대비검거수',\n",
      "       '기초질서범죄발생대비검거수', '외국인인구수대비검거수', 'before_q2', 'before_q3', 'before_q4',\n",
      "       'before_q5', 'light_r', 'adult_r', 'bell_r', 'ofn_10', 'ofn_20',\n",
      "       'ofn_340', 'ofn_80ov', 'ofn_m', 'ofn_unknown', 'vic_5670', 'vic_80ov',\n",
      "       'vic_w', 'vic_unknown'],\n",
      "      dtype='object')\n"
     ]
    }
   ],
   "source": [
    "print('feature: ', a_5.columns[lasso5.coef_ != 0])"
   ]
  },
  {
   "cell_type": "code",
   "execution_count": null,
   "id": "18095a7e",
   "metadata": {},
   "outputs": [],
   "source": []
  }
 ],
 "metadata": {
  "kernelspec": {
   "display_name": "Python 3",
   "language": "python",
   "name": "python3"
  },
  "language_info": {
   "codemirror_mode": {
    "name": "ipython",
    "version": 3
   },
   "file_extension": ".py",
   "mimetype": "text/x-python",
   "name": "python",
   "nbconvert_exporter": "python",
   "pygments_lexer": "ipython3",
   "version": "3.8.8"
  },
  "toc": {
   "base_numbering": 1,
   "nav_menu": {},
   "number_sections": true,
   "sideBar": true,
   "skip_h1_title": false,
   "title_cell": "Table of Contents",
   "title_sidebar": "Contents",
   "toc_cell": false,
   "toc_position": {},
   "toc_section_display": true,
   "toc_window_display": false
  },
  "varInspector": {
   "cols": {
    "lenName": 16,
    "lenType": 16,
    "lenVar": 40
   },
   "kernels_config": {
    "python": {
     "delete_cmd_postfix": "",
     "delete_cmd_prefix": "del ",
     "library": "var_list.py",
     "varRefreshCmd": "print(var_dic_list())"
    },
    "r": {
     "delete_cmd_postfix": ") ",
     "delete_cmd_prefix": "rm(",
     "library": "var_list.r",
     "varRefreshCmd": "cat(var_dic_list()) "
    }
   },
   "types_to_exclude": [
    "module",
    "function",
    "builtin_function_or_method",
    "instance",
    "_Feature"
   ],
   "window_display": false
  }
 },
 "nbformat": 4,
 "nbformat_minor": 5
}
