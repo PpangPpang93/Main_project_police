{
 "cells": [
  {
   "cell_type": "code",
   "execution_count": 70,
   "id": "7728bbaa",
   "metadata": {
    "ExecuteTime": {
     "end_time": "2021-12-03T01:25:03.088600Z",
     "start_time": "2021-12-03T01:25:03.081520Z"
    }
   },
   "outputs": [],
   "source": [
    "import pandas as pd\n",
    "import numpy as np\n",
    "#import matplotlib.pyplot as plt\n",
    "#import seaborn as sns"
   ]
  },
  {
   "cell_type": "code",
   "execution_count": 71,
   "id": "68f550bc",
   "metadata": {
    "ExecuteTime": {
     "end_time": "2021-12-03T01:25:03.434220Z",
     "start_time": "2021-12-03T01:25:03.406477Z"
    }
   },
   "outputs": [],
   "source": [
    "df = pd.read_csv('total_data(2016제외) (1).csv')"
   ]
  },
  {
   "cell_type": "markdown",
   "id": "21dbcb15",
   "metadata": {},
   "source": [
    "### xdata로 모든 column을 넣어서 Elastic\n",
    "- elasticnet으로 모든 column을 넣어 모델생성"
   ]
  },
  {
   "cell_type": "code",
   "execution_count": 72,
   "id": "dc7a18a2",
   "metadata": {
    "ExecuteTime": {
     "end_time": "2021-12-03T01:25:03.764804Z",
     "start_time": "2021-12-03T01:25:03.755821Z"
    }
   },
   "outputs": [],
   "source": [
    "# 필요 패키지 로드\n",
    "#from sklearn.preprocessing import MinMaxScaler\n",
    "from sklearn.preprocessing import StandardScaler\n",
    "from sklearn.linear_model import ElasticNet\n",
    "from sklearn.metrics import mean_absolute_error"
   ]
  },
  {
   "cell_type": "code",
   "execution_count": 73,
   "id": "ac15d59f",
   "metadata": {
    "ExecuteTime": {
     "end_time": "2021-12-03T01:25:04.184490Z",
     "start_time": "2021-12-03T01:25:04.114728Z"
    }
   },
   "outputs": [
    {
     "data": {
      "text/html": [
       "<div>\n",
       "<style scoped>\n",
       "    .dataframe tbody tr th:only-of-type {\n",
       "        vertical-align: middle;\n",
       "    }\n",
       "\n",
       "    .dataframe tbody tr th {\n",
       "        vertical-align: top;\n",
       "    }\n",
       "\n",
       "    .dataframe thead th {\n",
       "        text-align: right;\n",
       "    }\n",
       "</style>\n",
       "<table border=\"1\" class=\"dataframe\">\n",
       "  <thead>\n",
       "    <tr style=\"text-align: right;\">\n",
       "      <th></th>\n",
       "      <th>jur_stn</th>\n",
       "      <th>year</th>\n",
       "      <th>report_sx_남성</th>\n",
       "      <th>report_sx_불상</th>\n",
       "      <th>report_sx_여성</th>\n",
       "      <th>report_sx_total</th>\n",
       "      <th>vio_cnt</th>\n",
       "      <th>mur_rob_cnt</th>\n",
       "      <th>car_cnt</th>\n",
       "      <th>5m_crm_yn</th>\n",
       "      <th>...</th>\n",
       "      <th>single_f_2030</th>\n",
       "      <th>single_f_4050</th>\n",
       "      <th>single_f_o60</th>\n",
       "      <th>adult</th>\n",
       "      <th>bell</th>\n",
       "      <th>q1</th>\n",
       "      <th>q2</th>\n",
       "      <th>q3</th>\n",
       "      <th>q4</th>\n",
       "      <th>q5</th>\n",
       "    </tr>\n",
       "  </thead>\n",
       "  <tbody>\n",
       "    <tr>\n",
       "      <th>0</th>\n",
       "      <td>서울중부경찰서</td>\n",
       "      <td>2017(상반기)</td>\n",
       "      <td>13404.0</td>\n",
       "      <td>3239.0</td>\n",
       "      <td>5931.0</td>\n",
       "      <td>22574.0</td>\n",
       "      <td>1324.0</td>\n",
       "      <td>0.0</td>\n",
       "      <td>1412.0</td>\n",
       "      <td>3275.0</td>\n",
       "      <td>...</td>\n",
       "      <td>2128.0</td>\n",
       "      <td>1230.5</td>\n",
       "      <td>1635.5</td>\n",
       "      <td>0.0</td>\n",
       "      <td>0.0</td>\n",
       "      <td>75.2</td>\n",
       "      <td>76.5</td>\n",
       "      <td>69.9</td>\n",
       "      <td>65.9</td>\n",
       "      <td>72.6</td>\n",
       "    </tr>\n",
       "    <tr>\n",
       "      <th>1</th>\n",
       "      <td>서울종로경찰서</td>\n",
       "      <td>2017(상반기)</td>\n",
       "      <td>11579.0</td>\n",
       "      <td>2560.0</td>\n",
       "      <td>5534.0</td>\n",
       "      <td>19674.0</td>\n",
       "      <td>1102.0</td>\n",
       "      <td>0.0</td>\n",
       "      <td>867.0</td>\n",
       "      <td>2914.0</td>\n",
       "      <td>...</td>\n",
       "      <td>2703.0</td>\n",
       "      <td>1378.5</td>\n",
       "      <td>1782.5</td>\n",
       "      <td>2.0</td>\n",
       "      <td>2.0</td>\n",
       "      <td>81.6</td>\n",
       "      <td>82.4</td>\n",
       "      <td>69.1</td>\n",
       "      <td>62.7</td>\n",
       "      <td>72.2</td>\n",
       "    </tr>\n",
       "    <tr>\n",
       "      <th>2</th>\n",
       "      <td>서울남대문경찰서</td>\n",
       "      <td>2017(상반기)</td>\n",
       "      <td>9093.0</td>\n",
       "      <td>1855.0</td>\n",
       "      <td>3551.0</td>\n",
       "      <td>14499.0</td>\n",
       "      <td>949.0</td>\n",
       "      <td>0.0</td>\n",
       "      <td>736.0</td>\n",
       "      <td>2506.0</td>\n",
       "      <td>...</td>\n",
       "      <td>2128.0</td>\n",
       "      <td>1230.5</td>\n",
       "      <td>1635.5</td>\n",
       "      <td>0.0</td>\n",
       "      <td>0.0</td>\n",
       "      <td>77.3</td>\n",
       "      <td>79.3</td>\n",
       "      <td>68.8</td>\n",
       "      <td>61.0</td>\n",
       "      <td>71.7</td>\n",
       "    </tr>\n",
       "    <tr>\n",
       "      <th>3</th>\n",
       "      <td>서울서대문경찰서</td>\n",
       "      <td>2017(상반기)</td>\n",
       "      <td>18441.0</td>\n",
       "      <td>10029.0</td>\n",
       "      <td>10298.0</td>\n",
       "      <td>38769.0</td>\n",
       "      <td>1924.0</td>\n",
       "      <td>0.0</td>\n",
       "      <td>1788.0</td>\n",
       "      <td>4267.0</td>\n",
       "      <td>...</td>\n",
       "      <td>12420.0</td>\n",
       "      <td>4496.0</td>\n",
       "      <td>7066.0</td>\n",
       "      <td>0.0</td>\n",
       "      <td>0.0</td>\n",
       "      <td>78.0</td>\n",
       "      <td>80.0</td>\n",
       "      <td>67.0</td>\n",
       "      <td>66.3</td>\n",
       "      <td>71.4</td>\n",
       "    </tr>\n",
       "    <tr>\n",
       "      <th>4</th>\n",
       "      <td>서울혜화경찰서</td>\n",
       "      <td>2017(상반기)</td>\n",
       "      <td>10829.0</td>\n",
       "      <td>2989.0</td>\n",
       "      <td>5038.0</td>\n",
       "      <td>18857.0</td>\n",
       "      <td>1127.0</td>\n",
       "      <td>0.0</td>\n",
       "      <td>899.0</td>\n",
       "      <td>2864.0</td>\n",
       "      <td>...</td>\n",
       "      <td>2703.0</td>\n",
       "      <td>1378.5</td>\n",
       "      <td>1782.5</td>\n",
       "      <td>0.0</td>\n",
       "      <td>0.0</td>\n",
       "      <td>78.6</td>\n",
       "      <td>80.6</td>\n",
       "      <td>70.7</td>\n",
       "      <td>65.2</td>\n",
       "      <td>75.4</td>\n",
       "    </tr>\n",
       "    <tr>\n",
       "      <th>...</th>\n",
       "      <td>...</td>\n",
       "      <td>...</td>\n",
       "      <td>...</td>\n",
       "      <td>...</td>\n",
       "      <td>...</td>\n",
       "      <td>...</td>\n",
       "      <td>...</td>\n",
       "      <td>...</td>\n",
       "      <td>...</td>\n",
       "      <td>...</td>\n",
       "      <td>...</td>\n",
       "      <td>...</td>\n",
       "      <td>...</td>\n",
       "      <td>...</td>\n",
       "      <td>...</td>\n",
       "      <td>...</td>\n",
       "      <td>...</td>\n",
       "      <td>...</td>\n",
       "      <td>...</td>\n",
       "      <td>...</td>\n",
       "      <td>...</td>\n",
       "    </tr>\n",
       "    <tr>\n",
       "      <th>241</th>\n",
       "      <td>창원서부경찰서</td>\n",
       "      <td>2019(하반기)</td>\n",
       "      <td>12630.0</td>\n",
       "      <td>2990.0</td>\n",
       "      <td>7151.0</td>\n",
       "      <td>22771.0</td>\n",
       "      <td>1460.0</td>\n",
       "      <td>2.0</td>\n",
       "      <td>1964.0</td>\n",
       "      <td>2142.0</td>\n",
       "      <td>...</td>\n",
       "      <td>2900.0</td>\n",
       "      <td>4492.0</td>\n",
       "      <td>5574.0</td>\n",
       "      <td>1.0</td>\n",
       "      <td>1.0</td>\n",
       "      <td>79.1</td>\n",
       "      <td>79.5</td>\n",
       "      <td>68.5</td>\n",
       "      <td>71.2</td>\n",
       "      <td>76.0</td>\n",
       "    </tr>\n",
       "    <tr>\n",
       "      <th>242</th>\n",
       "      <td>마산중부경찰서</td>\n",
       "      <td>2019(하반기)</td>\n",
       "      <td>12223.0</td>\n",
       "      <td>2552.0</td>\n",
       "      <td>6489.0</td>\n",
       "      <td>21264.0</td>\n",
       "      <td>1265.0</td>\n",
       "      <td>5.0</td>\n",
       "      <td>1584.0</td>\n",
       "      <td>1369.0</td>\n",
       "      <td>...</td>\n",
       "      <td>2216.0</td>\n",
       "      <td>2837.0</td>\n",
       "      <td>7186.0</td>\n",
       "      <td>3.0</td>\n",
       "      <td>3.0</td>\n",
       "      <td>80.8</td>\n",
       "      <td>80.0</td>\n",
       "      <td>70.8</td>\n",
       "      <td>73.2</td>\n",
       "      <td>76.5</td>\n",
       "    </tr>\n",
       "    <tr>\n",
       "      <th>243</th>\n",
       "      <td>마산동부경찰서</td>\n",
       "      <td>2019(하반기)</td>\n",
       "      <td>15177.0</td>\n",
       "      <td>3190.0</td>\n",
       "      <td>7647.0</td>\n",
       "      <td>26014.0</td>\n",
       "      <td>1715.0</td>\n",
       "      <td>8.0</td>\n",
       "      <td>1910.0</td>\n",
       "      <td>1920.0</td>\n",
       "      <td>...</td>\n",
       "      <td>1496.0</td>\n",
       "      <td>2939.0</td>\n",
       "      <td>6166.0</td>\n",
       "      <td>1.0</td>\n",
       "      <td>1.0</td>\n",
       "      <td>75.0</td>\n",
       "      <td>76.5</td>\n",
       "      <td>69.4</td>\n",
       "      <td>68.9</td>\n",
       "      <td>73.1</td>\n",
       "    </tr>\n",
       "    <tr>\n",
       "      <th>244</th>\n",
       "      <td>진주경찰서</td>\n",
       "      <td>2019(하반기)</td>\n",
       "      <td>21840.0</td>\n",
       "      <td>5262.0</td>\n",
       "      <td>11455.0</td>\n",
       "      <td>38557.0</td>\n",
       "      <td>2552.0</td>\n",
       "      <td>0.0</td>\n",
       "      <td>3570.0</td>\n",
       "      <td>2876.0</td>\n",
       "      <td>...</td>\n",
       "      <td>6026.0</td>\n",
       "      <td>5205.0</td>\n",
       "      <td>11823.0</td>\n",
       "      <td>8.0</td>\n",
       "      <td>8.0</td>\n",
       "      <td>78.7</td>\n",
       "      <td>79.6</td>\n",
       "      <td>70.3</td>\n",
       "      <td>74.6</td>\n",
       "      <td>75.6</td>\n",
       "    </tr>\n",
       "    <tr>\n",
       "      <th>245</th>\n",
       "      <td>진해경찰서</td>\n",
       "      <td>2019(하반기)</td>\n",
       "      <td>11600.0</td>\n",
       "      <td>2442.0</td>\n",
       "      <td>6278.0</td>\n",
       "      <td>20320.0</td>\n",
       "      <td>1444.0</td>\n",
       "      <td>0.0</td>\n",
       "      <td>1692.0</td>\n",
       "      <td>1354.0</td>\n",
       "      <td>...</td>\n",
       "      <td>1782.0</td>\n",
       "      <td>2592.0</td>\n",
       "      <td>4931.0</td>\n",
       "      <td>3.0</td>\n",
       "      <td>3.0</td>\n",
       "      <td>76.6</td>\n",
       "      <td>79.2</td>\n",
       "      <td>67.0</td>\n",
       "      <td>70.9</td>\n",
       "      <td>73.5</td>\n",
       "    </tr>\n",
       "  </tbody>\n",
       "</table>\n",
       "<p>246 rows × 75 columns</p>\n",
       "</div>"
      ],
      "text/plain": [
       "      jur_stn       year  report_sx_남성  report_sx_불상  report_sx_여성  \\\n",
       "0     서울중부경찰서  2017(상반기)       13404.0        3239.0        5931.0   \n",
       "1     서울종로경찰서  2017(상반기)       11579.0        2560.0        5534.0   \n",
       "2    서울남대문경찰서  2017(상반기)        9093.0        1855.0        3551.0   \n",
       "3    서울서대문경찰서  2017(상반기)       18441.0       10029.0       10298.0   \n",
       "4     서울혜화경찰서  2017(상반기)       10829.0        2989.0        5038.0   \n",
       "..        ...        ...           ...           ...           ...   \n",
       "241   창원서부경찰서  2019(하반기)       12630.0        2990.0        7151.0   \n",
       "242   마산중부경찰서  2019(하반기)       12223.0        2552.0        6489.0   \n",
       "243   마산동부경찰서  2019(하반기)       15177.0        3190.0        7647.0   \n",
       "244     진주경찰서  2019(하반기)       21840.0        5262.0       11455.0   \n",
       "245     진해경찰서  2019(하반기)       11600.0        2442.0        6278.0   \n",
       "\n",
       "     report_sx_total  vio_cnt  mur_rob_cnt  car_cnt  5m_crm_yn  ...  \\\n",
       "0            22574.0   1324.0          0.0   1412.0     3275.0  ...   \n",
       "1            19674.0   1102.0          0.0    867.0     2914.0  ...   \n",
       "2            14499.0    949.0          0.0    736.0     2506.0  ...   \n",
       "3            38769.0   1924.0          0.0   1788.0     4267.0  ...   \n",
       "4            18857.0   1127.0          0.0    899.0     2864.0  ...   \n",
       "..               ...      ...          ...      ...        ...  ...   \n",
       "241          22771.0   1460.0          2.0   1964.0     2142.0  ...   \n",
       "242          21264.0   1265.0          5.0   1584.0     1369.0  ...   \n",
       "243          26014.0   1715.0          8.0   1910.0     1920.0  ...   \n",
       "244          38557.0   2552.0          0.0   3570.0     2876.0  ...   \n",
       "245          20320.0   1444.0          0.0   1692.0     1354.0  ...   \n",
       "\n",
       "     single_f_2030  single_f_4050  single_f_o60  adult  bell    q1    q2  \\\n",
       "0           2128.0         1230.5        1635.5    0.0   0.0  75.2  76.5   \n",
       "1           2703.0         1378.5        1782.5    2.0   2.0  81.6  82.4   \n",
       "2           2128.0         1230.5        1635.5    0.0   0.0  77.3  79.3   \n",
       "3          12420.0         4496.0        7066.0    0.0   0.0  78.0  80.0   \n",
       "4           2703.0         1378.5        1782.5    0.0   0.0  78.6  80.6   \n",
       "..             ...            ...           ...    ...   ...   ...   ...   \n",
       "241         2900.0         4492.0        5574.0    1.0   1.0  79.1  79.5   \n",
       "242         2216.0         2837.0        7186.0    3.0   3.0  80.8  80.0   \n",
       "243         1496.0         2939.0        6166.0    1.0   1.0  75.0  76.5   \n",
       "244         6026.0         5205.0       11823.0    8.0   8.0  78.7  79.6   \n",
       "245         1782.0         2592.0        4931.0    3.0   3.0  76.6  79.2   \n",
       "\n",
       "       q3    q4    q5  \n",
       "0    69.9  65.9  72.6  \n",
       "1    69.1  62.7  72.2  \n",
       "2    68.8  61.0  71.7  \n",
       "3    67.0  66.3  71.4  \n",
       "4    70.7  65.2  75.4  \n",
       "..    ...   ...   ...  \n",
       "241  68.5  71.2  76.0  \n",
       "242  70.8  73.2  76.5  \n",
       "243  69.4  68.9  73.1  \n",
       "244  70.3  74.6  75.6  \n",
       "245  67.0  70.9  73.5  \n",
       "\n",
       "[246 rows x 75 columns]"
      ]
     },
     "execution_count": 73,
     "metadata": {},
     "output_type": "execute_result"
    }
   ],
   "source": [
    "# y값인 q1-q5가 결측인 2020년 데이터 제거\n",
    "a = df[0:-82]\n",
    "a"
   ]
  },
  {
   "cell_type": "code",
   "execution_count": 74,
   "id": "56e4c73a",
   "metadata": {
    "ExecuteTime": {
     "end_time": "2021-12-03T01:25:04.544125Z",
     "start_time": "2021-12-03T01:25:04.516204Z"
    }
   },
   "outputs": [
    {
     "name": "stderr",
     "output_type": "stream",
     "text": [
      "C:\\Anaconda3\\lib\\site-packages\\pandas\\core\\frame.py:4906: SettingWithCopyWarning: \n",
      "A value is trying to be set on a copy of a slice from a DataFrame\n",
      "\n",
      "See the caveats in the documentation: https://pandas.pydata.org/pandas-docs/stable/user_guide/indexing.html#returning-a-view-versus-a-copy\n",
      "  return super().drop(\n"
     ]
    }
   ],
   "source": [
    "# 경찰서와 연도 데이터 제거\n",
    "a.drop(columns = ['jur_stn', 'year'], inplace = True)"
   ]
  },
  {
   "cell_type": "code",
   "execution_count": 75,
   "id": "9bf59750",
   "metadata": {
    "ExecuteTime": {
     "end_time": "2021-12-03T01:25:04.889313Z",
     "start_time": "2021-12-03T01:25:04.875899Z"
    }
   },
   "outputs": [],
   "source": [
    "a_ = a.drop(columns = ['q1', 'q2', 'q3', 'q4', 'q5'])"
   ]
  },
  {
   "cell_type": "code",
   "execution_count": 76,
   "id": "ade77f92",
   "metadata": {
    "ExecuteTime": {
     "end_time": "2021-12-03T01:25:05.234319Z",
     "start_time": "2021-12-03T01:25:05.209901Z"
    }
   },
   "outputs": [
    {
     "data": {
      "text/plain": [
       "array([[-0.87369027, -0.8125045 , -1.08891897, ..., -1.55004946,\n",
       "        -0.59342342, -0.59342342],\n",
       "       [-1.07373936, -1.09735738, -1.17135971, ..., -1.50210803,\n",
       "         0.29943384,  0.29943384],\n",
       "       [-1.34624459, -1.39311773, -1.58314811, ..., -1.55004946,\n",
       "        -0.59342342, -0.59342342],\n",
       "       ...,\n",
       "       [-0.67934122, -0.83306089, -0.7325756 , ..., -0.07250741,\n",
       "        -0.14699479, -0.14699479],\n",
       "       [ 0.05102978,  0.03618089,  0.05819103, ...,  1.77242259,\n",
       "         2.97800563,  2.97800563],\n",
       "       [-1.07143743, -1.14686053, -1.01686119, ..., -0.47528071,\n",
       "         0.74586247,  0.74586247]])"
      ]
     },
     "execution_count": 76,
     "metadata": {},
     "output_type": "execute_result"
    }
   ],
   "source": [
    "# StandardScaling\n",
    "scaler = StandardScaler()\n",
    "scaler.fit(a_) # scaler에 xdata 학습\n",
    "a_s = scaler.transform(a_)\n",
    "a_s"
   ]
  },
  {
   "cell_type": "code",
   "execution_count": 77,
   "id": "3fd73d54",
   "metadata": {
    "ExecuteTime": {
     "end_time": "2021-12-03T01:25:05.578640Z",
     "start_time": "2021-12-03T01:25:05.565077Z"
    }
   },
   "outputs": [],
   "source": [
    "# 2017, 2018 데이터를 학습용, 2019년 데이터를 검증용 데이터셋으로 설정\n",
    "train_ = a_s[:-82]\n",
    "test_ = a_s[-82:]\n",
    "train = a[:-82]\n",
    "test = a[-82:]"
   ]
  },
  {
   "cell_type": "code",
   "execution_count": 78,
   "id": "7f2d1aae",
   "metadata": {
    "ExecuteTime": {
     "end_time": "2021-12-03T01:25:05.923944Z",
     "start_time": "2021-12-03T01:25:05.910980Z"
    }
   },
   "outputs": [],
   "source": [
    "xtrain = train_\n",
    "ytrain1 = train['q1']\n",
    "ytrain2 = train['q2']\n",
    "ytrain3 = train['q3']\n",
    "ytrain4 = train['q4']\n",
    "ytrain5 = train['q5']"
   ]
  },
  {
   "cell_type": "code",
   "execution_count": 79,
   "id": "4b66bb0a",
   "metadata": {
    "ExecuteTime": {
     "end_time": "2021-12-03T01:25:06.299045Z",
     "start_time": "2021-12-03T01:25:06.289077Z"
    }
   },
   "outputs": [],
   "source": [
    "xtest = test_\n",
    "ytest1 = test['q1']\n",
    "ytest2 = test['q2']\n",
    "ytest3 = test['q3']\n",
    "ytest4 = test['q4']\n",
    "ytest5 = test['q5']"
   ]
  },
  {
   "cell_type": "code",
   "execution_count": 80,
   "id": "1a05209a",
   "metadata": {
    "ExecuteTime": {
     "end_time": "2021-12-03T01:25:06.628382Z",
     "start_time": "2021-12-03T01:25:06.614112Z"
    }
   },
   "outputs": [
    {
     "data": {
      "text/plain": [
       "Index(['report_sx_남성', 'report_sx_불상', 'report_sx_여성', 'report_sx_total',\n",
       "       'vio_cnt', 'mur_rob_cnt', 'car_cnt', '5m_crm_yn', 'theft_violence_x',\n",
       "       'robber_murder_x', 'traffic_x', 'public_x', 'crm', 'theft_violence_y',\n",
       "       'robber_murder_y', 'traffic_y', 'public_y', 'light_cnt', '차대사람', '차대차',\n",
       "       '차량단독', '가해_성별_기타불명', '가해_남', '가해_여', '가해_10대이하', '가해_20대', '가해_30대',\n",
       "       '가해_40대', '가해_50대', '가해_60대', '가해_70대', '가해_80대이상', '가해_미분류', '피해_남',\n",
       "       '피해_미분류', '피해_여', '피해_10대이하', '피해_20대', '피해_30대', '피해_40대', '피해_50대',\n",
       "       '피해_60대', '피해_70대', '피해_80대이상', 'cctv', 'pol_num', 'popu_합계', 'for_합계',\n",
       "       'popu_u20', 'popu_2030', 'popu_4050', 'popu_o60', 'for_u20', 'for_2030',\n",
       "       'for_4050', 'for_o60', 'single_합계', 'single_u20', 'single_2030',\n",
       "       'single_4050', 'single_o60', 'single_f_합계', 'single_f_u20',\n",
       "       'single_f_2030', 'single_f_4050', 'single_f_o60', 'adult', 'bell'],\n",
       "      dtype='object')"
      ]
     },
     "execution_count": 80,
     "metadata": {},
     "output_type": "execute_result"
    }
   ],
   "source": [
    "a_.columns"
   ]
  },
  {
   "cell_type": "code",
   "execution_count": 81,
   "id": "92d85f12",
   "metadata": {
    "ExecuteTime": {
     "end_time": "2021-12-03T01:25:06.959058Z",
     "start_time": "2021-12-03T01:25:06.945062Z"
    }
   },
   "outputs": [
    {
     "data": {
      "text/plain": [
       "array([1.000e-03, 2.000e-03, 3.000e-03, ..., 9.998e+00, 9.999e+00,\n",
       "       1.000e+01])"
      ]
     },
     "execution_count": 81,
     "metadata": {},
     "output_type": "execute_result"
    }
   ],
   "source": [
    "np.linspace(0.001, 10.0, 10000)"
   ]
  },
  {
   "cell_type": "code",
   "execution_count": 82,
   "id": "943cae14",
   "metadata": {
    "ExecuteTime": {
     "end_time": "2021-12-03T01:25:07.288259Z",
     "start_time": "2021-12-03T01:25:07.274130Z"
    }
   },
   "outputs": [],
   "source": [
    "# 그리드 서치 패키지\n",
    "from sklearn.model_selection import GridSearchCV"
   ]
  },
  {
   "cell_type": "code",
   "execution_count": 85,
   "id": "89c071f1",
   "metadata": {
    "ExecuteTime": {
     "end_time": "2021-12-03T01:38:04.365085Z",
     "start_time": "2021-12-03T01:38:04.340449Z"
    }
   },
   "outputs": [],
   "source": [
    "# 최적 성능을 내는 lasso의 alpha값을 얻기 위해 param_grid 생성\n",
    "\n",
    "param_grid = {'l1_ratio': np.linspace(0.01, 1.0, 100), 'alpha' : np.linspace(0.001, 1.0, 1000)}\n",
    "\n",
    "#그리드 서치 설정\n",
    "#grid_search = GridSearchCV(ElasticNet(), param_grid = param_grid, cv = 10, n_jobs = -1, scoring ='r2')\n",
    "grid_search = GridSearchCV(ElasticNet(), param_grid = param_grid, cv = 10, n_jobs = -1, scoring ='neg_mean_absolute_error')"
   ]
  },
  {
   "cell_type": "markdown",
   "id": "ae3db99c",
   "metadata": {},
   "source": [
    "#### q1 절도폭력 "
   ]
  },
  {
   "cell_type": "code",
   "execution_count": 86,
   "id": "24aeeadd",
   "metadata": {
    "ExecuteTime": {
     "end_time": "2021-12-03T01:56:27.303331Z",
     "start_time": "2021-12-03T01:38:05.835077Z"
    }
   },
   "outputs": [],
   "source": [
    "# 그리드 서치 후 최고 성능의 모델을 ela1에 저장\n",
    "\n",
    "grid_search.fit(xtrain, ytrain1)\n",
    "ela1 = grid_search.best_estimator_"
   ]
  },
  {
   "cell_type": "code",
   "execution_count": 87,
   "id": "d0ddcc37",
   "metadata": {
    "ExecuteTime": {
     "end_time": "2021-12-03T01:56:27.663989Z",
     "start_time": "2021-12-03T01:56:27.650848Z"
    }
   },
   "outputs": [
    {
     "data": {
      "text/plain": [
       "2.527744801358236"
      ]
     },
     "execution_count": 87,
     "metadata": {},
     "output_type": "execute_result"
    }
   ],
   "source": [
    "# MAE 출력\n",
    "\n",
    "y_pred1 = ela1.predict(xtest)\n",
    "mean_absolute_error(ytest1, y_pred1)"
   ]
  },
  {
   "cell_type": "code",
   "execution_count": 88,
   "id": "4e505fff",
   "metadata": {
    "ExecuteTime": {
     "end_time": "2021-12-03T01:56:28.009582Z",
     "start_time": "2021-12-03T01:56:27.996642Z"
    }
   },
   "outputs": [
    {
     "name": "stdout",
     "output_type": "stream",
     "text": [
      "alpha = 0.041\n",
      "l1_ratio = 0.8400000000000001\n",
      "[-0.          0.26778874 -0.         -0.         -1.32832185  0.13873099\n",
      "  0.01669487  0.          0.          0.20105351  0.         -0.\n",
      " -0.         -0.         -0.08034118  0.22917292  0.47097026  0.40881605\n",
      "  0.         -0.         -0.          0.24261477 -0.          0.\n",
      " -1.17566236 -0.93804322  0.          0.         -0.         -0.\n",
      "  0.24293377 -0.0090318   0.         -0.         -0.27174531  0.88926584\n",
      " -0.31194967 -0.          0.85127388 -0.         -0.         -0.\n",
      "  0.80267121 -0.31527884  0.01584615  0.          0.         -0.02345679\n",
      "  1.64786476  0.         -0.          0.          0.28189805 -1.06217152\n",
      " -0.12366069 -0.28512561 -0.          0.39387695  0.         -1.43433071\n",
      " -0.16886038  0.         -0.          0.95046603 -0.         -0.\n",
      " -0.04210824 -0.04036605]\n",
      "feature 갯수: 33\n",
      "가장 강한 양의 상관관계:  popu_u20 \n",
      "가장 강한 음의 상관관계:  single_4050\n"
     ]
    }
   ],
   "source": [
    "# 결과\n",
    "\n",
    "print('alpha =', ela1.alpha)\n",
    "print('l1_ratio =', ela1.l1_ratio)\n",
    "print(ela1.coef_) # Ridge 회귀분석으로 나온 weghit값\n",
    "print('feature 갯수:', len(a_.columns[ela1.coef_ != 0]))\n",
    "print('가장 강한 양의 상관관계: ',a_.columns[ela1.coef_.argmax()], '\\n가장 강한 음의 상관관계: ', a_.columns[ela1.coef_.argmin()])"
   ]
  },
  {
   "cell_type": "code",
   "execution_count": 89,
   "id": "effa5bb8",
   "metadata": {
    "ExecuteTime": {
     "end_time": "2021-12-03T01:56:28.355106Z",
     "start_time": "2021-12-03T01:56:28.342846Z"
    }
   },
   "outputs": [
    {
     "name": "stdout",
     "output_type": "stream",
     "text": [
      "상위 30개 feature\n",
      " Index(['for_합계', 'bell', 'adult', 'robber_murder_y', 'for_4050', 'mur_rob_cnt',\n",
      "       'single_o60', 'robber_murder_x', 'traffic_y', '가해_성별_기타불명', '가해_70대',\n",
      "       'report_sx_불상', '피해_미분류', 'for_u20', 'for_o60', '피해_10대이하', '피해_80대이상',\n",
      "       'single_u20', 'light_cnt', 'public_y', '피해_70대', '피해_30대', '피해_여',\n",
      "       '가해_20대', 'single_f_2030', 'for_2030', '가해_10대이하', 'vio_cnt',\n",
      "       'single_4050', 'popu_u20'],\n",
      "      dtype='object')\n"
     ]
    }
   ],
   "source": [
    "# q1 관련 feature\n",
    "print('상위 30개 feature\\n', a_.columns[sorted(range(len(ela1.coef_)), key=lambda i: abs(ela1.coef_[i]))[-30:]])"
   ]
  },
  {
   "cell_type": "markdown",
   "id": "a294834f",
   "metadata": {},
   "source": [
    "#### q2 강도살인"
   ]
  },
  {
   "cell_type": "code",
   "execution_count": 90,
   "id": "56c82a56",
   "metadata": {
    "ExecuteTime": {
     "end_time": "2021-12-03T02:13:27.690736Z",
     "start_time": "2021-12-03T01:56:28.686830Z"
    }
   },
   "outputs": [],
   "source": [
    "# 그리드 서치 후 최고 성능의 모델을 ela2에 저장\n",
    "\n",
    "grid_search.fit(xtrain, ytrain2)\n",
    "ela2 = grid_search.best_estimator_"
   ]
  },
  {
   "cell_type": "code",
   "execution_count": 91,
   "id": "af019254",
   "metadata": {
    "ExecuteTime": {
     "end_time": "2021-12-03T02:13:27.990993Z",
     "start_time": "2021-12-03T02:13:27.978028Z"
    }
   },
   "outputs": [
    {
     "data": {
      "text/plain": [
       "2.3474094851536473"
      ]
     },
     "execution_count": 91,
     "metadata": {},
     "output_type": "execute_result"
    }
   ],
   "source": [
    "# MAE 출력\n",
    "\n",
    "y_pred2 = ela2.predict(xtest)\n",
    "mean_absolute_error(ytest2, y_pred2)"
   ]
  },
  {
   "cell_type": "code",
   "execution_count": 107,
   "id": "0d2cce03",
   "metadata": {
    "ExecuteTime": {
     "end_time": "2021-12-03T03:32:22.072037Z",
     "start_time": "2021-12-03T03:32:22.058034Z"
    }
   },
   "outputs": [
    {
     "name": "stdout",
     "output_type": "stream",
     "text": [
      "alpha = 0.019000000000000003\n",
      "l1_ratio = 0.68\n",
      "[-0.         -0.         -0.43104678 -0.         -1.85624495  0.\n",
      "  1.07658445 -0.         -0.          0.19585522  0.49981559  0.03749087\n",
      " -0.9197656  -0.         -0.          0.33686265  0.5456031   0.44175813\n",
      "  0.8806109  -0.          0.          0.5200172  -0.          0.87586022\n",
      " -0.86363022 -1.12530635 -0.17113384  1.2447208  -0.         -0.\n",
      "  0.71223456 -0.10827776  0.         -0.         -0.02182763  0.\n",
      "  0.          0.          0.44699848 -1.27580616 -1.19767614 -0.24018407\n",
      "  1.04214689 -0.81533719  0.02304282  0.21971637  0.         -0.29553946\n",
      "  1.09643218  0.         -0.          1.20803777  1.16584377 -1.26669219\n",
      " -0.12354843 -0.37542584  0.          0.82620826  0.39968414 -1.2734467\n",
      " -0.50616189  0.         -0.54472684  0.70684492  0.         -0.\n",
      " -0.         -0.        ]\n",
      "feature 갯수: 41\n",
      "가장 강한 양의 상관관계:  가해_40대 \n",
      "가장 강한 음의 상관관계:  vio_cnt\n"
     ]
    }
   ],
   "source": [
    "# 결과\n",
    "\n",
    "print('alpha =', ela2.alpha)\n",
    "print('l1_ratio =', ela2.l1_ratio)\n",
    "print(ela2.coef_) # Ridge 회귀분석으로 나온 weghit값\n",
    "print('feature 갯수:', len(a_.columns[ela2.coef_ != 0]))\n",
    "print('가장 강한 양의 상관관계: ',a_.columns[ela2.coef_.argmax()], '\\n가장 강한 음의 상관관계: ', a_.columns[ela2.coef_.argmin()])"
   ]
  },
  {
   "cell_type": "code",
   "execution_count": 93,
   "id": "646b2b1f",
   "metadata": {
    "ExecuteTime": {
     "end_time": "2021-12-03T02:13:28.606281Z",
     "start_time": "2021-12-03T02:13:28.593160Z"
    }
   },
   "outputs": [
    {
     "name": "stdout",
     "output_type": "stream",
     "text": [
      "상위 30개 feature\n",
      " Index(['for_o60', 'single_2030', 'report_sx_여성', 'light_cnt', '피해_30대',\n",
      "       'traffic_x', 'single_o60', '가해_성별_기타불명', 'single_f_u20', 'public_y',\n",
      "       'single_f_2030', '가해_70대', '피해_80대이상', 'single_u20', '가해_10대이하', '가해_여',\n",
      "       '차대사람', 'crm', '피해_70대', 'car_cnt', 'popu_u20', '가해_20대', 'for_u20',\n",
      "       '피해_50대', 'popu_o60', '가해_40대', 'for_2030', 'single_4050', '피해_40대',\n",
      "       'vio_cnt'],\n",
      "      dtype='object')\n"
     ]
    }
   ],
   "source": [
    "# q2 관련 feature\n",
    "print('상위 30개 feature\\n', a_.columns[sorted(range(len(ela2.coef_)), key=lambda i: abs(ela2.coef_[i]))[-30:]])"
   ]
  },
  {
   "cell_type": "markdown",
   "id": "f345e5cd",
   "metadata": {},
   "source": [
    "#### q3 교통안전"
   ]
  },
  {
   "cell_type": "code",
   "execution_count": 94,
   "id": "86cd47f1",
   "metadata": {
    "ExecuteTime": {
     "end_time": "2021-12-03T02:27:29.986604Z",
     "start_time": "2021-12-03T02:13:28.879749Z"
    }
   },
   "outputs": [],
   "source": [
    "# 그리드 서치 후 최고 성능의 모델을 lasso3에 저장\n",
    "\n",
    "grid_search.fit(xtrain, ytrain3)\n",
    "ela3 = grid_search.best_estimator_"
   ]
  },
  {
   "cell_type": "code",
   "execution_count": 95,
   "id": "9b8ddf36",
   "metadata": {
    "ExecuteTime": {
     "end_time": "2021-12-03T02:27:30.317350Z",
     "start_time": "2021-12-03T02:27:30.303345Z"
    }
   },
   "outputs": [
    {
     "data": {
      "text/plain": [
       "2.3760966843835383"
      ]
     },
     "execution_count": 95,
     "metadata": {},
     "output_type": "execute_result"
    }
   ],
   "source": [
    "# MAE 출력\n",
    "\n",
    "y_pred3 = ela3.predict(xtest)\n",
    "mean_absolute_error(ytest3, y_pred3)"
   ]
  },
  {
   "cell_type": "code",
   "execution_count": 96,
   "id": "1756fa6a",
   "metadata": {
    "ExecuteTime": {
     "end_time": "2021-12-03T02:27:30.646074Z",
     "start_time": "2021-12-03T02:27:30.632016Z"
    }
   },
   "outputs": [
    {
     "name": "stdout",
     "output_type": "stream",
     "text": [
      "alpha = 0.10300000000000001\n",
      "l1_ratio = 1.0\n",
      "[ 0.          0.          0.          0.         -0.          0.\n",
      "  0.         -0.         -0.          0.         -0.55336726 -0.\n",
      " -0.         -0.         -0.         -0.          0.04990643  0.06043667\n",
      " -0.          0.         -0.          0.          0.          0.03498378\n",
      " -0.53240505 -0.          0.          0.          0.          0.\n",
      "  0.20997002  0.03421813  0.02450541  0.         -0.          0.\n",
      "  0.31074658 -0.          0.          0.          0.          0.\n",
      "  0.73514988  0.          0.18844533  0.39609599  0.         -0.\n",
      "  0.05221736  0.          0.          0.          0.         -0.15517961\n",
      " -0.         -0.         -0.          0.         -0.         -0.76275336\n",
      " -0.         -0.          0.          0.         -0.         -0.\n",
      " -0.         -0.        ]\n",
      "feature 갯수: 15\n",
      "가장 강한 양의 상관관계:  피해_70대 \n",
      "가장 강한 음의 상관관계:  single_4050\n"
     ]
    }
   ],
   "source": [
    "# 결과\n",
    "\n",
    "print('alpha =', ela3.alpha)\n",
    "print('l1_ratio =', ela3.l1_ratio)\n",
    "print(ela3.coef_) # Ridge 회귀분석으로 나온 weghit값\n",
    "print('feature 갯수:', len(a_.columns[ela3.coef_ != 0]))\n",
    "print('가장 강한 양의 상관관계: ',a_.columns[ela3.coef_.argmax()], '\\n가장 강한 음의 상관관계: ', a_.columns[ela3.coef_.argmin()])"
   ]
  },
  {
   "cell_type": "code",
   "execution_count": 97,
   "id": "4f6a72a2",
   "metadata": {
    "ExecuteTime": {
     "end_time": "2021-12-03T02:27:30.991555Z",
     "start_time": "2021-12-03T02:27:30.982608Z"
    }
   },
   "outputs": [
    {
     "name": "stdout",
     "output_type": "stream",
     "text": [
      "상위 30개 feature\n",
      " Index(['popu_o60', 'for_u20', 'for_4050', 'for_o60', 'single_합계', 'single_u20',\n",
      "       'single_2030', 'single_o60', 'single_f_합계', 'single_f_u20',\n",
      "       'single_f_2030', 'single_f_4050', 'single_f_o60', 'adult', 'bell',\n",
      "       '가해_미분류', '가해_80대이상', '가해_여', 'public_y', 'popu_u20', 'light_cnt',\n",
      "       'for_2030', 'cctv', '가해_70대', '피해_10대이하', 'pol_num', '가해_10대이하',\n",
      "       'traffic_x', '피해_70대', 'single_4050'],\n",
      "      dtype='object')\n"
     ]
    }
   ],
   "source": [
    "# q3 관련 feature\n",
    "print('상위 30개 feature\\n', a_.columns[sorted(range(len(ela3.coef_)), key=lambda i: abs(ela3.coef_[i]))[-30:]])"
   ]
  },
  {
   "cell_type": "markdown",
   "id": "745d4226",
   "metadata": {},
   "source": [
    "#### q4 법질서 준수도"
   ]
  },
  {
   "cell_type": "code",
   "execution_count": 98,
   "id": "440b790c",
   "metadata": {
    "ExecuteTime": {
     "end_time": "2021-12-03T02:43:18.794557Z",
     "start_time": "2021-12-03T02:27:31.311368Z"
    }
   },
   "outputs": [],
   "source": [
    "# 그리드 서치 후 최고 성능의 모델을 lasso4에 저장\n",
    "\n",
    "grid_search.fit(xtrain, ytrain4)\n",
    "ela4 = grid_search.best_estimator_"
   ]
  },
  {
   "cell_type": "code",
   "execution_count": 100,
   "id": "1f1455e3",
   "metadata": {
    "ExecuteTime": {
     "end_time": "2021-12-03T03:13:20.673484Z",
     "start_time": "2021-12-03T03:13:20.664537Z"
    }
   },
   "outputs": [
    {
     "data": {
      "text/plain": [
       "3.056344832879569"
      ]
     },
     "execution_count": 100,
     "metadata": {},
     "output_type": "execute_result"
    }
   ],
   "source": [
    "# MAE 출력\n",
    "\n",
    "y_pred4 = ela4.predict(xtest)\n",
    "mean_absolute_error(ytest4, y_pred4)"
   ]
  },
  {
   "cell_type": "code",
   "execution_count": 101,
   "id": "6ddde85f",
   "metadata": {
    "ExecuteTime": {
     "end_time": "2021-12-03T03:13:22.405887Z",
     "start_time": "2021-12-03T03:13:22.388930Z"
    }
   },
   "outputs": [
    {
     "name": "stdout",
     "output_type": "stream",
     "text": [
      "alpha = 0.031\n",
      "l1_ratio = 0.6900000000000001\n",
      "[-0.          0.24150954  0.         -0.         -0.53700934  1.13489491\n",
      "  1.49207533 -0.73508388 -0.76492602  0.33171526  0.         -0.\n",
      " -0.07624504 -0.50385227 -0.09760388  0.7611069  -0.04087271  0.31914558\n",
      "  0.          0.         -0.          0.65034571 -0.          0.\n",
      " -1.29070461 -1.19169247  0.          1.48961261 -0.         -0.\n",
      "  1.29256005 -0.11773603  0.31498759  0.         -0.9453238   0.\n",
      "  0.87989901  0.16962998 -0.          0.         -0.61213644  0.02440665\n",
      "  1.64029992 -0.566636    0.67771338 -2.20505513  0.         -0.05041857\n",
      "  1.15657328 -0.          0.          0.45014207  0.53181314 -0.42331519\n",
      " -0.4245959  -0.         -0.         -0.07075523  0.         -1.77568784\n",
      "  0.          0.05464103 -0.          1.24009976 -0.          0.\n",
      " -0.14867111 -0.14862669]\n",
      "feature 갯수: 41\n",
      "가장 강한 양의 상관관계:  피해_70대 \n",
      "가장 강한 음의 상관관계:  pol_num\n"
     ]
    }
   ],
   "source": [
    "# 결과\n",
    "\n",
    "print('alpha =', ela4.alpha)\n",
    "print('l1_ratio =', ela4.l1_ratio)\n",
    "print(ela4.coef_) # Ridge 회귀분석으로 나온 weghit값\n",
    "print('feature 갯수:', len(a_.columns[ela4.coef_ != 0]))\n",
    "print('가장 강한 양의 상관관계: ',a_.columns[ela4.coef_.argmax()], '\\n가장 강한 음의 상관관계: ', a_.columns[ela4.coef_.argmin()])"
   ]
  },
  {
   "cell_type": "code",
   "execution_count": 102,
   "id": "ca79628f",
   "metadata": {
    "ExecuteTime": {
     "end_time": "2021-12-03T03:13:23.087003Z",
     "start_time": "2021-12-03T03:13:23.070014Z"
    }
   },
   "outputs": [
    {
     "name": "stdout",
     "output_type": "stream",
     "text": [
      "상위 30개 feature\n",
      " Index(['report_sx_불상', '가해_미분류', 'light_cnt', 'robber_murder_x', 'for_2030',\n",
      "       'for_4050', 'popu_o60', 'theft_violence_y', 'for_u20', 'vio_cnt',\n",
      "       '피해_80대이상', '피해_50대', '가해_성별_기타불명', 'cctv', '5m_crm_yn', 'traffic_y',\n",
      "       'theft_violence_x', '피해_10대이하', '피해_미분류', 'mur_rob_cnt', 'popu_u20',\n",
      "       '가해_20대', 'single_f_2030', '가해_10대이하', '가해_70대', '가해_40대', 'car_cnt',\n",
      "       '피해_70대', 'single_4050', 'pol_num'],\n",
      "      dtype='object')\n"
     ]
    }
   ],
   "source": [
    "# q3 관련 feature\n",
    "print('상위 30개 feature\\n', a_.columns[sorted(range(len(ela4.coef_)), key=lambda i: abs(ela4.coef_[i]))[-30:]])"
   ]
  },
  {
   "cell_type": "markdown",
   "id": "5510203c",
   "metadata": {},
   "source": [
    "#### q5 전반적 안전도"
   ]
  },
  {
   "cell_type": "code",
   "execution_count": 103,
   "id": "0cfe81a5",
   "metadata": {
    "ExecuteTime": {
     "end_time": "2021-12-03T03:32:20.618483Z",
     "start_time": "2021-12-03T03:13:23.957726Z"
    }
   },
   "outputs": [],
   "source": [
    "# 그리드 서치 후 최고 성능의 모델을 lasso4에 저장\n",
    "\n",
    "grid_search.fit(xtrain, ytrain5)\n",
    "ela5 = grid_search.best_estimator_"
   ]
  },
  {
   "cell_type": "code",
   "execution_count": 104,
   "id": "c8ee961d",
   "metadata": {
    "ExecuteTime": {
     "end_time": "2021-12-03T03:32:20.948668Z",
     "start_time": "2021-12-03T03:32:20.934668Z"
    }
   },
   "outputs": [
    {
     "data": {
      "text/plain": [
       "2.3686828074892823"
      ]
     },
     "execution_count": 104,
     "metadata": {},
     "output_type": "execute_result"
    }
   ],
   "source": [
    "# MAE 출력\n",
    "\n",
    "y_pred5 = ela5.predict(xtest)\n",
    "mean_absolute_error(ytest5, y_pred5)"
   ]
  },
  {
   "cell_type": "code",
   "execution_count": 105,
   "id": "d96bc91b",
   "metadata": {
    "ExecuteTime": {
     "end_time": "2021-12-03T03:32:21.307655Z",
     "start_time": "2021-12-03T03:32:21.296641Z"
    }
   },
   "outputs": [
    {
     "name": "stdout",
     "output_type": "stream",
     "text": [
      "alpha = 0.029\n",
      "l1_ratio = 1.0\n",
      "[-0.00000000e+00  0.00000000e+00 -0.00000000e+00 -0.00000000e+00\n",
      " -1.36861487e+00  2.69902000e-01  8.51003569e-01 -0.00000000e+00\n",
      " -0.00000000e+00  2.14157721e-01  0.00000000e+00  0.00000000e+00\n",
      " -0.00000000e+00 -6.40584409e-01 -0.00000000e+00  3.05593969e-01\n",
      "  8.18888673e-02  3.71370669e-01  0.00000000e+00 -0.00000000e+00\n",
      " -0.00000000e+00  5.41791501e-01 -0.00000000e+00  0.00000000e+00\n",
      " -6.84321096e-01 -8.69641842e-01  0.00000000e+00  6.13399693e-01\n",
      " -0.00000000e+00 -0.00000000e+00  4.54654066e-01  0.00000000e+00\n",
      "  0.00000000e+00 -0.00000000e+00 -5.95903092e-01  0.00000000e+00\n",
      "  0.00000000e+00  0.00000000e+00  0.00000000e+00 -0.00000000e+00\n",
      " -0.00000000e+00 -0.00000000e+00  1.21450043e+00 -2.36522287e-01\n",
      "  2.02121698e-01 -0.00000000e+00  0.00000000e+00 -0.00000000e+00\n",
      "  1.33064285e+00 -0.00000000e+00  0.00000000e+00  0.00000000e+00\n",
      "  1.79336775e-01 -6.82815942e-01 -2.54497244e-01 -1.08298929e-01\n",
      " -0.00000000e+00  0.00000000e+00  0.00000000e+00 -1.55881554e+00\n",
      " -3.65909309e-02  0.00000000e+00 -0.00000000e+00  1.09982566e+00\n",
      "  0.00000000e+00 -0.00000000e+00 -6.84911952e-02 -2.57471798e-17]\n",
      "feature 갯수: 27\n",
      "가장 강한 양의 상관관계:  popu_u20 \n",
      "가장 강한 음의 상관관계:  single_4050\n"
     ]
    }
   ],
   "source": [
    "# 결과\n",
    "\n",
    "print('alpha =', ela5.alpha)\n",
    "print('l1_ratio =', ela5.l1_ratio)\n",
    "print(ela5.coef_) # Ridge 회귀분석으로 나온 weghit값\n",
    "print('feature 갯수:', len(a_.columns[ela5.coef_ != 0]))\n",
    "print('가장 강한 양의 상관관계: ',a_.columns[ela5.coef_.argmax()], '\\n가장 강한 음의 상관관계: ', a_.columns[ela5.coef_.argmin()])"
   ]
  },
  {
   "cell_type": "code",
   "execution_count": 108,
   "id": "10ee398a",
   "metadata": {
    "ExecuteTime": {
     "end_time": "2021-12-03T03:32:57.431527Z",
     "start_time": "2021-12-03T03:32:57.417524Z"
    }
   },
   "outputs": [
    {
     "name": "stdout",
     "output_type": "stream",
     "text": [
      "feature:  Index(['vio_cnt', 'mur_rob_cnt', 'car_cnt', 'robber_murder_x',\n",
      "       'theft_violence_y', 'traffic_y', 'public_y', 'light_cnt', '가해_성별_기타불명',\n",
      "       '가해_10대이하', '가해_20대', '가해_40대', '가해_70대', '피해_미분류', '피해_70대',\n",
      "       '피해_80대이상', 'cctv', 'popu_u20', 'for_u20', 'for_2030', 'for_4050',\n",
      "       'for_o60', 'single_4050', 'single_o60', 'single_f_2030', 'adult',\n",
      "       'bell'],\n",
      "      dtype='object')\n"
     ]
    }
   ],
   "source": [
    "print('feature: ', a_.columns[ela5.coef_ != 0])"
   ]
  },
  {
   "cell_type": "code",
   "execution_count": 106,
   "id": "e3024f8d",
   "metadata": {
    "ExecuteTime": {
     "end_time": "2021-12-03T03:32:21.682537Z",
     "start_time": "2021-12-03T03:32:21.668573Z"
    },
    "scrolled": true
   },
   "outputs": [
    {
     "name": "stdout",
     "output_type": "stream",
     "text": [
      "상위 30개 feature\n",
      " Index(['single_f_u20', 'single_f_4050', 'single_f_o60', 'bell', 'single_o60',\n",
      "       'adult', 'public_y', 'for_o60', 'for_u20', 'cctv', 'robber_murder_x',\n",
      "       '피해_80대이상', 'for_4050', 'mur_rob_cnt', 'traffic_y', 'light_cnt',\n",
      "       '가해_70대', '가해_성별_기타불명', '피해_미분류', '가해_40대', 'theft_violence_y',\n",
      "       'for_2030', '가해_10대이하', 'car_cnt', '가해_20대', 'single_f_2030', '피해_70대',\n",
      "       'popu_u20', 'vio_cnt', 'single_4050'],\n",
      "      dtype='object')\n"
     ]
    }
   ],
   "source": [
    "# q5 관련 feature\n",
    "print('상위 30개 feature\\n', a_.columns[sorted(range(len(ela5.coef_)), key=lambda i: abs(ela5.coef_[i]))[-30:]])"
   ]
  },
  {
   "cell_type": "code",
   "execution_count": null,
   "id": "18095a7e",
   "metadata": {},
   "outputs": [],
   "source": []
  }
 ],
 "metadata": {
  "kernelspec": {
   "display_name": "Python 3",
   "language": "python",
   "name": "python3"
  },
  "language_info": {
   "codemirror_mode": {
    "name": "ipython",
    "version": 3
   },
   "file_extension": ".py",
   "mimetype": "text/x-python",
   "name": "python",
   "nbconvert_exporter": "python",
   "pygments_lexer": "ipython3",
   "version": "3.8.8"
  },
  "toc": {
   "base_numbering": 1,
   "nav_menu": {},
   "number_sections": true,
   "sideBar": true,
   "skip_h1_title": false,
   "title_cell": "Table of Contents",
   "title_sidebar": "Contents",
   "toc_cell": false,
   "toc_position": {},
   "toc_section_display": true,
   "toc_window_display": false
  },
  "varInspector": {
   "cols": {
    "lenName": 16,
    "lenType": 16,
    "lenVar": 40
   },
   "kernels_config": {
    "python": {
     "delete_cmd_postfix": "",
     "delete_cmd_prefix": "del ",
     "library": "var_list.py",
     "varRefreshCmd": "print(var_dic_list())"
    },
    "r": {
     "delete_cmd_postfix": ") ",
     "delete_cmd_prefix": "rm(",
     "library": "var_list.r",
     "varRefreshCmd": "cat(var_dic_list()) "
    }
   },
   "types_to_exclude": [
    "module",
    "function",
    "builtin_function_or_method",
    "instance",
    "_Feature"
   ],
   "window_display": false
  }
 },
 "nbformat": 4,
 "nbformat_minor": 5
}
