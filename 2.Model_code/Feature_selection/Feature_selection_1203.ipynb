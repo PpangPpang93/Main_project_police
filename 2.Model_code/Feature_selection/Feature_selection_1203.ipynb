{
 "cells": [
  {
   "cell_type": "code",
   "execution_count": 82,
   "id": "345df019",
   "metadata": {
    "ExecuteTime": {
     "end_time": "2021-12-03T04:40:01.643912Z",
     "start_time": "2021-12-03T04:40:01.631919Z"
    }
   },
   "outputs": [],
   "source": [
    "# 패키지 불러오기\n",
    "import numpy as np\n",
    "import pandas as pd\n",
    "import matplotlib.pyplot as plt\n",
    "import seaborn as sns\n",
    "\n",
    "from sklearn.preprocessing import StandardScaler\n",
    "from sklearn.preprocessing import MinMaxScaler\n",
    "from sklearn.metrics import make_scorer\n",
    "from sklearn.metrics import mean_absolute_error, mean_squared_error\n",
    "from sklearn.model_selection import train_test_split\n",
    "from sklearn.model_selection import KFold\n",
    "from sklearn.model_selection import cross_val_score\n",
    "from sklearn.metrics import explained_variance_score\n",
    "\n",
    "from sklearn.linear_model import Ridge\n",
    "import xgboost as xgb\n",
    "from xgboost import plot_tree\n",
    "from xgboost import XGBClassifier\n",
    "from xgboost import plot_importance\n",
    "from sklearn.metrics import confusion_matrix, accuracy_score, precision_score, recall_score\n",
    "from sklearn.metrics import confusion_matrix, f1_score, roc_auc_score"
   ]
  },
  {
   "cell_type": "code",
   "execution_count": 28,
   "id": "672c6a65",
   "metadata": {
    "ExecuteTime": {
     "end_time": "2021-12-03T01:36:13.132823Z",
     "start_time": "2021-12-03T01:36:13.115654Z"
    }
   },
   "outputs": [],
   "source": [
    "# 한글 폰트 깨짐 방지\n",
    "import warnings\n",
    "import platform\n",
    "from matplotlib import font_manager, rc\n",
    "## 운영체제별 글꼴 세팅\n",
    "path = \"c:/Windows/Fonts/malgun.ttf\"\n",
    "if platform.system() == 'Darwin':\n",
    "    font_name = 'AppleGothic'\n",
    "    rc('font', family='AppleGothic')\n",
    "elif platform.system() == 'Windows':\n",
    "    font_name = font_manager.FontProperties(fname=path).get_name()\n",
    "    rc('font', family=font_name)\n",
    "else:\n",
    "    font_name = font_manager.FontProperties(fname=\"/usr/share/fonts/nanumfont/NanumGothic.ttf\")\n",
    "    rc('font', family=\"NanumGothic\")\n",
    "warnings.simplefilter(action='ignore')"
   ]
  },
  {
   "cell_type": "code",
   "execution_count": 6,
   "id": "a1553a35",
   "metadata": {
    "ExecuteTime": {
     "end_time": "2021-12-03T00:48:37.153077Z",
     "start_time": "2021-12-03T00:48:37.119082Z"
    }
   },
   "outputs": [],
   "source": [
    "df = pd.read_csv('C:\\\\Users\\SAMSUNG\\Desktop\\SSAC\\머신러닝\\메인프로젝트/df_cor15_scale.csv')\n",
    "df.drop(['Unnamed: 0'], axis = 1, inplace = True)"
   ]
  },
  {
   "cell_type": "code",
   "execution_count": 19,
   "id": "424c6e19",
   "metadata": {
    "ExecuteTime": {
     "end_time": "2021-12-03T01:29:47.146394Z",
     "start_time": "2021-12-03T01:29:47.079636Z"
    }
   },
   "outputs": [
    {
     "data": {
      "text/html": [
       "<div>\n",
       "<style scoped>\n",
       "    .dataframe tbody tr th:only-of-type {\n",
       "        vertical-align: middle;\n",
       "    }\n",
       "\n",
       "    .dataframe tbody tr th {\n",
       "        vertical-align: top;\n",
       "    }\n",
       "\n",
       "    .dataframe thead th {\n",
       "        text-align: right;\n",
       "    }\n",
       "</style>\n",
       "<table border=\"1\" class=\"dataframe\">\n",
       "  <thead>\n",
       "    <tr style=\"text-align: right;\">\n",
       "      <th></th>\n",
       "      <th>report_sx_남성</th>\n",
       "      <th>report_sx_불상</th>\n",
       "      <th>report_sx_여성</th>\n",
       "      <th>report_sx_total</th>\n",
       "      <th>vio_cnt</th>\n",
       "      <th>mur_rob_cnt</th>\n",
       "      <th>car_cnt</th>\n",
       "      <th>5m_crm_yn</th>\n",
       "      <th>theft_violence_x</th>\n",
       "      <th>robber_murder_x</th>\n",
       "      <th>...</th>\n",
       "      <th>single_f_2030</th>\n",
       "      <th>single_f_4050</th>\n",
       "      <th>single_f_o60</th>\n",
       "      <th>adult</th>\n",
       "      <th>bell</th>\n",
       "      <th>q1</th>\n",
       "      <th>q2</th>\n",
       "      <th>q3</th>\n",
       "      <th>q4</th>\n",
       "      <th>q5</th>\n",
       "    </tr>\n",
       "  </thead>\n",
       "  <tbody>\n",
       "    <tr>\n",
       "      <th>0</th>\n",
       "      <td>-0.873690</td>\n",
       "      <td>-0.812504</td>\n",
       "      <td>-1.088919</td>\n",
       "      <td>-0.946182</td>\n",
       "      <td>-1.080025</td>\n",
       "      <td>-0.680192</td>\n",
       "      <td>-0.925678</td>\n",
       "      <td>-0.533681</td>\n",
       "      <td>-0.402208</td>\n",
       "      <td>0.020461</td>\n",
       "      <td>...</td>\n",
       "      <td>-0.971652</td>\n",
       "      <td>-1.708729</td>\n",
       "      <td>-1.550049</td>\n",
       "      <td>-0.593423</td>\n",
       "      <td>-0.593423</td>\n",
       "      <td>75.2</td>\n",
       "      <td>76.5</td>\n",
       "      <td>69.9</td>\n",
       "      <td>65.9</td>\n",
       "      <td>72.6</td>\n",
       "    </tr>\n",
       "    <tr>\n",
       "      <th>1</th>\n",
       "      <td>-1.073739</td>\n",
       "      <td>-1.097357</td>\n",
       "      <td>-1.171360</td>\n",
       "      <td>-1.127285</td>\n",
       "      <td>-1.261404</td>\n",
       "      <td>-0.680192</td>\n",
       "      <td>-1.425254</td>\n",
       "      <td>-0.714168</td>\n",
       "      <td>-0.545798</td>\n",
       "      <td>-0.698583</td>\n",
       "      <td>...</td>\n",
       "      <td>-0.877762</td>\n",
       "      <td>-1.629960</td>\n",
       "      <td>-1.502108</td>\n",
       "      <td>0.299434</td>\n",
       "      <td>0.299434</td>\n",
       "      <td>81.6</td>\n",
       "      <td>82.4</td>\n",
       "      <td>69.1</td>\n",
       "      <td>62.7</td>\n",
       "      <td>72.2</td>\n",
       "    </tr>\n",
       "    <tr>\n",
       "      <th>2</th>\n",
       "      <td>-1.346245</td>\n",
       "      <td>-1.393118</td>\n",
       "      <td>-1.583148</td>\n",
       "      <td>-1.450459</td>\n",
       "      <td>-1.386409</td>\n",
       "      <td>-0.680192</td>\n",
       "      <td>-1.545335</td>\n",
       "      <td>-0.918154</td>\n",
       "      <td>-0.887971</td>\n",
       "      <td>-1.417626</td>\n",
       "      <td>...</td>\n",
       "      <td>-0.971652</td>\n",
       "      <td>-1.708729</td>\n",
       "      <td>-1.550049</td>\n",
       "      <td>-0.593423</td>\n",
       "      <td>-0.593423</td>\n",
       "      <td>77.3</td>\n",
       "      <td>79.3</td>\n",
       "      <td>68.8</td>\n",
       "      <td>61.0</td>\n",
       "      <td>71.7</td>\n",
       "    </tr>\n",
       "    <tr>\n",
       "      <th>3</th>\n",
       "      <td>-0.321555</td>\n",
       "      <td>2.036024</td>\n",
       "      <td>-0.182071</td>\n",
       "      <td>0.065182</td>\n",
       "      <td>-0.589811</td>\n",
       "      <td>-0.680192</td>\n",
       "      <td>-0.581016</td>\n",
       "      <td>-0.037717</td>\n",
       "      <td>-0.090585</td>\n",
       "      <td>-1.417626</td>\n",
       "      <td>...</td>\n",
       "      <td>0.708900</td>\n",
       "      <td>0.029251</td>\n",
       "      <td>0.221012</td>\n",
       "      <td>-0.593423</td>\n",
       "      <td>-0.593423</td>\n",
       "      <td>78.0</td>\n",
       "      <td>80.0</td>\n",
       "      <td>67.0</td>\n",
       "      <td>66.3</td>\n",
       "      <td>71.4</td>\n",
       "    </tr>\n",
       "    <tr>\n",
       "      <th>4</th>\n",
       "      <td>-1.155951</td>\n",
       "      <td>-0.917384</td>\n",
       "      <td>-1.274359</td>\n",
       "      <td>-1.178306</td>\n",
       "      <td>-1.240979</td>\n",
       "      <td>-0.680192</td>\n",
       "      <td>-1.395921</td>\n",
       "      <td>-0.739167</td>\n",
       "      <td>-0.845200</td>\n",
       "      <td>0.020461</td>\n",
       "      <td>...</td>\n",
       "      <td>-0.877762</td>\n",
       "      <td>-1.629960</td>\n",
       "      <td>-1.502108</td>\n",
       "      <td>-0.593423</td>\n",
       "      <td>-0.593423</td>\n",
       "      <td>78.6</td>\n",
       "      <td>80.6</td>\n",
       "      <td>70.7</td>\n",
       "      <td>65.2</td>\n",
       "      <td>75.4</td>\n",
       "    </tr>\n",
       "    <tr>\n",
       "      <th>...</th>\n",
       "      <td>...</td>\n",
       "      <td>...</td>\n",
       "      <td>...</td>\n",
       "      <td>...</td>\n",
       "      <td>...</td>\n",
       "      <td>...</td>\n",
       "      <td>...</td>\n",
       "      <td>...</td>\n",
       "      <td>...</td>\n",
       "      <td>...</td>\n",
       "      <td>...</td>\n",
       "      <td>...</td>\n",
       "      <td>...</td>\n",
       "      <td>...</td>\n",
       "      <td>...</td>\n",
       "      <td>...</td>\n",
       "      <td>...</td>\n",
       "      <td>...</td>\n",
       "      <td>...</td>\n",
       "      <td>...</td>\n",
       "      <td>...</td>\n",
       "    </tr>\n",
       "    <tr>\n",
       "      <th>241</th>\n",
       "      <td>-0.958533</td>\n",
       "      <td>-0.916965</td>\n",
       "      <td>-0.835575</td>\n",
       "      <td>-0.933879</td>\n",
       "      <td>-0.968910</td>\n",
       "      <td>-0.032891</td>\n",
       "      <td>-0.419685</td>\n",
       "      <td>-1.100141</td>\n",
       "      <td>-1.040727</td>\n",
       "      <td>-0.698583</td>\n",
       "      <td>...</td>\n",
       "      <td>-0.845594</td>\n",
       "      <td>0.027122</td>\n",
       "      <td>-0.265578</td>\n",
       "      <td>-0.146995</td>\n",
       "      <td>-0.146995</td>\n",
       "      <td>79.1</td>\n",
       "      <td>79.5</td>\n",
       "      <td>68.5</td>\n",
       "      <td>71.2</td>\n",
       "      <td>76.0</td>\n",
       "    </tr>\n",
       "    <tr>\n",
       "      <th>242</th>\n",
       "      <td>-1.003147</td>\n",
       "      <td>-1.100714</td>\n",
       "      <td>-0.973045</td>\n",
       "      <td>-1.027990</td>\n",
       "      <td>-1.128230</td>\n",
       "      <td>0.938060</td>\n",
       "      <td>-0.768014</td>\n",
       "      <td>-1.486613</td>\n",
       "      <td>-1.688412</td>\n",
       "      <td>-0.339061</td>\n",
       "      <td>...</td>\n",
       "      <td>-0.957283</td>\n",
       "      <td>-0.853710</td>\n",
       "      <td>0.260147</td>\n",
       "      <td>0.745862</td>\n",
       "      <td>0.745862</td>\n",
       "      <td>80.8</td>\n",
       "      <td>80.0</td>\n",
       "      <td>70.8</td>\n",
       "      <td>73.2</td>\n",
       "      <td>76.5</td>\n",
       "    </tr>\n",
       "    <tr>\n",
       "      <th>243</th>\n",
       "      <td>-0.679341</td>\n",
       "      <td>-0.833061</td>\n",
       "      <td>-0.732576</td>\n",
       "      <td>-0.731357</td>\n",
       "      <td>-0.760569</td>\n",
       "      <td>1.909011</td>\n",
       "      <td>-0.469185</td>\n",
       "      <td>-1.211133</td>\n",
       "      <td>-1.196538</td>\n",
       "      <td>0.739504</td>\n",
       "      <td>...</td>\n",
       "      <td>-1.074850</td>\n",
       "      <td>-0.799423</td>\n",
       "      <td>-0.072507</td>\n",
       "      <td>-0.146995</td>\n",
       "      <td>-0.146995</td>\n",
       "      <td>75.0</td>\n",
       "      <td>76.5</td>\n",
       "      <td>69.4</td>\n",
       "      <td>68.9</td>\n",
       "      <td>73.1</td>\n",
       "    </tr>\n",
       "    <tr>\n",
       "      <th>244</th>\n",
       "      <td>0.051030</td>\n",
       "      <td>0.036181</td>\n",
       "      <td>0.058191</td>\n",
       "      <td>0.051943</td>\n",
       "      <td>-0.076720</td>\n",
       "      <td>-0.680192</td>\n",
       "      <td>1.052459</td>\n",
       "      <td>-0.733167</td>\n",
       "      <td>-0.509137</td>\n",
       "      <td>-1.417626</td>\n",
       "      <td>...</td>\n",
       "      <td>-0.335158</td>\n",
       "      <td>0.406598</td>\n",
       "      <td>1.772423</td>\n",
       "      <td>2.978006</td>\n",
       "      <td>2.978006</td>\n",
       "      <td>78.7</td>\n",
       "      <td>79.6</td>\n",
       "      <td>70.3</td>\n",
       "      <td>74.6</td>\n",
       "      <td>75.6</td>\n",
       "    </tr>\n",
       "    <tr>\n",
       "      <th>245</th>\n",
       "      <td>-1.071437</td>\n",
       "      <td>-1.146861</td>\n",
       "      <td>-1.016861</td>\n",
       "      <td>-1.086942</td>\n",
       "      <td>-0.981982</td>\n",
       "      <td>-0.680192</td>\n",
       "      <td>-0.669015</td>\n",
       "      <td>-1.494112</td>\n",
       "      <td>-1.578428</td>\n",
       "      <td>-1.417626</td>\n",
       "      <td>...</td>\n",
       "      <td>-1.028149</td>\n",
       "      <td>-0.984105</td>\n",
       "      <td>-0.475281</td>\n",
       "      <td>0.745862</td>\n",
       "      <td>0.745862</td>\n",
       "      <td>76.6</td>\n",
       "      <td>79.2</td>\n",
       "      <td>67.0</td>\n",
       "      <td>70.9</td>\n",
       "      <td>73.5</td>\n",
       "    </tr>\n",
       "  </tbody>\n",
       "</table>\n",
       "<p>246 rows × 73 columns</p>\n",
       "</div>"
      ],
      "text/plain": [
       "     report_sx_남성  report_sx_불상  report_sx_여성  report_sx_total   vio_cnt  \\\n",
       "0       -0.873690     -0.812504     -1.088919        -0.946182 -1.080025   \n",
       "1       -1.073739     -1.097357     -1.171360        -1.127285 -1.261404   \n",
       "2       -1.346245     -1.393118     -1.583148        -1.450459 -1.386409   \n",
       "3       -0.321555      2.036024     -0.182071         0.065182 -0.589811   \n",
       "4       -1.155951     -0.917384     -1.274359        -1.178306 -1.240979   \n",
       "..            ...           ...           ...              ...       ...   \n",
       "241     -0.958533     -0.916965     -0.835575        -0.933879 -0.968910   \n",
       "242     -1.003147     -1.100714     -0.973045        -1.027990 -1.128230   \n",
       "243     -0.679341     -0.833061     -0.732576        -0.731357 -0.760569   \n",
       "244      0.051030      0.036181      0.058191         0.051943 -0.076720   \n",
       "245     -1.071437     -1.146861     -1.016861        -1.086942 -0.981982   \n",
       "\n",
       "     mur_rob_cnt   car_cnt  5m_crm_yn  theft_violence_x  robber_murder_x  ...  \\\n",
       "0      -0.680192 -0.925678  -0.533681         -0.402208         0.020461  ...   \n",
       "1      -0.680192 -1.425254  -0.714168         -0.545798        -0.698583  ...   \n",
       "2      -0.680192 -1.545335  -0.918154         -0.887971        -1.417626  ...   \n",
       "3      -0.680192 -0.581016  -0.037717         -0.090585        -1.417626  ...   \n",
       "4      -0.680192 -1.395921  -0.739167         -0.845200         0.020461  ...   \n",
       "..           ...       ...        ...               ...              ...  ...   \n",
       "241    -0.032891 -0.419685  -1.100141         -1.040727        -0.698583  ...   \n",
       "242     0.938060 -0.768014  -1.486613         -1.688412        -0.339061  ...   \n",
       "243     1.909011 -0.469185  -1.211133         -1.196538         0.739504  ...   \n",
       "244    -0.680192  1.052459  -0.733167         -0.509137        -1.417626  ...   \n",
       "245    -0.680192 -0.669015  -1.494112         -1.578428        -1.417626  ...   \n",
       "\n",
       "     single_f_2030  single_f_4050  single_f_o60     adult      bell    q1  \\\n",
       "0        -0.971652      -1.708729     -1.550049 -0.593423 -0.593423  75.2   \n",
       "1        -0.877762      -1.629960     -1.502108  0.299434  0.299434  81.6   \n",
       "2        -0.971652      -1.708729     -1.550049 -0.593423 -0.593423  77.3   \n",
       "3         0.708900       0.029251      0.221012 -0.593423 -0.593423  78.0   \n",
       "4        -0.877762      -1.629960     -1.502108 -0.593423 -0.593423  78.6   \n",
       "..             ...            ...           ...       ...       ...   ...   \n",
       "241      -0.845594       0.027122     -0.265578 -0.146995 -0.146995  79.1   \n",
       "242      -0.957283      -0.853710      0.260147  0.745862  0.745862  80.8   \n",
       "243      -1.074850      -0.799423     -0.072507 -0.146995 -0.146995  75.0   \n",
       "244      -0.335158       0.406598      1.772423  2.978006  2.978006  78.7   \n",
       "245      -1.028149      -0.984105     -0.475281  0.745862  0.745862  76.6   \n",
       "\n",
       "       q2    q3    q4    q5  \n",
       "0    76.5  69.9  65.9  72.6  \n",
       "1    82.4  69.1  62.7  72.2  \n",
       "2    79.3  68.8  61.0  71.7  \n",
       "3    80.0  67.0  66.3  71.4  \n",
       "4    80.6  70.7  65.2  75.4  \n",
       "..    ...   ...   ...   ...  \n",
       "241  79.5  68.5  71.2  76.0  \n",
       "242  80.0  70.8  73.2  76.5  \n",
       "243  76.5  69.4  68.9  73.1  \n",
       "244  79.6  70.3  74.6  75.6  \n",
       "245  79.2  67.0  70.9  73.5  \n",
       "\n",
       "[246 rows x 73 columns]"
      ]
     },
     "execution_count": 19,
     "metadata": {},
     "output_type": "execute_result"
    }
   ],
   "source": [
    "df"
   ]
  },
  {
   "cell_type": "code",
   "execution_count": 11,
   "id": "927093cb",
   "metadata": {
    "ExecuteTime": {
     "end_time": "2021-12-03T01:24:05.534303Z",
     "start_time": "2021-12-03T01:24:05.490693Z"
    }
   },
   "outputs": [
    {
     "name": "stderr",
     "output_type": "stream",
     "text": [
      "C:\\ProgramData\\Anaconda3\\lib\\site-packages\\pandas\\core\\frame.py:4308: SettingWithCopyWarning: \n",
      "A value is trying to be set on a copy of a slice from a DataFrame\n",
      "\n",
      "See the caveats in the documentation: https://pandas.pydata.org/pandas-docs/stable/user_guide/indexing.html#returning-a-view-versus-a-copy\n",
      "  return super().drop(\n"
     ]
    }
   ],
   "source": [
    "q1_co = df.corr().iloc[:,-5]\n",
    "q1df = pd.DataFrame(q1_co[abs(q1_co) > 0.15])\n",
    "q1_df = df[q1df.index]\n",
    "q1_df.drop(['q1','q2','q3','q4','q5'], axis = 1, inplace = True)"
   ]
  },
  {
   "cell_type": "code",
   "execution_count": 13,
   "id": "ab59eb0a",
   "metadata": {
    "ExecuteTime": {
     "end_time": "2021-12-03T01:25:38.477096Z",
     "start_time": "2021-12-03T01:25:38.450277Z"
    }
   },
   "outputs": [
    {
     "name": "stderr",
     "output_type": "stream",
     "text": [
      "C:\\ProgramData\\Anaconda3\\lib\\site-packages\\pandas\\core\\frame.py:4308: SettingWithCopyWarning: \n",
      "A value is trying to be set on a copy of a slice from a DataFrame\n",
      "\n",
      "See the caveats in the documentation: https://pandas.pydata.org/pandas-docs/stable/user_guide/indexing.html#returning-a-view-versus-a-copy\n",
      "  return super().drop(\n"
     ]
    }
   ],
   "source": [
    "q2_co = df.corr().iloc[:, -4]\n",
    "q2df = pd.DataFrame(q2_co[abs(q2_co) > 0.15])\n",
    "q2_df = df[q2df.index]\n",
    "q2_df.drop(['q1','q2','q3','q4','q5'], axis = 1, inplace = True)"
   ]
  },
  {
   "cell_type": "code",
   "execution_count": 48,
   "id": "d29cf729",
   "metadata": {
    "ExecuteTime": {
     "end_time": "2021-12-03T04:00:12.982940Z",
     "start_time": "2021-12-03T04:00:12.959152Z"
    }
   },
   "outputs": [],
   "source": [
    "q3_co = df.corr().iloc[:, -3]\n",
    "q3df = pd.DataFrame(q2_co[abs(q3_co) > 0.1])\n",
    "q3_df = df[q3df.index]\n",
    "q3_df.drop(['q1','q2','q3','q4','q5'], axis = 1, inplace = True)"
   ]
  },
  {
   "cell_type": "code",
   "execution_count": 15,
   "id": "9c0c9a01",
   "metadata": {
    "ExecuteTime": {
     "end_time": "2021-12-03T01:26:56.352519Z",
     "start_time": "2021-12-03T01:26:56.318657Z"
    }
   },
   "outputs": [
    {
     "name": "stderr",
     "output_type": "stream",
     "text": [
      "C:\\ProgramData\\Anaconda3\\lib\\site-packages\\pandas\\core\\frame.py:4308: SettingWithCopyWarning: \n",
      "A value is trying to be set on a copy of a slice from a DataFrame\n",
      "\n",
      "See the caveats in the documentation: https://pandas.pydata.org/pandas-docs/stable/user_guide/indexing.html#returning-a-view-versus-a-copy\n",
      "  return super().drop(\n"
     ]
    }
   ],
   "source": [
    "q4_co = df.corr().iloc[:, -2]\n",
    "q4df = pd.DataFrame(q4_co[abs(q4_co) > 0.15])\n",
    "q4_df = df[q4df.index]\n",
    "q4_df.drop(['q1','q2','q3','q4','q5'], axis = 1, inplace = True)"
   ]
  },
  {
   "cell_type": "code",
   "execution_count": 16,
   "id": "0868aaf3",
   "metadata": {
    "ExecuteTime": {
     "end_time": "2021-12-03T01:26:56.759182Z",
     "start_time": "2021-12-03T01:26:56.730500Z"
    }
   },
   "outputs": [
    {
     "name": "stderr",
     "output_type": "stream",
     "text": [
      "C:\\ProgramData\\Anaconda3\\lib\\site-packages\\pandas\\core\\frame.py:4308: SettingWithCopyWarning: \n",
      "A value is trying to be set on a copy of a slice from a DataFrame\n",
      "\n",
      "See the caveats in the documentation: https://pandas.pydata.org/pandas-docs/stable/user_guide/indexing.html#returning-a-view-versus-a-copy\n",
      "  return super().drop(\n"
     ]
    }
   ],
   "source": [
    "q5_co = df.corr().iloc[:, -1]\n",
    "q5df = pd.DataFrame(q5_co[abs(q5_co) > 0.15])\n",
    "q5_df = df[q5df.index]\n",
    "q5_df.drop(['q1','q2','q3','q4','q5'], axis = 1, inplace = True)"
   ]
  },
  {
   "cell_type": "code",
   "execution_count": 98,
   "id": "a833dcab",
   "metadata": {
    "ExecuteTime": {
     "end_time": "2021-12-03T05:05:31.599799Z",
     "start_time": "2021-12-03T05:05:31.581910Z"
    }
   },
   "outputs": [],
   "source": [
    "# train_test_split\n",
    "X_train_q1 = q1_df.iloc[:164,:]\n",
    "X_test_q1 = q1_df.iloc[164:,:]\n",
    "\n",
    "X_train_q2 = q2_df.iloc[:164,:]\n",
    "X_test_q2 = q2_df.iloc[164:,:]\n",
    "\n",
    "X_train_q3 = q3_df.iloc[:164,:]\n",
    "X_test_q3 = q3_df.iloc[164:,:]\n",
    "\n",
    "X_train_q4 = q4_df.iloc[:164,:]\n",
    "X_test_q4 = q4_df.iloc[164:,:]\n",
    "\n",
    "X_train_q5 = q5_df.iloc[:164,:]\n",
    "X_test_q5 = q5_df.iloc[164:,:]"
   ]
  },
  {
   "cell_type": "code",
   "execution_count": 25,
   "id": "4265fc3e",
   "metadata": {
    "ExecuteTime": {
     "end_time": "2021-12-03T01:34:17.417078Z",
     "start_time": "2021-12-03T01:34:17.342964Z"
    }
   },
   "outputs": [
    {
     "data": {
      "text/html": [
       "<div>\n",
       "<style scoped>\n",
       "    .dataframe tbody tr th:only-of-type {\n",
       "        vertical-align: middle;\n",
       "    }\n",
       "\n",
       "    .dataframe tbody tr th {\n",
       "        vertical-align: top;\n",
       "    }\n",
       "\n",
       "    .dataframe thead th {\n",
       "        text-align: right;\n",
       "    }\n",
       "</style>\n",
       "<table border=\"1\" class=\"dataframe\">\n",
       "  <thead>\n",
       "    <tr style=\"text-align: right;\">\n",
       "      <th></th>\n",
       "      <th>report_sx_여성</th>\n",
       "      <th>vio_cnt</th>\n",
       "      <th>theft_violence_x</th>\n",
       "      <th>robber_murder_x</th>\n",
       "      <th>theft_violence_y</th>\n",
       "      <th>robber_murder_y</th>\n",
       "      <th>가해_10대이하</th>\n",
       "      <th>피해_80대이상</th>\n",
       "      <th>for_합계</th>\n",
       "      <th>popu_2030</th>\n",
       "      <th>...</th>\n",
       "      <th>for_2030</th>\n",
       "      <th>for_4050</th>\n",
       "      <th>for_o60</th>\n",
       "      <th>single_합계</th>\n",
       "      <th>single_2030</th>\n",
       "      <th>single_4050</th>\n",
       "      <th>single_o60</th>\n",
       "      <th>single_f_합계</th>\n",
       "      <th>single_f_4050</th>\n",
       "      <th>single_f_o60</th>\n",
       "    </tr>\n",
       "  </thead>\n",
       "  <tbody>\n",
       "    <tr>\n",
       "      <th>0</th>\n",
       "      <td>-1.088919</td>\n",
       "      <td>-1.080025</td>\n",
       "      <td>-0.402208</td>\n",
       "      <td>0.020461</td>\n",
       "      <td>-0.948579</td>\n",
       "      <td>-0.450180</td>\n",
       "      <td>-1.087188</td>\n",
       "      <td>-1.000338</td>\n",
       "      <td>-0.553026</td>\n",
       "      <td>-1.607630</td>\n",
       "      <td>...</td>\n",
       "      <td>-0.715257</td>\n",
       "      <td>-0.444718</td>\n",
       "      <td>-0.389120</td>\n",
       "      <td>-1.382521</td>\n",
       "      <td>-1.007829</td>\n",
       "      <td>-1.645615</td>\n",
       "      <td>-1.541759</td>\n",
       "      <td>-1.408695</td>\n",
       "      <td>-1.708729</td>\n",
       "      <td>-1.550049</td>\n",
       "    </tr>\n",
       "    <tr>\n",
       "      <th>1</th>\n",
       "      <td>-1.171360</td>\n",
       "      <td>-1.261404</td>\n",
       "      <td>-0.545798</td>\n",
       "      <td>-0.698583</td>\n",
       "      <td>-1.100422</td>\n",
       "      <td>-0.117615</td>\n",
       "      <td>-1.179444</td>\n",
       "      <td>-0.799618</td>\n",
       "      <td>-0.517983</td>\n",
       "      <td>-1.518672</td>\n",
       "      <td>...</td>\n",
       "      <td>-0.536311</td>\n",
       "      <td>-0.489417</td>\n",
       "      <td>-0.457047</td>\n",
       "      <td>-1.293277</td>\n",
       "      <td>-0.913870</td>\n",
       "      <td>-1.586098</td>\n",
       "      <td>-1.475235</td>\n",
       "      <td>-1.322731</td>\n",
       "      <td>-1.629960</td>\n",
       "      <td>-1.502108</td>\n",
       "    </tr>\n",
       "    <tr>\n",
       "      <th>2</th>\n",
       "      <td>-1.583148</td>\n",
       "      <td>-1.386409</td>\n",
       "      <td>-0.887971</td>\n",
       "      <td>-1.417626</td>\n",
       "      <td>-1.013655</td>\n",
       "      <td>-1.447878</td>\n",
       "      <td>-1.363955</td>\n",
       "      <td>-1.401779</td>\n",
       "      <td>-0.553026</td>\n",
       "      <td>-1.607630</td>\n",
       "      <td>...</td>\n",
       "      <td>-0.715257</td>\n",
       "      <td>-0.444718</td>\n",
       "      <td>-0.389120</td>\n",
       "      <td>-1.382521</td>\n",
       "      <td>-1.007829</td>\n",
       "      <td>-1.645615</td>\n",
       "      <td>-1.541759</td>\n",
       "      <td>-1.408695</td>\n",
       "      <td>-1.708729</td>\n",
       "      <td>-1.550049</td>\n",
       "    </tr>\n",
       "    <tr>\n",
       "      <th>3</th>\n",
       "      <td>-0.182071</td>\n",
       "      <td>-0.589811</td>\n",
       "      <td>-0.090585</td>\n",
       "      <td>-1.417626</td>\n",
       "      <td>-0.167671</td>\n",
       "      <td>-1.115312</td>\n",
       "      <td>0.204387</td>\n",
       "      <td>0.003264</td>\n",
       "      <td>0.234176</td>\n",
       "      <td>0.366947</td>\n",
       "      <td>...</td>\n",
       "      <td>1.038446</td>\n",
       "      <td>-0.246735</td>\n",
       "      <td>-0.231116</td>\n",
       "      <td>0.330221</td>\n",
       "      <td>0.492436</td>\n",
       "      <td>-0.139220</td>\n",
       "      <td>0.116044</td>\n",
       "      <td>0.542183</td>\n",
       "      <td>0.029251</td>\n",
       "      <td>0.221012</td>\n",
       "    </tr>\n",
       "    <tr>\n",
       "      <th>4</th>\n",
       "      <td>-1.274359</td>\n",
       "      <td>-1.240979</td>\n",
       "      <td>-0.845200</td>\n",
       "      <td>0.020461</td>\n",
       "      <td>-1.306495</td>\n",
       "      <td>0.214951</td>\n",
       "      <td>-1.271699</td>\n",
       "      <td>-1.000338</td>\n",
       "      <td>-0.517983</td>\n",
       "      <td>-1.518672</td>\n",
       "      <td>...</td>\n",
       "      <td>-0.536311</td>\n",
       "      <td>-0.489417</td>\n",
       "      <td>-0.457047</td>\n",
       "      <td>-1.293277</td>\n",
       "      <td>-0.913870</td>\n",
       "      <td>-1.586098</td>\n",
       "      <td>-1.475235</td>\n",
       "      <td>-1.322731</td>\n",
       "      <td>-1.629960</td>\n",
       "      <td>-1.502108</td>\n",
       "    </tr>\n",
       "    <tr>\n",
       "      <th>...</th>\n",
       "      <td>...</td>\n",
       "      <td>...</td>\n",
       "      <td>...</td>\n",
       "      <td>...</td>\n",
       "      <td>...</td>\n",
       "      <td>...</td>\n",
       "      <td>...</td>\n",
       "      <td>...</td>\n",
       "      <td>...</td>\n",
       "      <td>...</td>\n",
       "      <td>...</td>\n",
       "      <td>...</td>\n",
       "      <td>...</td>\n",
       "      <td>...</td>\n",
       "      <td>...</td>\n",
       "      <td>...</td>\n",
       "      <td>...</td>\n",
       "      <td>...</td>\n",
       "      <td>...</td>\n",
       "      <td>...</td>\n",
       "      <td>...</td>\n",
       "    </tr>\n",
       "    <tr>\n",
       "      <th>159</th>\n",
       "      <td>-0.834329</td>\n",
       "      <td>-0.959106</td>\n",
       "      <td>-0.836034</td>\n",
       "      <td>-0.339061</td>\n",
       "      <td>-1.062462</td>\n",
       "      <td>-0.450180</td>\n",
       "      <td>-0.994933</td>\n",
       "      <td>-0.398177</td>\n",
       "      <td>-0.558769</td>\n",
       "      <td>-0.459891</td>\n",
       "      <td>...</td>\n",
       "      <td>-0.537062</td>\n",
       "      <td>-0.461164</td>\n",
       "      <td>-0.548108</td>\n",
       "      <td>-0.516542</td>\n",
       "      <td>-0.711253</td>\n",
       "      <td>0.114513</td>\n",
       "      <td>-0.313426</td>\n",
       "      <td>-0.673211</td>\n",
       "      <td>-0.011731</td>\n",
       "      <td>-0.381355</td>\n",
       "    </tr>\n",
       "    <tr>\n",
       "      <th>160</th>\n",
       "      <td>-1.116538</td>\n",
       "      <td>-1.099634</td>\n",
       "      <td>-1.297357</td>\n",
       "      <td>1.818068</td>\n",
       "      <td>-1.203459</td>\n",
       "      <td>0.880083</td>\n",
       "      <td>-1.363955</td>\n",
       "      <td>-0.598897</td>\n",
       "      <td>-0.774821</td>\n",
       "      <td>-1.078337</td>\n",
       "      <td>...</td>\n",
       "      <td>-0.901265</td>\n",
       "      <td>-0.627520</td>\n",
       "      <td>-0.616527</td>\n",
       "      <td>-0.775180</td>\n",
       "      <td>-0.948834</td>\n",
       "      <td>-0.785857</td>\n",
       "      <td>0.091380</td>\n",
       "      <td>-0.754035</td>\n",
       "      <td>-0.785053</td>\n",
       "      <td>0.127086</td>\n",
       "    </tr>\n",
       "    <tr>\n",
       "      <th>161</th>\n",
       "      <td>-1.004194</td>\n",
       "      <td>-0.897829</td>\n",
       "      <td>-0.701609</td>\n",
       "      <td>-0.698583</td>\n",
       "      <td>-1.002809</td>\n",
       "      <td>-0.782746</td>\n",
       "      <td>-1.087188</td>\n",
       "      <td>-0.598897</td>\n",
       "      <td>-0.784932</td>\n",
       "      <td>-0.975107</td>\n",
       "      <td>...</td>\n",
       "      <td>-0.936724</td>\n",
       "      <td>-0.620984</td>\n",
       "      <td>-0.598314</td>\n",
       "      <td>-0.869407</td>\n",
       "      <td>-1.040150</td>\n",
       "      <td>-0.634378</td>\n",
       "      <td>-0.171778</td>\n",
       "      <td>-0.888575</td>\n",
       "      <td>-0.710009</td>\n",
       "      <td>-0.217636</td>\n",
       "    </tr>\n",
       "    <tr>\n",
       "      <th>162</th>\n",
       "      <td>-0.142616</td>\n",
       "      <td>-0.159240</td>\n",
       "      <td>0.605981</td>\n",
       "      <td>0.739504</td>\n",
       "      <td>0.108900</td>\n",
       "      <td>-0.450180</td>\n",
       "      <td>-0.625912</td>\n",
       "      <td>1.609027</td>\n",
       "      <td>-0.419576</td>\n",
       "      <td>0.065377</td>\n",
       "      <td>...</td>\n",
       "      <td>-0.048453</td>\n",
       "      <td>-0.507760</td>\n",
       "      <td>-0.580594</td>\n",
       "      <td>0.264559</td>\n",
       "      <td>-0.230162</td>\n",
       "      <td>0.363770</td>\n",
       "      <td>1.387936</td>\n",
       "      <td>0.334276</td>\n",
       "      <td>0.445983</td>\n",
       "      <td>1.610987</td>\n",
       "    </tr>\n",
       "    <tr>\n",
       "      <th>163</th>\n",
       "      <td>-1.495724</td>\n",
       "      <td>-1.426443</td>\n",
       "      <td>-1.364570</td>\n",
       "      <td>-0.698583</td>\n",
       "      <td>-1.469185</td>\n",
       "      <td>-0.782746</td>\n",
       "      <td>-0.810422</td>\n",
       "      <td>-1.000338</td>\n",
       "      <td>-0.600291</td>\n",
       "      <td>-0.931782</td>\n",
       "      <td>...</td>\n",
       "      <td>-0.626010</td>\n",
       "      <td>-0.487730</td>\n",
       "      <td>-0.548600</td>\n",
       "      <td>-0.874802</td>\n",
       "      <td>-0.872898</td>\n",
       "      <td>-0.706873</td>\n",
       "      <td>-0.589481</td>\n",
       "      <td>-1.037023</td>\n",
       "      <td>-0.983041</td>\n",
       "      <td>-0.585187</td>\n",
       "    </tr>\n",
       "  </tbody>\n",
       "</table>\n",
       "<p>164 rows × 22 columns</p>\n",
       "</div>"
      ],
      "text/plain": [
       "     report_sx_여성   vio_cnt  theft_violence_x  robber_murder_x  \\\n",
       "0       -1.088919 -1.080025         -0.402208         0.020461   \n",
       "1       -1.171360 -1.261404         -0.545798        -0.698583   \n",
       "2       -1.583148 -1.386409         -0.887971        -1.417626   \n",
       "3       -0.182071 -0.589811         -0.090585        -1.417626   \n",
       "4       -1.274359 -1.240979         -0.845200         0.020461   \n",
       "..            ...       ...               ...              ...   \n",
       "159     -0.834329 -0.959106         -0.836034        -0.339061   \n",
       "160     -1.116538 -1.099634         -1.297357         1.818068   \n",
       "161     -1.004194 -0.897829         -0.701609        -0.698583   \n",
       "162     -0.142616 -0.159240          0.605981         0.739504   \n",
       "163     -1.495724 -1.426443         -1.364570        -0.698583   \n",
       "\n",
       "     theft_violence_y  robber_murder_y  가해_10대이하  피해_80대이상    for_합계  \\\n",
       "0           -0.948579        -0.450180 -1.087188 -1.000338 -0.553026   \n",
       "1           -1.100422        -0.117615 -1.179444 -0.799618 -0.517983   \n",
       "2           -1.013655        -1.447878 -1.363955 -1.401779 -0.553026   \n",
       "3           -0.167671        -1.115312  0.204387  0.003264  0.234176   \n",
       "4           -1.306495         0.214951 -1.271699 -1.000338 -0.517983   \n",
       "..                ...              ...       ...       ...       ...   \n",
       "159         -1.062462        -0.450180 -0.994933 -0.398177 -0.558769   \n",
       "160         -1.203459         0.880083 -1.363955 -0.598897 -0.774821   \n",
       "161         -1.002809        -0.782746 -1.087188 -0.598897 -0.784932   \n",
       "162          0.108900        -0.450180 -0.625912  1.609027 -0.419576   \n",
       "163         -1.469185        -0.782746 -0.810422 -1.000338 -0.600291   \n",
       "\n",
       "     popu_2030  ...  for_2030  for_4050   for_o60  single_합계  single_2030  \\\n",
       "0    -1.607630  ... -0.715257 -0.444718 -0.389120  -1.382521    -1.007829   \n",
       "1    -1.518672  ... -0.536311 -0.489417 -0.457047  -1.293277    -0.913870   \n",
       "2    -1.607630  ... -0.715257 -0.444718 -0.389120  -1.382521    -1.007829   \n",
       "3     0.366947  ...  1.038446 -0.246735 -0.231116   0.330221     0.492436   \n",
       "4    -1.518672  ... -0.536311 -0.489417 -0.457047  -1.293277    -0.913870   \n",
       "..         ...  ...       ...       ...       ...        ...          ...   \n",
       "159  -0.459891  ... -0.537062 -0.461164 -0.548108  -0.516542    -0.711253   \n",
       "160  -1.078337  ... -0.901265 -0.627520 -0.616527  -0.775180    -0.948834   \n",
       "161  -0.975107  ... -0.936724 -0.620984 -0.598314  -0.869407    -1.040150   \n",
       "162   0.065377  ... -0.048453 -0.507760 -0.580594   0.264559    -0.230162   \n",
       "163  -0.931782  ... -0.626010 -0.487730 -0.548600  -0.874802    -0.872898   \n",
       "\n",
       "     single_4050  single_o60  single_f_합계  single_f_4050  single_f_o60  \n",
       "0      -1.645615   -1.541759    -1.408695      -1.708729     -1.550049  \n",
       "1      -1.586098   -1.475235    -1.322731      -1.629960     -1.502108  \n",
       "2      -1.645615   -1.541759    -1.408695      -1.708729     -1.550049  \n",
       "3      -0.139220    0.116044     0.542183       0.029251      0.221012  \n",
       "4      -1.586098   -1.475235    -1.322731      -1.629960     -1.502108  \n",
       "..           ...         ...          ...            ...           ...  \n",
       "159     0.114513   -0.313426    -0.673211      -0.011731     -0.381355  \n",
       "160    -0.785857    0.091380    -0.754035      -0.785053      0.127086  \n",
       "161    -0.634378   -0.171778    -0.888575      -0.710009     -0.217636  \n",
       "162     0.363770    1.387936     0.334276       0.445983      1.610987  \n",
       "163    -0.706873   -0.589481    -1.037023      -0.983041     -0.585187  \n",
       "\n",
       "[164 rows x 22 columns]"
      ]
     },
     "execution_count": 25,
     "metadata": {},
     "output_type": "execute_result"
    }
   ],
   "source": [
    "X_train_q1"
   ]
  },
  {
   "cell_type": "code",
   "execution_count": 21,
   "id": "53cf242f",
   "metadata": {
    "ExecuteTime": {
     "end_time": "2021-12-03T01:30:28.846923Z",
     "start_time": "2021-12-03T01:30:28.804762Z"
    }
   },
   "outputs": [
    {
     "data": {
      "text/html": [
       "<div>\n",
       "<style scoped>\n",
       "    .dataframe tbody tr th:only-of-type {\n",
       "        vertical-align: middle;\n",
       "    }\n",
       "\n",
       "    .dataframe tbody tr th {\n",
       "        vertical-align: top;\n",
       "    }\n",
       "\n",
       "    .dataframe thead th {\n",
       "        text-align: right;\n",
       "    }\n",
       "</style>\n",
       "<table border=\"1\" class=\"dataframe\">\n",
       "  <thead>\n",
       "    <tr style=\"text-align: right;\">\n",
       "      <th></th>\n",
       "      <th>q1</th>\n",
       "      <th>q2</th>\n",
       "      <th>q3</th>\n",
       "      <th>q4</th>\n",
       "      <th>q5</th>\n",
       "    </tr>\n",
       "  </thead>\n",
       "  <tbody>\n",
       "    <tr>\n",
       "      <th>0</th>\n",
       "      <td>75.2</td>\n",
       "      <td>76.5</td>\n",
       "      <td>69.9</td>\n",
       "      <td>65.9</td>\n",
       "      <td>72.6</td>\n",
       "    </tr>\n",
       "    <tr>\n",
       "      <th>1</th>\n",
       "      <td>81.6</td>\n",
       "      <td>82.4</td>\n",
       "      <td>69.1</td>\n",
       "      <td>62.7</td>\n",
       "      <td>72.2</td>\n",
       "    </tr>\n",
       "    <tr>\n",
       "      <th>2</th>\n",
       "      <td>77.3</td>\n",
       "      <td>79.3</td>\n",
       "      <td>68.8</td>\n",
       "      <td>61.0</td>\n",
       "      <td>71.7</td>\n",
       "    </tr>\n",
       "    <tr>\n",
       "      <th>3</th>\n",
       "      <td>78.0</td>\n",
       "      <td>80.0</td>\n",
       "      <td>67.0</td>\n",
       "      <td>66.3</td>\n",
       "      <td>71.4</td>\n",
       "    </tr>\n",
       "    <tr>\n",
       "      <th>4</th>\n",
       "      <td>78.6</td>\n",
       "      <td>80.6</td>\n",
       "      <td>70.7</td>\n",
       "      <td>65.2</td>\n",
       "      <td>75.4</td>\n",
       "    </tr>\n",
       "    <tr>\n",
       "      <th>...</th>\n",
       "      <td>...</td>\n",
       "      <td>...</td>\n",
       "      <td>...</td>\n",
       "      <td>...</td>\n",
       "      <td>...</td>\n",
       "    </tr>\n",
       "    <tr>\n",
       "      <th>241</th>\n",
       "      <td>79.1</td>\n",
       "      <td>79.5</td>\n",
       "      <td>68.5</td>\n",
       "      <td>71.2</td>\n",
       "      <td>76.0</td>\n",
       "    </tr>\n",
       "    <tr>\n",
       "      <th>242</th>\n",
       "      <td>80.8</td>\n",
       "      <td>80.0</td>\n",
       "      <td>70.8</td>\n",
       "      <td>73.2</td>\n",
       "      <td>76.5</td>\n",
       "    </tr>\n",
       "    <tr>\n",
       "      <th>243</th>\n",
       "      <td>75.0</td>\n",
       "      <td>76.5</td>\n",
       "      <td>69.4</td>\n",
       "      <td>68.9</td>\n",
       "      <td>73.1</td>\n",
       "    </tr>\n",
       "    <tr>\n",
       "      <th>244</th>\n",
       "      <td>78.7</td>\n",
       "      <td>79.6</td>\n",
       "      <td>70.3</td>\n",
       "      <td>74.6</td>\n",
       "      <td>75.6</td>\n",
       "    </tr>\n",
       "    <tr>\n",
       "      <th>245</th>\n",
       "      <td>76.6</td>\n",
       "      <td>79.2</td>\n",
       "      <td>67.0</td>\n",
       "      <td>70.9</td>\n",
       "      <td>73.5</td>\n",
       "    </tr>\n",
       "  </tbody>\n",
       "</table>\n",
       "<p>246 rows × 5 columns</p>\n",
       "</div>"
      ],
      "text/plain": [
       "       q1    q2    q3    q4    q5\n",
       "0    75.2  76.5  69.9  65.9  72.6\n",
       "1    81.6  82.4  69.1  62.7  72.2\n",
       "2    77.3  79.3  68.8  61.0  71.7\n",
       "3    78.0  80.0  67.0  66.3  71.4\n",
       "4    78.6  80.6  70.7  65.2  75.4\n",
       "..    ...   ...   ...   ...   ...\n",
       "241  79.1  79.5  68.5  71.2  76.0\n",
       "242  80.8  80.0  70.8  73.2  76.5\n",
       "243  75.0  76.5  69.4  68.9  73.1\n",
       "244  78.7  79.6  70.3  74.6  75.6\n",
       "245  76.6  79.2  67.0  70.9  73.5\n",
       "\n",
       "[246 rows x 5 columns]"
      ]
     },
     "execution_count": 21,
     "metadata": {},
     "output_type": "execute_result"
    }
   ],
   "source": [
    "yy = df.loc[:, ['q1','q2','q3','q4','q5']]\n",
    "yy"
   ]
  },
  {
   "cell_type": "code",
   "execution_count": 23,
   "id": "eae91568",
   "metadata": {
    "ExecuteTime": {
     "end_time": "2021-12-03T01:32:52.539699Z",
     "start_time": "2021-12-03T01:32:52.520501Z"
    }
   },
   "outputs": [],
   "source": [
    "# y_train, y_test split\n",
    "y_train_q1 = yy.iloc[:164,0]\n",
    "y_test_q1 = yy.iloc[164:, 0]\n",
    "\n",
    "y_train_q2 = yy.iloc[:164,1]\n",
    "y_test_q2 = yy.iloc[164:, 1]\n",
    "\n",
    "y_train_q3 = yy.iloc[:164,2]\n",
    "y_test_q3 = yy.iloc[164:, 2]\n",
    "\n",
    "y_train_q4 = yy.iloc[:164,3]\n",
    "y_test_q4 = yy.iloc[164:, 3]\n",
    "\n",
    "y_train_q5 = yy.iloc[:164,4]\n",
    "y_test_q5 = yy.iloc[164:, 4]"
   ]
  },
  {
   "cell_type": "markdown",
   "id": "aaff1713",
   "metadata": {},
   "source": [
    "### q1"
   ]
  },
  {
   "cell_type": "code",
   "execution_count": 120,
   "id": "979a40e0",
   "metadata": {
    "ExecuteTime": {
     "end_time": "2021-12-03T06:03:21.841421Z",
     "start_time": "2021-12-03T06:03:21.712748Z"
    }
   },
   "outputs": [],
   "source": [
    "a = xgb.XGBRegressor(n_estimators = 100, random_state = 11)\n",
    "\n",
    "xgb_model = a.fit(X_train_q1, y_train_q1)\n",
    "\n",
    "pred1 = xgb_model.predict(X_test_q1)"
   ]
  },
  {
   "cell_type": "code",
   "execution_count": 121,
   "id": "382a5c6d",
   "metadata": {
    "ExecuteTime": {
     "end_time": "2021-12-03T06:03:27.844386Z",
     "start_time": "2021-12-03T06:03:27.521866Z"
    }
   },
   "outputs": [
    {
     "data": {
      "image/png": "[encoded data removed]",
      "text/plain": [
       "<Figure size 576x432 with 1 Axes>"
      ]
     },
     "metadata": {
      "needs_background": "light"
     },
     "output_type": "display_data"
    }
   ],
   "source": [
    "\n",
    "# 배열형태로 반환\n",
    "ft_importance_values = a.feature_importances_\n",
    "\n",
    "# 정렬과 시각화를 쉽게 하기 위해 series 전환\n",
    "ft_series = pd.Series(ft_importance_values, index = X_train_q1.columns)\n",
    "ft_top20 = ft_series.sort_values(ascending=False)[:20]\n",
    "\n",
    "# 시각화\n",
    "plt.figure(figsize=(8,6))\n",
    "plt.title('Feature Importance Top 20')\n",
    "sns.barplot(x=ft_top20, y=ft_top20.index)\n",
    "plt.show()"
   ]
  },
  {
   "cell_type": "code",
   "execution_count": 59,
   "id": "35ed39e9",
   "metadata": {
    "ExecuteTime": {
     "end_time": "2021-12-03T04:09:26.669246Z",
     "start_time": "2021-12-03T04:09:26.660270Z"
    }
   },
   "outputs": [
    {
     "data": {
      "text/plain": [
       "((164, 22), (164,))"
      ]
     },
     "execution_count": 59,
     "metadata": {},
     "output_type": "execute_result"
    }
   ],
   "source": [
    "X_train_q1.shape, y_train_q1.shape"
   ]
  },
  {
   "cell_type": "code",
   "execution_count": 79,
   "id": "548eab74",
   "metadata": {
    "ExecuteTime": {
     "end_time": "2021-12-03T04:36:11.004832Z",
     "start_time": "2021-12-03T04:36:10.989914Z"
    }
   },
   "outputs": [
    {
     "name": "stdout",
     "output_type": "stream",
     "text": [
      "score :  -0.4949900373805074\n"
     ]
    }
   ],
   "source": [
    "#r_sq = xgb_model.score(X_train_q1, y_train_q1)\n",
    "#print('r_sq: ', r_sq)\n",
    "print('score : ', explained_variance_score(pred, y_test_q1))"
   ]
  },
  {
   "cell_type": "code",
   "execution_count": 122,
   "id": "dd53cb37",
   "metadata": {
    "ExecuteTime": {
     "end_time": "2021-12-03T06:03:35.061289Z",
     "start_time": "2021-12-03T06:03:35.053309Z"
    }
   },
   "outputs": [
    {
     "data": {
      "text/plain": [
       "2.662630983678305"
      ]
     },
     "execution_count": 122,
     "metadata": {},
     "output_type": "execute_result"
    }
   ],
   "source": [
    "mean_absolute_error(y_test_q1, pred1)"
   ]
  },
  {
   "cell_type": "markdown",
   "id": "46fd5333",
   "metadata": {
    "ExecuteTime": {
     "end_time": "2021-12-03T03:57:33.542928Z",
     "start_time": "2021-12-03T03:57:33.514582Z"
    }
   },
   "source": [
    "### q2"
   ]
  },
  {
   "cell_type": "code",
   "execution_count": 123,
   "id": "193261c3",
   "metadata": {
    "ExecuteTime": {
     "end_time": "2021-12-03T06:04:31.928428Z",
     "start_time": "2021-12-03T06:04:31.821522Z"
    }
   },
   "outputs": [],
   "source": [
    "# q2\n",
    "a = xgb.XGBRegressor()\n",
    "\n",
    "xgb_model = a.fit(X_train_q2, y_train_q2)\n",
    "\n",
    "pred2 = xgb_model.predict(X_test_q2)"
   ]
  },
  {
   "cell_type": "code",
   "execution_count": 124,
   "id": "6f23a370",
   "metadata": {
    "ExecuteTime": {
     "end_time": "2021-12-03T06:04:34.153009Z",
     "start_time": "2021-12-03T06:04:33.833229Z"
    }
   },
   "outputs": [
    {
     "data": {
      "image/png": "[encoded data removed]",
      "text/plain": [
       "<Figure size 576x432 with 1 Axes>"
      ]
     },
     "metadata": {
      "needs_background": "light"
     },
     "output_type": "display_data"
    },
    {
     "name": "stdout",
     "output_type": "stream",
     "text": [
      "Index(['for_4050', 'single_o60', 'single_f_o60', 'popu_o60', 'single_4050',\n",
      "       'for_o60', 'for_합계', 'single_f_합계', '가해_10대이하', 'for_u20', 'vio_cnt',\n",
      "       '피해_80대이상', 'for_2030', 'single_f_4050', 'report_sx_여성',\n",
      "       'theft_violence_x', 'robber_murder_x', 'theft_violence_y',\n",
      "       'robber_murder_y', 'single_합계'],\n",
      "      dtype='object')\n"
     ]
    }
   ],
   "source": [
    "# 배열형태로 반환\n",
    "ft_importance_values = a.feature_importances_\n",
    "\n",
    "# 정렬과 시각화를 쉽게 하기 위해 series 전환\n",
    "ft_series = pd.Series(ft_importance_values, index = X_train_q2.columns)\n",
    "ft_top20 = ft_series.sort_values(ascending=False)[:20]\n",
    "\n",
    "# 시각화\n",
    "plt.figure(figsize=(8,6))\n",
    "plt.title('Feature Importance Top 20')\n",
    "sns.barplot(x=ft_top20, y=ft_top20.index)\n",
    "plt.show()\n",
    "print(ft_top20.index)"
   ]
  },
  {
   "cell_type": "code",
   "execution_count": 125,
   "id": "7a596fa2",
   "metadata": {
    "ExecuteTime": {
     "end_time": "2021-12-03T06:04:37.612991Z",
     "start_time": "2021-12-03T06:04:37.596591Z"
    }
   },
   "outputs": [
    {
     "data": {
      "text/plain": [
       "2.7079713774890433"
      ]
     },
     "execution_count": 125,
     "metadata": {},
     "output_type": "execute_result"
    }
   ],
   "source": [
    "mean_absolute_error(y_test_q2, pred2)"
   ]
  },
  {
   "cell_type": "markdown",
   "id": "60ebe4e6",
   "metadata": {},
   "source": [
    "### q3"
   ]
  },
  {
   "cell_type": "code",
   "execution_count": 126,
   "id": "382c4405",
   "metadata": {
    "ExecuteTime": {
     "end_time": "2021-12-03T06:04:46.815199Z",
     "start_time": "2021-12-03T06:04:46.701537Z"
    }
   },
   "outputs": [],
   "source": [
    "# q2\n",
    "a = xgb.XGBRegressor()\n",
    "\n",
    "xgb_model = a.fit(X_train_q3, y_train_q3)\n",
    "\n",
    "pred3 = xgb_model.predict(X_test_q3)"
   ]
  },
  {
   "cell_type": "code",
   "execution_count": 127,
   "id": "2c605393",
   "metadata": {
    "ExecuteTime": {
     "end_time": "2021-12-03T06:04:47.775839Z",
     "start_time": "2021-12-03T06:04:47.450760Z"
    }
   },
   "outputs": [
    {
     "data": {
      "image/png": "[encoded data removed]",
      "text/plain": [
       "<Figure size 576x432 with 1 Axes>"
      ]
     },
     "metadata": {
      "needs_background": "light"
     },
     "output_type": "display_data"
    },
    {
     "name": "stdout",
     "output_type": "stream",
     "text": [
      "Index(['single_4050', 'for_o60', 'single_2030', '피해_70대', 'for_2030',\n",
      "       'for_4050', 'single_f_2030', 'for_합계', '가해_80대이상', 'adult',\n",
      "       'theft_violence_y', 'traffic_x', '가해_70대', 'robber_murder_y',\n",
      "       'robber_murder_x', 'theft_violence_x', '5m_crm_yn', 'mur_rob_cnt',\n",
      "       'single_합계', 'bell'],\n",
      "      dtype='object')\n"
     ]
    }
   ],
   "source": [
    "# 배열형태로 반환\n",
    "ft_importance_values = a.feature_importances_\n",
    "\n",
    "# 정렬과 시각화를 쉽게 하기 위해 series 전환\n",
    "ft_series = pd.Series(ft_importance_values, index = X_train_q3.columns)\n",
    "ft_top20 = ft_series.sort_values(ascending=False)[:20]\n",
    "\n",
    "# 시각화\n",
    "plt.figure(figsize=(8,6))\n",
    "plt.title('Feature Importance Top 20')\n",
    "sns.barplot(x=ft_top20, y=ft_top20.index)\n",
    "plt.show()\n",
    "print(ft_top20.index)"
   ]
  },
  {
   "cell_type": "code",
   "execution_count": 128,
   "id": "f51307a8",
   "metadata": {
    "ExecuteTime": {
     "end_time": "2021-12-03T06:04:48.390347Z",
     "start_time": "2021-12-03T06:04:48.377279Z"
    }
   },
   "outputs": [
    {
     "data": {
      "text/plain": [
       "2.9204976337711988"
      ]
     },
     "execution_count": 128,
     "metadata": {},
     "output_type": "execute_result"
    }
   ],
   "source": [
    "mean_absolute_error(y_test_q3, pred3)"
   ]
  },
  {
   "cell_type": "markdown",
   "id": "cb3e9e68",
   "metadata": {},
   "source": [
    "### q4"
   ]
  },
  {
   "cell_type": "code",
   "execution_count": 129,
   "id": "dc14dff4",
   "metadata": {
    "ExecuteTime": {
     "end_time": "2021-12-03T06:04:57.446447Z",
     "start_time": "2021-12-03T06:04:57.338807Z"
    }
   },
   "outputs": [],
   "source": [
    "# q4\n",
    "a = xgb.XGBRegressor()\n",
    "\n",
    "xgb_model = a.fit(X_train_q4, y_train_q4)\n",
    "\n",
    "pred4 = xgb_model.predict(X_test_q4)"
   ]
  },
  {
   "cell_type": "code",
   "execution_count": 130,
   "id": "a13af248",
   "metadata": {
    "ExecuteTime": {
     "end_time": "2021-12-03T06:04:58.316224Z",
     "start_time": "2021-12-03T06:04:58.077635Z"
    }
   },
   "outputs": [
    {
     "data": {
      "image/png": "[encoded data removed]",
      "text/plain": [
       "<Figure size 576x432 with 1 Axes>"
      ]
     },
     "metadata": {
      "needs_background": "light"
     },
     "output_type": "display_data"
    },
    {
     "name": "stdout",
     "output_type": "stream",
     "text": [
      "Index(['for_o60', 'for_2030', 'for_합계', 'single_4050', 'for_4050',\n",
      "       'mur_rob_cnt', 'single_합계', 'cctv', '가해_여', 'theft_violence_x',\n",
      "       'car_cnt'],\n",
      "      dtype='object')\n"
     ]
    }
   ],
   "source": [
    "# 배열형태로 반환\n",
    "ft_importance_values = a.feature_importances_\n",
    "\n",
    "# 정렬과 시각화를 쉽게 하기 위해 series 전환\n",
    "ft_series = pd.Series(ft_importance_values, index = X_train_q4.columns)\n",
    "ft_top20 = ft_series.sort_values(ascending=False)[:20]\n",
    "\n",
    "# 시각화\n",
    "plt.figure(figsize=(8,6))\n",
    "plt.title('Feature Importance Top 20')\n",
    "sns.barplot(x=ft_top20, y=ft_top20.index)\n",
    "plt.show()\n",
    "print(ft_top20.index)"
   ]
  },
  {
   "cell_type": "code",
   "execution_count": 131,
   "id": "47f5d6af",
   "metadata": {
    "ExecuteTime": {
     "end_time": "2021-12-03T06:04:58.930535Z",
     "start_time": "2021-12-03T06:04:58.916396Z"
    }
   },
   "outputs": [
    {
     "data": {
      "text/plain": [
       "2.670541977300876"
      ]
     },
     "execution_count": 131,
     "metadata": {},
     "output_type": "execute_result"
    }
   ],
   "source": [
    "mean_absolute_error(y_test_q4, pred4)"
   ]
  },
  {
   "cell_type": "markdown",
   "id": "636d6cf2",
   "metadata": {},
   "source": [
    "### q5"
   ]
  },
  {
   "cell_type": "code",
   "execution_count": 132,
   "id": "9319a0a5",
   "metadata": {
    "ExecuteTime": {
     "end_time": "2021-12-03T06:05:05.743616Z",
     "start_time": "2021-12-03T06:05:05.631965Z"
    }
   },
   "outputs": [],
   "source": [
    "# q4\n",
    "a = xgb.XGBRegressor()\n",
    "\n",
    "xgb_model = a.fit(X_train_q5, y_train_q5)\n",
    "\n",
    "pred5 = xgb_model.predict(X_test_q5)"
   ]
  },
  {
   "cell_type": "code",
   "execution_count": 133,
   "id": "973df4b9",
   "metadata": {
    "ExecuteTime": {
     "end_time": "2021-12-03T06:05:06.705066Z",
     "start_time": "2021-12-03T06:05:06.392133Z"
    }
   },
   "outputs": [
    {
     "data": {
      "image/png": "[encoded data removed]",
      "text/plain": [
       "<Figure size 576x432 with 1 Axes>"
      ]
     },
     "metadata": {
      "needs_background": "light"
     },
     "output_type": "display_data"
    },
    {
     "name": "stdout",
     "output_type": "stream",
     "text": [
      "Index(['for_4050', 'single_o60', 'for_2030', 'single_4050', 'for_u20',\n",
      "       'popu_o60', 'single_f_o60', 'single_2030', '가해_여', 'for_o60', 'for_합계',\n",
      "       '피해_80대이상', 'theft_violence_y', 'vio_cnt', 'popu_2030', '가해_10대이하',\n",
      "       'robber_murder_y', 'robber_murder_x', 'single_합계', 'theft_violence_x'],\n",
      "      dtype='object')\n"
     ]
    }
   ],
   "source": [
    "# 배열형태로 반환\n",
    "ft_importance_values = a.feature_importances_\n",
    "\n",
    "# 정렬과 시각화를 쉽게 하기 위해 series 전환\n",
    "ft_series = pd.Series(ft_importance_values, index = X_train_q5.columns)\n",
    "ft_top20 = ft_series.sort_values(ascending=False)[:20]\n",
    "\n",
    "# 시각화\n",
    "plt.figure(figsize=(8,6))\n",
    "plt.title('Feature Importance Top 20')\n",
    "sns.barplot(x=ft_top20, y=ft_top20.index)\n",
    "plt.show()\n",
    "print(ft_top20.index)"
   ]
  },
  {
   "cell_type": "code",
   "execution_count": 134,
   "id": "57023f97",
   "metadata": {
    "ExecuteTime": {
     "end_time": "2021-12-03T06:05:07.352023Z",
     "start_time": "2021-12-03T06:05:07.338633Z"
    }
   },
   "outputs": [
    {
     "data": {
      "text/plain": [
       "2.664975682700552"
      ]
     },
     "execution_count": 134,
     "metadata": {},
     "output_type": "execute_result"
    }
   ],
   "source": [
    "mean_absolute_error(y_test_q5, pred5)"
   ]
  },
  {
   "cell_type": "markdown",
   "id": "b9b17eb7",
   "metadata": {},
   "source": [
    "### 전체 변수 다 넣어주기"
   ]
  },
  {
   "cell_type": "code",
   "execution_count": 96,
   "id": "a1246c71",
   "metadata": {
    "ExecuteTime": {
     "end_time": "2021-12-03T05:03:57.860472Z",
     "start_time": "2021-12-03T05:03:57.808474Z"
    }
   },
   "outputs": [
    {
     "data": {
      "text/html": [
       "<div>\n",
       "<style scoped>\n",
       "    .dataframe tbody tr th:only-of-type {\n",
       "        vertical-align: middle;\n",
       "    }\n",
       "\n",
       "    .dataframe tbody tr th {\n",
       "        vertical-align: top;\n",
       "    }\n",
       "\n",
       "    .dataframe thead th {\n",
       "        text-align: right;\n",
       "    }\n",
       "</style>\n",
       "<table border=\"1\" class=\"dataframe\">\n",
       "  <thead>\n",
       "    <tr style=\"text-align: right;\">\n",
       "      <th></th>\n",
       "      <th>report_sx_남성</th>\n",
       "      <th>report_sx_불상</th>\n",
       "      <th>report_sx_여성</th>\n",
       "      <th>report_sx_total</th>\n",
       "      <th>vio_cnt</th>\n",
       "      <th>mur_rob_cnt</th>\n",
       "      <th>car_cnt</th>\n",
       "      <th>5m_crm_yn</th>\n",
       "      <th>theft_violence_x</th>\n",
       "      <th>robber_murder_x</th>\n",
       "      <th>...</th>\n",
       "      <th>single_2030</th>\n",
       "      <th>single_4050</th>\n",
       "      <th>single_o60</th>\n",
       "      <th>single_f_합계</th>\n",
       "      <th>single_f_u20</th>\n",
       "      <th>single_f_2030</th>\n",
       "      <th>single_f_4050</th>\n",
       "      <th>single_f_o60</th>\n",
       "      <th>adult</th>\n",
       "      <th>bell</th>\n",
       "    </tr>\n",
       "  </thead>\n",
       "  <tbody>\n",
       "    <tr>\n",
       "      <th>0</th>\n",
       "      <td>-0.873690</td>\n",
       "      <td>-0.812504</td>\n",
       "      <td>-1.088919</td>\n",
       "      <td>-0.946182</td>\n",
       "      <td>-1.080025</td>\n",
       "      <td>-0.680192</td>\n",
       "      <td>-0.925678</td>\n",
       "      <td>-0.533681</td>\n",
       "      <td>-0.402208</td>\n",
       "      <td>0.020461</td>\n",
       "      <td>...</td>\n",
       "      <td>-1.007829</td>\n",
       "      <td>-1.645615</td>\n",
       "      <td>-1.541759</td>\n",
       "      <td>-1.408695</td>\n",
       "      <td>-0.305686</td>\n",
       "      <td>-0.971652</td>\n",
       "      <td>-1.708729</td>\n",
       "      <td>-1.550049</td>\n",
       "      <td>-0.593423</td>\n",
       "      <td>-0.593423</td>\n",
       "    </tr>\n",
       "    <tr>\n",
       "      <th>1</th>\n",
       "      <td>-1.073739</td>\n",
       "      <td>-1.097357</td>\n",
       "      <td>-1.171360</td>\n",
       "      <td>-1.127285</td>\n",
       "      <td>-1.261404</td>\n",
       "      <td>-0.680192</td>\n",
       "      <td>-1.425254</td>\n",
       "      <td>-0.714168</td>\n",
       "      <td>-0.545798</td>\n",
       "      <td>-0.698583</td>\n",
       "      <td>...</td>\n",
       "      <td>-0.913870</td>\n",
       "      <td>-1.586098</td>\n",
       "      <td>-1.475235</td>\n",
       "      <td>-1.322731</td>\n",
       "      <td>-0.386709</td>\n",
       "      <td>-0.877762</td>\n",
       "      <td>-1.629960</td>\n",
       "      <td>-1.502108</td>\n",
       "      <td>0.299434</td>\n",
       "      <td>0.299434</td>\n",
       "    </tr>\n",
       "    <tr>\n",
       "      <th>2</th>\n",
       "      <td>-1.346245</td>\n",
       "      <td>-1.393118</td>\n",
       "      <td>-1.583148</td>\n",
       "      <td>-1.450459</td>\n",
       "      <td>-1.386409</td>\n",
       "      <td>-0.680192</td>\n",
       "      <td>-1.545335</td>\n",
       "      <td>-0.918154</td>\n",
       "      <td>-0.887971</td>\n",
       "      <td>-1.417626</td>\n",
       "      <td>...</td>\n",
       "      <td>-1.007829</td>\n",
       "      <td>-1.645615</td>\n",
       "      <td>-1.541759</td>\n",
       "      <td>-1.408695</td>\n",
       "      <td>-0.305686</td>\n",
       "      <td>-0.971652</td>\n",
       "      <td>-1.708729</td>\n",
       "      <td>-1.550049</td>\n",
       "      <td>-0.593423</td>\n",
       "      <td>-0.593423</td>\n",
       "    </tr>\n",
       "    <tr>\n",
       "      <th>3</th>\n",
       "      <td>-0.321555</td>\n",
       "      <td>2.036024</td>\n",
       "      <td>-0.182071</td>\n",
       "      <td>0.065182</td>\n",
       "      <td>-0.589811</td>\n",
       "      <td>-0.680192</td>\n",
       "      <td>-0.581016</td>\n",
       "      <td>-0.037717</td>\n",
       "      <td>-0.090585</td>\n",
       "      <td>-1.417626</td>\n",
       "      <td>...</td>\n",
       "      <td>0.492436</td>\n",
       "      <td>-0.139220</td>\n",
       "      <td>0.116044</td>\n",
       "      <td>0.542183</td>\n",
       "      <td>1.457752</td>\n",
       "      <td>0.708900</td>\n",
       "      <td>0.029251</td>\n",
       "      <td>0.221012</td>\n",
       "      <td>-0.593423</td>\n",
       "      <td>-0.593423</td>\n",
       "    </tr>\n",
       "    <tr>\n",
       "      <th>4</th>\n",
       "      <td>-1.155951</td>\n",
       "      <td>-0.917384</td>\n",
       "      <td>-1.274359</td>\n",
       "      <td>-1.178306</td>\n",
       "      <td>-1.240979</td>\n",
       "      <td>-0.680192</td>\n",
       "      <td>-1.395921</td>\n",
       "      <td>-0.739167</td>\n",
       "      <td>-0.845200</td>\n",
       "      <td>0.020461</td>\n",
       "      <td>...</td>\n",
       "      <td>-0.913870</td>\n",
       "      <td>-1.586098</td>\n",
       "      <td>-1.475235</td>\n",
       "      <td>-1.322731</td>\n",
       "      <td>-0.386709</td>\n",
       "      <td>-0.877762</td>\n",
       "      <td>-1.629960</td>\n",
       "      <td>-1.502108</td>\n",
       "      <td>-0.593423</td>\n",
       "      <td>-0.593423</td>\n",
       "    </tr>\n",
       "    <tr>\n",
       "      <th>...</th>\n",
       "      <td>...</td>\n",
       "      <td>...</td>\n",
       "      <td>...</td>\n",
       "      <td>...</td>\n",
       "      <td>...</td>\n",
       "      <td>...</td>\n",
       "      <td>...</td>\n",
       "      <td>...</td>\n",
       "      <td>...</td>\n",
       "      <td>...</td>\n",
       "      <td>...</td>\n",
       "      <td>...</td>\n",
       "      <td>...</td>\n",
       "      <td>...</td>\n",
       "      <td>...</td>\n",
       "      <td>...</td>\n",
       "      <td>...</td>\n",
       "      <td>...</td>\n",
       "      <td>...</td>\n",
       "      <td>...</td>\n",
       "      <td>...</td>\n",
       "    </tr>\n",
       "    <tr>\n",
       "      <th>241</th>\n",
       "      <td>-0.958533</td>\n",
       "      <td>-0.916965</td>\n",
       "      <td>-0.835575</td>\n",
       "      <td>-0.933879</td>\n",
       "      <td>-0.968910</td>\n",
       "      <td>-0.032891</td>\n",
       "      <td>-0.419685</td>\n",
       "      <td>-1.100141</td>\n",
       "      <td>-1.040727</td>\n",
       "      <td>-0.698583</td>\n",
       "      <td>...</td>\n",
       "      <td>-0.669920</td>\n",
       "      <td>0.142481</td>\n",
       "      <td>-0.186938</td>\n",
       "      <td>-0.617883</td>\n",
       "      <td>-0.901442</td>\n",
       "      <td>-0.845594</td>\n",
       "      <td>0.027122</td>\n",
       "      <td>-0.265578</td>\n",
       "      <td>-0.146995</td>\n",
       "      <td>-0.146995</td>\n",
       "    </tr>\n",
       "    <tr>\n",
       "      <th>242</th>\n",
       "      <td>-1.003147</td>\n",
       "      <td>-1.100714</td>\n",
       "      <td>-0.973045</td>\n",
       "      <td>-1.027990</td>\n",
       "      <td>-1.128230</td>\n",
       "      <td>0.938060</td>\n",
       "      <td>-0.768014</td>\n",
       "      <td>-1.486613</td>\n",
       "      <td>-1.688412</td>\n",
       "      <td>-0.339061</td>\n",
       "      <td>...</td>\n",
       "      <td>-0.880908</td>\n",
       "      <td>-0.834410</td>\n",
       "      <td>0.229408</td>\n",
       "      <td>-0.676839</td>\n",
       "      <td>-0.224663</td>\n",
       "      <td>-0.957283</td>\n",
       "      <td>-0.853710</td>\n",
       "      <td>0.260147</td>\n",
       "      <td>0.745862</td>\n",
       "      <td>0.745862</td>\n",
       "    </tr>\n",
       "    <tr>\n",
       "      <th>243</th>\n",
       "      <td>-0.679341</td>\n",
       "      <td>-0.833061</td>\n",
       "      <td>-0.732576</td>\n",
       "      <td>-0.731357</td>\n",
       "      <td>-0.760569</td>\n",
       "      <td>1.909011</td>\n",
       "      <td>-0.469185</td>\n",
       "      <td>-1.211133</td>\n",
       "      <td>-1.196538</td>\n",
       "      <td>0.739504</td>\n",
       "      <td>...</td>\n",
       "      <td>-1.049442</td>\n",
       "      <td>-0.704635</td>\n",
       "      <td>-0.018589</td>\n",
       "      <td>-0.857031</td>\n",
       "      <td>-0.939570</td>\n",
       "      <td>-1.074850</td>\n",
       "      <td>-0.799423</td>\n",
       "      <td>-0.072507</td>\n",
       "      <td>-0.146995</td>\n",
       "      <td>-0.146995</td>\n",
       "    </tr>\n",
       "    <tr>\n",
       "      <th>244</th>\n",
       "      <td>0.051030</td>\n",
       "      <td>0.036181</td>\n",
       "      <td>0.058191</td>\n",
       "      <td>0.051943</td>\n",
       "      <td>-0.076720</td>\n",
       "      <td>-0.680192</td>\n",
       "      <td>1.052459</td>\n",
       "      <td>-0.733167</td>\n",
       "      <td>-0.509137</td>\n",
       "      <td>-1.417626</td>\n",
       "      <td>...</td>\n",
       "      <td>-0.137324</td>\n",
       "      <td>0.351911</td>\n",
       "      <td>1.559452</td>\n",
       "      <td>0.424776</td>\n",
       "      <td>0.328199</td>\n",
       "      <td>-0.335158</td>\n",
       "      <td>0.406598</td>\n",
       "      <td>1.772423</td>\n",
       "      <td>2.978006</td>\n",
       "      <td>2.978006</td>\n",
       "    </tr>\n",
       "    <tr>\n",
       "      <th>245</th>\n",
       "      <td>-1.071437</td>\n",
       "      <td>-1.146861</td>\n",
       "      <td>-1.016861</td>\n",
       "      <td>-1.086942</td>\n",
       "      <td>-0.981982</td>\n",
       "      <td>-0.680192</td>\n",
       "      <td>-0.669015</td>\n",
       "      <td>-1.494112</td>\n",
       "      <td>-1.578428</td>\n",
       "      <td>-1.417626</td>\n",
       "      <td>...</td>\n",
       "      <td>-0.847185</td>\n",
       "      <td>-0.660109</td>\n",
       "      <td>-0.484263</td>\n",
       "      <td>-0.989253</td>\n",
       "      <td>-1.015827</td>\n",
       "      <td>-1.028149</td>\n",
       "      <td>-0.984105</td>\n",
       "      <td>-0.475281</td>\n",
       "      <td>0.745862</td>\n",
       "      <td>0.745862</td>\n",
       "    </tr>\n",
       "  </tbody>\n",
       "</table>\n",
       "<p>246 rows × 68 columns</p>\n",
       "</div>"
      ],
      "text/plain": [
       "     report_sx_남성  report_sx_불상  report_sx_여성  report_sx_total   vio_cnt  \\\n",
       "0       -0.873690     -0.812504     -1.088919        -0.946182 -1.080025   \n",
       "1       -1.073739     -1.097357     -1.171360        -1.127285 -1.261404   \n",
       "2       -1.346245     -1.393118     -1.583148        -1.450459 -1.386409   \n",
       "3       -0.321555      2.036024     -0.182071         0.065182 -0.589811   \n",
       "4       -1.155951     -0.917384     -1.274359        -1.178306 -1.240979   \n",
       "..            ...           ...           ...              ...       ...   \n",
       "241     -0.958533     -0.916965     -0.835575        -0.933879 -0.968910   \n",
       "242     -1.003147     -1.100714     -0.973045        -1.027990 -1.128230   \n",
       "243     -0.679341     -0.833061     -0.732576        -0.731357 -0.760569   \n",
       "244      0.051030      0.036181      0.058191         0.051943 -0.076720   \n",
       "245     -1.071437     -1.146861     -1.016861        -1.086942 -0.981982   \n",
       "\n",
       "     mur_rob_cnt   car_cnt  5m_crm_yn  theft_violence_x  robber_murder_x  ...  \\\n",
       "0      -0.680192 -0.925678  -0.533681         -0.402208         0.020461  ...   \n",
       "1      -0.680192 -1.425254  -0.714168         -0.545798        -0.698583  ...   \n",
       "2      -0.680192 -1.545335  -0.918154         -0.887971        -1.417626  ...   \n",
       "3      -0.680192 -0.581016  -0.037717         -0.090585        -1.417626  ...   \n",
       "4      -0.680192 -1.395921  -0.739167         -0.845200         0.020461  ...   \n",
       "..           ...       ...        ...               ...              ...  ...   \n",
       "241    -0.032891 -0.419685  -1.100141         -1.040727        -0.698583  ...   \n",
       "242     0.938060 -0.768014  -1.486613         -1.688412        -0.339061  ...   \n",
       "243     1.909011 -0.469185  -1.211133         -1.196538         0.739504  ...   \n",
       "244    -0.680192  1.052459  -0.733167         -0.509137        -1.417626  ...   \n",
       "245    -0.680192 -0.669015  -1.494112         -1.578428        -1.417626  ...   \n",
       "\n",
       "     single_2030  single_4050  single_o60  single_f_합계  single_f_u20  \\\n",
       "0      -1.007829    -1.645615   -1.541759    -1.408695     -0.305686   \n",
       "1      -0.913870    -1.586098   -1.475235    -1.322731     -0.386709   \n",
       "2      -1.007829    -1.645615   -1.541759    -1.408695     -0.305686   \n",
       "3       0.492436    -0.139220    0.116044     0.542183      1.457752   \n",
       "4      -0.913870    -1.586098   -1.475235    -1.322731     -0.386709   \n",
       "..           ...          ...         ...          ...           ...   \n",
       "241    -0.669920     0.142481   -0.186938    -0.617883     -0.901442   \n",
       "242    -0.880908    -0.834410    0.229408    -0.676839     -0.224663   \n",
       "243    -1.049442    -0.704635   -0.018589    -0.857031     -0.939570   \n",
       "244    -0.137324     0.351911    1.559452     0.424776      0.328199   \n",
       "245    -0.847185    -0.660109   -0.484263    -0.989253     -1.015827   \n",
       "\n",
       "     single_f_2030  single_f_4050  single_f_o60     adult      bell  \n",
       "0        -0.971652      -1.708729     -1.550049 -0.593423 -0.593423  \n",
       "1        -0.877762      -1.629960     -1.502108  0.299434  0.299434  \n",
       "2        -0.971652      -1.708729     -1.550049 -0.593423 -0.593423  \n",
       "3         0.708900       0.029251      0.221012 -0.593423 -0.593423  \n",
       "4        -0.877762      -1.629960     -1.502108 -0.593423 -0.593423  \n",
       "..             ...            ...           ...       ...       ...  \n",
       "241      -0.845594       0.027122     -0.265578 -0.146995 -0.146995  \n",
       "242      -0.957283      -0.853710      0.260147  0.745862  0.745862  \n",
       "243      -1.074850      -0.799423     -0.072507 -0.146995 -0.146995  \n",
       "244      -0.335158       0.406598      1.772423  2.978006  2.978006  \n",
       "245      -1.028149      -0.984105     -0.475281  0.745862  0.745862  \n",
       "\n",
       "[246 rows x 68 columns]"
      ]
     },
     "execution_count": 96,
     "metadata": {},
     "output_type": "execute_result"
    }
   ],
   "source": [
    "df_x = df.drop(['q1','q2','q3','q4','q5'], axis = 1)\n",
    "df_x"
   ]
  },
  {
   "cell_type": "code",
   "execution_count": 99,
   "id": "f238502e",
   "metadata": {
    "ExecuteTime": {
     "end_time": "2021-12-03T05:06:11.093117Z",
     "start_time": "2021-12-03T05:06:11.074167Z"
    }
   },
   "outputs": [],
   "source": [
    "X_train_q1_tot = df_x.iloc[:164,:]\n",
    "X_test_q1_tot = df_x.iloc[164:,:]\n",
    "\n",
    "X_train_q2_tot = df_x.iloc[:164,:]\n",
    "X_test_q2_tot = df_x.iloc[164:,:]\n",
    "\n",
    "X_train_q3_tot = df_x.iloc[:164,:]\n",
    "X_test_q3_tot = df_x.iloc[164:,:]\n",
    "\n",
    "X_train_q4_tot = df_x.iloc[:164,:]\n",
    "X_test_q4_tot = df_x.iloc[164:,:]\n",
    "\n",
    "X_train_q5_tot = df_x.iloc[:164,:]\n",
    "X_test_q5_tot = df_x.iloc[164:,:]"
   ]
  },
  {
   "cell_type": "markdown",
   "id": "0bc22014",
   "metadata": {},
   "source": [
    "### q1 tot"
   ]
  },
  {
   "cell_type": "code",
   "execution_count": 135,
   "id": "9d9f9397",
   "metadata": {
    "ExecuteTime": {
     "end_time": "2021-12-03T06:07:01.804364Z",
     "start_time": "2021-12-03T06:07:01.665728Z"
    }
   },
   "outputs": [],
   "source": [
    "# q1\n",
    "a = xgb.XGBRegressor()\n",
    "\n",
    "xgb_model = a.fit(X_train_q1_tot, y_train_q1)\n",
    "\n",
    "pred1_tot = xgb_model.predict(X_test_q1_tot)"
   ]
  },
  {
   "cell_type": "code",
   "execution_count": 136,
   "id": "425324a5",
   "metadata": {
    "ExecuteTime": {
     "end_time": "2021-12-03T06:07:02.733396Z",
     "start_time": "2021-12-03T06:07:02.436568Z"
    }
   },
   "outputs": [
    {
     "data": {
      "image/png": "[encoded data removed]",
      "text/plain": [
       "<Figure size 576x432 with 1 Axes>"
      ]
     },
     "metadata": {
      "needs_background": "light"
     },
     "output_type": "display_data"
    },
    {
     "name": "stdout",
     "output_type": "stream",
     "text": [
      "Index(['for_4050', 'single_o60', 'popu_u20', 'popu_o60', 'single_2030',\n",
      "       'single_4050', '피해_남', '피해_여', '가해_여', '가해_30대', 'single_합계',\n",
      "       'single_f_2030', '피해_70대', 'single_u20', 'for_합계', 'vio_cnt',\n",
      "       'popu_4050', 'robber_murder_y', 'report_sx_total', '가해_50대'],\n",
      "      dtype='object')\n"
     ]
    }
   ],
   "source": [
    "# 배열형태로 반환\n",
    "ft_importance_values = a.feature_importances_\n",
    "\n",
    "# 정렬과 시각화를 쉽게 하기 위해 series 전환\n",
    "ft_series = pd.Series(ft_importance_values, index = X_train_q1_tot.columns)\n",
    "ft_top20 = ft_series.sort_values(ascending=False)[:20]\n",
    "\n",
    "# 시각화\n",
    "plt.figure(figsize=(8,6))\n",
    "plt.title('Feature Importance Top 20')\n",
    "sns.barplot(x=ft_top20, y=ft_top20.index)\n",
    "plt.show()\n",
    "print(ft_top20.index)"
   ]
  },
  {
   "cell_type": "code",
   "execution_count": 150,
   "id": "1c746445",
   "metadata": {
    "ExecuteTime": {
     "end_time": "2021-12-03T06:20:00.284292Z",
     "start_time": "2021-12-03T06:20:00.276922Z"
    }
   },
   "outputs": [
    {
     "data": {
      "text/plain": [
       "20"
      ]
     },
     "execution_count": 150,
     "metadata": {},
     "output_type": "execute_result"
    }
   ],
   "source": [
    "len(ft_top20.index)"
   ]
  },
  {
   "cell_type": "code",
   "execution_count": 137,
   "id": "3e762c80",
   "metadata": {
    "ExecuteTime": {
     "end_time": "2021-12-03T06:07:05.231382Z",
     "start_time": "2021-12-03T06:07:05.212563Z"
    }
   },
   "outputs": [
    {
     "data": {
      "text/plain": [
       "2.5348509811773523"
      ]
     },
     "execution_count": 137,
     "metadata": {},
     "output_type": "execute_result"
    }
   ],
   "source": [
    "mean_absolute_error(y_test_q1, pred1_tot)"
   ]
  },
  {
   "cell_type": "markdown",
   "id": "ab7d8649",
   "metadata": {},
   "source": [
    "### q2_tot"
   ]
  },
  {
   "cell_type": "code",
   "execution_count": 138,
   "id": "dc7d5c62",
   "metadata": {
    "ExecuteTime": {
     "end_time": "2021-12-03T06:07:14.417951Z",
     "start_time": "2021-12-03T06:07:14.269349Z"
    }
   },
   "outputs": [],
   "source": [
    "a = xgb.XGBRegressor()\n",
    "\n",
    "xgb_model = a.fit(X_train_q2_tot, y_train_q2)\n",
    "\n",
    "pred2_tot = xgb_model.predict(X_test_q2_tot)"
   ]
  },
  {
   "cell_type": "code",
   "execution_count": 139,
   "id": "130c66ae",
   "metadata": {
    "ExecuteTime": {
     "end_time": "2021-12-03T06:07:15.362499Z",
     "start_time": "2021-12-03T06:07:15.051147Z"
    }
   },
   "outputs": [
    {
     "data": {
      "image/png": "[encoded data removed]",
      "text/plain": [
       "<Figure size 576x432 with 1 Axes>"
      ]
     },
     "metadata": {
      "needs_background": "light"
     },
     "output_type": "display_data"
    },
    {
     "name": "stdout",
     "output_type": "stream",
     "text": [
      "Index(['for_4050', 'single_o60', 'for_2030', 'for_합계', 'for_u20', 'popu_2030',\n",
      "       'single_f_u20', '가해_10대이하', '피해_여', 'report_sx_여성', '차대사람',\n",
      "       'single_u20', '피해_70대', '가해_여', 'vio_cnt', 'single_2030', 'popu_u20',\n",
      "       'single_4050', '가해_30대', '피해_80대이상'],\n",
      "      dtype='object')\n"
     ]
    }
   ],
   "source": [
    "# 배열형태로 반환\n",
    "ft_importance_values = a.feature_importances_\n",
    "\n",
    "# 정렬과 시각화를 쉽게 하기 위해 series 전환\n",
    "ft_series = pd.Series(ft_importance_values, index = X_train_q2_tot.columns)\n",
    "ft_top20 = ft_series.sort_values(ascending=False)[:20]\n",
    "\n",
    "# 시각화\n",
    "plt.figure(figsize=(8,6))\n",
    "plt.title('Feature Importance Top 20')\n",
    "sns.barplot(x=ft_top20, y=ft_top20.index)\n",
    "plt.show()\n",
    "print(ft_top20.index)"
   ]
  },
  {
   "cell_type": "code",
   "execution_count": 140,
   "id": "36658eb6",
   "metadata": {
    "ExecuteTime": {
     "end_time": "2021-12-03T06:07:16.155538Z",
     "start_time": "2021-12-03T06:07:16.141415Z"
    }
   },
   "outputs": [
    {
     "data": {
      "text/plain": [
       "2.6589115049780863"
      ]
     },
     "execution_count": 140,
     "metadata": {},
     "output_type": "execute_result"
    }
   ],
   "source": [
    "mean_absolute_error(y_test_q2, pred2_tot)"
   ]
  },
  {
   "cell_type": "markdown",
   "id": "ba968e2a",
   "metadata": {},
   "source": [
    "### q3 tot"
   ]
  },
  {
   "cell_type": "code",
   "execution_count": 141,
   "id": "36fd83d8",
   "metadata": {
    "ExecuteTime": {
     "end_time": "2021-12-03T06:07:24.110732Z",
     "start_time": "2021-12-03T06:07:23.952688Z"
    }
   },
   "outputs": [],
   "source": [
    "a = xgb.XGBRegressor()\n",
    "\n",
    "xgb_model = a.fit(X_train_q3_tot, y_train_q3)\n",
    "\n",
    "pred3_tot = xgb_model.predict(X_test_q3_tot)"
   ]
  },
  {
   "cell_type": "code",
   "execution_count": 142,
   "id": "2c52df1b",
   "metadata": {
    "ExecuteTime": {
     "end_time": "2021-12-03T06:07:25.053973Z",
     "start_time": "2021-12-03T06:07:24.743806Z"
    }
   },
   "outputs": [
    {
     "data": {
      "image/png": "[encoded data removed]",
      "text/plain": [
       "<Figure size 576x432 with 1 Axes>"
      ]
     },
     "metadata": {
      "needs_background": "light"
     },
     "output_type": "display_data"
    },
    {
     "name": "stdout",
     "output_type": "stream",
     "text": [
      "Index(['for_o60', 'single_4050', '가해_여', 'single_f_o60', 'for_2030',\n",
      "       'single_2030', '가해_20대', '피해_20대', 'single_u20', '피해_40대', 'traffic_y',\n",
      "       'for_4050', 'light_cnt', '가해_60대', 'report_sx_total', '가해_50대',\n",
      "       'for_합계', 'traffic_x', 'robber_murder_x', 'single_f_u20'],\n",
      "      dtype='object')\n"
     ]
    }
   ],
   "source": [
    "# 배열형태로 반환\n",
    "ft_importance_values = a.feature_importances_\n",
    "\n",
    "# 정렬과 시각화를 쉽게 하기 위해 series 전환\n",
    "ft_series = pd.Series(ft_importance_values, index = X_train_q3_tot.columns)\n",
    "ft_top20 = ft_series.sort_values(ascending=False)[:20]\n",
    "\n",
    "# 시각화\n",
    "plt.figure(figsize=(8,6))\n",
    "plt.title('Feature Importance Top 20')\n",
    "sns.barplot(x=ft_top20, y=ft_top20.index)\n",
    "plt.show()\n",
    "print(ft_top20.index)"
   ]
  },
  {
   "cell_type": "code",
   "execution_count": 143,
   "id": "a208fde8",
   "metadata": {
    "ExecuteTime": {
     "end_time": "2021-12-03T06:07:25.668103Z",
     "start_time": "2021-12-03T06:07:25.655140Z"
    }
   },
   "outputs": [
    {
     "data": {
      "text/plain": [
       "2.7609644633967707"
      ]
     },
     "execution_count": 143,
     "metadata": {},
     "output_type": "execute_result"
    }
   ],
   "source": [
    "mean_absolute_error(y_test_q3, pred3_tot)"
   ]
  },
  {
   "cell_type": "markdown",
   "id": "43ad5dff",
   "metadata": {},
   "source": [
    "### q4 tot"
   ]
  },
  {
   "cell_type": "code",
   "execution_count": 144,
   "id": "67690192",
   "metadata": {
    "ExecuteTime": {
     "end_time": "2021-12-03T06:07:33.532726Z",
     "start_time": "2021-12-03T06:07:33.379139Z"
    }
   },
   "outputs": [],
   "source": [
    "a = xgb.XGBRegressor()\n",
    "\n",
    "xgb_model = a.fit(X_train_q4_tot, y_train_q4)\n",
    "\n",
    "pred4_tot = xgb_model.predict(X_test_q4_tot)"
   ]
  },
  {
   "cell_type": "code",
   "execution_count": 145,
   "id": "c400717f",
   "metadata": {
    "ExecuteTime": {
     "end_time": "2021-12-03T06:07:34.447445Z",
     "start_time": "2021-12-03T06:07:34.150662Z"
    }
   },
   "outputs": [
    {
     "data": {
      "image/png": "[encoded data removed]",
      "text/plain": [
       "<Figure size 576x432 with 1 Axes>"
      ]
     },
     "metadata": {
      "needs_background": "light"
     },
     "output_type": "display_data"
    },
    {
     "name": "stdout",
     "output_type": "stream",
     "text": [
      "Index(['for_o60', 'for_u20', 'for_2030', 'single_o60', 'pol_num',\n",
      "       'single_f_2030', 'for_합계', 'mur_rob_cnt', '피해_40대', '피해_미분류', '차대차',\n",
      "       'single_4050', '가해_미분류', '가해_20대', 'public_y', 'theft_violence_x',\n",
      "       'single_합계', '차대사람', 'popu_4050', 'popu_합계'],\n",
      "      dtype='object')\n"
     ]
    }
   ],
   "source": [
    "# 배열형태로 반환\n",
    "ft_importance_values = a.feature_importances_\n",
    "\n",
    "# 정렬과 시각화를 쉽게 하기 위해 series 전환\n",
    "ft_series = pd.Series(ft_importance_values, index = X_train_q4_tot.columns)\n",
    "ft_top20 = ft_series.sort_values(ascending=False)[:20]\n",
    "\n",
    "# 시각화\n",
    "plt.figure(figsize=(8,6))\n",
    "plt.title('Feature Importance Top 20')\n",
    "sns.barplot(x=ft_top20, y=ft_top20.index)\n",
    "plt.show()\n",
    "print(ft_top20.index)"
   ]
  },
  {
   "cell_type": "code",
   "execution_count": 146,
   "id": "b1d70f98",
   "metadata": {
    "ExecuteTime": {
     "end_time": "2021-12-03T06:07:35.062612Z",
     "start_time": "2021-12-03T06:07:35.052639Z"
    }
   },
   "outputs": [
    {
     "data": {
      "text/plain": [
       "3.099852268870284"
      ]
     },
     "execution_count": 146,
     "metadata": {},
     "output_type": "execute_result"
    }
   ],
   "source": [
    "mean_absolute_error(y_test_q4, pred4_tot)"
   ]
  },
  {
   "cell_type": "markdown",
   "id": "16036222",
   "metadata": {},
   "source": [
    "### q5 tot"
   ]
  },
  {
   "cell_type": "code",
   "execution_count": 147,
   "id": "5ed75a2e",
   "metadata": {
    "ExecuteTime": {
     "end_time": "2021-12-03T06:07:43.584746Z",
     "start_time": "2021-12-03T06:07:43.422938Z"
    }
   },
   "outputs": [],
   "source": [
    "a = xgb.XGBRegressor()\n",
    "\n",
    "xgb_model = a.fit(X_train_q5_tot, y_train_q5)\n",
    "\n",
    "pred5_tot = xgb_model.predict(X_test_q5_tot)"
   ]
  },
  {
   "cell_type": "code",
   "execution_count": 148,
   "id": "f3393cdf",
   "metadata": {
    "ExecuteTime": {
     "end_time": "2021-12-03T06:07:44.530575Z",
     "start_time": "2021-12-03T06:07:44.205872Z"
    }
   },
   "outputs": [
    {
     "data": {
      "image/png": "[encoded data removed]",
      "text/plain": [
       "<Figure size 576x432 with 1 Axes>"
      ]
     },
     "metadata": {
      "needs_background": "light"
     },
     "output_type": "display_data"
    },
    {
     "name": "stdout",
     "output_type": "stream",
     "text": [
      "Index(['single_o60', 'for_4050', 'for_2030', '가해_여', 'for_u20', 'popu_o60',\n",
      "       'single_4050', '피해_여', '가해_20대', 'vio_cnt', 'popu_u20', '가해_30대',\n",
      "       'report_sx_여성', '가해_40대', 'theft_violence_y', 'for_합계', '가해_미분류',\n",
      "       '가해_70대', 'adult', 'single_u20'],\n",
      "      dtype='object')\n"
     ]
    }
   ],
   "source": [
    "# 배열형태로 반환\n",
    "ft_importance_values = a.feature_importances_\n",
    "\n",
    "# 정렬과 시각화를 쉽게 하기 위해 series 전환\n",
    "ft_series = pd.Series(ft_importance_values, index = X_train_q5_tot.columns)\n",
    "ft_top20 = ft_series.sort_values(ascending=False)[:20]\n",
    "\n",
    "# 시각화\n",
    "plt.figure(figsize=(8,6))\n",
    "plt.title('Feature Importance Top 20')\n",
    "sns.barplot(x=ft_top20, y=ft_top20.index)\n",
    "plt.show()\n",
    "print(ft_top20.index)"
   ]
  },
  {
   "cell_type": "code",
   "execution_count": 149,
   "id": "3b87ce77",
   "metadata": {
    "ExecuteTime": {
     "end_time": "2021-12-03T06:07:45.191213Z",
     "start_time": "2021-12-03T06:07:45.177206Z"
    }
   },
   "outputs": [
    {
     "data": {
      "text/plain": [
       "2.4727394848335074"
      ]
     },
     "execution_count": 149,
     "metadata": {},
     "output_type": "execute_result"
    }
   ],
   "source": [
    "mean_absolute_error(y_test_q5, pred5_tot)"
   ]
  },
  {
   "cell_type": "code",
   "execution_count": 119,
   "id": "b467382b",
   "metadata": {
    "ExecuteTime": {
     "end_time": "2021-12-03T05:43:17.416343Z",
     "start_time": "2021-12-03T05:43:17.406284Z"
    }
   },
   "outputs": [
    {
     "data": {
      "text/plain": [
       "Index(['report_sx_남성', 'report_sx_불상', 'report_sx_여성', 'report_sx_total',\n",
       "       'vio_cnt', 'mur_rob_cnt', 'car_cnt', '5m_crm_yn', 'theft_violence_x',\n",
       "       'robber_murder_x', 'traffic_x', 'public_x', 'crm', 'theft_violence_y',\n",
       "       'robber_murder_y', 'traffic_y', 'public_y', 'light_cnt', '차대사람', '차대차',\n",
       "       '차량단독', '가해_성별_기타불명', '가해_남', '가해_여', '가해_10대이하', '가해_20대', '가해_30대',\n",
       "       '가해_40대', '가해_50대', '가해_60대', '가해_70대', '가해_80대이상', '가해_미분류', '피해_남',\n",
       "       '피해_미분류', '피해_여', '피해_10대이하', '피해_20대', '피해_30대', '피해_40대', '피해_50대',\n",
       "       '피해_60대', '피해_70대', '피해_80대이상', 'cctv', 'pol_num', 'popu_합계', 'for_합계',\n",
       "       'popu_u20', 'popu_2030', 'popu_4050', 'popu_o60', 'for_u20', 'for_2030',\n",
       "       'for_4050', 'for_o60', 'single_합계', 'single_u20', 'single_2030',\n",
       "       'single_4050', 'single_o60', 'single_f_합계', 'single_f_u20',\n",
       "       'single_f_2030', 'single_f_4050', 'single_f_o60', 'adult', 'bell', 'q1',\n",
       "       'q2', 'q3', 'q4', 'q5'],\n",
       "      dtype='object')"
      ]
     },
     "execution_count": 119,
     "metadata": {},
     "output_type": "execute_result"
    }
   ],
   "source": [
    "df.columns"
   ]
  }
 ],
 "metadata": {
  "kernelspec": {
   "display_name": "Python 3",
   "language": "python",
   "name": "python3"
  },
  "language_info": {
   "codemirror_mode": {
    "name": "ipython",
    "version": 3
   },
   "file_extension": ".py",
   "mimetype": "text/x-python",
   "name": "python",
   "nbconvert_exporter": "python",
   "pygments_lexer": "ipython3",
   "version": "3.8.8"
  },
  "toc": {
   "base_numbering": 1,
   "nav_menu": {},
   "number_sections": true,
   "sideBar": true,
   "skip_h1_title": false,
   "title_cell": "Table of Contents",
   "title_sidebar": "Contents",
   "toc_cell": false,
   "toc_position": {},
   "toc_section_display": true,
   "toc_window_display": false
  },
  "varInspector": {
   "cols": {
    "lenName": 16,
    "lenType": 16,
    "lenVar": 40
   },
   "kernels_config": {
    "python": {
     "delete_cmd_postfix": "",
     "delete_cmd_prefix": "del ",
     "library": "var_list.py",
     "varRefreshCmd": "print(var_dic_list())"
    },
    "r": {
     "delete_cmd_postfix": ") ",
     "delete_cmd_prefix": "rm(",
     "library": "var_list.r",
     "varRefreshCmd": "cat(var_dic_list()) "
    }
   },
   "types_to_exclude": [
    "module",
    "function",
    "builtin_function_or_method",
    "instance",
    "_Feature"
   ],
   "window_display": false
  }
 },
 "nbformat": 4,
 "nbformat_minor": 5
}
